{
 "cells": [
  {
   "cell_type": "code",
   "execution_count": 1,
   "metadata": {},
   "outputs": [],
   "source": [
    "import numpy as np\n",
    "import pandas as pd\n",
    "import random"
   ]
  },
  {
   "cell_type": "code",
   "execution_count": 2,
   "metadata": {},
   "outputs": [
    {
     "output_type": "execute_result",
     "data": {
      "text/plain": "Empty DataFrame\nColumns: [x, y, cluster]\nIndex: []",
      "text/html": "<div>\n<style scoped>\n    .dataframe tbody tr th:only-of-type {\n        vertical-align: middle;\n    }\n\n    .dataframe tbody tr th {\n        vertical-align: top;\n    }\n\n    .dataframe thead th {\n        text-align: right;\n    }\n</style>\n<table border=\"1\" class=\"dataframe\">\n  <thead>\n    <tr style=\"text-align: right;\">\n      <th></th>\n      <th>x</th>\n      <th>y</th>\n      <th>cluster</th>\n    </tr>\n  </thead>\n  <tbody>\n  </tbody>\n</table>\n</div>"
     },
     "metadata": {},
     "execution_count": 2
    }
   ],
   "source": [
    "mydata = { 'x' : [] , 'y' :  [] , 'cluster' : []  }\n",
    "df = pd.DataFrame(data=mydata)\n",
    "df.head()"
   ]
  },
  {
   "cell_type": "code",
   "execution_count": 3,
   "metadata": {},
   "outputs": [],
   "source": [
    "for i in range(140):\n",
    "    df = df.append({'x' : np.random.randn()*10  , 'y'  : np.random.randn()*10  , 'cluster' : np.random.randint(0,3)} , ignore_index=True)"
   ]
  },
  {
   "cell_type": "code",
   "execution_count": 4,
   "metadata": {},
   "outputs": [
    {
     "output_type": "execute_result",
     "data": {
      "text/plain": "             x          y  cluster\n0    -1.979383   9.265949      0.0\n1    20.356635  -4.389007      1.0\n2   -12.158185 -25.334850      0.0\n3     1.706165   5.214209      1.0\n4    -0.190310  -0.998589      2.0\n..         ...        ...      ...\n135  -4.212346   3.117731      0.0\n136  -7.686176  -9.371325      0.0\n137  -5.934823  -6.272555      1.0\n138  17.827478  -0.736523      0.0\n139   4.585399   3.200541      2.0\n\n[140 rows x 3 columns]",
      "text/html": "<div>\n<style scoped>\n    .dataframe tbody tr th:only-of-type {\n        vertical-align: middle;\n    }\n\n    .dataframe tbody tr th {\n        vertical-align: top;\n    }\n\n    .dataframe thead th {\n        text-align: right;\n    }\n</style>\n<table border=\"1\" class=\"dataframe\">\n  <thead>\n    <tr style=\"text-align: right;\">\n      <th></th>\n      <th>x</th>\n      <th>y</th>\n      <th>cluster</th>\n    </tr>\n  </thead>\n  <tbody>\n    <tr>\n      <th>0</th>\n      <td>-1.979383</td>\n      <td>9.265949</td>\n      <td>0.0</td>\n    </tr>\n    <tr>\n      <th>1</th>\n      <td>20.356635</td>\n      <td>-4.389007</td>\n      <td>1.0</td>\n    </tr>\n    <tr>\n      <th>2</th>\n      <td>-12.158185</td>\n      <td>-25.334850</td>\n      <td>0.0</td>\n    </tr>\n    <tr>\n      <th>3</th>\n      <td>1.706165</td>\n      <td>5.214209</td>\n      <td>1.0</td>\n    </tr>\n    <tr>\n      <th>4</th>\n      <td>-0.190310</td>\n      <td>-0.998589</td>\n      <td>2.0</td>\n    </tr>\n    <tr>\n      <th>...</th>\n      <td>...</td>\n      <td>...</td>\n      <td>...</td>\n    </tr>\n    <tr>\n      <th>135</th>\n      <td>-4.212346</td>\n      <td>3.117731</td>\n      <td>0.0</td>\n    </tr>\n    <tr>\n      <th>136</th>\n      <td>-7.686176</td>\n      <td>-9.371325</td>\n      <td>0.0</td>\n    </tr>\n    <tr>\n      <th>137</th>\n      <td>-5.934823</td>\n      <td>-6.272555</td>\n      <td>1.0</td>\n    </tr>\n    <tr>\n      <th>138</th>\n      <td>17.827478</td>\n      <td>-0.736523</td>\n      <td>0.0</td>\n    </tr>\n    <tr>\n      <th>139</th>\n      <td>4.585399</td>\n      <td>3.200541</td>\n      <td>2.0</td>\n    </tr>\n  </tbody>\n</table>\n<p>140 rows × 3 columns</p>\n</div>"
     },
     "metadata": {},
     "execution_count": 4
    }
   ],
   "source": [
    "df"
   ]
  },
  {
   "cell_type": "code",
   "execution_count": 5,
   "metadata": {},
   "outputs": [
    {
     "output_type": "execute_result",
     "data": {
      "text/plain": "                x           y     cluster\ncount  140.000000  140.000000  140.000000\nmean    -0.713596   -1.210040    0.985714\nstd      8.809018    9.984452    0.795543\nmin    -20.497202  -25.334850    0.000000\n25%     -6.610508   -6.696269    0.000000\n50%     -1.389290   -1.524442    1.000000\n75%      4.595494    4.377427    2.000000\nmax     26.262140   33.602889    2.000000",
      "text/html": "<div>\n<style scoped>\n    .dataframe tbody tr th:only-of-type {\n        vertical-align: middle;\n    }\n\n    .dataframe tbody tr th {\n        vertical-align: top;\n    }\n\n    .dataframe thead th {\n        text-align: right;\n    }\n</style>\n<table border=\"1\" class=\"dataframe\">\n  <thead>\n    <tr style=\"text-align: right;\">\n      <th></th>\n      <th>x</th>\n      <th>y</th>\n      <th>cluster</th>\n    </tr>\n  </thead>\n  <tbody>\n    <tr>\n      <th>count</th>\n      <td>140.000000</td>\n      <td>140.000000</td>\n      <td>140.000000</td>\n    </tr>\n    <tr>\n      <th>mean</th>\n      <td>-0.713596</td>\n      <td>-1.210040</td>\n      <td>0.985714</td>\n    </tr>\n    <tr>\n      <th>std</th>\n      <td>8.809018</td>\n      <td>9.984452</td>\n      <td>0.795543</td>\n    </tr>\n    <tr>\n      <th>min</th>\n      <td>-20.497202</td>\n      <td>-25.334850</td>\n      <td>0.000000</td>\n    </tr>\n    <tr>\n      <th>25%</th>\n      <td>-6.610508</td>\n      <td>-6.696269</td>\n      <td>0.000000</td>\n    </tr>\n    <tr>\n      <th>50%</th>\n      <td>-1.389290</td>\n      <td>-1.524442</td>\n      <td>1.000000</td>\n    </tr>\n    <tr>\n      <th>75%</th>\n      <td>4.595494</td>\n      <td>4.377427</td>\n      <td>2.000000</td>\n    </tr>\n    <tr>\n      <th>max</th>\n      <td>26.262140</td>\n      <td>33.602889</td>\n      <td>2.000000</td>\n    </tr>\n  </tbody>\n</table>\n</div>"
     },
     "metadata": {},
     "execution_count": 5
    }
   ],
   "source": [
    "df.describe()"
   ]
  },
  {
   "cell_type": "code",
   "execution_count": 6,
   "metadata": {},
   "outputs": [],
   "source": [
    "df.to_csv('data.csv')"
   ]
  },
  {
   "cell_type": "code",
   "execution_count": null,
   "metadata": {},
   "outputs": [],
   "source": []
  }
 ],
 "metadata": {
  "language_info": {
   "codemirror_mode": {
    "name": "ipython",
    "version": 3
   },
   "file_extension": ".py",
   "mimetype": "text/x-python",
   "name": "python",
   "nbconvert_exporter": "python",
   "pygments_lexer": "ipython3",
   "version": "3.8.2-final"
  },
  "orig_nbformat": 2,
  "kernelspec": {
   "name": "python38232bitvenvvenvc927ccd9763f45ac9cd3d29c1410e47a",
   "display_name": "Python 3.8.2 32-bit ('.venv': venv)"
  }
 },
 "nbformat": 4,
 "nbformat_minor": 2
}