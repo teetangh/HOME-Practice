{
 "cells": [
  {
   "cell_type": "markdown",
   "metadata": {},
   "source": [
    "# 1.Numerical Data Plotting\n",
    "  - relplot()\n",
    "  - scatterplot()\n",
    "  - lineplot()\n",
    "# 2.Categorical Data Plotting\n",
    "  - catplot()\n",
    "  - boxplot()\n",
    "  - stripplot()\n",
    "# 3.Visualizing Distribution of Data\n",
    "  - distplot()\n",
    "  - kdeplot()\n",
    "  - jointplot()\n",
    "# 4.Linear Rergession Relationship\n",
    "  - regplot()\n",
    "  - implot()\n",
    "# 5.Controlling Plotted Figure Aesthetics\n",
    "  - Figure Styling\n",
    "  - axes styling\n",
    "  - color palettes\n",
    "  - etc."
   ]
  },
  {
   "cell_type": "code",
   "execution_count": null,
   "metadata": {},
   "outputs": [],
   "source": []
  }
 ],
 "metadata": {
  "language_info": {
   "codemirror_mode": {
    "name": "ipython",
    "version": 3
   },
   "file_extension": ".py",
   "mimetype": "text/x-python",
   "name": "python",
   "nbconvert_exporter": "python",
   "pygments_lexer": "ipython3",
   "version": 3
  },
  "orig_nbformat": 2
 },
 "nbformat": 4,
 "nbformat_minor": 2
}