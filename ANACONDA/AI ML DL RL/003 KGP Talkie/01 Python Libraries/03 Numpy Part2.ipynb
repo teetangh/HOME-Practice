{
 "cells": [
  {
   "cell_type": "code",
   "execution_count": 1,
   "metadata": {},
   "outputs": [],
   "source": [
    "import numpy as np"
   ]
  },
  {
   "cell_type": "code",
   "execution_count": 2,
   "metadata": {},
   "outputs": [
    {
     "output_type": "stream",
     "name": "stdout",
     "text": "[ 8 94  8 56  1  3  4  5  7]\n"
    }
   ],
   "source": [
    "arr = np.array([8,94,8,56,1,3,4,5,7])\n",
    "print(arr)"
   ]
  },
  {
   "cell_type": "code",
   "execution_count": 3,
   "metadata": {},
   "outputs": [
    {
     "output_type": "execute_result",
     "data": {
      "text/plain": "(array([1, 3], dtype=int32),)"
     },
     "metadata": {},
     "execution_count": 3
    }
   ],
   "source": [
    "index_gt0 = np.where(arr>10)\n",
    "index_gt0  # now we can get indexes as well"
   ]
  },
  {
   "cell_type": "code",
   "execution_count": 4,
   "metadata": {},
   "outputs": [
    {
     "output_type": "execute_result",
     "data": {
      "text/plain": "array([94, 56])"
     },
     "metadata": {},
     "execution_count": 4
    }
   ],
   "source": [
    "arr[index_gt0]"
   ]
  },
  {
   "cell_type": "code",
   "execution_count": 5,
   "metadata": {},
   "outputs": [
    {
     "output_type": "execute_result",
     "data": {
      "text/plain": "array([94, 56])"
     },
     "metadata": {},
     "execution_count": 5
    }
   ],
   "source": [
    "arr[arr>10]"
   ]
  },
  {
   "cell_type": "code",
   "execution_count": 6,
   "metadata": {},
   "outputs": [
    {
     "output_type": "execute_result",
     "data": {
      "text/plain": "array([False,  True, False,  True, False, False, False, False, False])"
     },
     "metadata": {},
     "execution_count": 6
    }
   ],
   "source": [
    "arr > 10 # Creates a boolean array"
   ]
  },
  {
   "cell_type": "code",
   "execution_count": 7,
   "metadata": {},
   "outputs": [
    {
     "output_type": "execute_result",
     "data": {
      "text/plain": "array(['lt10', 'gt10', 'lt10', 'gt10', 'lt10', 'lt10', 'lt10', 'lt10',\n       'lt10'], dtype='<U4')"
     },
     "metadata": {},
     "execution_count": 7
    }
   ],
   "source": [
    "np.where(arr>10,'gt10','lt10') # Prints result of condition on the array"
   ]
  },
  {
   "cell_type": "code",
   "execution_count": 8,
   "metadata": {},
   "outputs": [
    {
     "output_type": "execute_result",
     "data": {
      "text/plain": "94"
     },
     "metadata": {},
     "execution_count": 8
    }
   ],
   "source": [
    "arr.max()"
   ]
  },
  {
   "cell_type": "code",
   "execution_count": 9,
   "metadata": {},
   "outputs": [
    {
     "output_type": "execute_result",
     "data": {
      "text/plain": "1"
     },
     "metadata": {},
     "execution_count": 9
    }
   ],
   "source": [
    "arr.argmax()"
   ]
  },
  {
   "cell_type": "code",
   "execution_count": 10,
   "metadata": {},
   "outputs": [
    {
     "output_type": "execute_result",
     "data": {
      "text/plain": "1"
     },
     "metadata": {},
     "execution_count": 10
    }
   ],
   "source": [
    "arr.min()"
   ]
  },
  {
   "cell_type": "code",
   "execution_count": 11,
   "metadata": {},
   "outputs": [
    {
     "output_type": "execute_result",
     "data": {
      "text/plain": "4"
     },
     "metadata": {},
     "execution_count": 11
    }
   ],
   "source": [
    "arr.argmin()"
   ]
  },
  {
   "cell_type": "code",
   "execution_count": 12,
   "metadata": {},
   "outputs": [
    {
     "output_type": "execute_result",
     "data": {
      "text/plain": "array([ 8, 94,  8, 56,  1,  3,  4,  5,  7])"
     },
     "metadata": {},
     "execution_count": 12
    }
   ],
   "source": [
    "arr"
   ]
  },
  {
   "cell_type": "markdown",
   "metadata": {},
   "source": [
    "# Read and Write Csv file\n",
    "## np.genfromtxt() , np.loadtxt()"
   ]
  },
  {
   "cell_type": "code",
   "execution_count": 13,
   "metadata": {},
   "outputs": [],
   "source": [
    "path = 'https://raw.githubusercontent.com/selva86/datasets/master/Auto.csv'\n",
    "data = np.genfromtxt(path,delimiter=',',skip_header=1,filling_values=-1000,dtype='float')"
   ]
  },
  {
   "cell_type": "code",
   "execution_count": 14,
   "metadata": {},
   "outputs": [
    {
     "output_type": "execute_result",
     "data": {
      "text/plain": "array([[   18.,     8.,   307., ...,    70.,     1., -1000.],\n       [   15.,     8.,   350., ...,    70.,     1., -1000.],\n       [   18.,     8.,   318., ...,    70.,     1., -1000.],\n       ...,\n       [   32.,     4.,   135., ...,    82.,     1., -1000.],\n       [   28.,     4.,   120., ...,    82.,     1., -1000.],\n       [   31.,     4.,   119., ...,    82.,     1., -1000.]])"
     },
     "metadata": {},
     "execution_count": 14
    }
   ],
   "source": [
    "data"
   ]
  },
  {
   "cell_type": "code",
   "execution_count": 15,
   "metadata": {},
   "outputs": [
    {
     "output_type": "execute_result",
     "data": {
      "text/plain": "(392, 9)"
     },
     "metadata": {},
     "execution_count": 15
    }
   ],
   "source": [
    "data.shape"
   ]
  },
  {
   "cell_type": "code",
   "execution_count": 16,
   "metadata": {},
   "outputs": [
    {
     "output_type": "execute_result",
     "data": {
      "text/plain": "array([[   18. ,     8. ,   307. ,   130. ,  3504. ,    12. ,    70. ,\n            1. , -1000. ],\n       [   15. ,     8. ,   350. ,   165. ,  3693. ,    11.5,    70. ,\n            1. , -1000. ],\n       [   18. ,     8. ,   318. ,   150. ,  3436. ,    11. ,    70. ,\n            1. , -1000. ]])"
     },
     "metadata": {},
     "execution_count": 16
    }
   ],
   "source": [
    "np.set_printoptions(suppress=True)  # Set scientific notation off\n",
    "data[:3]"
   ]
  },
  {
   "cell_type": "code",
   "execution_count": 17,
   "metadata": {},
   "outputs": [
    {
     "output_type": "execute_result",
     "data": {
      "text/plain": "array([[b'18', b'8', b'307', b'130', b'3504', b'12', b'70', b'1',\n        b'\"chevrolet chevelle malibu\"'],\n       [b'15', b'8', b'350', b'165', b'3693', b'11.5', b'70', b'1',\n        b'\"buick skylark 320\"'],\n       [b'18', b'8', b'318', b'150', b'3436', b'11', b'70', b'1',\n        b'\"plymouth satellite\"'],\n       [b'16', b'8', b'304', b'150', b'3433', b'12', b'70', b'1',\n        b'\"amc rebel sst\"']], dtype=object)"
     },
     "metadata": {},
     "execution_count": 17
    }
   ],
   "source": [
    "path = 'https://raw.githubusercontent.com/selva86/datasets/master/Auto.csv'\n",
    "data2 = np.genfromtxt(path,delimiter=',',skip_header=1,dtype=object)\n",
    "data2[:4]"
   ]
  },
  {
   "cell_type": "code",
   "execution_count": 18,
   "metadata": {},
   "outputs": [],
   "source": [
    "np.savetxt('data.csv',data,delimiter=',')"
   ]
  },
  {
   "cell_type": "code",
   "execution_count": 19,
   "metadata": {},
   "outputs": [],
   "source": [
    "np.save('data.npy',data)"
   ]
  },
  {
   "cell_type": "code",
   "execution_count": 20,
   "metadata": {},
   "outputs": [],
   "source": [
    "np.savez('data2.npz',data,data2)   # Storing in Numpy Zip Files"
   ]
  },
  {
   "cell_type": "code",
   "execution_count": 21,
   "metadata": {},
   "outputs": [
    {
     "output_type": "execute_result",
     "data": {
      "text/plain": "array([[   18.,     8.,   307., ...,    70.,     1., -1000.],\n       [   15.,     8.,   350., ...,    70.,     1., -1000.],\n       [   18.,     8.,   318., ...,    70.,     1., -1000.],\n       ...,\n       [   32.,     4.,   135., ...,    82.,     1., -1000.],\n       [   28.,     4.,   120., ...,    82.,     1., -1000.],\n       [   31.,     4.,   119., ...,    82.,     1., -1000.]])"
     },
     "metadata": {},
     "execution_count": 21
    }
   ],
   "source": [
    "d = np.load('data.npy')\n",
    "d"
   ]
  },
  {
   "cell_type": "code",
   "execution_count": 22,
   "metadata": {},
   "outputs": [
    {
     "output_type": "execute_result",
     "data": {
      "text/plain": "['arr_0', 'arr_1']"
     },
     "metadata": {},
     "execution_count": 22
    }
   ],
   "source": [
    "d2 = np.load('data2.npz')  # Retreving from Numpy Zip Files\n",
    "d2.files"
   ]
  },
  {
   "cell_type": "code",
   "execution_count": 23,
   "metadata": {},
   "outputs": [
    {
     "output_type": "execute_result",
     "data": {
      "text/plain": "array([[   18.,     8.,   307., ...,    70.,     1., -1000.],\n       [   15.,     8.,   350., ...,    70.,     1., -1000.],\n       [   18.,     8.,   318., ...,    70.,     1., -1000.],\n       ...,\n       [   32.,     4.,   135., ...,    82.,     1., -1000.],\n       [   28.,     4.,   120., ...,    82.,     1., -1000.],\n       [   31.,     4.,   119., ...,    82.,     1., -1000.]])"
     },
     "metadata": {},
     "execution_count": 23
    }
   ],
   "source": [
    "d2['arr_0']"
   ]
  },
  {
   "cell_type": "code",
   "execution_count": 25,
   "metadata": {},
   "outputs": [],
   "source": [
    "# d2['arr_1']"
   ]
  },
  {
   "cell_type": "markdown",
   "metadata": {},
   "source": [
    "# Concat with row and col wise "
   ]
  },
  {
   "cell_type": "code",
   "execution_count": 27,
   "metadata": {},
   "outputs": [],
   "source": [
    "arr1 = np.zeros([4,4])\n",
    "arr2 = np.ones([4,4])"
   ]
  },
  {
   "cell_type": "code",
   "execution_count": 28,
   "metadata": {},
   "outputs": [
    {
     "output_type": "stream",
     "name": "stdout",
     "text": "[[0. 0. 0. 0.]\n [0. 0. 0. 0.]\n [0. 0. 0. 0.]\n [0. 0. 0. 0.]]\n\n[[1. 1. 1. 1.]\n [1. 1. 1. 1.]\n [1. 1. 1. 1.]\n [1. 1. 1. 1.]]\n"
    }
   ],
   "source": [
    "print(arr1)\n",
    "print()\n",
    "print(arr2)"
   ]
  },
  {
   "cell_type": "code",
   "execution_count": 30,
   "metadata": {},
   "outputs": [
    {
     "output_type": "execute_result",
     "data": {
      "text/plain": "array([[0., 0., 0., 0.],\n       [0., 0., 0., 0.],\n       [0., 0., 0., 0.],\n       [0., 0., 0., 0.],\n       [1., 1., 1., 1.],\n       [1., 1., 1., 1.],\n       [1., 1., 1., 1.],\n       [1., 1., 1., 1.]])"
     },
     "metadata": {},
     "execution_count": 30
    }
   ],
   "source": [
    "# np.concatenate, np.vstack and np.r_ give the same result\n",
    "np.concatenate([arr1,arr2],axis=0)\n",
    "np.vstack([arr1,arr2])\n",
    "np.r_[arr1,arr2]"
   ]
  },
  {
   "cell_type": "code",
   "execution_count": 34,
   "metadata": {},
   "outputs": [
    {
     "output_type": "execute_result",
     "data": {
      "text/plain": "array([[0., 0., 0., 0., 1., 1., 1., 1.],\n       [0., 0., 0., 0., 1., 1., 1., 1.],\n       [0., 0., 0., 0., 1., 1., 1., 1.],\n       [0., 0., 0., 0., 1., 1., 1., 1.]])"
     },
     "metadata": {},
     "execution_count": 34
    }
   ],
   "source": [
    "# np.concatenate, np.hstack and np.c_ give the same result\n",
    "np.concatenate([arr1,arr2],axis=1)\n",
    "np.hstack([arr1,arr2])\n",
    "np.c_[arr1,arr2]"
   ]
  },
  {
   "cell_type": "markdown",
   "metadata": {},
   "source": [
    "## Sort a Numpy Array"
   ]
  },
  {
   "cell_type": "code",
   "execution_count": 39,
   "metadata": {},
   "outputs": [
    {
     "output_type": "execute_result",
     "data": {
      "text/plain": "array([[5, 6, 2, 9, 1],\n       [3, 7, 1, 9, 6],\n       [5, 8, 9, 6, 3],\n       [3, 2, 8, 4, 6],\n       [7, 5, 8, 4, 1],\n       [1, 2, 6, 1, 2],\n       [6, 8, 9, 7, 8],\n       [1, 7, 1, 5, 3],\n       [8, 9, 6, 2, 7],\n       [4, 4, 3, 6, 3]])"
     },
     "metadata": {},
     "execution_count": 39
    }
   ],
   "source": [
    "arr = np.random.randint(1,10,size=[10,5])\n",
    "arr"
   ]
  },
  {
   "cell_type": "code",
   "execution_count": 40,
   "metadata": {},
   "outputs": [
    {
     "output_type": "execute_result",
     "data": {
      "text/plain": "array([[1, 2, 1, 1, 1],\n       [1, 2, 1, 2, 1],\n       [3, 4, 2, 4, 2],\n       [3, 5, 3, 4, 3],\n       [4, 6, 6, 5, 3],\n       [5, 7, 6, 6, 3],\n       [5, 7, 8, 6, 6],\n       [6, 8, 8, 7, 6],\n       [7, 8, 9, 9, 7],\n       [8, 9, 9, 9, 8]])"
     },
     "metadata": {},
     "execution_count": 40
    }
   ],
   "source": [
    "np.sort(arr,axis=0) # Columnwise"
   ]
  },
  {
   "cell_type": "code",
   "execution_count": 41,
   "metadata": {},
   "outputs": [
    {
     "output_type": "execute_result",
     "data": {
      "text/plain": "array([[1, 2, 5, 6, 9],\n       [1, 3, 6, 7, 9],\n       [3, 5, 6, 8, 9],\n       [2, 3, 4, 6, 8],\n       [1, 4, 5, 7, 8],\n       [1, 1, 2, 2, 6],\n       [6, 7, 8, 8, 9],\n       [1, 1, 3, 5, 7],\n       [2, 6, 7, 8, 9],\n       [3, 3, 4, 4, 6]])"
     },
     "metadata": {},
     "execution_count": 41
    }
   ],
   "source": [
    "np.sort(arr,axis=1) #Rowwise"
   ]
  },
  {
   "cell_type": "code",
   "execution_count": 43,
   "metadata": {},
   "outputs": [],
   "source": [
    "# Keeping a Row intact\n",
    "sorted_index = arr[:,0].argsort()"
   ]
  },
  {
   "cell_type": "code",
   "execution_count": 44,
   "metadata": {},
   "outputs": [
    {
     "output_type": "execute_result",
     "data": {
      "text/plain": "array([[1, 2, 6, 1, 2],\n       [1, 7, 1, 5, 3],\n       [3, 7, 1, 9, 6],\n       [3, 2, 8, 4, 6],\n       [4, 4, 3, 6, 3],\n       [5, 6, 2, 9, 1],\n       [5, 8, 9, 6, 3],\n       [6, 8, 9, 7, 8],\n       [7, 5, 8, 4, 1],\n       [8, 9, 6, 2, 7]])"
     },
     "metadata": {},
     "execution_count": 44
    }
   ],
   "source": [
    "arr[sorted_index]"
   ]
  },
  {
   "cell_type": "markdown",
   "metadata": {},
   "source": [
    "#  Working with Dates"
   ]
  },
  {
   "cell_type": "code",
   "execution_count": 45,
   "metadata": {},
   "outputs": [
    {
     "output_type": "execute_result",
     "data": {
      "text/plain": "numpy.datetime64('2019-06-02T23:10:00')"
     },
     "metadata": {},
     "execution_count": 45
    }
   ],
   "source": [
    "d = np.datetime64('2019-06-02 23:10:00')\n",
    "d"
   ]
  },
  {
   "cell_type": "code",
   "execution_count": 46,
   "metadata": {},
   "outputs": [
    {
     "output_type": "execute_result",
     "data": {
      "text/plain": "numpy.datetime64('2019-06-02T23:26:40')"
     },
     "metadata": {},
     "execution_count": 46
    }
   ],
   "source": [
    "d + 1000"
   ]
  },
  {
   "cell_type": "code",
   "execution_count": 47,
   "metadata": {},
   "outputs": [
    {
     "output_type": "execute_result",
     "data": {
      "text/plain": "1000"
     },
     "metadata": {},
     "execution_count": 47
    }
   ],
   "source": [
    "16*60 + 40"
   ]
  },
  {
   "cell_type": "code",
   "execution_count": 48,
   "metadata": {},
   "outputs": [
    {
     "output_type": "execute_result",
     "data": {
      "text/plain": "numpy.timedelta64(1,'D')"
     },
     "metadata": {},
     "execution_count": 48
    }
   ],
   "source": [
    "oneday = np.timedelta64(1,'D')\n",
    "oneday"
   ]
  },
  {
   "cell_type": "code",
   "execution_count": 49,
   "metadata": {},
   "outputs": [
    {
     "output_type": "execute_result",
     "data": {
      "text/plain": "numpy.datetime64('2019-06-03T23:10:00')"
     },
     "metadata": {},
     "execution_count": 49
    }
   ],
   "source": [
    "d + oneday"
   ]
  },
  {
   "cell_type": "code",
   "execution_count": 50,
   "metadata": {},
   "outputs": [
    {
     "output_type": "execute_result",
     "data": {
      "text/plain": "numpy.timedelta64(1,'m')"
     },
     "metadata": {},
     "execution_count": 50
    }
   ],
   "source": [
    "oneminute = np.timedelta64(1,'m')\n",
    "oneminute"
   ]
  },
  {
   "cell_type": "code",
   "execution_count": 51,
   "metadata": {},
   "outputs": [
    {
     "output_type": "execute_result",
     "data": {
      "text/plain": "numpy.datetime64('2019-06-02T23:11:00')"
     },
     "metadata": {},
     "execution_count": 51
    }
   ],
   "source": [
    "d + oneminute"
   ]
  },
  {
   "cell_type": "code",
   "execution_count": 57,
   "metadata": {},
   "outputs": [
    {
     "output_type": "execute_result",
     "data": {
      "text/plain": "array(['2019-06-02', '2019-06-07', '2019-06-12', '2019-06-17',\n       '2019-06-22', '2019-06-27', '2019-07-02', '2019-07-07',\n       '2019-07-12', '2019-07-17', '2019-07-22', '2019-07-27',\n       '2019-08-01', '2019-08-06', '2019-08-11', '2019-08-16',\n       '2019-08-21', '2019-08-26', '2019-08-31', '2019-09-05',\n       '2019-09-10', '2019-09-15', '2019-09-20', '2019-09-25',\n       '2019-09-30', '2019-10-05', '2019-10-10', '2019-10-15',\n       '2019-10-20', '2019-10-25', '2019-10-30', '2019-11-04',\n       '2019-11-09', '2019-11-14', '2019-11-19', '2019-11-24',\n       '2019-11-29', '2019-12-04', '2019-12-09', '2019-12-14',\n       '2019-12-19', '2019-12-24', '2019-12-29', '2020-01-03',\n       '2020-01-08', '2020-01-13', '2020-01-18', '2020-01-23',\n       '2020-01-28', '2020-02-02', '2020-02-07', '2020-02-12',\n       '2020-02-17', '2020-02-22', '2020-02-27', '2020-03-03',\n       '2020-03-08', '2020-03-13', '2020-03-18', '2020-03-23',\n       '2020-03-28', '2020-04-02', '2020-04-07', '2020-04-12',\n       '2020-04-17', '2020-04-22', '2020-04-27', '2020-05-02',\n       '2020-05-07', '2020-05-12', '2020-05-17', '2020-05-22',\n       '2020-05-27', '2020-06-01'], dtype='datetime64[D]')"
     },
     "metadata": {},
     "execution_count": 57
    }
   ],
   "source": [
    "dates = np.arange(np.datetime64('2019-06-02'),np.datetime64('2020-06-02'),5)\n",
    "dates"
   ]
  },
  {
   "cell_type": "markdown",
   "metadata": {},
   "source": [
    "# Numpy Advanced Functions"
   ]
  },
  {
   "cell_type": "code",
   "execution_count": 58,
   "metadata": {},
   "outputs": [],
   "source": [
    "# Vectorize()"
   ]
  },
  {
   "cell_type": "code",
   "execution_count": 59,
   "metadata": {},
   "outputs": [
    {
     "output_type": "execute_result",
     "data": {
      "text/plain": "100"
     },
     "metadata": {},
     "execution_count": 59
    }
   ],
   "source": [
    "def foo(x):\n",
    "    if x % 2 == 0:\n",
    "        return x ** 2\n",
    "    else:\n",
    "        return x / 2\n",
    "foo(10)"
   ]
  },
  {
   "cell_type": "code",
   "execution_count": 60,
   "metadata": {},
   "outputs": [
    {
     "output_type": "execute_result",
     "data": {
      "text/plain": "5.5"
     },
     "metadata": {},
     "execution_count": 60
    }
   ],
   "source": [
    "foo(11)"
   ]
  },
  {
   "cell_type": "code",
   "execution_count": 61,
   "metadata": {},
   "outputs": [
    {
     "output_type": "stream",
     "name": "stdout",
     "text": "[[5 6 2 9 1]\n [3 7 1 9 6]\n [5 8 9 6 3]\n [3 2 8 4 6]\n [7 5 8 4 1]\n [1 2 6 1 2]\n [6 8 9 7 8]\n [1 7 1 5 3]\n [8 9 6 2 7]\n [4 4 3 6 3]]\n\n"
    },
    {
     "output_type": "execute_result",
     "data": {
      "text/plain": "array([[ 2.5, 36. ,  4. ,  4.5,  0.5],\n       [ 1.5,  3.5,  0.5,  4.5, 36. ],\n       [ 2.5, 64. ,  4.5, 36. ,  1.5],\n       [ 1.5,  4. , 64. , 16. , 36. ],\n       [ 3.5,  2.5, 64. , 16. ,  0.5],\n       [ 0.5,  4. , 36. ,  0.5,  4. ],\n       [36. , 64. ,  4.5,  3.5, 64. ],\n       [ 0.5,  3.5,  0.5,  2.5,  1.5],\n       [64. ,  4.5, 36. ,  4. ,  3.5],\n       [16. , 16. ,  1.5, 36. ,  1.5]])"
     },
     "metadata": {},
     "execution_count": 61
    }
   ],
   "source": [
    "foo_v = np.vectorize(foo,otypes=[float])\n",
    "print(arr)\n",
    "print()\n",
    "foo_v(arr)"
   ]
  },
  {
   "cell_type": "code",
   "execution_count": null,
   "metadata": {},
   "outputs": [],
   "source": []
  }
 ],
 "metadata": {
  "language_info": {
   "codemirror_mode": {
    "name": "ipython",
    "version": 3
   },
   "file_extension": ".py",
   "mimetype": "text/x-python",
   "name": "python",
   "nbconvert_exporter": "python",
   "pygments_lexer": "ipython3",
   "version": "3.8.2-final"
  },
  "orig_nbformat": 2,
  "kernelspec": {
   "name": "python38232bitvenvvenvc927ccd9763f45ac9cd3d29c1410e47a",
   "display_name": "Python 3.8.2 32-bit ('.venv': venv)"
  }
 },
 "nbformat": 4,
 "nbformat_minor": 2
}