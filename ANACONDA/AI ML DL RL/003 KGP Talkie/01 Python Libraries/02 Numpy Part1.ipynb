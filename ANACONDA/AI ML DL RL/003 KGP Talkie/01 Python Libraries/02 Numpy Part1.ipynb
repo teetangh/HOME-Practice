{
 "cells": [
  {
   "cell_type": "code",
   "execution_count": 1,
   "metadata": {},
   "outputs": [],
   "source": [
    "import numpy as np"
   ]
  },
  {
   "cell_type": "code",
   "execution_count": 2,
   "metadata": {},
   "outputs": [
    {
     "output_type": "execute_result",
     "data": {
      "text/plain": "[0, 1, 2, 3, 4]"
     },
     "metadata": {},
     "execution_count": 2
    }
   ],
   "source": [
    "list1 = [0,1,2,3,4]\n",
    "list1"
   ]
  },
  {
   "cell_type": "code",
   "execution_count": 3,
   "metadata": {},
   "outputs": [
    {
     "output_type": "execute_result",
     "data": {
      "text/plain": "array([0, 1, 2, 3, 4])"
     },
     "metadata": {},
     "execution_count": 3
    }
   ],
   "source": [
    "arr1d = np.array(list1)\n",
    "arr1d"
   ]
  },
  {
   "cell_type": "code",
   "execution_count": 4,
   "metadata": {},
   "outputs": [],
   "source": [
    "list1.append(5)"
   ]
  },
  {
   "cell_type": "code",
   "execution_count": 5,
   "metadata": {},
   "outputs": [],
   "source": [
    "# arr1d.append(5) # Memory already allocated can't reallocate"
   ]
  },
  {
   "cell_type": "code",
   "execution_count": 6,
   "metadata": {},
   "outputs": [
    {
     "output_type": "execute_result",
     "data": {
      "text/plain": "array([2, 3, 4, 5, 6])"
     },
     "metadata": {},
     "execution_count": 6
    }
   ],
   "source": [
    "# list1 + 2   # Error\n",
    "arr1d + 2"
   ]
  },
  {
   "cell_type": "code",
   "execution_count": 7,
   "metadata": {},
   "outputs": [],
   "source": [
    "list2 = [[1,1,1],[2,2,2],[3,3,3]]\n",
    "arr2d = np.array(list2)"
   ]
  },
  {
   "cell_type": "code",
   "execution_count": 8,
   "metadata": {},
   "outputs": [
    {
     "output_type": "execute_result",
     "data": {
      "text/plain": "numpy.ndarray"
     },
     "metadata": {},
     "execution_count": 8
    }
   ],
   "source": [
    "type(arr2d)"
   ]
  },
  {
   "cell_type": "code",
   "execution_count": 9,
   "metadata": {},
   "outputs": [
    {
     "output_type": "execute_result",
     "data": {
      "text/plain": "dtype('int32')"
     },
     "metadata": {},
     "execution_count": 9
    }
   ],
   "source": [
    "arr2d.dtype"
   ]
  },
  {
   "cell_type": "code",
   "execution_count": 10,
   "metadata": {},
   "outputs": [],
   "source": [
    "arr2d = np.array(list2,dtype='float')"
   ]
  },
  {
   "cell_type": "code",
   "execution_count": 11,
   "metadata": {},
   "outputs": [
    {
     "output_type": "execute_result",
     "data": {
      "text/plain": "array([[1., 1., 1.],\n       [2., 2., 2.],\n       [3., 3., 3.]])"
     },
     "metadata": {},
     "execution_count": 11
    }
   ],
   "source": [
    "arr2d"
   ]
  },
  {
   "cell_type": "code",
   "execution_count": 12,
   "metadata": {},
   "outputs": [
    {
     "output_type": "execute_result",
     "data": {
      "text/plain": "array([[1, 1, 1],\n       [2, 2, 2],\n       [3, 3, 3]])"
     },
     "metadata": {},
     "execution_count": 12
    }
   ],
   "source": [
    "arr2d.astype('int')"
   ]
  },
  {
   "cell_type": "code",
   "execution_count": 13,
   "metadata": {},
   "outputs": [
    {
     "output_type": "execute_result",
     "data": {
      "text/plain": "array([['1.0', '1.0', '1.0'],\n       ['2.0', '2.0', '2.0'],\n       ['3.0', '3.0', '3.0']], dtype='<U32')"
     },
     "metadata": {},
     "execution_count": 13
    }
   ],
   "source": [
    "arr2d.astype('str')"
   ]
  },
  {
   "cell_type": "code",
   "execution_count": 14,
   "metadata": {},
   "outputs": [
    {
     "output_type": "execute_result",
     "data": {
      "text/plain": "array([[1., 1., 1.],\n       [2., 2., 2.],\n       [3., 3., 3.]])"
     },
     "metadata": {},
     "execution_count": 14
    }
   ],
   "source": [
    "arr2d  # because inplace was False"
   ]
  },
  {
   "cell_type": "code",
   "execution_count": 15,
   "metadata": {},
   "outputs": [
    {
     "output_type": "execute_result",
     "data": {
      "text/plain": "[0, 1, 2, 3, 4, 5, '6']"
     },
     "metadata": {},
     "execution_count": 15
    }
   ],
   "source": [
    "list1.append('6')\n",
    "list1   # Heterogenous items allowed in list, numpy arrrays only support homogenous items"
   ]
  },
  {
   "cell_type": "code",
   "execution_count": 16,
   "metadata": {},
   "outputs": [
    {
     "output_type": "execute_result",
     "data": {
      "text/plain": "[[1.0, 1.0, 1.0], [2.0, 2.0, 2.0], [3.0, 3.0, 3.0]]"
     },
     "metadata": {},
     "execution_count": 16
    }
   ],
   "source": [
    "np2list = arr2d.tolist()\n",
    "np2list"
   ]
  },
  {
   "cell_type": "code",
   "execution_count": 17,
   "metadata": {},
   "outputs": [
    {
     "output_type": "execute_result",
     "data": {
      "text/plain": "b'\\x00\\x00\\x00\\x00\\x00\\x00\\xf0?\\x00\\x00\\x00\\x00\\x00\\x00\\xf0?\\x00\\x00\\x00\\x00\\x00\\x00\\xf0?\\x00\\x00\\x00\\x00\\x00\\x00\\x00@\\x00\\x00\\x00\\x00\\x00\\x00\\x00@\\x00\\x00\\x00\\x00\\x00\\x00\\x00@\\x00\\x00\\x00\\x00\\x00\\x00\\x08@\\x00\\x00\\x00\\x00\\x00\\x00\\x08@\\x00\\x00\\x00\\x00\\x00\\x00\\x08@'"
     },
     "metadata": {},
     "execution_count": 17
    }
   ],
   "source": [
    "# Useful in client-server connections\n",
    "arr2d.tostring()"
   ]
  },
  {
   "cell_type": "code",
   "execution_count": 18,
   "metadata": {},
   "outputs": [
    {
     "output_type": "execute_result",
     "data": {
      "text/plain": "b'\\x00\\x00\\x00\\x00\\x00\\x00\\xf0?\\x00\\x00\\x00\\x00\\x00\\x00\\xf0?\\x00\\x00\\x00\\x00\\x00\\x00\\xf0?\\x00\\x00\\x00\\x00\\x00\\x00\\x00@\\x00\\x00\\x00\\x00\\x00\\x00\\x00@\\x00\\x00\\x00\\x00\\x00\\x00\\x00@\\x00\\x00\\x00\\x00\\x00\\x00\\x08@\\x00\\x00\\x00\\x00\\x00\\x00\\x08@\\x00\\x00\\x00\\x00\\x00\\x00\\x08@'"
     },
     "metadata": {},
     "execution_count": 18
    }
   ],
   "source": [
    "arr2d.tobytes()"
   ]
  },
  {
   "cell_type": "markdown",
   "metadata": {},
   "source": [
    "# dtype and Shape"
   ]
  },
  {
   "cell_type": "code",
   "execution_count": 19,
   "metadata": {},
   "outputs": [
    {
     "output_type": "execute_result",
     "data": {
      "text/plain": "[[1, 1, 1], [2, 2, 2], [3, 3, 3]]"
     },
     "metadata": {},
     "execution_count": 19
    }
   ],
   "source": [
    "list2"
   ]
  },
  {
   "cell_type": "code",
   "execution_count": 20,
   "metadata": {},
   "outputs": [
    {
     "output_type": "execute_result",
     "data": {
      "text/plain": "array([[1., 1., 1.],\n       [2., 2., 2.],\n       [3., 3., 3.]])"
     },
     "metadata": {},
     "execution_count": 20
    }
   ],
   "source": [
    "arr2d"
   ]
  },
  {
   "cell_type": "code",
   "execution_count": 21,
   "metadata": {},
   "outputs": [
    {
     "output_type": "execute_result",
     "data": {
      "text/plain": "array([[1., 1., 1.],\n       [2., 2., 2.],\n       [3., 3., 3.]])"
     },
     "metadata": {},
     "execution_count": 21
    }
   ],
   "source": [
    "arr2d = arr2d.astype('float')\n",
    "arr2d"
   ]
  },
  {
   "cell_type": "code",
   "execution_count": 22,
   "metadata": {},
   "outputs": [
    {
     "output_type": "stream",
     "name": "stdout",
     "text": "shape (5,)\ndtype int32\nsize 5\ndimension 1\n"
    }
   ],
   "source": [
    "print('shape',arr1d.shape)\n",
    "print('dtype',arr1d.dtype)\n",
    "print('size',arr1d.size)\n",
    "print('dimension',arr1d.ndim)"
   ]
  },
  {
   "cell_type": "code",
   "execution_count": 23,
   "metadata": {},
   "outputs": [
    {
     "output_type": "stream",
     "name": "stdout",
     "text": "shape (3, 3)\ndtype float64\nsize 9\ndimension 2\n"
    }
   ],
   "source": [
    "print('shape',arr2d.shape)\n",
    "print('dtype',arr2d.dtype)\n",
    "print('size',arr2d.size)\n",
    "print('dimension',arr2d.ndim)"
   ]
  },
  {
   "cell_type": "code",
   "execution_count": 24,
   "metadata": {},
   "outputs": [
    {
     "output_type": "stream",
     "name": "stdout",
     "text": "[0 1 2 3 4]\n\n[[1. 1. 1.]\n [2. 2. 2.]\n [3. 3. 3.]]\n"
    }
   ],
   "source": [
    "print(arr1d)\n",
    "print()\n",
    "print(arr2d)"
   ]
  },
  {
   "cell_type": "code",
   "execution_count": 25,
   "metadata": {},
   "outputs": [],
   "source": [
    "arr1d = arr1d * arr1d"
   ]
  },
  {
   "cell_type": "code",
   "execution_count": 26,
   "metadata": {},
   "outputs": [
    {
     "output_type": "execute_result",
     "data": {
      "text/plain": "array([ 0,  1,  4,  9, 16])"
     },
     "metadata": {},
     "execution_count": 26
    }
   ],
   "source": [
    "arr1d"
   ]
  },
  {
   "cell_type": "code",
   "execution_count": 27,
   "metadata": {},
   "outputs": [
    {
     "output_type": "execute_result",
     "data": {
      "text/plain": "1"
     },
     "metadata": {},
     "execution_count": 27
    }
   ],
   "source": [
    "arr1d[1]"
   ]
  },
  {
   "cell_type": "code",
   "execution_count": 28,
   "metadata": {},
   "outputs": [
    {
     "output_type": "execute_result",
     "data": {
      "text/plain": "array([2., 2., 2.])"
     },
     "metadata": {},
     "execution_count": 28
    }
   ],
   "source": [
    "arr2d[1]"
   ]
  },
  {
   "cell_type": "code",
   "execution_count": 29,
   "metadata": {},
   "outputs": [
    {
     "output_type": "execute_result",
     "data": {
      "text/plain": "1.0"
     },
     "metadata": {},
     "execution_count": 29
    }
   ],
   "source": [
    "arr2d[0][0]"
   ]
  },
  {
   "cell_type": "code",
   "execution_count": 30,
   "metadata": {},
   "outputs": [],
   "source": [
    "boolarr = arr2d < 3"
   ]
  },
  {
   "cell_type": "code",
   "execution_count": 31,
   "metadata": {},
   "outputs": [
    {
     "output_type": "execute_result",
     "data": {
      "text/plain": "array([[ True,  True,  True],\n       [ True,  True,  True],\n       [False, False, False]])"
     },
     "metadata": {},
     "execution_count": 31
    }
   ],
   "source": [
    "boolarr"
   ]
  },
  {
   "cell_type": "code",
   "execution_count": 32,
   "metadata": {},
   "outputs": [
    {
     "output_type": "execute_result",
     "data": {
      "text/plain": "array([1., 1., 1., 2., 2., 2.])"
     },
     "metadata": {},
     "execution_count": 32
    }
   ],
   "source": [
    "arr2d[boolarr]  # makes an array using the true-condition items"
   ]
  },
  {
   "cell_type": "code",
   "execution_count": 33,
   "metadata": {},
   "outputs": [
    {
     "output_type": "execute_result",
     "data": {
      "text/plain": "array([[3., 3., 3.],\n       [2., 2., 2.],\n       [1., 1., 1.]])"
     },
     "metadata": {},
     "execution_count": 33
    }
   ],
   "source": [
    "# Reversing Rows\n",
    "arr2d[::-1,]"
   ]
  },
  {
   "cell_type": "code",
   "execution_count": 34,
   "metadata": {},
   "outputs": [
    {
     "output_type": "execute_result",
     "data": {
      "text/plain": "array([[1., 1., 1.],\n       [2., 2., 2.],\n       [3., 3., 3.]])"
     },
     "metadata": {},
     "execution_count": 34
    }
   ],
   "source": [
    "# Reversing Columns\n",
    "arr2d[:,::-1]"
   ]
  },
  {
   "cell_type": "code",
   "execution_count": 35,
   "metadata": {},
   "outputs": [
    {
     "output_type": "execute_result",
     "data": {
      "text/plain": "array([[3., 3., 3.],\n       [2., 2., 2.],\n       [1., 1., 1.]])"
     },
     "metadata": {},
     "execution_count": 35
    }
   ],
   "source": [
    "# Reversing both\n",
    "arr2d[::-1,::-1]"
   ]
  },
  {
   "cell_type": "markdown",
   "metadata": {},
   "source": [
    "## np.nan , np.inf"
   ]
  },
  {
   "cell_type": "code",
   "execution_count": 36,
   "metadata": {},
   "outputs": [
    {
     "output_type": "execute_result",
     "data": {
      "text/plain": "nan"
     },
     "metadata": {},
     "execution_count": 36
    }
   ],
   "source": [
    "np.nan"
   ]
  },
  {
   "cell_type": "code",
   "execution_count": 37,
   "metadata": {},
   "outputs": [
    {
     "output_type": "execute_result",
     "data": {
      "text/plain": "inf"
     },
     "metadata": {},
     "execution_count": 37
    }
   ],
   "source": [
    "np.inf"
   ]
  },
  {
   "cell_type": "code",
   "execution_count": 38,
   "metadata": {},
   "outputs": [
    {
     "output_type": "execute_result",
     "data": {
      "text/plain": "array([[nan, inf,  1.],\n       [ 2.,  2.,  2.],\n       [ 3.,  3.,  3.]])"
     },
     "metadata": {},
     "execution_count": 38
    }
   ],
   "source": [
    "# Using nan and inf values \n",
    "arr2d[0][0] = np.nan \n",
    "arr2d[0][1] = np.inf\n",
    "arr2d "
   ]
  },
  {
   "cell_type": "code",
   "execution_count": 39,
   "metadata": {},
   "outputs": [
    {
     "output_type": "execute_result",
     "data": {
      "text/plain": "array([[ True, False, False],\n       [False, False, False],\n       [False, False, False]])"
     },
     "metadata": {},
     "execution_count": 39
    }
   ],
   "source": [
    "np.isnan(arr2d)"
   ]
  },
  {
   "cell_type": "code",
   "execution_count": 40,
   "metadata": {},
   "outputs": [
    {
     "output_type": "execute_result",
     "data": {
      "text/plain": "array([[False,  True, False],\n       [False, False, False],\n       [False, False, False]])"
     },
     "metadata": {},
     "execution_count": 40
    }
   ],
   "source": [
    "np.isinf(arr2d)"
   ]
  },
  {
   "cell_type": "code",
   "execution_count": 41,
   "metadata": {},
   "outputs": [
    {
     "output_type": "execute_result",
     "data": {
      "text/plain": "array([[ True,  True, False],\n       [False, False, False],\n       [False, False, False]])"
     },
     "metadata": {},
     "execution_count": 41
    }
   ],
   "source": [
    "missing_flag = np.isnan(arr2d) | np.isinf(arr2d)\n",
    "missing_flag"
   ]
  },
  {
   "cell_type": "code",
   "execution_count": 42,
   "metadata": {},
   "outputs": [],
   "source": [
    "# Replace inf and nan with 0"
   ]
  },
  {
   "cell_type": "code",
   "execution_count": 43,
   "metadata": {},
   "outputs": [
    {
     "output_type": "execute_result",
     "data": {
      "text/plain": "array([nan, inf])"
     },
     "metadata": {},
     "execution_count": 43
    }
   ],
   "source": [
    "arr2d[missing_flag]"
   ]
  },
  {
   "cell_type": "code",
   "execution_count": 44,
   "metadata": {},
   "outputs": [],
   "source": [
    "arr2d[missing_flag] = 0"
   ]
  },
  {
   "cell_type": "code",
   "execution_count": 45,
   "metadata": {},
   "outputs": [
    {
     "output_type": "execute_result",
     "data": {
      "text/plain": "array([[0., 0., 1.],\n       [2., 2., 2.],\n       [3., 3., 3.]])"
     },
     "metadata": {},
     "execution_count": 45
    }
   ],
   "source": [
    "arr2d"
   ]
  },
  {
   "cell_type": "markdown",
   "metadata": {},
   "source": [
    "# Statistical Operations"
   ]
  },
  {
   "cell_type": "code",
   "execution_count": 46,
   "metadata": {},
   "outputs": [],
   "source": [
    "# Mean , std, var"
   ]
  },
  {
   "cell_type": "code",
   "execution_count": 47,
   "metadata": {},
   "outputs": [
    {
     "output_type": "stream",
     "name": "stdout",
     "text": "1.7777777777777777\n1.1331154474650633\n3.0\n0.0\n"
    }
   ],
   "source": [
    "print(arr2d.mean())\n",
    "# print(arr2d.median())\n",
    "# print(arr2d.mode())\n",
    "print(arr2d.std())\n",
    "print(arr2d.max())\n",
    "print(arr2d.min())"
   ]
  },
  {
   "cell_type": "code",
   "execution_count": 48,
   "metadata": {},
   "outputs": [
    {
     "output_type": "execute_result",
     "data": {
      "text/plain": "array([[0., 0., 1.],\n       [2., 2., 2.],\n       [3., 3., 3.]])"
     },
     "metadata": {},
     "execution_count": 48
    }
   ],
   "source": [
    "arr2d.squeeze()"
   ]
  },
  {
   "cell_type": "code",
   "execution_count": 49,
   "metadata": {},
   "outputs": [
    {
     "output_type": "execute_result",
     "data": {
      "text/plain": "array([ 0.,  0.,  1.,  3.,  5.,  7., 10., 13., 16.])"
     },
     "metadata": {},
     "execution_count": 49
    }
   ],
   "source": [
    "arr2d.cumsum()"
   ]
  },
  {
   "cell_type": "code",
   "execution_count": 50,
   "metadata": {},
   "outputs": [
    {
     "output_type": "execute_result",
     "data": {
      "text/plain": "array([[0., 0.],\n       [2., 2.]])"
     },
     "metadata": {},
     "execution_count": 50
    }
   ],
   "source": [
    "arr = arr2d[:2,:2]\n",
    "arr"
   ]
  },
  {
   "cell_type": "code",
   "execution_count": 51,
   "metadata": {},
   "outputs": [
    {
     "output_type": "execute_result",
     "data": {
      "text/plain": "array([[2.],\n       [3.]])"
     },
     "metadata": {},
     "execution_count": 51
    }
   ],
   "source": [
    "arr2d[1:3,1:2]"
   ]
  },
  {
   "cell_type": "code",
   "execution_count": 52,
   "metadata": {},
   "outputs": [
    {
     "output_type": "execute_result",
     "data": {
      "text/plain": "array([[0., 0., 1.],\n       [2., 2., 2.],\n       [3., 3., 3.]])"
     },
     "metadata": {},
     "execution_count": 52
    }
   ],
   "source": [
    "arr2d"
   ]
  },
  {
   "cell_type": "code",
   "execution_count": 53,
   "metadata": {},
   "outputs": [
    {
     "output_type": "execute_result",
     "data": {
      "text/plain": "array([[0., 0., 1., 2., 2., 2., 3., 3., 3.]])"
     },
     "metadata": {},
     "execution_count": 53
    }
   ],
   "source": [
    "# arr2d.reshape(3,4)  # not enough elements to cover 3 * 4 = 12 \n",
    "arr2d.reshape(1,9)"
   ]
  },
  {
   "cell_type": "code",
   "execution_count": 54,
   "metadata": {},
   "outputs": [
    {
     "output_type": "execute_result",
     "data": {
      "text/plain": "array([[0.],\n       [0.],\n       [1.],\n       [2.],\n       [2.],\n       [2.],\n       [3.],\n       [3.],\n       [3.]])"
     },
     "metadata": {},
     "execution_count": 54
    }
   ],
   "source": [
    "arr2d.reshape(9,1)"
   ]
  },
  {
   "cell_type": "code",
   "execution_count": 55,
   "metadata": {},
   "outputs": [
    {
     "output_type": "execute_result",
     "data": {
      "text/plain": "array([0., 0., 1., 2., 2., 2., 3., 3., 3.])"
     },
     "metadata": {},
     "execution_count": 55
    }
   ],
   "source": [
    "a = arr2d.flatten()  # to convert into single dimensional array\n",
    "a  # copy"
   ]
  },
  {
   "cell_type": "code",
   "execution_count": 56,
   "metadata": {},
   "outputs": [
    {
     "output_type": "execute_result",
     "data": {
      "text/plain": "array([0., 0., 1., 2., 2., 2., 3., 3., 3.])"
     },
     "metadata": {},
     "execution_count": 56
    }
   ],
   "source": [
    "b = arr2d.ravel()  # to convert into single dimensional array\n",
    "b # reference, thus memory-efficient"
   ]
  },
  {
   "cell_type": "code",
   "execution_count": 57,
   "metadata": {},
   "outputs": [
    {
     "output_type": "execute_result",
     "data": {
      "text/plain": "array([[0., 0., 1.],\n       [2., 2., 2.],\n       [3., 3., 3.]])"
     },
     "metadata": {},
     "execution_count": 57
    }
   ],
   "source": [
    "a[0] = -1\n",
    "arr2d"
   ]
  },
  {
   "cell_type": "code",
   "execution_count": 58,
   "metadata": {},
   "outputs": [
    {
     "output_type": "execute_result",
     "data": {
      "text/plain": "array([[-1.,  0.,  1.],\n       [ 2.,  2.,  2.],\n       [ 3.,  3.,  3.]])"
     },
     "metadata": {},
     "execution_count": 58
    }
   ],
   "source": [
    "b[0] = -1\n",
    "arr2d"
   ]
  },
  {
   "cell_type": "markdown",
   "metadata": {},
   "source": [
    "# Sequence,Repitions and Random Numbers"
   ]
  },
  {
   "cell_type": "code",
   "execution_count": 59,
   "metadata": {},
   "outputs": [
    {
     "output_type": "execute_result",
     "data": {
      "text/plain": "array([1, 2, 3, 4])"
     },
     "metadata": {},
     "execution_count": 59
    }
   ],
   "source": [
    "np.arange(1,5,dtype='int')\n",
    "# np.arange(1,5,dtype='float')\n",
    "# np.arange(1,5,dtype='str')\n",
    "# np.arange(1,5,dtype='object')"
   ]
  },
  {
   "cell_type": "code",
   "execution_count": 60,
   "metadata": {},
   "outputs": [
    {
     "output_type": "execute_result",
     "data": {
      "text/plain": "array([ 1,  3,  5,  7,  9, 11, 13, 15, 17, 19, 21, 23, 25, 27, 29, 31, 33,\n       35, 37, 39, 41, 43, 45, 47, 49])"
     },
     "metadata": {},
     "execution_count": 60
    }
   ],
   "source": [
    "np.arange(1,50,2)  # Odd nos\n",
    "# np.arange(2,50,2)  # Even nos"
   ]
  },
  {
   "cell_type": "code",
   "execution_count": 61,
   "metadata": {},
   "outputs": [
    {
     "output_type": "execute_result",
     "data": {
      "text/plain": "array([ 1.        ,  6.44444444, 11.88888889, 17.33333333, 22.77777778,\n       28.22222222, 33.66666667, 39.11111111, 44.55555556, 50.        ])"
     },
     "metadata": {},
     "execution_count": 61
    }
   ],
   "source": [
    "# Inserting linearly spaecd numbers between numbers \n",
    "np.linspace(1,50,10)"
   ]
  },
  {
   "cell_type": "code",
   "execution_count": 62,
   "metadata": {},
   "outputs": [
    {
     "output_type": "execute_result",
     "data": {
      "text/plain": "array([1.00000000e+01, 2.78255940e+06, 7.74263683e+11, 2.15443469e+17,\n       5.99484250e+22, 1.66810054e+28, 4.64158883e+33, 1.29154967e+39,\n       3.59381366e+44, 1.00000000e+50])"
     },
     "metadata": {},
     "execution_count": 62
    }
   ],
   "source": [
    "# Inserting logarithmically spaecd numbers between numbers \n",
    "np.logspace(1,50,10)"
   ]
  },
  {
   "cell_type": "code",
   "execution_count": 63,
   "metadata": {},
   "outputs": [
    {
     "output_type": "execute_result",
     "data": {
      "text/plain": "array([[0., 0.],\n       [0., 0.]])"
     },
     "metadata": {},
     "execution_count": 63
    }
   ],
   "source": [
    "np.zeros([2,2])"
   ]
  },
  {
   "cell_type": "code",
   "execution_count": 64,
   "metadata": {},
   "outputs": [
    {
     "output_type": "execute_result",
     "data": {
      "text/plain": "array([[1., 1.],\n       [1., 1.]])"
     },
     "metadata": {},
     "execution_count": 64
    }
   ],
   "source": [
    "np.ones([2,2])"
   ]
  },
  {
   "cell_type": "code",
   "execution_count": 65,
   "metadata": {},
   "outputs": [
    {
     "output_type": "execute_result",
     "data": {
      "text/plain": "[1, 2, 3]"
     },
     "metadata": {},
     "execution_count": 65
    }
   ],
   "source": [
    "a = [1,2,3]\n",
    "a"
   ]
  },
  {
   "cell_type": "code",
   "execution_count": 66,
   "metadata": {},
   "outputs": [
    {
     "output_type": "execute_result",
     "data": {
      "text/plain": "array([1, 2, 3, 1, 2, 3, 1, 2, 3])"
     },
     "metadata": {},
     "execution_count": 66
    }
   ],
   "source": [
    "np.tile(a,3)"
   ]
  },
  {
   "cell_type": "code",
   "execution_count": 67,
   "metadata": {},
   "outputs": [
    {
     "output_type": "execute_result",
     "data": {
      "text/plain": "array([1, 1, 1, 2, 2, 2, 3, 3, 3])"
     },
     "metadata": {},
     "execution_count": 67
    }
   ],
   "source": [
    "np.repeat(a,3)"
   ]
  },
  {
   "cell_type": "code",
   "execution_count": 68,
   "metadata": {},
   "outputs": [
    {
     "output_type": "execute_result",
     "data": {
      "text/plain": "array([-1., -1., -1.,  0.,  0.,  0.,  1.,  1.,  1.,  2.,  2.,  2.,  2.,\n        2.,  2.,  2.,  2.,  2.,  3.,  3.,  3.,  3.,  3.,  3.,  3.,  3.,\n        3.])"
     },
     "metadata": {},
     "execution_count": 68
    }
   ],
   "source": [
    "np.repeat(arr2d,3)"
   ]
  },
  {
   "cell_type": "code",
   "execution_count": 69,
   "metadata": {},
   "outputs": [
    {
     "output_type": "execute_result",
     "data": {
      "text/plain": "(27,)"
     },
     "metadata": {},
     "execution_count": 69
    }
   ],
   "source": [
    "np.repeat(arr2d,3).shape"
   ]
  },
  {
   "cell_type": "code",
   "execution_count": 70,
   "metadata": {},
   "outputs": [
    {
     "output_type": "execute_result",
     "data": {
      "text/plain": "array([[0.22008009, 0.64153313, 0.03585856],\n       [0.34092363, 0.23560165, 0.85592572],\n       [0.84215434, 0.73063413, 0.77861593]])"
     },
     "metadata": {},
     "execution_count": 70
    }
   ],
   "source": [
    "np.random.rand(3,3)  # uniformly distributed (0,1)"
   ]
  },
  {
   "cell_type": "code",
   "execution_count": 71,
   "metadata": {},
   "outputs": [
    {
     "output_type": "execute_result",
     "data": {
      "text/plain": "array([[ 0.20085905,  1.04299235,  0.8197348 ],\n       [ 1.45136194, -0.00313677, -0.46253146],\n       [-0.07440822, -0.88127775,  0.72837506]])"
     },
     "metadata": {},
     "execution_count": 71
    }
   ],
   "source": [
    "np.random.randn(3,3)  # normally distributed (-1,1)"
   ]
  },
  {
   "cell_type": "code",
   "execution_count": 72,
   "metadata": {},
   "outputs": [
    {
     "output_type": "execute_result",
     "data": {
      "text/plain": "array([[5, 5, 3],\n       [0, 8, 8],\n       [2, 8, 7]])"
     },
     "metadata": {},
     "execution_count": 72
    }
   ],
   "source": [
    "np.random.randint(0,10,[3,3])"
   ]
  },
  {
   "cell_type": "code",
   "execution_count": 73,
   "metadata": {},
   "outputs": [
    {
     "output_type": "execute_result",
     "data": {
      "text/plain": "array([[5, 0, 3],\n       [3, 7, 9],\n       [3, 5, 2]])"
     },
     "metadata": {},
     "execution_count": 73
    }
   ],
   "source": [
    "np.random.seed(0)\n",
    "np.random.randint(0,10,[3,3])"
   ]
  },
  {
   "cell_type": "code",
   "execution_count": 74,
   "metadata": {},
   "outputs": [
    {
     "output_type": "execute_result",
     "data": {
      "text/plain": "array([[5, 0, 3],\n       [3, 7, 9],\n       [3, 5, 2]])"
     },
     "metadata": {},
     "execution_count": 74
    }
   ],
   "source": [
    "np.random.seed(0)\n",
    "np.random.randint(0,10,[3,3])"
   ]
  },
  {
   "cell_type": "code",
   "execution_count": 75,
   "metadata": {},
   "outputs": [
    {
     "output_type": "execute_result",
     "data": {
      "text/plain": "array([[5, 8, 9],\n       [5, 0, 0],\n       [1, 7, 6]])"
     },
     "metadata": {},
     "execution_count": 75
    }
   ],
   "source": [
    "np.random.seed(1)\n",
    "np.random.randint(0,10,[3,3])"
   ]
  },
  {
   "cell_type": "code",
   "execution_count": 76,
   "metadata": {},
   "outputs": [
    {
     "output_type": "execute_result",
     "data": {
      "text/plain": "array([-1.,  0.,  1.,  2.,  3.])"
     },
     "metadata": {},
     "execution_count": 76
    }
   ],
   "source": [
    "np.unique(arr2d)"
   ]
  },
  {
   "cell_type": "code",
   "execution_count": 77,
   "metadata": {},
   "outputs": [
    {
     "output_type": "execute_result",
     "data": {
      "text/plain": "array([[-1.,  0.,  1.],\n       [ 2.,  2.,  2.],\n       [ 3.,  3.,  3.]])"
     },
     "metadata": {},
     "execution_count": 77
    }
   ],
   "source": [
    "arr2d"
   ]
  },
  {
   "cell_type": "code",
   "execution_count": 81,
   "metadata": {},
   "outputs": [
    {
     "output_type": "stream",
     "name": "stdout",
     "text": "-1.0 1\n0.0 1\n1.0 1\n2.0 3\n3.0 3\n"
    }
   ],
   "source": [
    "uniques,counts = np.unique(arr2d,return_counts=True)\n",
    "for a,b in (zip(uniques,counts)):\n",
    "    print(a,b)"
   ]
  },
  {
   "cell_type": "code",
   "execution_count": null,
   "metadata": {},
   "outputs": [],
   "source": []
  }
 ],
 "metadata": {
  "language_info": {
   "codemirror_mode": {
    "name": "ipython",
    "version": 3
   },
   "file_extension": ".py",
   "mimetype": "text/x-python",
   "name": "python",
   "nbconvert_exporter": "python",
   "pygments_lexer": "ipython3",
   "version": "3.8.2-final"
  },
  "orig_nbformat": 2,
  "kernelspec": {
   "name": "python38232bitvenvvenvc927ccd9763f45ac9cd3d29c1410e47a",
   "display_name": "Python 3.8.2 32-bit ('.venv': venv)"
  }
 },
 "nbformat": 4,
 "nbformat_minor": 2
}