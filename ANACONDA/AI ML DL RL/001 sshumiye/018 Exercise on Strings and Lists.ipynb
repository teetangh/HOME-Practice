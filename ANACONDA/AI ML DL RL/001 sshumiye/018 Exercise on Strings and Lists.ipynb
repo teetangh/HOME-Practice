{
 "cells": [
  {
   "cell_type": "code",
   "execution_count": 1,
   "metadata": {},
   "outputs": [],
   "source": [
    "# 1) list = [[3,4,5,6], [4,2,3], [4,1,2],[2,1]]  write a function that will add all the elements\n",
    "# in the list above = [sum1 + sum2 + sum3 + sum4] = sumtotal"
   ]
  },
  {
   "cell_type": "code",
   "execution_count": 6,
   "metadata": {},
   "outputs": [
    {
     "output_type": "execute_result",
     "data": {
      "text/plain": "10"
     },
     "metadata": {},
     "execution_count": 6
    }
   ],
   "source": [
    "def list_sum(x):\n",
    "    sum_total = 0\n",
    "    for elem in x:\n",
    "        sum_total += sum(elem)\n",
    "    return sum_total\n",
    "list_sum([[1,2],[3,4]])"
   ]
  },
  {
   "cell_type": "code",
   "execution_count": 7,
   "metadata": {},
   "outputs": [
    {
     "output_type": "execute_result",
     "data": {
      "text/plain": "37"
     },
     "metadata": {},
     "execution_count": 7
    }
   ],
   "source": [
    "list2 = [[3,4,5,6], [4,2,3], [4,1,2],[2,1]]\n",
    "list_sum(list2)"
   ]
  },
  {
   "cell_type": "code",
   "execution_count": 2,
   "metadata": {},
   "outputs": [],
   "source": [
    "# 2) Write a function that will remove the first element from a given list and  returns the new\n",
    "# list and prints out the length of the new list. Can you do the same with string objects?"
   ]
  },
  {
   "cell_type": "code",
   "execution_count": null,
   "metadata": {},
   "outputs": [],
   "source": []
  },
  {
   "cell_type": "code",
   "execution_count": 3,
   "metadata": {},
   "outputs": [],
   "source": [
    "# 3) list1 = [1,2,'a','b','c','d',3,4,5,6] write a fn that will remove the first two elements\n",
    "# and the last two elements from the list above. Also write a fn that will remove the first two\n",
    "# elements and the last element."
   ]
  },
  {
   "cell_type": "code",
   "execution_count": null,
   "metadata": {},
   "outputs": [],
   "source": []
  },
  {
   "cell_type": "code",
   "execution_count": 4,
   "metadata": {},
   "outputs": [],
   "source": [
    "# 4) list1 = [1,2,3,4,5,6] write a fn taht will return the sum by calculating the elements before\n",
    "# it. Eg the sum element at index 2 will be the cumu sum of the first three elements and so on...\n",
    "# [1,3,6,10,15,21..]"
   ]
  },
  {
   "cell_type": "code",
   "execution_count": null,
   "metadata": {},
   "outputs": [],
   "source": []
  },
  {
   "cell_type": "code",
   "execution_count": 5,
   "metadata": {},
   "outputs": [],
   "source": [
    "# 5) Write a function that checks if a given list has the same duplicate elements. If so, the \n",
    "# function should return true else return false."
   ]
  },
  {
   "cell_type": "code",
   "execution_count": null,
   "metadata": {},
   "outputs": [],
   "source": []
  }
 ],
 "metadata": {
  "language_info": {
   "codemirror_mode": {
    "name": "ipython",
    "version": 3
   },
   "file_extension": ".py",
   "mimetype": "text/x-python",
   "name": "python",
   "nbconvert_exporter": "python",
   "pygments_lexer": "ipython3",
   "version": "3.8.1-final"
  },
  "orig_nbformat": 2,
  "kernelspec": {
   "name": "python38132bit51bf2d4383df4065b0c992fe407a3440",
   "display_name": "Python 3.8.1 32-bit"
  }
 },
 "nbformat": 4,
 "nbformat_minor": 2
}