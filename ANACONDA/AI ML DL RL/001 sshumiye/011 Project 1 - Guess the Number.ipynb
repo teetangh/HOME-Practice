{
 "cells": [
  {
   "cell_type": "markdown",
   "metadata": {},
   "source": [
    "# Guess the NUmber\n",
    "\n",
    "## A Game on guessing a number between 1 and 20\n",
    "## Ask the player to guess 7 tiemes\n",
    "## Give the player a clue if his/her guess if to low or too high\n",
    "## If the player guesses right,tell the player they guessed it right in n number of guesses\n",
    "## If the player runs out of guesses,tell them the number you thought of initially"
   ]
  },
  {
   "cell_type": "code",
   "execution_count": 1,
   "metadata": {},
   "outputs": [],
   "source": [
    "import random"
   ]
  },
  {
   "cell_type": "code",
   "execution_count": 4,
   "metadata": {},
   "outputs": [
    {
     "output_type": "stream",
     "name": "stdout",
     "text": "Hi there,I am thinking of a number between 1 and 20\ntake a guess\nYour guess is too low\ntake a guess\nAwesome!! You have guessed my number in 2 guesses. \n"
    }
   ],
   "source": [
    "guesssesTaken = 0 \n",
    "secretNumber = random.randint(1,20)\n",
    "print(\"Hi there,I am thinking of a number between 1 and 20\")\n",
    "\n",
    "# Ask the player to guess 7 times\n",
    "\n",
    "for guesssesTaken in range(1,8):\n",
    "    print('take a guess')\n",
    "    guess = int(input())\n",
    "\n",
    "    if guess < secretNumber:\n",
    "        print(\"Your guess is too low\")\n",
    "    elif guess > secretNumber:\n",
    "        print(\"Your guess is too high\")\n",
    "    else:\n",
    "        break\n",
    "if guess == secretNumber:\n",
    "    print(\"Awesome!! You have guessed my number in \" + str(guesssesTaken) + \" guesses. \")\n",
    "else:\n",
    "    print(\"Nope. Game is over. The number I was thinking of was \" + str(secretNumber))"
   ]
  },
  {
   "cell_type": "markdown",
   "metadata": {},
   "source": [
    "# Alternate Method"
   ]
  },
  {
   "cell_type": "code",
   "execution_count": 9,
   "metadata": {},
   "outputs": [
    {
     "output_type": "stream",
     "name": "stdout",
     "text": "Hi there,let's play a game. I'm thinking od a number between 1 and 20.\nPlease take a guess\nYour guess is too low\nPlease take a guess\nYour guess is too low\nPlease take a guess\nYour guess is too low\nPlease take a guess\nYour guess is too low\nPlease take a guess\nYour guess is too low\nPlease take a guess\nYour guess is too low\nPlease take a guess\nYour guess is too low\nPlease take a guess\nYour guess is too low\nNope. The game is over. The Number I thoguht of initially was 11\n"
    }
   ],
   "source": [
    "import random\n",
    "\n",
    "guesssesTaken = 0\n",
    "secretNumber = random.randint(1,20)\n",
    "print(\"Hi there,let's play a game. I'm thinking od a number between 1 and 20.\")\n",
    "\n",
    "# Ask the player to guess 7 times\n",
    "while guesssesTaken < 8:\n",
    "    print(\"Please take a guess\")\n",
    "    guess = int(input())\n",
    "\n",
    "    guesssesTaken = guesssesTaken + 1\n",
    "\n",
    "    if guess < secretNumber:\n",
    "        print(\"Your guess is too low\")\n",
    "    elif guess > secretNumber:\n",
    "        print(\"your guess is too high\")\n",
    "    else:\n",
    "        break\n",
    "\n",
    "if guess == secretNumber:\n",
    "    print(\"Great Job. You guessed my number in \" + str(guesssesTaken) + \" guesses\")\n",
    "else:\n",
    "    print(\"Nope. The game is over. The Number I thoguht of initially was \" + str(secretNumber))"
   ]
  },
  {
   "cell_type": "code",
   "execution_count": null,
   "metadata": {},
   "outputs": [],
   "source": []
  }
 ],
 "metadata": {
  "language_info": {
   "codemirror_mode": {
    "name": "ipython",
    "version": 3
   },
   "file_extension": ".py",
   "mimetype": "text/x-python",
   "name": "python",
   "nbconvert_exporter": "python",
   "pygments_lexer": "ipython3",
   "version": "3.8.1-final"
  },
  "orig_nbformat": 2,
  "kernelspec": {
   "name": "python38132bit51bf2d4383df4065b0c992fe407a3440",
   "display_name": "Python 3.8.1 32-bit"
  }
 },
 "nbformat": 4,
 "nbformat_minor": 2
}