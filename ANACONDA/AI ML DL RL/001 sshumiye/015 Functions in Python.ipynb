{
 "cells": [
  {
   "cell_type": "code",
   "execution_count": 3,
   "metadata": {},
   "outputs": [],
   "source": [
    "# gp of organised codes with a name and can be called using (). Reusable !"
   ]
  },
  {
   "cell_type": "code",
   "execution_count": 5,
   "metadata": {},
   "outputs": [],
   "source": [
    "# def fn_name(countable no of arguments OR parameters):\n",
    "#     \"body of our function goes here\""
   ]
  },
  {
   "cell_type": "code",
   "execution_count": 7,
   "metadata": {},
   "outputs": [
    {
     "output_type": "stream",
     "name": "stdout",
     "text": "Body of our function\n"
    }
   ],
   "source": [
    "def fn_name():\n",
    "    print(\"Body of our function\")\n",
    "fn_name()"
   ]
  },
  {
   "cell_type": "code",
   "execution_count": null,
   "metadata": {},
   "outputs": [],
   "source": [
    "def fn_name(x):\n",
    "    print(\"Body goes here\",x)\n",
    "\n",
    "fn_name(4)"
   ]
  },
  {
   "cell_type": "code",
   "execution_count": 10,
   "metadata": {},
   "outputs": [
    {
     "output_type": "stream",
     "name": "stdout",
     "text": "Body goes here 3\nBody goes here 6\nBody goes here 4\n"
    }
   ],
   "source": [
    "fn_name(3)\n",
    "fn_name(6)\n",
    "fn_name(4)"
   ]
  },
  {
   "cell_type": "code",
   "execution_count": 12,
   "metadata": {},
   "outputs": [
    {
     "output_type": "stream",
     "name": "stdout",
     "text": "7\n"
    }
   ],
   "source": [
    "def subtract(x,y):\n",
    "    print(x-y)\n",
    "subtract(12,5)"
   ]
  },
  {
   "cell_type": "code",
   "execution_count": 14,
   "metadata": {},
   "outputs": [
    {
     "output_type": "stream",
     "name": "stdout",
     "text": "0\n-7\n"
    }
   ],
   "source": [
    "subtract(5,5)\n",
    "subtract(5,12)"
   ]
  },
  {
   "cell_type": "code",
   "execution_count": 16,
   "metadata": {},
   "outputs": [
    {
     "output_type": "stream",
     "name": "stdout",
     "text": "hello Python\n"
    }
   ],
   "source": [
    "def greet(x):\n",
    "    print(\"hello\",x)\n",
    "\n",
    "greet(\"Python\")"
   ]
  },
  {
   "cell_type": "markdown",
   "metadata": {},
   "source": [
    "# Print vs Return"
   ]
  },
  {
   "cell_type": "markdown",
   "metadata": {},
   "source": [
    "### It takes a python object and outputs a printed representation of it in the output"
   ]
  },
  {
   "cell_type": "markdown",
   "metadata": {},
   "source": [
    "### A function that returns a value is producing a value for use by the program, maybe for use in the part of the code where the function was invoked\n",
    "### Can be saved in a variable for later use"
   ]
  },
  {
   "cell_type": "code",
   "execution_count": 18,
   "metadata": {},
   "outputs": [
    {
     "output_type": "stream",
     "name": "stdout",
     "text": "1\n"
    }
   ],
   "source": [
    "def subtact(x,y):\n",
    "    print(x-y)\n",
    "a = subtact(4,3)"
   ]
  },
  {
   "cell_type": "code",
   "execution_count": 20,
   "metadata": {},
   "outputs": [],
   "source": [
    "def subtact(x,y):\n",
    "    return(x-y)\n",
    "b = subtact(4,3)"
   ]
  },
  {
   "cell_type": "code",
   "execution_count": 22,
   "metadata": {},
   "outputs": [
    {
     "output_type": "stream",
     "name": "stdout",
     "text": "None\n1\n"
    }
   ],
   "source": [
    "print(a) # None\n",
    "print(b)"
   ]
  },
  {
   "cell_type": "code",
   "execution_count": 24,
   "metadata": {},
   "outputs": [
    {
     "output_type": "execute_result",
     "data": {
      "text/plain": "2"
     },
     "metadata": {},
     "execution_count": 24
    }
   ],
   "source": [
    "b + b "
   ]
  },
  {
   "cell_type": "code",
   "execution_count": 26,
   "metadata": {},
   "outputs": [
    {
     "output_type": "stream",
     "name": "stdout",
     "text": "hello Hi there\n"
    }
   ],
   "source": [
    "def greet(x):\n",
    "    print(\"hello\",x)\n",
    "greet(\"Hi there\")"
   ]
  },
  {
   "cell_type": "code",
   "execution_count": 28,
   "metadata": {},
   "outputs": [
    {
     "output_type": "execute_result",
     "data": {
      "text/plain": "\"Hi what's up Python\""
     },
     "metadata": {},
     "execution_count": 28
    }
   ],
   "source": [
    "def greet(x):\n",
    "    return(x)\n",
    "x = greet(\"Hi what's up\")\n",
    "x + \" Python\""
   ]
  },
  {
   "cell_type": "code",
   "execution_count": 30,
   "metadata": {},
   "outputs": [
    {
     "output_type": "stream",
     "name": "stdout",
     "text": "Hello Python\n"
    }
   ],
   "source": [
    "def greet(x):\n",
    "    print(\"Hello\",x)\n",
    "greet(\"Python\")"
   ]
  },
  {
   "cell_type": "code",
   "execution_count": 36,
   "metadata": {},
   "outputs": [
    {
     "output_type": "stream",
     "name": "stdout",
     "text": "Here are the list of the odd numbers\n1 3 5 7 9 11 13 15 17 19 21 23 25 27 29 31 33 35 37 39 41 43 45 47 49"
    }
   ],
   "source": [
    "# Write a function that prints out the odd numbers in a given list\n",
    "def print_odd(x):\n",
    "    for i in range(1,x,2):\n",
    "            print(i,end=' ')\n",
    "\n",
    "print(\"Here are the list of the odd numbers\")\n",
    "print_odd(50)"
   ]
  },
  {
   "cell_type": "code",
   "execution_count": 37,
   "metadata": {},
   "outputs": [],
   "source": [
    "# ERRORS - no and type of arguments must match exactly   \n",
    "# print_odd()   \n",
    "# print_odd(12,20)"
   ]
  },
  {
   "cell_type": "code",
   "execution_count": 38,
   "metadata": {},
   "outputs": [],
   "source": [
    "# Write a function to enter two integers and display the result"
   ]
  },
  {
   "cell_type": "code",
   "execution_count": 41,
   "metadata": {},
   "outputs": [
    {
     "output_type": "stream",
     "name": "stdout",
     "text": "This function will add two integers\n"
    },
    {
     "output_type": "execute_result",
     "data": {
      "text/plain": "112"
     },
     "metadata": {},
     "execution_count": 41
    }
   ],
   "source": [
    "def myadd():\n",
    "    num1 = int(input(\"Please enter 1st integer\"))\n",
    "    num2 = int(input(\"Please enter 2nd integer\"))\n",
    "    return num1+num2\n",
    "print(\"This function will add two integers\")\n",
    "myadd()"
   ]
  },
  {
   "cell_type": "code",
   "execution_count": 45,
   "metadata": {},
   "outputs": [
    {
     "output_type": "stream",
     "name": "stdout",
     "text": "This function will also add two integers\nThe result of the addition is  145\n"
    }
   ],
   "source": [
    "def add():\n",
    "    num = int(input(\"Please enter an integer\"))\n",
    "    return num\n",
    "\n",
    "print(\" This function will also add two integers\")\n",
    "\n",
    "first_integer = add()\n",
    "second_integer = add()\n",
    "result = first_integer + second_integer\n",
    "\n",
    "print(\"The result of the addition is \",result)"
   ]
  },
  {
   "cell_type": "markdown",
   "metadata": {},
   "source": [
    "# Arguments in functions\n",
    "\n",
    "## Required Arguments\n",
    "## Keyword Arguments\n",
    "## Default Arguments\n",
    "## Flexible (variable-length) arg\n"
   ]
  },
  {
   "cell_type": "code",
   "execution_count": 46,
   "metadata": {},
   "outputs": [
    {
     "output_type": "stream",
     "name": "stdout",
     "text": "John\n45\nNY\n"
    }
   ],
   "source": [
    "# def fn_name(arguments):\n",
    "\n",
    "def Person(name,age,state):\n",
    "    print(name)\n",
    "    print(age)\n",
    "    print(state)\n",
    "Person(name=\"John\",age=45,state=\"NY\")"
   ]
  },
  {
   "cell_type": "code",
   "execution_count": 47,
   "metadata": {},
   "outputs": [
    {
     "output_type": "stream",
     "name": "stdout",
     "text": "2\n"
    }
   ],
   "source": [
    "def subtract(num1,num2):\n",
    "    print(num1 - num2)\n",
    "subtract(num1 = 9 , num2 = 7 )"
   ]
  },
  {
   "cell_type": "code",
   "execution_count": null,
   "metadata": {},
   "outputs": [],
   "source": []
  }
 ],
 "metadata": {
  "language_info": {
   "codemirror_mode": {
    "name": "ipython",
    "version": 3
   },
   "file_extension": ".py",
   "mimetype": "text/x-python",
   "name": "python",
   "nbconvert_exporter": "python",
   "pygments_lexer": "ipython3",
   "version": "3.8.1-final"
  },
  "orig_nbformat": 2,
  "kernelspec": {
   "name": "python38132bit51bf2d4383df4065b0c992fe407a3440",
   "display_name": "Python 3.8.1 32-bit"
  }
 },
 "nbformat": 4,
 "nbformat_minor": 2
}