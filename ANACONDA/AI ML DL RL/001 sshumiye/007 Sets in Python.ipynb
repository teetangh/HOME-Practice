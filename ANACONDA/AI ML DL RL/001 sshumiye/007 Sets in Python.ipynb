{
 "cells": [
  {
   "cell_type": "code",
   "execution_count": 7,
   "metadata": {},
   "outputs": [],
   "source": [
    "x = set()"
   ]
  },
  {
   "cell_type": "code",
   "execution_count": 11,
   "metadata": {},
   "outputs": [],
   "source": [
    "x.add(2)"
   ]
  },
  {
   "cell_type": "code",
   "execution_count": 15,
   "metadata": {},
   "outputs": [
    {
     "output_type": "stream",
     "name": "stdout",
     "text": "{2, 3}\n"
    }
   ],
   "source": [
    "x.add(3)\n",
    "print(x)\n"
   ]
  },
  {
   "cell_type": "code",
   "execution_count": 19,
   "metadata": {},
   "outputs": [
    {
     "output_type": "execute_result",
     "data": {
      "text/plain": "{3, 4, 5, 6, 7}"
     },
     "metadata": {},
     "execution_count": 19
    }
   ],
   "source": [
    "y= set([3,4,5,6,7])\n",
    "y"
   ]
  },
  {
   "cell_type": "code",
   "execution_count": 23,
   "metadata": {},
   "outputs": [
    {
     "output_type": "execute_result",
     "data": {
      "text/plain": "{'item1', 'item2', 'item3'}"
     },
     "metadata": {},
     "execution_count": 23
    }
   ],
   "source": [
    "a = set(['item1','item2','item3'])\n",
    "a"
   ]
  },
  {
   "cell_type": "code",
   "execution_count": 27,
   "metadata": {},
   "outputs": [
    {
     "output_type": "execute_result",
     "data": {
      "text/plain": "{'item1', 'item2', 'item3', 'item4'}"
     },
     "metadata": {},
     "execution_count": 27
    }
   ],
   "source": [
    "a.add('item4')\n",
    "a"
   ]
  },
  {
   "cell_type": "code",
   "execution_count": 31,
   "metadata": {},
   "outputs": [
    {
     "output_type": "execute_result",
     "data": {
      "text/plain": "{'a', 'b', 'c'}"
     },
     "metadata": {},
     "execution_count": 31
    }
   ],
   "source": [
    "tup_set = set(('a','b','c'))\n",
    "tup_set"
   ]
  },
  {
   "cell_type": "code",
   "execution_count": 35,
   "metadata": {},
   "outputs": [
    {
     "output_type": "execute_result",
     "data": {
      "text/plain": "{3, 6, 9, 12, 15, 18}"
     },
     "metadata": {},
     "execution_count": 35
    }
   ],
   "source": [
    "i = set(range(3,20,3))\n",
    "i"
   ]
  },
  {
   "cell_type": "code",
   "execution_count": 39,
   "metadata": {},
   "outputs": [],
   "source": [
    "var1 = ['a','c','k','v',1,2,3,4,5]\n",
    "set2 = set(var1)"
   ]
  },
  {
   "cell_type": "code",
   "execution_count": 43,
   "metadata": {},
   "outputs": [
    {
     "output_type": "execute_result",
     "data": {
      "text/plain": "{1, 2, 3, 4, 5, 'a', 'c', 'k', 'v'}"
     },
     "metadata": {},
     "execution_count": 43
    }
   ],
   "source": [
    "set2"
   ]
  },
  {
   "cell_type": "markdown",
   "metadata": {},
   "source": [
    "# Set Built-in Functions"
   ]
  },
  {
   "cell_type": "code",
   "execution_count": 47,
   "metadata": {},
   "outputs": [
    {
     "output_type": "execute_result",
     "data": {
      "text/plain": "set()"
     },
     "metadata": {},
     "execution_count": 47
    }
   ],
   "source": [
    "c =set()\n",
    "c"
   ]
  },
  {
   "cell_type": "code",
   "execution_count": 51,
   "metadata": {},
   "outputs": [
    {
     "output_type": "execute_result",
     "data": {
      "text/plain": "{3, 4, 5}"
     },
     "metadata": {},
     "execution_count": 51
    }
   ],
   "source": [
    "c.add(3)\n",
    "c.add(4)\n",
    "c.add(5)\n",
    "c"
   ]
  },
  {
   "cell_type": "code",
   "execution_count": 55,
   "metadata": {},
   "outputs": [],
   "source": [
    "d = c.copy()"
   ]
  },
  {
   "cell_type": "code",
   "execution_count": 59,
   "metadata": {},
   "outputs": [
    {
     "output_type": "execute_result",
     "data": {
      "text/plain": "{3, 4, 5, 6}"
     },
     "metadata": {},
     "execution_count": 59
    }
   ],
   "source": [
    "d"
   ]
  },
  {
   "cell_type": "code",
   "execution_count": 63,
   "metadata": {},
   "outputs": [
    {
     "output_type": "stream",
     "name": "stdout",
     "text": "{3, 4, 5} {3, 4, 5, 6}\n"
    }
   ],
   "source": [
    "d.add(6)\n",
    "print(c,d)"
   ]
  },
  {
   "cell_type": "code",
   "execution_count": 67,
   "metadata": {},
   "outputs": [
    {
     "output_type": "stream",
     "name": "stdout",
     "text": "{3, 4, 5, 6}\n{3, 4, 5, 6}\n"
    }
   ],
   "source": [
    "print(c.union(d))\n",
    "print(d.union(c))"
   ]
  },
  {
   "cell_type": "code",
   "execution_count": 71,
   "metadata": {},
   "outputs": [
    {
     "output_type": "stream",
     "name": "stdout",
     "text": "{3, 4, 5}\n{3, 4, 5}\n"
    }
   ],
   "source": [
    "print(c.intersection(d))\n",
    "print(d.intersection(c))"
   ]
  },
  {
   "cell_type": "code",
   "execution_count": 75,
   "metadata": {},
   "outputs": [
    {
     "output_type": "stream",
     "name": "stdout",
     "text": "False\nTrue\n"
    }
   ],
   "source": [
    "print(d.issubset(c))\n",
    "print(c.issubset(d))"
   ]
  },
  {
   "cell_type": "code",
   "execution_count": 79,
   "metadata": {},
   "outputs": [
    {
     "output_type": "stream",
     "name": "stdout",
     "text": "False\nTrue\n"
    }
   ],
   "source": [
    "print(c.issuperset(d))\n",
    "print(d.issuperset(c))"
   ]
  },
  {
   "cell_type": "code",
   "execution_count": 83,
   "metadata": {},
   "outputs": [
    {
     "output_type": "stream",
     "name": "stdout",
     "text": "{3, 4, 5}\n"
    }
   ],
   "source": [
    "print(c.difference(d))"
   ]
  },
  {
   "cell_type": "code",
   "execution_count": 87,
   "metadata": {},
   "outputs": [
    {
     "output_type": "stream",
     "name": "stdout",
     "text": "{6}\n"
    }
   ],
   "source": [
    "print(d.difference(c))"
   ]
  },
  {
   "cell_type": "code",
   "execution_count": 91,
   "metadata": {},
   "outputs": [
    {
     "output_type": "stream",
     "name": "stdout",
     "text": "{3, 4, 5} {6}\n"
    }
   ],
   "source": [
    "print(c,d)\n",
    "d.difference_update(c)"
   ]
  },
  {
   "cell_type": "code",
   "execution_count": 95,
   "metadata": {},
   "outputs": [
    {
     "output_type": "stream",
     "name": "stdout",
     "text": "{3, 4, 5} {6}\n"
    }
   ],
   "source": [
    "print(c,d)"
   ]
  },
  {
   "cell_type": "code",
   "execution_count": 99,
   "metadata": {},
   "outputs": [
    {
     "output_type": "execute_result",
     "data": {
      "text/plain": "{4, 6, 8}"
     },
     "metadata": {},
     "execution_count": 99
    }
   ],
   "source": [
    "i = set(range(4,10,2))\n",
    "i"
   ]
  },
  {
   "cell_type": "code",
   "execution_count": 103,
   "metadata": {},
   "outputs": [
    {
     "output_type": "execute_result",
     "data": {
      "text/plain": "{4, 5, 6, 7}"
     },
     "metadata": {},
     "execution_count": 103
    }
   ],
   "source": [
    "j = set(range(4,8))\n",
    "j"
   ]
  },
  {
   "cell_type": "code",
   "execution_count": 107,
   "metadata": {},
   "outputs": [
    {
     "output_type": "stream",
     "name": "stdout",
     "text": "{8, 6} {4, 5, 6, 7}\n{8} {4, 5, 6, 7}\n"
    }
   ],
   "source": [
    "print(i,j)\n",
    "i.difference_update(j)\n",
    "print(i,j)"
   ]
  },
  {
   "cell_type": "code",
   "execution_count": 111,
   "metadata": {},
   "outputs": [
    {
     "output_type": "execute_result",
     "data": {
      "text/plain": "{6, 8}"
     },
     "metadata": {},
     "execution_count": 111
    }
   ],
   "source": [
    "i.add(6)\n",
    "i"
   ]
  },
  {
   "cell_type": "code",
   "execution_count": 115,
   "metadata": {},
   "outputs": [
    {
     "output_type": "stream",
     "name": "stdout",
     "text": "{8, 6, 7} {4, 5, 6}\n{8, 6, 7} {4, 5}\n"
    }
   ],
   "source": [
    "print(i,j)\n",
    "j.difference_update(i)\n",
    "print(i,j)"
   ]
  },
  {
   "cell_type": "code",
   "execution_count": 119,
   "metadata": {},
   "outputs": [
    {
     "output_type": "execute_result",
     "data": {
      "text/plain": "{4, 5, 6}"
     },
     "metadata": {},
     "execution_count": 119
    }
   ],
   "source": [
    "j.add(6)\n",
    "j"
   ]
  },
  {
   "cell_type": "code",
   "execution_count": 123,
   "metadata": {},
   "outputs": [
    {
     "output_type": "execute_result",
     "data": {
      "text/plain": "{6, 7, 8}"
     },
     "metadata": {},
     "execution_count": 123
    }
   ],
   "source": [
    "i.add(7)\n",
    "i"
   ]
  },
  {
   "cell_type": "code",
   "execution_count": 127,
   "metadata": {},
   "outputs": [
    {
     "output_type": "execute_result",
     "data": {
      "text/plain": "{4, 5, 7, 8}"
     },
     "metadata": {},
     "execution_count": 127
    }
   ],
   "source": [
    "i.symmetric_difference(j)"
   ]
  },
  {
   "cell_type": "code",
   "execution_count": 131,
   "metadata": {},
   "outputs": [
    {
     "output_type": "stream",
     "name": "stdout",
     "text": "{8, 6, 7} {4, 5, 7, 8}\n"
    }
   ],
   "source": [
    "print(i,j)"
   ]
  },
  {
   "cell_type": "code",
   "execution_count": 134,
   "metadata": {},
   "outputs": [
    {
     "output_type": "execute_result",
     "data": {
      "text/plain": "{4, 5, 7, 8}"
     },
     "metadata": {},
     "execution_count": 134
    }
   ],
   "source": [
    "j.symmetric_difference(i)"
   ]
  },
  {
   "cell_type": "code",
   "execution_count": 136,
   "metadata": {},
   "outputs": [
    {
     "output_type": "stream",
     "name": "stdout",
     "text": "{8, 6, 7} {4, 5, 7, 8}\n{8, 6, 7} {4, 5, 6}\n"
    }
   ],
   "source": [
    "print(i,j)\n",
    "j.symmetric_difference_update(i)\n",
    "print(i,j)"
   ]
  },
  {
   "cell_type": "code",
   "execution_count": null,
   "metadata": {},
   "outputs": [],
   "source": [
    "# discard and remove methods"
   ]
  },
  {
   "cell_type": "code",
   "execution_count": 137,
   "metadata": {},
   "outputs": [
    {
     "output_type": "execute_result",
     "data": {
      "text/plain": "{6, 7, 8}"
     },
     "metadata": {},
     "execution_count": 137
    }
   ],
   "source": [
    "j = {6,7,8}\n",
    "j"
   ]
  },
  {
   "cell_type": "code",
   "execution_count": 138,
   "metadata": {},
   "outputs": [
    {
     "output_type": "execute_result",
     "data": {
      "text/plain": "{6, 7}"
     },
     "metadata": {},
     "execution_count": 138
    }
   ],
   "source": [
    "j.remove(8)\n",
    "j"
   ]
  },
  {
   "cell_type": "code",
   "execution_count": 142,
   "metadata": {},
   "outputs": [],
   "source": [
    "# j.remove(8) # ERROR  Element doesn't exist"
   ]
  },
  {
   "cell_type": "code",
   "execution_count": 141,
   "metadata": {},
   "outputs": [
    {
     "output_type": "execute_result",
     "data": {
      "text/plain": "{4, 5, 8}"
     },
     "metadata": {},
     "execution_count": 141
    }
   ],
   "source": [
    "i = {4,5,8}\n",
    "i"
   ]
  },
  {
   "cell_type": "code",
   "execution_count": 143,
   "metadata": {},
   "outputs": [
    {
     "output_type": "execute_result",
     "data": {
      "text/plain": "{4, 5, 8}"
     },
     "metadata": {},
     "execution_count": 143
    }
   ],
   "source": [
    "i.discard(10)\n",
    "i"
   ]
  },
  {
   "cell_type": "code",
   "execution_count": null,
   "metadata": {},
   "outputs": [],
   "source": []
  }
 ],
 "metadata": {
  "language_info": {
   "codemirror_mode": {
    "name": "ipython",
    "version": 3
   },
   "file_extension": ".py",
   "mimetype": "text/x-python",
   "name": "python",
   "nbconvert_exporter": "python",
   "pygments_lexer": "ipython3",
   "version": "3.8.1-final"
  },
  "orig_nbformat": 2,
  "kernelspec": {
   "name": "python38132bit51bf2d4383df4065b0c992fe407a3440",
   "display_name": "Python 3.8.1 32-bit"
  }
 },
 "nbformat": 4,
 "nbformat_minor": 2
}