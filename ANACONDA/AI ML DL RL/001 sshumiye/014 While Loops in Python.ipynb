{
 "cells": [
  {
   "cell_type": "code",
   "execution_count": null,
   "metadata": {},
   "outputs": [],
   "source": [
    "x = 0\n",
    "\n",
    "while  x < 6:\n",
    "    print(x)\n",
    "    x += 1"
   ]
  },
  {
   "cell_type": "code",
   "execution_count": null,
   "metadata": {},
   "outputs": [],
   "source": [
    "x = 0\n",
    "\n",
    "while x < 8:\n",
    "    print(\" x is {}\".format(x))\n",
    "    x = x + 1"
   ]
  },
  {
   "cell_type": "code",
   "execution_count": null,
   "metadata": {},
   "outputs": [],
   "source": [
    "x = 0\n",
    "# While - else\n",
    "while x < 8:\n",
    "    print(\"x is {}\".format(x))\n",
    "    x += 1\n",
    "else:\n",
    "    print(\"x is no longer less than 8\")"
   ]
  },
  {
   "cell_type": "code",
   "execution_count": null,
   "metadata": {},
   "outputs": [],
   "source": [
    "x = 8 \n",
    "\n",
    "while x > 1:\n",
    "    print (\"x is {}\".format(x))\n",
    "    x -=1"
   ]
  },
  {
   "cell_type": "code",
   "execution_count": null,
   "metadata": {},
   "outputs": [],
   "source": [
    "x = 8 \n",
    "\n",
    "while x > 1:\n",
    "    print (\"x is {}\".format(x))\n",
    "    x -=1\n",
    "else:\n",
    "    print(\"x is no longer less than 1\")"
   ]
  },
  {
   "cell_type": "code",
   "execution_count": null,
   "metadata": {},
   "outputs": [],
   "source": [
    "# break and continue in looping\n",
    "\n",
    "menu = ['yogurt','salad','chicken','fruits','beef']\n",
    "\n",
    "chosen_menu = ''\n",
    "\n",
    "while chosen_menu not in menu:\n",
    "    chosen_menu = input(\"Choose a menu: \")\n",
    "    if chosen_menu == 'none':\n",
    "        print(\"I am hungry\")\n",
    "        break\n",
    "else:\n",
    "    print(\"I can't wait till the {} is served\".format(chosen_menu))"
   ]
  },
  {
   "cell_type": "code",
   "execution_count": null,
   "metadata": {},
   "outputs": [],
   "source": [
    "x = 5\n",
    "\n",
    "while x < 12:\n",
    "    print(\"x is {}\".format(x))\n",
    "    x += 1\n",
    "    if x == 10:\n",
    "        print(\"x is still less than 12\")\n",
    "        continue\n",
    "else:\n",
    "    print(\"x is no longer less than  12\")"
   ]
  },
  {
   "cell_type": "code",
   "execution_count": null,
   "metadata": {},
   "outputs": [],
   "source": [
    "x = 5\n",
    "\n",
    "while x < 12:\n",
    "    print(\"x is {}\".format(x))\n",
    "    x += 1\n",
    "    if x == 10:\n",
    "        print(\"x is still less than 12 but exiting the loop either ways\")\n",
    "        break\n",
    "else:\n",
    "    print(\"x is no longer less than  12\")"
   ]
  },
  {
   "cell_type": "markdown",
   "metadata": {},
   "source": [
    "# Infinite Loops"
   ]
  },
  {
   "cell_type": "code",
   "execution_count": null,
   "metadata": {},
   "outputs": [],
   "source": [
    "# Condition is always true"
   ]
  },
  {
   "cell_type": "code",
   "execution_count": null,
   "metadata": {
    "tags": [
     "outputPrepend",
     "outputPrepend",
     "outputPrepend",
     "outputPrepend",
     "outputPrepend",
     "outputPrepend",
     "outputPrepend",
     "outputPrepend",
     "outputPrepend",
     "outputPrepend",
     "outputPrepend",
     "outputPrepend",
     "outputPrepend",
     "outputPrepend",
     "outputPrepend",
     "outputPrepend",
     "outputPrepend",
     "outputPrepend",
     "outputPrepend",
     "outputPrepend",
     "outputPrepend",
     "outputPrepend",
     "outputPrepend",
     "outputPrepend",
     "outputPrepend",
     "outputPrepend",
     "outputPrepend",
     "outputPrepend",
     "outputPrepend",
     "outputPrepend",
     "outputPrepend",
     "outputPrepend",
     "outputPrepend",
     "outputPrepend",
     "outputPrepend",
     "outputPrepend",
     "outputPrepend",
     "outputPrepend",
     "outputPrepend",
     "outputPrepend",
     "outputPrepend",
     "outputPrepend",
     "outputPrepend",
     "outputPrepend",
     "outputPrepend",
     "outputPrepend",
     "outputPrepend",
     "outputPrepend",
     "outputPrepend",
     "outputPrepend",
     "outputPrepend",
     "outputPrepend",
     "outputPrepend",
     "outputPrepend",
     "outputPrepend",
     "outputPrepend",
     "outputPrepend",
     "outputPrepend",
     "outputPrepend",
     "outputPrepend"
    ]
   },
   "outputs": [],
   "source": [
    "x = 5 \n",
    "\n",
    "# while x == 5:\n",
    "#     print(\"my lucky number is {}\".format(x))\n",
    "\n",
    "while x == 5:\n",
    "    print(\"my lucky number is {}\".format(x))\n",
    "    x += 1"
   ]
  },
  {
   "cell_type": "code",
   "execution_count": null,
   "metadata": {},
   "outputs": [],
   "source": [
    "x = 7\n",
    "\n",
    "# while x > 2:\n",
    "#     print(\"x is {}\".format(x))\n",
    "#     x += 1\n",
    "while x > 2:\n",
    "    print(\"x is {}\".format(x))\n",
    "    x -= 1\n",
    "else:\n",
    "    print(\"x is no longer > 2\")"
   ]
  },
  {
   "cell_type": "code",
   "execution_count": null,
   "metadata": {},
   "outputs": [],
   "source": [
    "menu = {'salad': 'vitamin' , 'potato': 'carb','chicken' : 'protein','yogurt':'mineral' }\n",
    "\n",
    "while True:\n",
    "    menu_choice = input(\"what would you like to have ?\")\n",
    "    if menu_choice == 'none':\n",
    "        break\n",
    "    if  menu_choice in menu:\n",
    "        food = menu.get(menu_choice)\n",
    "        print(food)\n",
    "    else:\n",
    "        print(\"we don't have:\",menu_choice)"
   ]
  },
  {
   "cell_type": "code",
   "execution_count": null,
   "metadata": {},
   "outputs": [],
   "source": [
    "menu = ['potato', 'beef', 'chicken','salad','yogurt','chese']\n",
    "# using break\n",
    "for food in menu:\n",
    "    if food == \"salad\":\n",
    "        break\n",
    "    print(\"Please bring me \",food)"
   ]
  },
  {
   "cell_type": "code",
   "execution_count": null,
   "metadata": {},
   "outputs": [],
   "source": [
    "menu = ['potato', 'beef', 'chicken','salad','yogurt','chese']\n",
    "# using continue\n",
    "for food in menu:\n",
    "    if food == \"salad\":\n",
    "        continue\n",
    "    print(\"Please bring me \",food)"
   ]
  },
  {
   "cell_type": "markdown",
   "metadata": {},
   "source": [
    "# Exercise on Calculator"
   ]
  },
  {
   "cell_type": "code",
   "execution_count": null,
   "metadata": {},
   "outputs": [],
   "source": [
    "\n",
    "# write a basic calculator instruction for a user and present a menu with options to add, subt,\n",
    "# modulus, multiply, divide two numbers.\n",
    "# prompt and ask users what operation they wanna do. Selection must be within the presented menu.\n",
    "# display the result (don't forget) if they select zero for denominator in division"
   ]
  },
  {
   "cell_type": "code",
   "execution_count": 25,
   "metadata": {},
   "outputs": [
    {
     "output_type": "stream",
     "name": "stdout",
     "text": "Our Simple Calculator Menu\n\n0. Choose zero to quit\n1. Choose one to add\n2. Choose two to subtract\n3. Choose three to multiply\n4. Choose four to divide\n5. Choose five to calculate modulus\n\nThe result of the operation 1 is 720\n Our Simple Calculator Menu\n\n0. Choose zero to quit\n1. Choose one to add\n2. Choose two to subtract\n3. Choose three to multiply\n4. Choose four to divide\n5. Choose five to calculate modulus\n\nThe result of the operation 2 is 389\n Our Simple Calculator Menu\n\n0. Choose zero to quit\n1. Choose one to add\n2. Choose two to subtract\n3. Choose three to multiply\n4. Choose four to divide\n5. Choose five to calculate modulus\n\n"
    }
   ],
   "source": [
    "# from __future__ import division # for Python 2 users\n",
    "\n",
    "menu = \"\"\" Our Simple Calculator Menu\n",
    "\n",
    "0. Choose zero to quit\n",
    "1. Choose one to add\n",
    "2. Choose two to subtract\n",
    "3. Choose three to multiply\n",
    "4. Choose four to divide\n",
    "5. Choose five to calculate modulus\n",
    "\"\"\"\n",
    "choice = None\n",
    "\n",
    "while choice !=0:\n",
    "    print(menu)\n",
    "    choice = int(input(\"Please make a choice from the menu: \"))\n",
    "\n",
    "    if choice not in range(6):\n",
    "        print(\"You,'ve made an invalid choice: {}\".format(choice))\n",
    "        continue\n",
    "\n",
    "    if choice == 0:\n",
    "        continue\n",
    "\n",
    "    x = int(input(\"Enter your first number now\"))\n",
    "    y = int(input(\"Enter your second number now\"))\n",
    "\n",
    "    if choice == 1:\n",
    "        result = x + y\n",
    "    elif choice == 2:\n",
    "        result = x - y\n",
    "    elif choice == 3:\n",
    "        result = x * y\n",
    "    elif choice == 4:\n",
    "        if y == 0:\n",
    "            print(\"Error,Cant divide a number by zero\")\n",
    "        else:\n",
    "            result = x / y\n",
    "\n",
    "    elif choice == 5: \n",
    "        if y == 0:\n",
    "            print(\"Error,Cant calculate modulus when the denominator is zero\")\n",
    "            continue\n",
    "        else:\n",
    "            result = x % y\n",
    "    print(\"The result of the operation {} is {}\".format(choice,result))\n",
    "\n",
    "\n"
   ]
  },
  {
   "cell_type": "code",
   "execution_count": null,
   "metadata": {},
   "outputs": [],
   "source": []
  }
 ],
 "metadata": {
  "language_info": {
   "codemirror_mode": {
    "name": "ipython",
    "version": 3
   },
   "file_extension": ".py",
   "mimetype": "text/x-python",
   "name": "python",
   "nbconvert_exporter": "python",
   "pygments_lexer": "ipython3",
   "version": "3.8.1-final"
  },
  "orig_nbformat": 2,
  "kernelspec": {
   "name": "python38132bit51bf2d4383df4065b0c992fe407a3440",
   "display_name": "Python 3.8.1 32-bit"
  }
 },
 "nbformat": 4,
 "nbformat_minor": 2
}