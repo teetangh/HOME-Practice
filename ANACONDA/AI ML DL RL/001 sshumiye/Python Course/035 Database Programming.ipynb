{
 "cells": [
  {
   "cell_type": "code",
   "execution_count": 1,
   "metadata": {},
   "outputs": [],
   "source": [
    "import sqlite3\n",
    "\n",
    "db = sqlite3.connect(\"Student.db\")\n",
    "db.execute(\"drop table if exists grades\")\n",
    "db.execute(\"create table grades(id int ,name text ,score int)\")\n",
    "\n",
    "db.execute(\"insert into grades(id ,name , score) values (1,'John',97)\")\n",
    "db.execute(\"insert into grades(id ,name , score) values (2,'Smith',100)\")\n",
    "db.commit()"
   ]
  },
  {
   "cell_type": "code",
   "execution_count": 2,
   "metadata": {},
   "outputs": [
    {
     "output_type": "stream",
     "name": "stdout",
     "text": "(1, 'John', 97)\n(2, 'Smith', 100)\n"
    }
   ],
   "source": [
    "results = db.execute(\"select * from grades order by id\")\n",
    "\n",
    "for row in results:\n",
    "    print(row)"
   ]
  },
  {
   "cell_type": "code",
   "execution_count": 3,
   "metadata": {},
   "outputs": [],
   "source": [
    "# db.execute(\"insert into grades(id ,name , score) values (1,'John',97)\")\n",
    "# db.execute(\"insert into grades(id ,name , score) values (2,'Smith',100)\")\n",
    "db.execute(\"insert into grades(id ,name , score) values (3,'Jane',98)\")\n",
    "db.execute(\"insert into grades(id ,name , score) values (4,'Doe',90)\")\n",
    "db.execute(\"insert into grades(id ,name , score) values (5,'James',85)\")\n",
    "db.execute(\"insert into grades(id ,name , score) values (6,'Tom',82)\")\n",
    "db.commit()"
   ]
  },
  {
   "cell_type": "code",
   "execution_count": 4,
   "metadata": {},
   "outputs": [
    {
     "output_type": "stream",
     "name": "stdout",
     "text": "(1, 'John', 97)\n(2, 'Smith', 100)\n(3, 'Jane', 98)\n(4, 'Doe', 90)\n(5, 'James', 85)\n(6, 'Tom', 82)\n"
    }
   ],
   "source": [
    "results = db.execute(\"select * from grades order by id\")\n",
    "\n",
    "for row in results:\n",
    "    print(row)"
   ]
  },
  {
   "cell_type": "code",
   "execution_count": 5,
   "metadata": {},
   "outputs": [
    {
     "output_type": "stream",
     "name": "stdout",
     "text": "(1, 'John', 78)\n(2, 'Smith', 100)\n(3, 'Jane', 98)\n(4, 'Doe', 90)\n(5, 'James', 99)\n(6, 'Tom', 82)\n"
    }
   ],
   "source": [
    "db.execute(\"update grades set score = 78 where name = 'John' \")\n",
    "db.execute(\"update grades set score = 99 where name = 'James' \")\n",
    "db.commit()\n",
    "results = db.execute(\"select * from grades order by id\")\n",
    "for row in results:\n",
    "    print(row)"
   ]
  },
  {
   "cell_type": "code",
   "execution_count": 6,
   "metadata": {},
   "outputs": [],
   "source": [
    "db.execute(\"update grades set name = 'Jack' where score = 82 \")\n",
    "db.commit()"
   ]
  },
  {
   "cell_type": "code",
   "execution_count": 7,
   "metadata": {},
   "outputs": [
    {
     "output_type": "stream",
     "name": "stdout",
     "text": "(1, 'John', 78)\n(2, 'Smith', 100)\n(3, 'Jane', 98)\n(4, 'Doe', 90)\n(5, 'James', 99)\n(6, 'Jack', 82)\n"
    }
   ],
   "source": [
    "results = db.execute(\"select * from grades order by id\")\n",
    "for row in results:\n",
    "    print(row)"
   ]
  },
  {
   "cell_type": "code",
   "execution_count": 8,
   "metadata": {},
   "outputs": [
    {
     "output_type": "stream",
     "name": "stdout",
     "text": "(1, 'John', 78)\n(2, 'Smith', 100)\n(3, 'Jane', 98)\n(4, 'Doe', 90)\n(5, 'James', 99)\n"
    }
   ],
   "source": [
    "db.execute(\"delete from grades where id = 6\")\n",
    "results = db.execute(\"select * from grades order by id\")\n",
    "for row in results:\n",
    "    print(row)"
   ]
  },
  {
   "cell_type": "code",
   "execution_count": 9,
   "metadata": {},
   "outputs": [
    {
     "output_type": "stream",
     "name": "stdout",
     "text": "(1, 'John', 78)\n(2, 'Smith', 100)\n(3, 'Jane', 98)\n(4, 'Doe', 90)\n(5, 'James', 99)\n"
    }
   ],
   "source": [
    "results = db.execute(\"select * from grades order by id\")\n",
    "\n",
    "for row in results:\n",
    "    print(row)"
   ]
  },
  {
   "cell_type": "code",
   "execution_count": 10,
   "metadata": {},
   "outputs": [
    {
     "output_type": "stream",
     "name": "stdout",
     "text": "(3, 'Jane', 98)\n"
    }
   ],
   "source": [
    "results = db.execute(\"select * from grades where name = 'Jane'\")\n",
    "\n",
    "for row in results:\n",
    "    print(row)"
   ]
  },
  {
   "cell_type": "code",
   "execution_count": 11,
   "metadata": {},
   "outputs": [
    {
     "output_type": "stream",
     "name": "stdout",
     "text": "(5, 'James')\n"
    }
   ],
   "source": [
    "results = db.execute(\"select id,name from grades where name = 'James' \")\n",
    "\n",
    "for row in results:\n",
    "    print(row)"
   ]
  },
  {
   "cell_type": "code",
   "execution_count": 12,
   "metadata": {},
   "outputs": [
    {
     "output_type": "stream",
     "name": "stdout",
     "text": "(2, 'Smith', 100)\n(3, 'Jane', 98)\n(4, 'Doe', 90)\n(5, 'James', 99)\n"
    }
   ],
   "source": [
    "results = db.execute(\"select * from grades where score > 85\")\n",
    "\n",
    "for row in results:\n",
    "    print(row)"
   ]
  },
  {
   "cell_type": "code",
   "execution_count": 13,
   "metadata": {},
   "outputs": [
    {
     "output_type": "stream",
     "name": "stdout",
     "text": "('John', 78)\n"
    }
   ],
   "source": [
    "results = db.execute(\"select name,score from grades where score < 85\")\n",
    "\n",
    "for row in results:\n",
    "    print(row)"
   ]
  },
  {
   "cell_type": "code",
   "execution_count": 14,
   "metadata": {},
   "outputs": [
    {
     "output_type": "stream",
     "name": "stdout",
     "text": "('Smith', 100)\n('James', 99)\n('Jane', 98)\n('Doe', 90)\n('John', 78)\n"
    }
   ],
   "source": [
    "results = db.execute(\"select name,score from grades order by score desc\")\n",
    "\n",
    "for row in results:\n",
    "    print(row)"
   ]
  },
  {
   "cell_type": "code",
   "execution_count": null,
   "metadata": {},
   "outputs": [],
   "source": []
  }
 ],
 "metadata": {
  "language_info": {
   "codemirror_mode": {
    "name": "ipython",
    "version": 3
   },
   "file_extension": ".py",
   "mimetype": "text/x-python",
   "name": "python",
   "nbconvert_exporter": "python",
   "pygments_lexer": "ipython3",
   "version": "3.8.1-final"
  },
  "orig_nbformat": 2,
  "kernelspec": {
   "name": "python38132bit51bf2d4383df4065b0c992fe407a3440",
   "display_name": "Python 3.8.1 32-bit"
  }
 },
 "nbformat": 4,
 "nbformat_minor": 2
}