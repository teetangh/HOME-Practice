{
 "cells": [
  {
   "cell_type": "markdown",
   "metadata": {},
   "source": [
    "# Which Road will you choose ?"
   ]
  },
  {
   "cell_type": "code",
   "execution_count": 3,
   "metadata": {},
   "outputs": [
    {
     "output_type": "execute_result",
     "data": {
      "text/plain": "'\\n- display some intro about the game\\n- ask the player to choose a road\\n- display result of the chosen road and whether the player\\n- has chosen the path to treasure or misery\\n- ask the player if they want to play again\\n'"
     },
     "metadata": {},
     "execution_count": 3
    }
   ],
   "source": [
    "\"\"\"\n",
    "Create a game where a player has to choose between 2 Roads\n",
    "One road leads to a treasure whereas \n",
    "the other road leads to a scary place\n",
    "Which Road will you choose??\n",
    "\"\"\"\n",
    "\n",
    "'''\n",
    "- display some intro about the game\n",
    "- ask the player to choose a road\n",
    "- display result of the chosen road and whether the player\n",
    "- has chosen the path to treasure or misery\n",
    "- ask the player if they want to play again\n",
    "'''"
   ]
  },
  {
   "cell_type": "code",
   "execution_count": 4,
   "metadata": {},
   "outputs": [
    {
     "output_type": "stream",
     "name": "stdout",
     "text": "You are in a far away land full of monsters.Ahead of you,you see\ntwo roads. If you take the first road,the monster guarding the path is calm\nand friendly,and will share his treasures with you. The other monster however\nis alwys hungry,and will not hesitate to eat you on site\n\nWhich road will you go into? (1 or 2)\nYou approach the road..\nIt is dark and spooky\nA scary monster jumps in fromt of you. He opens his jaws and ... \n\nGobles and eats you in one bite...\nDo you want to play again? yes or no\nYou are in a far away land full of monsters.Ahead of you,you see\ntwo roads. If you take the first road,the monster guarding the path is calm\nand friendly,and will share his treasures with you. The other monster however\nis alwys hungry,and will not hesitate to eat you on site\n\nWhich road will you go into? (1 or 2)\nYou approach the road..\nIt is dark and spooky\nA scary monster jumps in fromt of you. He opens his jaws and ... \n\nGives you his treasure\nDo you want to play again? yes or no\n"
    }
   ],
   "source": [
    "import time\n",
    "import random\n",
    "def displayGameIntro():\n",
    "    print(\"You are in a far away land full of monsters.Ahead of you,you see\")\n",
    "    print(\"two roads. If you take the first road,the monster guarding the path is calm\")\n",
    "    print(\"and friendly,and will share his treasures with you. The other monster however\")\n",
    "    print(\"is alwys hungry,and will not hesitate to eat you on site\")\n",
    "    print()\n",
    "\n",
    "def chooseRoad():\n",
    "    road = ''\n",
    "    while road != '1' and road != '2':\n",
    "        print(\"Which road will you go into? (1 or 2)\")\n",
    "        road = input()\n",
    "    return road\n",
    "\n",
    "def checkRoad(chosenRoad):\n",
    "    print(\"You approach the road..\")\n",
    "    time.sleep(2)\n",
    "    print(\"It is dark and spooky\")\n",
    "    time.sleep(2)\n",
    "    print(\"A scary monster jumps in fromt of you. He opens his jaws and ... \")\n",
    "    print()\n",
    "    time.sleep(2)\n",
    "\n",
    "    friendlyRoad = random.randint(1,2)\n",
    "\n",
    "    if chosenRoad == str(friendlyRoad):\n",
    "        print(\"Gives you his treasure\")\n",
    "    else:\n",
    "        print(\"Gobles and eats you in one bite...\")\n",
    "\n",
    "\n",
    "playAgain = 'yes'\n",
    "while playAgain == 'yes' or playAgain == 'y' or playAgain == 'YES' or playAgain == 'yeah':\n",
    "    displayGameIntro()\n",
    "\n",
    "    roadNumber = chooseRoad()\n",
    "    checkRoad(roadNumber)\n",
    "\n",
    "    print(\"Do you want to play again? yes or no\")\n",
    "    playAgain = input()\n",
    "\n"
   ]
  },
  {
   "cell_type": "code",
   "execution_count": null,
   "metadata": {},
   "outputs": [],
   "source": []
  }
 ],
 "metadata": {
  "language_info": {
   "codemirror_mode": {
    "name": "ipython",
    "version": 3
   },
   "file_extension": ".py",
   "mimetype": "text/x-python",
   "name": "python",
   "nbconvert_exporter": "python",
   "pygments_lexer": "ipython3",
   "version": "3.8.1-final"
  },
  "orig_nbformat": 2,
  "kernelspec": {
   "name": "python38132bit51bf2d4383df4065b0c992fe407a3440",
   "display_name": "Python 3.8.1 32-bit"
  }
 },
 "nbformat": 4,
 "nbformat_minor": 2
}