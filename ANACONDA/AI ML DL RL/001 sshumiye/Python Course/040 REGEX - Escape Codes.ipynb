{
 "cells": [
  {
   "cell_type": "code",
   "execution_count": 1,
   "metadata": {},
   "outputs": [],
   "source": [
    "# escape codes \n",
    "# \\d - matches a single digit\n",
    "# \\D - matches a single non-digit\n",
    "\n",
    "# \\w - single alphnum\n",
    "# \\W - single non-alphnum\n",
    "\n",
    "# \\s - whitespace character\n",
    "# \\S - non-whitespace character\n",
    "\n",
    "# add * + for more accordingly"
   ]
  },
  {
   "cell_type": "code",
   "execution_count": 2,
   "metadata": {},
   "outputs": [],
   "source": [
    "text = \"The cost of my fancy Microwave is $100\""
   ]
  },
  {
   "cell_type": "code",
   "execution_count": 3,
   "metadata": {},
   "outputs": [
    {
     "output_type": "execute_result",
     "data": {
      "text/plain": "['1', '0', '0']"
     },
     "metadata": {},
     "execution_count": 3
    }
   ],
   "source": [
    "import re\n",
    "\n",
    "re.findall(r'\\d',text)"
   ]
  },
  {
   "cell_type": "code",
   "execution_count": 4,
   "metadata": {},
   "outputs": [
    {
     "output_type": "execute_result",
     "data": {
      "text/plain": "['100']"
     },
     "metadata": {},
     "execution_count": 4
    }
   ],
   "source": [
    "re.findall(r'\\d+',text)\n"
   ]
  },
  {
   "cell_type": "code",
   "execution_count": 5,
   "metadata": {},
   "outputs": [
    {
     "output_type": "execute_result",
     "data": {
      "text/plain": "['T',\n 'h',\n 'e',\n ' ',\n 'c',\n 'o',\n 's',\n 't',\n ' ',\n 'o',\n 'f',\n ' ',\n 'm',\n 'y',\n ' ',\n 'f',\n 'a',\n 'n',\n 'c',\n 'y',\n ' ',\n 'M',\n 'i',\n 'c',\n 'r',\n 'o',\n 'w',\n 'a',\n 'v',\n 'e',\n ' ',\n 'i',\n 's',\n ' ',\n '$']"
     },
     "metadata": {},
     "execution_count": 5
    }
   ],
   "source": [
    "re.findall(r'\\D',text)"
   ]
  },
  {
   "cell_type": "code",
   "execution_count": 6,
   "metadata": {},
   "outputs": [
    {
     "output_type": "execute_result",
     "data": {
      "text/plain": "['The cost of my fancy Microwave is $']"
     },
     "metadata": {},
     "execution_count": 6
    }
   ],
   "source": [
    "re.findall(r'\\D+',text) # Greedy\n"
   ]
  },
  {
   "cell_type": "code",
   "execution_count": 7,
   "metadata": {},
   "outputs": [
    {
     "output_type": "execute_result",
     "data": {
      "text/plain": "[' ', ' ', ' ', ' ', ' ', ' ', ' ']"
     },
     "metadata": {},
     "execution_count": 7
    }
   ],
   "source": [
    "re.findall(r'\\s',text)"
   ]
  },
  {
   "cell_type": "code",
   "execution_count": 8,
   "metadata": {},
   "outputs": [
    {
     "output_type": "execute_result",
     "data": {
      "text/plain": "['T',\n 'h',\n 'e',\n 'c',\n 'o',\n 's',\n 't',\n 'o',\n 'f',\n 'm',\n 'y',\n 'f',\n 'a',\n 'n',\n 'c',\n 'y',\n 'M',\n 'i',\n 'c',\n 'r',\n 'o',\n 'w',\n 'a',\n 'v',\n 'e',\n 'i',\n 's',\n '$',\n '1',\n '0',\n '0']"
     },
     "metadata": {},
     "execution_count": 8
    }
   ],
   "source": [
    "re.findall(r'\\S',text)"
   ]
  },
  {
   "cell_type": "code",
   "execution_count": 9,
   "metadata": {},
   "outputs": [
    {
     "output_type": "execute_result",
     "data": {
      "text/plain": "['The', 'cost', 'of', 'my', 'fancy', 'Microwave', 'is', '$100']"
     },
     "metadata": {},
     "execution_count": 9
    }
   ],
   "source": [
    "re.findall(r'\\S+',text) # Greedy\n"
   ]
  },
  {
   "cell_type": "code",
   "execution_count": 10,
   "metadata": {},
   "outputs": [
    {
     "output_type": "execute_result",
     "data": {
      "text/plain": "['T',\n 'h',\n 'e',\n 'c',\n 'o',\n 's',\n 't',\n 'o',\n 'f',\n 'm',\n 'y',\n 'f',\n 'a',\n 'n',\n 'c',\n 'y',\n 'M',\n 'i',\n 'c',\n 'r',\n 'o',\n 'w',\n 'a',\n 'v',\n 'e',\n 'i',\n 's',\n '1',\n '0',\n '0']"
     },
     "metadata": {},
     "execution_count": 10
    }
   ],
   "source": [
    "re.findall(r'\\w',text)"
   ]
  },
  {
   "cell_type": "code",
   "execution_count": 11,
   "metadata": {},
   "outputs": [
    {
     "output_type": "execute_result",
     "data": {
      "text/plain": "['The', 'cost', 'of', 'my', 'fancy', 'Microwave', 'is', '100']"
     },
     "metadata": {},
     "execution_count": 11
    }
   ],
   "source": [
    "re.findall(r'\\w+',text)\n"
   ]
  },
  {
   "cell_type": "code",
   "execution_count": 12,
   "metadata": {},
   "outputs": [
    {
     "output_type": "execute_result",
     "data": {
      "text/plain": "[' ', ' ', ' ', ' ', ' ', ' ', ' ', '$']"
     },
     "metadata": {},
     "execution_count": 12
    }
   ],
   "source": [
    "re.findall(r'\\W',text)"
   ]
  },
  {
   "cell_type": "code",
   "execution_count": null,
   "metadata": {},
   "outputs": [],
   "source": []
  }
 ],
 "metadata": {
  "language_info": {
   "codemirror_mode": {
    "name": "ipython",
    "version": 3
   },
   "file_extension": ".py",
   "mimetype": "text/x-python",
   "name": "python",
   "nbconvert_exporter": "python",
   "pygments_lexer": "ipython3",
   "version": "3.8.1-final"
  },
  "orig_nbformat": 2,
  "kernelspec": {
   "name": "python38132bit51bf2d4383df4065b0c992fe407a3440",
   "display_name": "Python 3.8.1 32-bit"
  }
 },
 "nbformat": 4,
 "nbformat_minor": 2
}