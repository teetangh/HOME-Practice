{
 "cells": [
  {
   "cell_type": "code",
   "execution_count": 1,
   "metadata": {},
   "outputs": [],
   "source": [
    "list1 = ['x','y','z']"
   ]
  },
  {
   "cell_type": "code",
   "execution_count": 2,
   "metadata": {},
   "outputs": [],
   "source": [
    "# def fn:\n",
    "# map(fn,list1) = []"
   ]
  },
  {
   "cell_type": "code",
   "execution_count": 3,
   "metadata": {},
   "outputs": [
    {
     "output_type": "execute_result",
     "data": {
      "text/plain": "['x', 'y', 'z']"
     },
     "metadata": {},
     "execution_count": 3
    }
   ],
   "source": [
    "# map(str.lower,['X','Y','Z'])  # in Python 2  \n",
    "list(map(str.lower,['X','Y','Z']))  # in Python 3 "
   ]
  },
  {
   "cell_type": "code",
   "execution_count": 4,
   "metadata": {},
   "outputs": [
    {
     "output_type": "execute_result",
     "data": {
      "text/plain": "[2.0, 8.0, 5.0, 9.0]"
     },
     "metadata": {},
     "execution_count": 4
    }
   ],
   "source": [
    "import math\n",
    "\n",
    "list(map(math.sqrt,[4,64,25,81]))"
   ]
  },
  {
   "cell_type": "code",
   "execution_count": 5,
   "metadata": {},
   "outputs": [
    {
     "output_type": "execute_result",
     "data": {
      "text/plain": "64"
     },
     "metadata": {},
     "execution_count": 5
    }
   ],
   "source": [
    "def power_four(x):\n",
    "    return 4 ** x\n",
    "\n",
    "power_four(3)"
   ]
  },
  {
   "cell_type": "code",
   "execution_count": 6,
   "metadata": {},
   "outputs": [
    {
     "output_type": "execute_result",
     "data": {
      "text/plain": "[16, 64, 256, 1024, 4096]"
     },
     "metadata": {},
     "execution_count": 6
    }
   ],
   "source": [
    "list(map(power_four,[2,3,4,5,6]))"
   ]
  },
  {
   "cell_type": "markdown",
   "metadata": {},
   "source": [
    "# Lambda function with map function"
   ]
  },
  {
   "cell_type": "code",
   "execution_count": 7,
   "metadata": {},
   "outputs": [
    {
     "output_type": "execute_result",
     "data": {
      "text/plain": "[25, 125, 625, 3125, 15625]"
     },
     "metadata": {},
     "execution_count": 7
    }
   ],
   "source": [
    "list(map(lambda x : 5 ** x , [2,3,4,5,6] ))"
   ]
  },
  {
   "cell_type": "code",
   "execution_count": 8,
   "metadata": {},
   "outputs": [
    {
     "output_type": "execute_result",
     "data": {
      "text/plain": "[9, 36, 81, 144]"
     },
     "metadata": {},
     "execution_count": 8
    }
   ],
   "source": [
    "x = [3,6,9,12]\n",
    "\n",
    "list(map(lambda y : y * y , x))"
   ]
  },
  {
   "cell_type": "code",
   "execution_count": 9,
   "metadata": {},
   "outputs": [
    {
     "output_type": "execute_result",
     "data": {
      "text/plain": "[2, 2, 4, 3]"
     },
     "metadata": {},
     "execution_count": 9
    }
   ],
   "source": [
    "list(map(len,[[2,1],[2,2],[3,4,5,6],[3,4,1]]))"
   ]
  },
  {
   "cell_type": "code",
   "execution_count": 10,
   "metadata": {},
   "outputs": [],
   "source": [
    "def cube_fn(x):\n",
    "    return x ** 3"
   ]
  },
  {
   "cell_type": "code",
   "execution_count": 11,
   "metadata": {},
   "outputs": [
    {
     "output_type": "stream",
     "name": "stdout",
     "text": "27\n64\n125\n216\n343\n"
    }
   ],
   "source": [
    "for i in list(map(cube_fn,[3,4,5,6,7])):\n",
    "    print(i)"
   ]
  },
  {
   "cell_type": "code",
   "execution_count": 12,
   "metadata": {},
   "outputs": [
    {
     "output_type": "stream",
     "name": "stdout",
     "text": "27\n64\n125\n216\n343\n"
    }
   ],
   "source": [
    "for i in (map(cube_fn,[3,4,5,6,7])):\n",
    "    print(i)"
   ]
  },
  {
   "cell_type": "code",
   "execution_count": null,
   "metadata": {},
   "outputs": [],
   "source": []
  }
 ],
 "metadata": {
  "language_info": {
   "codemirror_mode": {
    "name": "ipython",
    "version": 3
   },
   "file_extension": ".py",
   "mimetype": "text/x-python",
   "name": "python",
   "nbconvert_exporter": "python",
   "pygments_lexer": "ipython3",
   "version": "3.8.1-final"
  },
  "orig_nbformat": 2,
  "kernelspec": {
   "name": "python38132bit51bf2d4383df4065b0c992fe407a3440",
   "display_name": "Python 3.8.1 32-bit"
  }
 },
 "nbformat": 4,
 "nbformat_minor": 2
}