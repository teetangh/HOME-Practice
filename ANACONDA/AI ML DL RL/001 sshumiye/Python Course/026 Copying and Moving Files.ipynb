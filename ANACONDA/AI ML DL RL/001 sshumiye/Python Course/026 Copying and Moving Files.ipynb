{
 "cells": [
  {
   "cell_type": "code",
   "execution_count": 1,
   "metadata": {},
   "outputs": [
    {
     "output_type": "execute_result",
     "data": {
      "text/plain": "'C:\\\\Users\\\\Kaustav\\\\Desktop\\\\MY CODE\\\\HOME Practice\\\\ANACONDA\\\\AI ML DL RL\\\\001 sshumiye\\\\Python Course\\\\Files\\\\file_name'"
     },
     "metadata": {},
     "execution_count": 1
    }
   ],
   "source": [
    "import shutil\n",
    "\n",
    "shutil.copy(r'C:\\Users\\Kaustav\\Desktop\\MY CODE\\HOME Practice\\ANACONDA\\AI ML DL RL\\001 sshumiye\\Python Course\\file_name',r'C:\\Users\\Kaustav\\Desktop\\MY CODE\\HOME Practice\\ANACONDA\\AI ML DL RL\\001 sshumiye\\Python Course\\Files')"
   ]
  },
  {
   "cell_type": "code",
   "execution_count": 5,
   "metadata": {},
   "outputs": [
    {
     "output_type": "execute_result",
     "data": {
      "text/plain": "'c:\\\\Users\\\\Kaustav\\\\Desktop\\\\MY CODE\\\\HOME Practice\\\\ANACONDA\\\\AI ML DL RL\\\\001 sshumiye\\\\Python Course'"
     },
     "metadata": {},
     "execution_count": 5
    }
   ],
   "source": [
    "import os\n",
    "\n",
    "os.getcwd()"
   ]
  },
  {
   "cell_type": "code",
   "execution_count": 3,
   "metadata": {},
   "outputs": [
    {
     "output_type": "execute_result",
     "data": {
      "text/plain": "['001 Intro IDE Jupyter Nbk .ipynb',\n '002 Basic Intro.ipynb',\n '003 Strings in Python.ipynb',\n '004 Lists in Python.ipynb',\n '005 Tuples in Python.ipynb',\n '006 Dictionaries in Python.ipynb',\n '007 Sets in Python.ipynb',\n '008 Numbers in Python.ipynb',\n '009 Python Operators.ipynb',\n '010 Range Functions.ipynb',\n '011 Project 1 - Guess the Number.ipynb',\n '012 If,elif and else Statements in Python.ipynb',\n '013 For Loops in Python.ipynb',\n '014 While Loops in Python.ipynb',\n '015 Functions in Python.ipynb',\n '016 Lambda Functions.ipynb',\n '017 Functions - Exercise.ipynb',\n '018 Exercise on Strings and Lists.ipynb',\n '019 Classes in Python.ipynb',\n '020 Multiple Inheritance.ipynb',\n '021 OOP - Exercise.ipynb',\n '022 Errors and Exception Handling.ipynb',\n '023 Exercise - Errors and Exception Handling.ipynb',\n '024B Project 2.ipynb',\n '025 File Handling in Python.ipynb',\n '026 Copying and Moving Files.ipynb',\n 'Files',\n 'file_name']"
     },
     "metadata": {},
     "execution_count": 3
    }
   ],
   "source": [
    "t = os.getcwd()\n",
    "os.listdir(t)"
   ]
  },
  {
   "cell_type": "code",
   "execution_count": 4,
   "metadata": {},
   "outputs": [
    {
     "output_type": "execute_result",
     "data": {
      "text/plain": "'C:\\\\Users\\\\Kaustav\\\\Desktop\\\\MY CODE\\\\HOME Practice\\\\ANACONDA\\\\AI ML DL RL\\\\001 sshumiye\\\\Python Course\\\\Files\\\\new_file_name'"
     },
     "metadata": {},
     "execution_count": 4
    }
   ],
   "source": [
    "import shutil\n",
    "# Also Rename after copying\n",
    "shutil.copy(r'C:\\Users\\Kaustav\\Desktop\\MY CODE\\HOME Practice\\ANACONDA\\AI ML DL RL\\001 sshumiye\\Python Course\\file_name',r'C:\\Users\\Kaustav\\Desktop\\MY CODE\\HOME Practice\\ANACONDA\\AI ML DL RL\\001 sshumiye\\Python Course\\Files\\new_file_name')"
   ]
  },
  {
   "cell_type": "code",
   "execution_count": 6,
   "metadata": {},
   "outputs": [
    {
     "output_type": "execute_result",
     "data": {
      "text/plain": "['file_name', 'new_file_name']"
     },
     "metadata": {},
     "execution_count": 6
    }
   ],
   "source": [
    "os.listdir(r'C:\\Users\\Kaustav\\Desktop\\MY CODE\\HOME Practice\\ANACONDA\\AI ML DL RL\\001 sshumiye\\Python Course\\Files')"
   ]
  },
  {
   "cell_type": "code",
   "execution_count": 9,
   "metadata": {},
   "outputs": [
    {
     "output_type": "execute_result",
     "data": {
      "text/plain": "'C:\\\\Users\\\\Kaustav\\\\Desktop\\\\MY CODE\\\\HOME Practice\\\\ANACONDA\\\\AI ML DL RL\\\\001 sshumiye\\\\Python Course\\\\Files 2'"
     },
     "metadata": {},
     "execution_count": 9
    }
   ],
   "source": [
    "# File 2 folder must itself not exist from before\n",
    "shutil.copytree(r'C:\\Users\\Kaustav\\Desktop\\MY CODE\\HOME Practice\\ANACONDA\\AI ML DL RL\\001 sshumiye\\Python Course\\Files',r'C:\\Users\\Kaustav\\Desktop\\MY CODE\\HOME Practice\\ANACONDA\\AI ML DL RL\\001 sshumiye\\Python Course\\Files 2')"
   ]
  },
  {
   "cell_type": "code",
   "execution_count": 12,
   "metadata": {},
   "outputs": [],
   "source": [
    "import os\n",
    "\n",
    "# os.unlink('pic.png')\n",
    "# os.rmdir('Files 2')  # Folder must be empty\n",
    "os.mkdir('Test')"
   ]
  },
  {
   "cell_type": "code",
   "execution_count": 13,
   "metadata": {},
   "outputs": [],
   "source": [
    "os.rmdir('Test')"
   ]
  },
  {
   "cell_type": "code",
   "execution_count": 14,
   "metadata": {},
   "outputs": [],
   "source": [
    "shutil.rmtree('Files 2')"
   ]
  },
  {
   "cell_type": "code",
   "execution_count": 15,
   "metadata": {},
   "outputs": [],
   "source": [
    "# pip install send2trash\n",
    "import send2trash\n",
    "os.mkdir('new_test')\n",
    "send2trash.send2trash('new_test')"
   ]
  },
  {
   "cell_type": "code",
   "execution_count": null,
   "metadata": {},
   "outputs": [],
   "source": []
  }
 ],
 "metadata": {
  "language_info": {
   "codemirror_mode": {
    "name": "ipython",
    "version": 3
   },
   "file_extension": ".py",
   "mimetype": "text/x-python",
   "name": "python",
   "nbconvert_exporter": "python",
   "pygments_lexer": "ipython3",
   "version": "3.8.1-final"
  },
  "orig_nbformat": 2,
  "kernelspec": {
   "name": "python38132bit51bf2d4383df4065b0c992fe407a3440",
   "display_name": "Python 3.8.1 32-bit"
  }
 },
 "nbformat": 4,
 "nbformat_minor": 2
}