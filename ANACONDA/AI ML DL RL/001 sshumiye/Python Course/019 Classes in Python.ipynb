{
 "cells": [
  {
   "cell_type": "code",
   "execution_count": 1,
   "metadata": {},
   "outputs": [],
   "source": [
    "# str,lists,sets,dicts,tuples,etc."
   ]
  },
  {
   "cell_type": "code",
   "execution_count": 2,
   "metadata": {},
   "outputs": [],
   "source": [
    "string1 = \"str example\""
   ]
  },
  {
   "cell_type": "code",
   "execution_count": 3,
   "metadata": {},
   "outputs": [
    {
     "output_type": "execute_result",
     "data": {
      "text/plain": "'str example'"
     },
     "metadata": {},
     "execution_count": 3
    }
   ],
   "source": [
    "string1"
   ]
  },
  {
   "cell_type": "code",
   "execution_count": 4,
   "metadata": {},
   "outputs": [
    {
     "output_type": "execute_result",
     "data": {
      "text/plain": "str"
     },
     "metadata": {},
     "execution_count": 4
    }
   ],
   "source": [
    "type(string1)"
   ]
  },
  {
   "cell_type": "code",
   "execution_count": 5,
   "metadata": {},
   "outputs": [
    {
     "output_type": "execute_result",
     "data": {
      "text/plain": "int"
     },
     "metadata": {},
     "execution_count": 5
    }
   ],
   "source": [
    "type(23)"
   ]
  },
  {
   "cell_type": "code",
   "execution_count": 6,
   "metadata": {},
   "outputs": [],
   "source": [
    "lst = [1,2,3,4,'a','b']"
   ]
  },
  {
   "cell_type": "code",
   "execution_count": 7,
   "metadata": {},
   "outputs": [
    {
     "output_type": "execute_result",
     "data": {
      "text/plain": "list"
     },
     "metadata": {},
     "execution_count": 7
    }
   ],
   "source": [
    "type(lst)"
   ]
  },
  {
   "cell_type": "code",
   "execution_count": 8,
   "metadata": {},
   "outputs": [],
   "source": [
    "# # type(pass_any_object)\n",
    "# # Class are jsut templates for object\n",
    "# class Class_Name:\n",
    "#     def __init__(self,parameter2,parameter3,etc...):\n",
    "#         # any code to initialise our object\n",
    "\n",
    "#     def method_name:\n",
    "#         # code for member functions of the class\n",
    "#         # just a function within our class"
   ]
  },
  {
   "cell_type": "markdown",
   "metadata": {},
   "source": [
    "# Creating Classes"
   ]
  },
  {
   "cell_type": "code",
   "execution_count": 9,
   "metadata": {},
   "outputs": [],
   "source": [
    "class Person:\n",
    "\n",
    "    def __init__(self,name,lastname,telephone):\n",
    "        self.name = name\n",
    "        self.lastname = lastname\n",
    "        self.telephone = telephone\n",
    "\n",
    "# x = Person(self(optional),\"John\",\"Smith\",\"345 656 8849\")  # Other attributes are compulsory\n",
    "x = Person(\"John\",\"Smith\",\"345 656 8849\")"
   ]
  },
  {
   "cell_type": "code",
   "execution_count": 10,
   "metadata": {},
   "outputs": [
    {
     "output_type": "execute_result",
     "data": {
      "text/plain": "<__main__.Person at 0x61a01f0>"
     },
     "metadata": {},
     "execution_count": 10
    }
   ],
   "source": [
    "x"
   ]
  },
  {
   "cell_type": "code",
   "execution_count": 11,
   "metadata": {},
   "outputs": [
    {
     "output_type": "execute_result",
     "data": {
      "text/plain": "__main__.Person"
     },
     "metadata": {},
     "execution_count": 11
    }
   ],
   "source": [
    "type(x)"
   ]
  },
  {
   "cell_type": "code",
   "execution_count": 12,
   "metadata": {},
   "outputs": [
    {
     "output_type": "stream",
     "name": "stdout",
     "text": "John\nSmith\n345 656 8849\n"
    }
   ],
   "source": [
    "print(x.name)\n",
    "print(x.lastname)\n",
    "print(x.telephone)"
   ]
  },
  {
   "cell_type": "code",
   "execution_count": 13,
   "metadata": {},
   "outputs": [],
   "source": [
    "class Person:\n",
    "\n",
    "    def __init__(self,name,lastname,telephone = \"445 342 1245\"):\n",
    "        self.name = name\n",
    "        self.lastname = lastname\n",
    "        self.telephone = telephone\n",
    "y = Person(\"Jane\",\"Smith\",\"345 569 9803\")"
   ]
  },
  {
   "cell_type": "code",
   "execution_count": 14,
   "metadata": {},
   "outputs": [
    {
     "output_type": "execute_result",
     "data": {
      "text/plain": "<__main__.Person at 0x61a0328>"
     },
     "metadata": {},
     "execution_count": 14
    }
   ],
   "source": [
    "y"
   ]
  },
  {
   "cell_type": "code",
   "execution_count": 15,
   "metadata": {},
   "outputs": [
    {
     "output_type": "stream",
     "name": "stdout",
     "text": "Jane\nSmith\n345 569 9803\n"
    }
   ],
   "source": [
    "print(y.name)\n",
    "print(y.lastname)\n",
    "print(y.telephone)"
   ]
  },
  {
   "cell_type": "code",
   "execution_count": 16,
   "metadata": {},
   "outputs": [
    {
     "output_type": "stream",
     "name": "stdout",
     "text": "cory\nPaul\n445 342 1245\n"
    }
   ],
   "source": [
    "a = Person(\"cory\",\"Paul\")\n",
    "print(a.name)\n",
    "print(a.lastname)\n",
    "print(a.telephone)"
   ]
  },
  {
   "cell_type": "code",
   "execution_count": 17,
   "metadata": {},
   "outputs": [
    {
     "output_type": "stream",
     "name": "stdout",
     "text": "Tony\nPaul\n445 342 1245\n"
    }
   ],
   "source": [
    "a.name = \"Tony\"\n",
    "\n",
    "print(a.name)\n",
    "print(a.lastname)\n",
    "print(a.telephone)"
   ]
  },
  {
   "cell_type": "code",
   "execution_count": 18,
   "metadata": {},
   "outputs": [],
   "source": [
    "class Person:\n",
    "    # Default Arguments are always towrds the end\n",
    "    # def __init__(self,name = \"Harry\",lastname,telephone = \"445 342 1245\"):\n",
    "    def __init__(self,lastname,name = \"Harry\",telephone = \"445 342 1245\"):\n",
    "        self.name = name\n",
    "        self.lastname = lastname\n",
    "        self.telephone = telephone"
   ]
  },
  {
   "cell_type": "code",
   "execution_count": 19,
   "metadata": {},
   "outputs": [],
   "source": [
    "a = Person(\"Cory\")\n",
    "b = Person(\"Paul\",\"Tim\",\"435 533 ,4456\")"
   ]
  },
  {
   "cell_type": "code",
   "execution_count": 20,
   "metadata": {},
   "outputs": [
    {
     "output_type": "stream",
     "name": "stdout",
     "text": "Harry\nCory\n445 342 1245\nTim\nPaul\n435 533 ,4456\n"
    }
   ],
   "source": [
    "print(a.name)\n",
    "print(a.lastname)\n",
    "print(a.telephone)\n",
    "\n",
    "\n",
    "print(b.name)\n",
    "print(b.lastname)\n",
    "print(b.telephone)"
   ]
  },
  {
   "cell_type": "code",
   "execution_count": 21,
   "metadata": {},
   "outputs": [],
   "source": [
    "class Person:\n",
    "    \n",
    "    address = \"New York\" # Class Variables\n",
    "\n",
    "    def __init__(self,lastname,name = \"Harry\",telephone = \"445 342 1245\"):\n",
    "        self.name = name\n",
    "        self.lastname = lastname\n",
    "        self.telephone = telephone\n"
   ]
  },
  {
   "cell_type": "code",
   "execution_count": 22,
   "metadata": {},
   "outputs": [
    {
     "output_type": "stream",
     "name": "stdout",
     "text": "Harry\nNewman\n445 342 1245\nNew York\n"
    }
   ],
   "source": [
    "c = Person(\"Newman\")\n",
    "print(c.name)\n",
    "print(c.lastname)\n",
    "print(c.telephone)\n",
    "print(c.address)"
   ]
  },
  {
   "cell_type": "markdown",
   "metadata": {},
   "source": [
    "# Methods"
   ]
  },
  {
   "cell_type": "code",
   "execution_count": 23,
   "metadata": {},
   "outputs": [],
   "source": [
    "class Person:\n",
    "    \n",
    "    address = \"New York\" # Class Variables\n",
    "\n",
    "    def __init__(self,lastname,name = \"Harry\",telephone = \"445 342 1245\"):\n",
    "        self.name = name\n",
    "        self.lastname = lastname\n",
    "        self.telephone = telephone\n",
    "\n",
    "    def greet_person(self):\n",
    "        print(\"Hello and Welcome\",self.name,self.lastname)"
   ]
  },
  {
   "cell_type": "code",
   "execution_count": 24,
   "metadata": {},
   "outputs": [
    {
     "output_type": "stream",
     "name": "stdout",
     "text": "<class '__main__.Person'>\n"
    }
   ],
   "source": [
    "a = Person(\"Smith\")\n",
    "print(type(a))"
   ]
  },
  {
   "cell_type": "code",
   "execution_count": 25,
   "metadata": {},
   "outputs": [
    {
     "output_type": "stream",
     "name": "stdout",
     "text": "Hello and Welcome Harry Smith\n"
    }
   ],
   "source": [
    "a.greet_person()"
   ]
  },
  {
   "cell_type": "code",
   "execution_count": 26,
   "metadata": {},
   "outputs": [
    {
     "output_type": "execute_result",
     "data": {
      "text/plain": "'Smith'"
     },
     "metadata": {},
     "execution_count": 26
    }
   ],
   "source": [
    "a.lastname"
   ]
  },
  {
   "cell_type": "code",
   "execution_count": 27,
   "metadata": {},
   "outputs": [],
   "source": [
    "class Person:\n",
    "    \n",
    "    address = \"New York\" # Class Variables\n",
    "\n",
    "    def __init__(self,lastname,name = \"Harry\",telephone = \"445 342 1245\"):\n",
    "        self.name = name\n",
    "        self.lastname = lastname\n",
    "        self.telephone = telephone\n",
    "\n",
    "    def greet_person(self):\n",
    "        print(\"Hello and Welcome\",self.name,self.lastname)\n",
    "    # Spacing is done automatically by Python 3\n",
    "    def ask_person(self):\n",
    "        print(\"are you from\",Person.address,self.name,\" ?\")"
   ]
  },
  {
   "cell_type": "code",
   "execution_count": 28,
   "metadata": {},
   "outputs": [
    {
     "output_type": "stream",
     "name": "stdout",
     "text": "Hello and Welcome Harry Smith\n"
    }
   ],
   "source": [
    "xx = Person(\"Smith\")\n",
    "xx.greet_person()"
   ]
  },
  {
   "cell_type": "markdown",
   "metadata": {},
   "source": [
    "# Class Atrributes"
   ]
  },
  {
   "cell_type": "code",
   "execution_count": 29,
   "metadata": {},
   "outputs": [],
   "source": [
    "class Person:\n",
    "\n",
    "    MAJORS = (\"Engineering\",\"Law\",\"IT\",\"Psychology\")\n",
    "\n",
    "    def __init__(self,major,name,lastname):\n",
    "        \n",
    "        if major not in self.MAJORS:\n",
    "            raise ValueError (\" {} is not a valid major\".format(major))\n",
    "\n",
    "        self.major = major\n",
    "        self.name = name\n",
    "        self.lastname = lastname\n",
    "\n",
    "    def person_major(self):\n",
    "        print(\"The major of \",self.name,self.lastname,\"is\",self.major)"
   ]
  },
  {
   "cell_type": "code",
   "execution_count": 30,
   "metadata": {},
   "outputs": [
    {
     "output_type": "stream",
     "name": "stdout",
     "text": "Jimmy\nNewman\nLaw\nThe major of  Jimmy Newman is Law\n"
    }
   ],
   "source": [
    "jimmy = Person(\"Law\",\"Jimmy\",\"Newman\")\n",
    "print(jimmy.name)\n",
    "print(jimmy.lastname)\n",
    "print(jimmy.major)\n",
    "jimmy.person_major()"
   ]
  },
  {
   "cell_type": "code",
   "execution_count": 31,
   "metadata": {},
   "outputs": [],
   "source": [
    "# tony = Person(\"MAth\",\"Tony\",\"Stark\")  # ERROR - Math is not a valid major"
   ]
  },
  {
   "cell_type": "code",
   "execution_count": 32,
   "metadata": {},
   "outputs": [],
   "source": [
    "class Person:\n",
    "\n",
    "    sports = []\n",
    "\n",
    "    def __init__(self):\n",
    "        self.sports = []\n",
    "\n",
    "    def add_sport(self,sport):\n",
    "        self.sports.append(sport)\n",
    "        print(\"The following sport has been appended to our sports list:\",sport)\n"
   ]
  },
  {
   "cell_type": "code",
   "execution_count": 33,
   "metadata": {},
   "outputs": [],
   "source": [
    "x = Person()"
   ]
  },
  {
   "cell_type": "code",
   "execution_count": 34,
   "metadata": {},
   "outputs": [
    {
     "output_type": "execute_result",
     "data": {
      "text/plain": "[]"
     },
     "metadata": {},
     "execution_count": 34
    }
   ],
   "source": [
    "x.sports"
   ]
  },
  {
   "cell_type": "code",
   "execution_count": 35,
   "metadata": {},
   "outputs": [
    {
     "output_type": "stream",
     "name": "stdout",
     "text": "The following sport has been appended to our sports list: Soccer\n"
    }
   ],
   "source": [
    "x.add_sport(\"Soccer\")"
   ]
  },
  {
   "cell_type": "code",
   "execution_count": 36,
   "metadata": {},
   "outputs": [
    {
     "output_type": "execute_result",
     "data": {
      "text/plain": "['Soccer']"
     },
     "metadata": {},
     "execution_count": 36
    }
   ],
   "source": [
    "x.sports"
   ]
  },
  {
   "cell_type": "code",
   "execution_count": 37,
   "metadata": {},
   "outputs": [
    {
     "output_type": "stream",
     "name": "stdout",
     "text": "The following sport has been appended to our sports list: Basketball\n"
    }
   ],
   "source": [
    "x.add_sport(\"Basketball\")"
   ]
  },
  {
   "cell_type": "code",
   "execution_count": 38,
   "metadata": {},
   "outputs": [],
   "source": [
    "class Person:\n",
    "\n",
    "    sports = []\n",
    "\n",
    "    def __init__(self):\n",
    "        self.sports = []\n",
    "\n",
    "    def add_sport(self,sport):\n",
    "        self.sports.append(sport)\n",
    "        print(\"The following sport has been appended to our sports list:\",sport)\n",
    "\n",
    "    # Cannot concatenate string and list\n",
    "    def sports_list(self):\n",
    "        print(\"Here is a list of all the sports in our list\",str(self.sports))"
   ]
  },
  {
   "cell_type": "code",
   "execution_count": 39,
   "metadata": {},
   "outputs": [],
   "source": [
    "x = Person()"
   ]
  },
  {
   "cell_type": "code",
   "execution_count": 40,
   "metadata": {},
   "outputs": [
    {
     "output_type": "stream",
     "name": "stdout",
     "text": "The following sport has been appended to our sports list: Soccer\nThe following sport has been appended to our sports list: BasketBall\nThe following sport has been appended to our sports list: BaseBall\n"
    }
   ],
   "source": [
    "x.add_sport(\"Soccer\")\n",
    "x.add_sport(\"BasketBall\")\n",
    "x.add_sport(\"BaseBall\")"
   ]
  },
  {
   "cell_type": "code",
   "execution_count": 41,
   "metadata": {},
   "outputs": [
    {
     "output_type": "stream",
     "name": "stdout",
     "text": "Here is a list of all the sports in our list ['Soccer', 'BasketBall', 'BaseBall']\n"
    }
   ],
   "source": [
    "x.sports_list()"
   ]
  },
  {
   "cell_type": "markdown",
   "metadata": {},
   "source": [
    "# Doc - Strings \n",
    "\n",
    "### Gives us information about the class\n",
    "### Triple single/double quotes"
   ]
  },
  {
   "cell_type": "code",
   "execution_count": 42,
   "metadata": {},
   "outputs": [],
   "source": [
    "class Person:\n",
    "    \"\"\" Class to represent a person\"\"\"\n",
    "\n",
    "    def __init__(self,name,lastname,telephone= \"445 342 1245\"):\n",
    "        self.name = name\n",
    "        self.lastname = lastname\n",
    "        self.telephone = telephone"
   ]
  },
  {
   "cell_type": "code",
   "execution_count": 43,
   "metadata": {},
   "outputs": [
    {
     "output_type": "stream",
     "name": "stdout",
     "text": "Help on class Person in module __main__:\n\nclass Person(builtins.object)\n |  Person(name, lastname, telephone='445 342 1245')\n |  \n |  Class to represent a person\n |  \n |  Methods defined here:\n |  \n |  __init__(self, name, lastname, telephone='445 342 1245')\n |      Initialize self.  See help(type(self)) for accurate signature.\n |  \n |  ----------------------------------------------------------------------\n |  Data descriptors defined here:\n |  \n |  __dict__\n |      dictionary for instance variables (if defined)\n |  \n |  __weakref__\n |      list of weak references to the object (if defined)\n\n"
    }
   ],
   "source": [
    "help(Person)"
   ]
  },
  {
   "cell_type": "code",
   "execution_count": 44,
   "metadata": {},
   "outputs": [],
   "source": [
    "class Person:\n",
    "    \"\"\" Class to represent a person\n",
    "    \n",
    "    Attributes:\n",
    "    name - first name of the person\n",
    "    lastname - last name of the person\n",
    "    telephoene - telephone of the person\n",
    "\n",
    "    \"\"\"\n",
    "\n",
    "    def __init__(self,name,lastname,telephone= \"445 342 1245\"):\n",
    "        \"\"\" The Person init method \n",
    "        \n",
    "        Params:\n",
    "            name - initialises our name attr\n",
    "            lastname - initialises our last name attr\n",
    "            telephone - initialises our telephone\n",
    "                        default value is 445 342 1245\"\n",
    "        \"\"\"\n",
    "        self.name = name\n",
    "        self.lastname = lastname\n",
    "        self.telephone = telephone"
   ]
  },
  {
   "cell_type": "code",
   "execution_count": 45,
   "metadata": {},
   "outputs": [
    {
     "output_type": "stream",
     "name": "stdout",
     "text": "Help on class Person in module __main__:\n\nclass Person(builtins.object)\n |  Person(name, lastname, telephone='445 342 1245')\n |  \n |  Class to represent a person\n |  \n |  Attributes:\n |  name - first name of the person\n |  lastname - last name of the person\n |  telephoene - telephone of the person\n |  \n |  Methods defined here:\n |  \n |  __init__(self, name, lastname, telephone='445 342 1245')\n |      The Person init method \n |      \n |      Params:\n |          name - initialises our name attr\n |          lastname - initialises our last name attr\n |          telephone - initialises our telephone\n |                      default value is 445 342 1245\"\n |  \n |  ----------------------------------------------------------------------\n |  Data descriptors defined here:\n |  \n |  __dict__\n |      dictionary for instance variables (if defined)\n |  \n |  __weakref__\n |      list of weak references to the object (if defined)\n\n"
    }
   ],
   "source": [
    "help(Person)"
   ]
  },
  {
   "cell_type": "code",
   "execution_count": 46,
   "metadata": {},
   "outputs": [],
   "source": [
    "class Person:\n",
    "    \n",
    "    \"\"\"Class to represent a Person\"\"\"\n",
    "\n",
    "\n",
    "    address = \"New York\" # Class Variables\n",
    "\n",
    "    def __init__(self,lastname,name = \"Harry\",telephone = \"445 342 1245\"):\n",
    "        \"\"\" Initialises a person\"\"\"\n",
    "        self.name = name\n",
    "        self.lastname = lastname\n",
    "        self.telephone = telephone\n",
    "\n",
    "    def greet_person(self):\n",
    "        \"\"\" Method to greet a person\"\"\"\n",
    "        print(\"Hello and Welcome\",self.name,self.lastname)\n",
    "    # Spacing is done automatically by Python 3\n",
    "    def ask_person(self):\n",
    "        \"\"\" Method to ask a person about his whereabouts\"\"\"\n",
    "        print(\"are you from\",Person.address,self.name,\" ?\")"
   ]
  },
  {
   "cell_type": "code",
   "execution_count": 47,
   "metadata": {},
   "outputs": [
    {
     "output_type": "stream",
     "name": "stdout",
     "text": "Help on class Person in module __main__:\n\nclass Person(builtins.object)\n |  Person(lastname, name='Harry', telephone='445 342 1245')\n |  \n |  Class to represent a Person\n |  \n |  Methods defined here:\n |  \n |  __init__(self, lastname, name='Harry', telephone='445 342 1245')\n |      Initialises a person\n |  \n |  ask_person(self)\n |      Method to ask a person about his whereabouts\n |  \n |  greet_person(self)\n |      Method to greet a person\n |  \n |  ----------------------------------------------------------------------\n |  Data descriptors defined here:\n |  \n |  __dict__\n |      dictionary for instance variables (if defined)\n |  \n |  __weakref__\n |      list of weak references to the object (if defined)\n |  \n |  ----------------------------------------------------------------------\n |  Data and other attributes defined here:\n |  \n |  address = 'New York'\n\n"
    }
   ],
   "source": [
    "help(Person)"
   ]
  },
  {
   "cell_type": "markdown",
   "metadata": {},
   "source": [
    "# Inheritance and Method Overriding"
   ]
  },
  {
   "cell_type": "code",
   "execution_count": 48,
   "metadata": {},
   "outputs": [],
   "source": [
    "# class Parent:\n",
    "#     method1 : prints(\"hi\")\n",
    "#     method2\n",
    "#     method3\n",
    "\n",
    "# class Child(Parent): #Inheritance\n",
    "#     method4\n",
    "#     method5\n",
    "#     method1 : prints(\"hi there\")  # Method overriding"
   ]
  },
  {
   "cell_type": "code",
   "execution_count": 49,
   "metadata": {},
   "outputs": [],
   "source": [
    "class House:\n",
    "    \"\"\"This is our House PArent Class\"\"\"\n",
    "\n",
    "    def __init__(self):\n",
    "        print(\"this is a house\")\n",
    "\n",
    "    def color(self):\n",
    "        print(\"I am red!!\")\n",
    "\n",
    "    def size(self):\n",
    "        print(\"I am 3500 sq ft\")\n",
    "\n",
    "    def location(self):\n",
    "        print(\"I am in New York\")\n",
    "\n",
    "    def Kind(self):\n",
    "        print(\"I am a town house\")\n",
    "#=======================================================\n",
    "class Kitchen:\n",
    "    \"\"\"Kitchen class and inherits from House class\"\"\"\n",
    "\n",
    "    def __init__(self):\n",
    "        House.__init__(self)\n",
    "        print(\" I am a Kitchen\")\n",
    "\n",
    "    def color(self):\n",
    "        print(\" I am cream in color\")\n",
    "\n",
    "    def oven(self):\n",
    "        print(\" I make food\")\n",
    "\n",
    "    def size(self):\n",
    "        print(\" I am no longer 3500 sq ft\")\n",
    "        print(\" I am 800 sq ft\")\n"
   ]
  },
  {
   "cell_type": "code",
   "execution_count": 50,
   "metadata": {},
   "outputs": [
    {
     "output_type": "stream",
     "name": "stdout",
     "text": "this is a house\n I am a Kitchen\n"
    }
   ],
   "source": [
    "x = Kitchen()"
   ]
  },
  {
   "cell_type": "code",
   "execution_count": 51,
   "metadata": {},
   "outputs": [
    {
     "output_type": "stream",
     "name": "stdout",
     "text": "I make food\n"
    }
   ],
   "source": [
    "x.oven()"
   ]
  },
  {
   "cell_type": "code",
   "execution_count": 52,
   "metadata": {},
   "outputs": [
    {
     "output_type": "stream",
     "name": "stdout",
     "text": "I am cream in color\n"
    }
   ],
   "source": [
    "x.color()"
   ]
  },
  {
   "cell_type": "code",
   "execution_count": null,
   "metadata": {},
   "outputs": [],
   "source": []
  }
 ],
 "metadata": {
  "language_info": {
   "codemirror_mode": {
    "name": "ipython",
    "version": 3
   },
   "file_extension": ".py",
   "mimetype": "text/x-python",
   "name": "python",
   "nbconvert_exporter": "python",
   "pygments_lexer": "ipython3",
   "version": "3.8.1-final"
  },
  "orig_nbformat": 2,
  "kernelspec": {
   "name": "python38132bit51bf2d4383df4065b0c992fe407a3440",
   "display_name": "Python 3.8.1 32-bit"
  }
 },
 "nbformat": 4,
 "nbformat_minor": 2
}