{
 "cells": [
  {
   "cell_type": "code",
   "execution_count": 1,
   "metadata": {},
   "outputs": [],
   "source": [
    "import logging\n",
    "\n",
    "logging.basicConfig(level= logging.DEBUG , format= '%(asctime)s - %(levelname)s - %(message)s' )"
   ]
  },
  {
   "cell_type": "code",
   "execution_count": 4,
   "metadata": {},
   "outputs": [
    {
     "output_type": "stream",
     "name": "stderr",
     "text": "2020-04-28 15:02:58,665 - DEBUG - Start of the program\n2020-04-28 15:02:58,667 - DEBUG -  i is 0,total is 0\n2020-04-28 15:02:58,668 - DEBUG -  i is 1,total is 0\n2020-04-28 15:02:58,670 - DEBUG -  i is 2,total is 0\n2020-04-28 15:02:58,671 - DEBUG -  i is 3,total is 0\n2020-04-28 15:02:58,671 - DEBUG -  i is 4,total is 0\n2020-04-28 15:02:58,673 - DEBUG -  i is 5,total is 0\n2020-04-28 15:02:58,673 - DEBUG - Returned value is 0\n2020-04-28 15:02:58,674 - DEBUG - End of the program\n0\n"
    }
   ],
   "source": [
    "import logging\n",
    "from importlib import reload\n",
    "# A Sample Program to demonstrate the concept of debugging\n",
    "reload(logging)\n",
    "logging.basicConfig(level= logging.DEBUG , format= '%(asctime)s - %(levelname)s - %(message)s' )\n",
    "\n",
    "logging.debug(\"Start of the program\")\n",
    "\n",
    "def factorial(n):\n",
    "    total = 1\n",
    "\n",
    "    for i in range(n + 1):\n",
    "        total *= i\n",
    "\n",
    "        logging.debug(\" i is %s,total is %s\"%(i,total))\n",
    "    \n",
    "    logging.debug(\"Returned value is %s\"%(total))\n",
    "    return total\n",
    "\n",
    "print(factorial(5))\n",
    "logging.debug(\"End of the program\")"
   ]
  },
  {
   "cell_type": "code",
   "execution_count": 5,
   "metadata": {},
   "outputs": [
    {
     "output_type": "stream",
     "name": "stderr",
     "text": "2020-04-28 15:03:54,804 - DEBUG - Start of the program\n2020-04-28 15:03:54,805 - DEBUG -  i is 1,total is 1\n2020-04-28 15:03:54,805 - DEBUG -  i is 2,total is 2\n2020-04-28 15:03:54,806 - DEBUG -  i is 3,total is 6\n2020-04-28 15:03:54,806 - DEBUG -  i is 4,total is 24\n2020-04-28 15:03:54,807 - DEBUG -  i is 5,total is 120\n2020-04-28 15:03:54,808 - DEBUG - Returned value is 120\n2020-04-28 15:03:54,809 - DEBUG - End of the program\n120\n"
    }
   ],
   "source": [
    "# Now the error is corrected\n",
    "reload(logging)\n",
    "logging.basicConfig(level= logging.DEBUG , format= '%(asctime)s - %(levelname)s - %(message)s' )\n",
    "\n",
    "logging.debug(\"Start of the program\")\n",
    "\n",
    "def factorial(n):\n",
    "    total = 1\n",
    "\n",
    "    for i in range(1,n + 1):\n",
    "        total *= i\n",
    "\n",
    "        logging.debug(\" i is %s,total is %s\"%(i,total))\n",
    "    \n",
    "    logging.debug(\"Returned value is %s\"%(total))\n",
    "    return total\n",
    "\n",
    "print(factorial(5))\n",
    "logging.debug(\"End of the program\")"
   ]
  },
  {
   "cell_type": "code",
   "execution_count": 7,
   "metadata": {},
   "outputs": [
    {
     "output_type": "stream",
     "name": "stdout",
     "text": "120\n"
    }
   ],
   "source": [
    "# Much better than manually debugging since the looging.debug can be disabled with 1 command\n",
    "# Now the error is corrected\n",
    "\n",
    "# Have to reload the logging everytime\n",
    "reload(logging)\n",
    "\n",
    "# Can also store the debug messages in login text file\n",
    "logging.basicConfig(filename='mylogfile.txt',level= logging.DEBUG , format= '%(asctime)s - %(levelname)s - %(message)s' )\n",
    "\n",
    "# Disable all logging modules below this severity level\n",
    "logging.disable(logging.CRITICAL)\n",
    "\n",
    "# Starting the program eventually\n",
    "logging.debug(\"Start of the program\")\n",
    "\n",
    "def factorial(n):\n",
    "    total = 1\n",
    "\n",
    "    for i in range(1,n + 1):\n",
    "        total *= i\n",
    "\n",
    "        logging.debug(\" i is %s,total is %s\"%(i,total))\n",
    "    \n",
    "    logging.debug(\"Returned value is %s\"%(total))\n",
    "    return total\n",
    "\n",
    "print(factorial(5))\n",
    "logging.debug(\"End of the program\")"
   ]
  },
  {
   "cell_type": "code",
   "execution_count": null,
   "metadata": {},
   "outputs": [],
   "source": []
  }
 ],
 "metadata": {
  "language_info": {
   "codemirror_mode": {
    "name": "ipython",
    "version": 3
   },
   "file_extension": ".py",
   "mimetype": "text/x-python",
   "name": "python",
   "nbconvert_exporter": "python",
   "pygments_lexer": "ipython3",
   "version": "3.8.1-final"
  },
  "orig_nbformat": 2,
  "kernelspec": {
   "name": "python38132bit51bf2d4383df4065b0c992fe407a3440",
   "display_name": "Python 3.8.1 32-bit"
  }
 },
 "nbformat": 4,
 "nbformat_minor": 2
}