{
 "cells": [
  {
   "cell_type": "code",
   "execution_count": 1,
   "metadata": {},
   "outputs": [],
   "source": [
    "# a[xy] = ax or ay\n",
    "# a[^xy] != ax or ay \n",
    "# ay[A-K] => include all upper characters from A to K \n",
    "# ay[^A-K] => exclude all upper characters from A to K"
   ]
  },
  {
   "cell_type": "code",
   "execution_count": 2,
   "metadata": {},
   "outputs": [],
   "source": [
    "import re"
   ]
  },
  {
   "cell_type": "code",
   "execution_count": 3,
   "metadata": {},
   "outputs": [],
   "source": [
    "text = \"xyyxxyyyzzzx\""
   ]
  },
  {
   "cell_type": "code",
   "execution_count": 4,
   "metadata": {},
   "outputs": [
    {
     "output_type": "execute_result",
     "data": {
      "text/plain": "['x', 'y', 'y', 'x', 'x', 'y', 'y', 'y', 'x']"
     },
     "metadata": {},
     "execution_count": 4
    }
   ],
   "source": [
    "re.findall(r'[xy]',text)"
   ]
  },
  {
   "cell_type": "code",
   "execution_count": 5,
   "metadata": {},
   "outputs": [
    {
     "output_type": "execute_result",
     "data": {
      "text/plain": "['xy', 'xx']"
     },
     "metadata": {},
     "execution_count": 5
    }
   ],
   "source": [
    "re.findall(r'x[xy]',text)"
   ]
  },
  {
   "cell_type": "code",
   "execution_count": 6,
   "metadata": {},
   "outputs": [
    {
     "output_type": "execute_result",
     "data": {
      "text/plain": "['xyyxxyyy']"
     },
     "metadata": {},
     "execution_count": 6
    }
   ],
   "source": [
    "re.findall(r'x[xy]+',text) # Greedy\n"
   ]
  },
  {
   "cell_type": "code",
   "execution_count": 7,
   "metadata": {},
   "outputs": [
    {
     "output_type": "execute_result",
     "data": {
      "text/plain": "['xy', 'xx']"
     },
     "metadata": {},
     "execution_count": 7
    }
   ],
   "source": [
    "re.findall(r'x[xy]+?',text) # Non-Greedy"
   ]
  },
  {
   "cell_type": "code",
   "execution_count": 8,
   "metadata": {},
   "outputs": [],
   "source": [
    "text = \"xxy xyxyx xaxb xxyy aaxz\""
   ]
  },
  {
   "cell_type": "code",
   "execution_count": 9,
   "metadata": {},
   "outputs": [
    {
     "output_type": "execute_result",
     "data": {
      "text/plain": "['x ', 'xa', 'xb ', 'xz']"
     },
     "metadata": {},
     "execution_count": 9
    }
   ],
   "source": [
    "# x not followed by one or more x or y\n",
    "re.findall(r'x[^xy]+',text)"
   ]
  },
  {
   "cell_type": "code",
   "execution_count": 10,
   "metadata": {},
   "outputs": [
    {
     "output_type": "execute_result",
     "data": {
      "text/plain": "['x ', 'xa', 'xb ', 'xz']"
     },
     "metadata": {},
     "execution_count": 10
    }
   ],
   "source": [
    "import re\n",
    "\n",
    "text = \"xxy xyxyx xaxb xxyy aaxz\"\n",
    "re.findall(r'x[^xy]+',text)\n"
   ]
  },
  {
   "cell_type": "code",
   "execution_count": 11,
   "metadata": {},
   "outputs": [],
   "source": [
    "text = \"This is a sample text. -- with some more Punctuation marks added here\""
   ]
  },
  {
   "cell_type": "code",
   "execution_count": 12,
   "metadata": {},
   "outputs": [
    {
     "output_type": "execute_result",
     "data": {
      "text/plain": "['T', 'P']"
     },
     "metadata": {},
     "execution_count": 12
    }
   ],
   "source": [
    "re.findall(r'[A-Z]',text)"
   ]
  },
  {
   "cell_type": "code",
   "execution_count": 13,
   "metadata": {},
   "outputs": [
    {
     "output_type": "execute_result",
     "data": {
      "text/plain": "['Th', 'Pu']"
     },
     "metadata": {},
     "execution_count": 13
    }
   ],
   "source": [
    "re.findall(r'[A-Z][a-z]',text)"
   ]
  },
  {
   "cell_type": "code",
   "execution_count": 14,
   "metadata": {},
   "outputs": [
    {
     "output_type": "execute_result",
     "data": {
      "text/plain": "['This', 'Punctuation']"
     },
     "metadata": {},
     "execution_count": 14
    }
   ],
   "source": [
    "re.findall(r'[A-Z][a-z]+',text) # Greedy"
   ]
  },
  {
   "cell_type": "code",
   "execution_count": 15,
   "metadata": {},
   "outputs": [
    {
     "output_type": "execute_result",
     "data": {
      "text/plain": "'This is a sample text. -- with some more Punctuation marks added here'"
     },
     "metadata": {},
     "execution_count": 15
    }
   ],
   "source": [
    "text"
   ]
  },
  {
   "cell_type": "code",
   "execution_count": 16,
   "metadata": {},
   "outputs": [
    {
     "output_type": "execute_result",
     "data": {
      "text/plain": "['This',\n 'is',\n 'a',\n 'sample',\n 'text',\n 'with',\n 'some',\n 'more',\n 'Punctuation',\n 'marks',\n 'added',\n 'here']"
     },
     "metadata": {},
     "execution_count": 16
    }
   ],
   "source": [
    "# Look for a pattern by exculding one or more of these punctuation marks or spaces\n",
    "# re.findall(r'[^.-! ]+',text)   # - can't be used # ERROR\n",
    "re.findall(r'[^.\\-! ]+',text)   "
   ]
  },
  {
   "cell_type": "code",
   "execution_count": null,
   "metadata": {},
   "outputs": [],
   "source": []
  }
 ],
 "metadata": {
  "language_info": {
   "codemirror_mode": {
    "name": "ipython",
    "version": 3
   },
   "file_extension": ".py",
   "mimetype": "text/x-python",
   "name": "python",
   "nbconvert_exporter": "python",
   "pygments_lexer": "ipython3",
   "version": "3.8.1-final"
  },
  "orig_nbformat": 2,
  "kernelspec": {
   "name": "python38132bit51bf2d4383df4065b0c992fe407a3440",
   "display_name": "Python 3.8.1 32-bit"
  }
 },
 "nbformat": 4,
 "nbformat_minor": 2
}