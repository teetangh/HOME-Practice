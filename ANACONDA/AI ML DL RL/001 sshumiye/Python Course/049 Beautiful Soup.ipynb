{
 "cells": [
  {
   "cell_type": "code",
   "execution_count": 1,
   "metadata": {},
   "outputs": [],
   "source": [
    "# pip install beautifulsoup4"
   ]
  },
  {
   "cell_type": "code",
   "execution_count": 2,
   "metadata": {},
   "outputs": [],
   "source": [
    "import bs4,requests\n",
    "\n",
    "res = requests.get('https://www.ebay.com/sch/i.html?_from=R40&_trksid=m570.l1313&_nkw=basketball&_sacat=0')\n",
    "\n",
    "res.raise_for_status()"
   ]
  },
  {
   "cell_type": "code",
   "execution_count": 3,
   "metadata": {},
   "outputs": [],
   "source": [
    "soup = bs4.BeautifulSoup(res.text)\n",
    "# soup = bs4.BeautifulSoup(res.text,'html.parser')  # Else shows warnings on some pages"
   ]
  },
  {
   "cell_type": "code",
   "execution_count": 4,
   "metadata": {},
   "outputs": [
    {
     "output_type": "execute_result",
     "data": {
      "text/plain": "'INR 2,057.95'"
     },
     "metadata": {},
     "execution_count": 4
    }
   ],
   "source": [
    "# select returns a list of all the elements\n",
    "elems = soup.select('#srp-river-results > ul > li:nth-child(7) > div > div.s-item__info.clearfix > div.s-item__details.clearfix > div:nth-child(1) > span')\n",
    "elems[0].text"
   ]
  },
  {
   "cell_type": "code",
   "execution_count": 5,
   "metadata": {},
   "outputs": [],
   "source": [
    "# elems[0].text.strip()  # to strip tabs and backslashes"
   ]
  },
  {
   "cell_type": "code",
   "execution_count": 6,
   "metadata": {},
   "outputs": [],
   "source": [
    "import bs4,requests\n",
    "\n",
    "def getEbayPrice(productUrl):\n",
    "    res = requests.get(productUrl)\n",
    "    res.raise_for_status()\n",
    "    # To prevent warnings,however warnings are not errors\n",
    "    # soup = bs4.BeautifulSoup(res.text,'html.paser')\n",
    "    soup = bs4.BeautifulSoup(res.text)\n",
    "    elems = soup.select('#srp-river-results > ul > li:nth-child(7) > div > div.s-item__info.clearfix > div.s-item__details.clearfix > div:nth-child(1) > span')\n",
    "\n",
    "    return elems[0].text.strip()"
   ]
  },
  {
   "cell_type": "code",
   "execution_count": 7,
   "metadata": {},
   "outputs": [
    {
     "output_type": "stream",
     "name": "stdout",
     "text": "The price of the item is INR 2,057.95\n"
    }
   ],
   "source": [
    "price = getEbayPrice('https://www.ebay.com/sch/i.html?_from=R40&_trksid=m570.l1313&_nkw=basketball&_sacat=0')\n",
    "print(\"The price of the item is\",price)"
   ]
  },
  {
   "cell_type": "code",
   "execution_count": null,
   "metadata": {},
   "outputs": [],
   "source": []
  },
  {
   "cell_type": "code",
   "execution_count": null,
   "metadata": {},
   "outputs": [],
   "source": []
  }
 ],
 "metadata": {
  "language_info": {
   "codemirror_mode": {
    "name": "ipython",
    "version": 3
   },
   "file_extension": ".py",
   "mimetype": "text/x-python",
   "name": "python",
   "nbconvert_exporter": "python",
   "pygments_lexer": "ipython3",
   "version": "3.8.1-final"
  },
  "orig_nbformat": 2,
  "kernelspec": {
   "name": "python38132bit51bf2d4383df4065b0c992fe407a3440",
   "display_name": "Python 3.8.1 32-bit"
  }
 },
 "nbformat": 4,
 "nbformat_minor": 2
}