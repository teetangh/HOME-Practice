{
 "cells": [
  {
   "cell_type": "code",
   "execution_count": 3,
   "metadata": {},
   "outputs": [],
   "source": [
    "# gp of organised codes with a name and can be called using (). Reusable !"
   ]
  },
  {
   "cell_type": "code",
   "execution_count": 5,
   "metadata": {},
   "outputs": [],
   "source": [
    "# def fn_name(countable no of arguments OR parameters):\n",
    "#     \"body of our function goes here\""
   ]
  },
  {
   "cell_type": "code",
   "execution_count": 7,
   "metadata": {},
   "outputs": [
    {
     "output_type": "stream",
     "name": "stdout",
     "text": "Body of our function\n"
    }
   ],
   "source": [
    "def fn_name():\n",
    "    print(\"Body of our function\")\n",
    "fn_name()"
   ]
  },
  {
   "cell_type": "code",
   "execution_count": null,
   "metadata": {},
   "outputs": [],
   "source": [
    "def fn_name(x):\n",
    "    print(\"Body goes here\",x)\n",
    "\n",
    "fn_name(4)"
   ]
  },
  {
   "cell_type": "code",
   "execution_count": 10,
   "metadata": {},
   "outputs": [
    {
     "output_type": "stream",
     "name": "stdout",
     "text": "Body goes here 3\nBody goes here 6\nBody goes here 4\n"
    }
   ],
   "source": [
    "fn_name(3)\n",
    "fn_name(6)\n",
    "fn_name(4)"
   ]
  },
  {
   "cell_type": "code",
   "execution_count": 12,
   "metadata": {},
   "outputs": [
    {
     "output_type": "stream",
     "name": "stdout",
     "text": "7\n"
    }
   ],
   "source": [
    "def subtract(x,y):\n",
    "    print(x-y)\n",
    "subtract(12,5)"
   ]
  },
  {
   "cell_type": "code",
   "execution_count": 14,
   "metadata": {},
   "outputs": [
    {
     "output_type": "stream",
     "name": "stdout",
     "text": "0\n-7\n"
    }
   ],
   "source": [
    "subtract(5,5)\n",
    "subtract(5,12)"
   ]
  },
  {
   "cell_type": "code",
   "execution_count": 16,
   "metadata": {},
   "outputs": [
    {
     "output_type": "stream",
     "name": "stdout",
     "text": "hello Python\n"
    }
   ],
   "source": [
    "def greet(x):\n",
    "    print(\"hello\",x)\n",
    "\n",
    "greet(\"Python\")"
   ]
  },
  {
   "cell_type": "markdown",
   "metadata": {},
   "source": [
    "# Print vs Return"
   ]
  },
  {
   "cell_type": "markdown",
   "metadata": {},
   "source": [
    "### It takes a python object and outputs a printed representation of it in the output"
   ]
  },
  {
   "cell_type": "markdown",
   "metadata": {},
   "source": [
    "### A function that returns a value is producing a value for use by the program, maybe for use in the part of the code where the function was invoked\n",
    "### Can be saved in a variable for later use"
   ]
  },
  {
   "cell_type": "code",
   "execution_count": 18,
   "metadata": {},
   "outputs": [
    {
     "output_type": "stream",
     "name": "stdout",
     "text": "1\n"
    }
   ],
   "source": [
    "def subtact(x,y):\n",
    "    print(x-y)\n",
    "a = subtact(4,3)"
   ]
  },
  {
   "cell_type": "code",
   "execution_count": 20,
   "metadata": {},
   "outputs": [],
   "source": [
    "def subtact(x,y):\n",
    "    return(x-y)\n",
    "b = subtact(4,3)"
   ]
  },
  {
   "cell_type": "code",
   "execution_count": 22,
   "metadata": {},
   "outputs": [
    {
     "output_type": "stream",
     "name": "stdout",
     "text": "None\n1\n"
    }
   ],
   "source": [
    "print(a) # None\n",
    "print(b)"
   ]
  },
  {
   "cell_type": "code",
   "execution_count": 24,
   "metadata": {},
   "outputs": [
    {
     "output_type": "execute_result",
     "data": {
      "text/plain": "2"
     },
     "metadata": {},
     "execution_count": 24
    }
   ],
   "source": [
    "b + b "
   ]
  },
  {
   "cell_type": "code",
   "execution_count": 26,
   "metadata": {},
   "outputs": [
    {
     "output_type": "stream",
     "name": "stdout",
     "text": "hello Hi there\n"
    }
   ],
   "source": [
    "def greet(x):\n",
    "    print(\"hello\",x)\n",
    "greet(\"Hi there\")"
   ]
  },
  {
   "cell_type": "code",
   "execution_count": 28,
   "metadata": {},
   "outputs": [
    {
     "output_type": "execute_result",
     "data": {
      "text/plain": "\"Hi what's up Python\""
     },
     "metadata": {},
     "execution_count": 28
    }
   ],
   "source": [
    "def greet(x):\n",
    "    return(x)\n",
    "x = greet(\"Hi what's up\")\n",
    "x + \" Python\""
   ]
  },
  {
   "cell_type": "code",
   "execution_count": 30,
   "metadata": {},
   "outputs": [
    {
     "output_type": "stream",
     "name": "stdout",
     "text": "Hello Python\n"
    }
   ],
   "source": [
    "def greet(x):\n",
    "    print(\"Hello\",x)\n",
    "greet(\"Python\")"
   ]
  },
  {
   "cell_type": "code",
   "execution_count": 32,
   "metadata": {},
   "outputs": [
    {
     "output_type": "stream",
     "name": "stdout",
     "text": "Here are the list of the odd numbers\n1 3 5 7 9 11 13 15 17 19 21 23 25 27 29 31 33 35 37 39 41 43 45 47 49"
    }
   ],
   "source": [
    "# Write a function that prints out the odd numbers in a given list\n",
    "def print_odd(x):\n",
    "    for i in range(1,x,2):\n",
    "            print(i,end=' ')\n",
    "\n",
    "print(\"Here are the list of the odd numbers\")\n",
    "print_odd(50)"
   ]
  },
  {
   "cell_type": "code",
   "execution_count": 34,
   "metadata": {},
   "outputs": [],
   "source": [
    "# ERRORS - no and type of arguments must match exactly   \n",
    "# print_odd()   \n",
    "# print_odd(12,20)"
   ]
  },
  {
   "cell_type": "code",
   "execution_count": 36,
   "metadata": {},
   "outputs": [],
   "source": [
    "# Write a function to enter two integers and display the result"
   ]
  },
  {
   "cell_type": "code",
   "execution_count": 38,
   "metadata": {},
   "outputs": [
    {
     "output_type": "stream",
     "name": "stdout",
     "text": "This function will add two integers\n"
    },
    {
     "output_type": "execute_result",
     "data": {
      "text/plain": "3"
     },
     "metadata": {},
     "execution_count": 38
    }
   ],
   "source": [
    "def myadd():\n",
    "    num1 = int(input(\"Please enter 1st integer\"))\n",
    "    num2 = int(input(\"Please enter 2nd integer\"))\n",
    "    return num1+num2\n",
    "print(\"This function will add two integers\")\n",
    "myadd()"
   ]
  },
  {
   "cell_type": "code",
   "execution_count": 40,
   "metadata": {},
   "outputs": [
    {
     "output_type": "stream",
     "name": "stdout",
     "text": "This function will also add two integers\nThe result of the addition is  7\n"
    }
   ],
   "source": [
    "def add():\n",
    "    num = int(input(\"Please enter an integer\"))\n",
    "    return num\n",
    "\n",
    "print(\" This function will also add two integers\")\n",
    "\n",
    "first_integer = add()\n",
    "second_integer = add()\n",
    "result = first_integer + second_integer\n",
    "\n",
    "print(\"The result of the addition is \",result)"
   ]
  },
  {
   "cell_type": "markdown",
   "metadata": {},
   "source": [
    "# Arguments in functions\n",
    "\n",
    "## Required Arguments\n",
    "## Keyword Arguments\n",
    "## Default Arguments\n",
    "## Flexible (variable-length) arg\n"
   ]
  },
  {
   "cell_type": "code",
   "execution_count": 42,
   "metadata": {},
   "outputs": [
    {
     "output_type": "stream",
     "name": "stdout",
     "text": "John\n45\nNY\n"
    }
   ],
   "source": [
    "# def fn_name(arguments):\n",
    "\n",
    "def Person(name,age,state):\n",
    "    print(name)\n",
    "    print(age)\n",
    "    print(state)\n",
    "Person(name=\"John\",age=45,state=\"NY\")"
   ]
  },
  {
   "cell_type": "code",
   "execution_count": 44,
   "metadata": {},
   "outputs": [
    {
     "output_type": "stream",
     "name": "stdout",
     "text": "2\n"
    }
   ],
   "source": [
    "def subtract(num1,num2):\n",
    "    print(num1 - num2)\n",
    "subtract(num1 = 9 , num2 = 7 )"
   ]
  },
  {
   "cell_type": "code",
   "execution_count": 46,
   "metadata": {},
   "outputs": [
    {
     "output_type": "stream",
     "name": "stdout",
     "text": "John\n43\nNY\n"
    }
   ],
   "source": [
    "# default arguments\n",
    "# They must compulsorily come towards the end of the function arguments\n",
    "def Person(age,name=\"John\",state='NY'):\n",
    "    print(name)\n",
    "    print(age)\n",
    "    print(state)\n",
    "\n",
    "Person(43)"
   ]
  },
  {
   "cell_type": "code",
   "execution_count": 48,
   "metadata": {},
   "outputs": [
    {
     "output_type": "stream",
     "name": "stdout",
     "text": "Jane\n34\nNJ\n"
    }
   ],
   "source": [
    "Person(name=\"Jane\",age=34,state=\"NJ\")"
   ]
  },
  {
   "cell_type": "code",
   "execution_count": 50,
   "metadata": {},
   "outputs": [
    {
     "output_type": "stream",
     "name": "stdout",
     "text": "3\n1\n"
    }
   ],
   "source": [
    "def subtract(num1,num2,num3):\n",
    "    print(num1 - num2 - num3)\n",
    "\n",
    "subtract(7,3,1)\n",
    "subtract(num1=7,num2=4,num3=2)"
   ]
  },
  {
   "cell_type": "markdown",
   "metadata": {},
   "source": [
    "# Variable Length Arguments\n",
    "\n",
    "### A single asterisk(*) is used to pass a non-keyword,variable-length argument list,and\n",
    "### The double asterisk(**) form is used to pass a keyworded,variable-length argument list"
   ]
  },
  {
   "cell_type": "code",
   "execution_count": 52,
   "metadata": {},
   "outputs": [
    {
     "output_type": "execute_result",
     "data": {
      "text/plain": "6.0"
     },
     "metadata": {},
     "execution_count": 52
    }
   ],
   "source": [
    "def ratio(arg1,*args):\n",
    "    return ((arg1 + sum(args))/len(args))\n",
    "# ratio() # ERROR\n",
    "# ratio(2)  # ERROR -> zero division error\n",
    "ratio(2,4) # (2 + 4)/1"
   ]
  },
  {
   "cell_type": "code",
   "execution_count": 54,
   "metadata": {},
   "outputs": [
    {
     "output_type": "execute_result",
     "data": {
      "text/plain": "6.666666666666667"
     },
     "metadata": {},
     "execution_count": 54
    }
   ],
   "source": [
    "ratio(2,4,6,8)"
   ]
  },
  {
   "cell_type": "code",
   "execution_count": 56,
   "metadata": {},
   "outputs": [
    {
     "output_type": "execute_result",
     "data": {
      "text/plain": "6.833333333333333"
     },
     "metadata": {},
     "execution_count": 56
    }
   ],
   "source": [
    "ratio(2,4,5,6,7,8,9)"
   ]
  },
  {
   "cell_type": "code",
   "execution_count": 58,
   "metadata": {},
   "outputs": [
    {
     "output_type": "stream",
     "name": "stdout",
     "text": "first argument is  2\nfirst argument is  2\nHere are the non keyword var length arguments 4\nHere are the non keyword var length arguments 6\n"
    }
   ],
   "source": [
    "def various_args(arg1,*args):\n",
    "    print(\"first argument is \",arg1)\n",
    "\n",
    "    for arg in args:\n",
    "        print(\"Here are the non keyword var length arguments\",arg)\n",
    "\n",
    "various_args(2)\n",
    "various_args(2,4,6)"
   ]
  },
  {
   "cell_type": "code",
   "execution_count": 60,
   "metadata": {},
   "outputs": [
    {
     "output_type": "stream",
     "name": "stdout",
     "text": "first argument is  2\nHere are the non keyword var length arguments 3\nHere are the non keyword var length arguments a\nHere are the non keyword var length arguments c\nHere are the non keyword var length arguments python\nHere are the non keyword var length arguments x\nHere are the non keyword var length arguments 4\nHere are the non keyword var length arguments 5\n"
    }
   ],
   "source": [
    "various_args(2,3,'a','c','python','x',4,5)"
   ]
  },
  {
   "cell_type": "code",
   "execution_count": 62,
   "metadata": {},
   "outputs": [],
   "source": [
    "def kwargs(arg1,**kwargs):\n",
    "    print(\"first arguments is \",arg1)\n",
    "\n",
    "    for key in kwargs:\n",
    "        print (\"keyword variable length argument {} = {}\".format(key,kwargs[key]))"
   ]
  },
  {
   "cell_type": "code",
   "execution_count": 64,
   "metadata": {},
   "outputs": [
    {
     "output_type": "stream",
     "name": "stdout",
     "text": "first arguments is  1\nkeyword variable length argument x = 3\n"
    }
   ],
   "source": [
    "kwargs(1,x=3)"
   ]
  },
  {
   "cell_type": "code",
   "execution_count": 66,
   "metadata": {},
   "outputs": [
    {
     "output_type": "stream",
     "name": "stdout",
     "text": "first arguments is  1\nkeyword variable length argument x = 3\nkeyword variable length argument y = 5\nkeyword variable length argument a = Python\nkeyword variable length argument b = Programming\n"
    }
   ],
   "source": [
    "kwargs(1,x =3,y=5,a=\"Python\",b=\"Programming\")"
   ]
  },
  {
   "cell_type": "code",
   "execution_count": 68,
   "metadata": {},
   "outputs": [
    {
     "output_type": "stream",
     "name": "stdout",
     "text": "first arguments is  Python\nkeyword variable length argument x = Programming\nkeyword variable length argument y = 5\nkeyword variable length argument z = 8\n"
    }
   ],
   "source": [
    "# Naming doesn't matter but the ** matter\n",
    "def kwar(arg1,**kw):\n",
    "    print(\"first arguments is \",arg1)\n",
    "\n",
    "    for key in kw:\n",
    "        print (\"keyword variable length argument {} = {}\".format(key,kw[key]))\n",
    "\n",
    "kwar(\"Python\",x=\"Programming\",y=5,z=8)"
   ]
  },
  {
   "cell_type": "code",
   "execution_count": 70,
   "metadata": {},
   "outputs": [
    {
     "output_type": "stream",
     "name": "stdout",
     "text": "The first argument is 1\nhere are the non keyword var length arguments 3\nhere are the non keyword var length arguments 5\nhere are the non keyword var length arguments 7\nhere are the non keyword var length arguments four\nhere are the non keyword var length arguments six\nhere are the keyword var length arguments x = python \nhere are the keyword var length arguments y = programming \nhere are the keyword var length arguments z = Keyword Argument \n"
    }
   ],
   "source": [
    "def all_args(arg1,*args,**kwargs):\n",
    "    print(\"The first argument is\",arg1)\n",
    "\n",
    "    for arg in args:\n",
    "        print(\"here are the non keyword var length arguments\",arg)\n",
    "\n",
    "    for key in kwargs:\n",
    "        print(\"here are the keyword var length arguments {} = {} \".format(key,kwargs[key]))\n",
    "\n",
    "all_args(1,3,5,7,\"four\",\"six\",x=\"python\",y=\"programming\",z=\"Keyword Argument\")"
   ]
  },
  {
   "cell_type": "code",
   "execution_count": 72,
   "metadata": {},
   "outputs": [
    {
     "output_type": "stream",
     "name": "stdout",
     "text": "The first argument is Python\n"
    }
   ],
   "source": [
    "all_args(\"Python\")"
   ]
  },
  {
   "cell_type": "code",
   "execution_count": 74,
   "metadata": {},
   "outputs": [
    {
     "output_type": "stream",
     "name": "stdout",
     "text": "The first argument is 2\nhere are the non keyword var length arguments 4\nhere are the non keyword var length arguments 8\nhere are the non keyword var length arguments 10\nhere are the keyword var length arguments a = Python \n"
    }
   ],
   "source": [
    "# all_args(2,4,5,a=\"Python\",8,10)  # ERROR -> The order of type of arguments matter\n",
    "all_args(2,4,8,10,a=\"Python\")"
   ]
  },
  {
   "cell_type": "markdown",
   "metadata": {},
   "source": [
    "# The Main Function\n",
    "\n",
    "### We place all of our statements we have not placed within our function definition in the main function\n",
    "### At the end, we call the main function which will inturn call the other function"
   ]
  },
  {
   "cell_type": "code",
   "execution_count": 75,
   "metadata": {},
   "outputs": [
    {
     "output_type": "stream",
     "name": "stdout",
     "text": "Before the add2 function is called,the value of x is 3\nAfter the add2 function is called,the value of x is 5\n"
    }
   ],
   "source": [
    "def add2(x):\n",
    "    print(\"Before the add2 function is called,the value of x is\",x)\n",
    "    x = x + 2\n",
    "    print(\"After the add2 function is called,the value of x is\",x)\n",
    "\n",
    "add2(3)"
   ]
  },
  {
   "cell_type": "code",
   "execution_count": 79,
   "metadata": {},
   "outputs": [
    {
     "output_type": "stream",
     "name": "stdout",
     "text": "Before the add2 function,the main value of x is  3\nBefore the add2 function is called,the value of x is 3\nAfter the add2 function is called,the value of x is 5\nadd the add2 function,the main value of x is  3\n--------------\nBefore the add2 function,the main value of x is  7\nBefore the add2 function is called,the value of x is 7\nAfter the add2 function is called,the value of x is 9\nadd the add2 function,the main value of x is  7\n--------------\nBefore the add2 function,the main value of x is  22\nBefore the add2 function is called,the value of x is 22\nAfter the add2 function is called,the value of x is 24\nadd the add2 function,the main value of x is  22\n"
    }
   ],
   "source": [
    "def main():\n",
    "    x = 3\n",
    "\n",
    "    print(\"Before the add2 function,the main value of x is \",x)\n",
    "    add2(x)\n",
    "    print(\"add the add2 function,the main value of x is \",x)\n",
    "\n",
    "    print(\"--------------\")\n",
    "    x = 7\n",
    "\n",
    "    print(\"Before the add2 function,the main value of x is \",x)\n",
    "    add2(x)\n",
    "    print(\"add the add2 function,the main value of x is \",x)\n",
    "\n",
    "    print(\"--------------\")\n",
    "    x = 22\n",
    "\n",
    "    print(\"Before the add2 function,the main value of x is \",x)\n",
    "    add2(x)\n",
    "    print(\"add the add2 function,the main value of x is \",x)\n",
    "\n",
    "main()"
   ]
  },
  {
   "cell_type": "code",
   "execution_count": 78,
   "metadata": {},
   "outputs": [
    {
     "output_type": "stream",
     "name": "stdout",
     "text": "Before the add2 function,the main value of x is  3\nBefore the add2 function is called,the value of x is 3\nAfter the add2 function is called,the value of x is 5\nadd the add2 function,the main value of x is  3\n"
    }
   ],
   "source": [
    "def add2(x):\n",
    "    print(\"Before the add2 function is called,the value of x is\",x)\n",
    "    x = x + 2\n",
    "    print(\"After the add2 function is called,the value of x is\",x)\n",
    "\n",
    "def main():\n",
    "    x = 3\n",
    "    print(\"Before the add2 function,the main value of x is \",x)\n",
    "    add2(x)\n",
    "    print(\"add the add2 function,the main value of x is \",x)\n",
    "# The value of x doesn't change because integers are immutable objects\n",
    "main()"
   ]
  }
 ],
 "metadata": {
  "language_info": {
   "codemirror_mode": {
    "name": "ipython",
    "version": 3
   },
   "file_extension": ".py",
   "mimetype": "text/x-python",
   "name": "python",
   "nbconvert_exporter": "python",
   "pygments_lexer": "ipython3",
   "version": "3.8.1-final"
  },
  "orig_nbformat": 2,
  "kernelspec": {
   "name": "python38132bit51bf2d4383df4065b0c992fe407a3440",
   "display_name": "Python 3.8.1 32-bit"
  }
 },
 "nbformat": 4,
 "nbformat_minor": 2
}