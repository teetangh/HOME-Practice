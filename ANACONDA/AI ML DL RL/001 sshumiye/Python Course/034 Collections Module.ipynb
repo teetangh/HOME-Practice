{
 "cells": [
  {
   "cell_type": "markdown",
   "metadata": {},
   "source": [
    "# Counter\n",
    "\n",
    "### keeps track of the number of times similar values are added\n",
    "### we can use it sequence, dictionary keys with counts, mapping str names to number of counts\n"
   ]
  },
  {
   "cell_type": "code",
   "execution_count": 1,
   "metadata": {},
   "outputs": [],
   "source": [
    "import collections"
   ]
  },
  {
   "cell_type": "code",
   "execution_count": 2,
   "metadata": {},
   "outputs": [
    {
     "output_type": "execute_result",
     "data": {
      "text/plain": "Counter({'x': 4, 'y': 3, 'z': 1})"
     },
     "metadata": {},
     "execution_count": 2
    }
   ],
   "source": [
    "collections.Counter(['x','y','x','x','y','z','y','x'])"
   ]
  },
  {
   "cell_type": "code",
   "execution_count": 3,
   "metadata": {},
   "outputs": [
    {
     "output_type": "execute_result",
     "data": {
      "text/plain": "Counter({'x': 5, 'y': 6, 'z': 2, 'v': 3})"
     },
     "metadata": {},
     "execution_count": 3
    }
   ],
   "source": [
    "collections.Counter({'x':5 , 'y':6 , 'z':2 , 'v':3 })"
   ]
  },
  {
   "cell_type": "code",
   "execution_count": 4,
   "metadata": {},
   "outputs": [
    {
     "output_type": "execute_result",
     "data": {
      "text/plain": "Counter({'x': 4, 'y': 2, 'z': 5, 'v': 3})"
     },
     "metadata": {},
     "execution_count": 4
    }
   ],
   "source": [
    "collections.Counter(x=4, y=2 , z=5 , v =3)"
   ]
  },
  {
   "cell_type": "code",
   "execution_count": 5,
   "metadata": {},
   "outputs": [],
   "source": [
    "list1 = ['a','b','c','x','y','z','x','a','x','b']"
   ]
  },
  {
   "cell_type": "code",
   "execution_count": 6,
   "metadata": {},
   "outputs": [
    {
     "output_type": "execute_result",
     "data": {
      "text/plain": "Counter({'a': 2, 'b': 2, 'c': 1, 'x': 3, 'y': 1, 'z': 1})"
     },
     "metadata": {},
     "execution_count": 6
    }
   ],
   "source": [
    "collections.Counter(list1)"
   ]
  },
  {
   "cell_type": "code",
   "execution_count": 7,
   "metadata": {},
   "outputs": [],
   "source": [
    "string1 = ('sdfgdfhgtere4trerhjgmgfdfsazxv')"
   ]
  },
  {
   "cell_type": "code",
   "execution_count": 8,
   "metadata": {},
   "outputs": [
    {
     "output_type": "execute_result",
     "data": {
      "text/plain": "Counter({'s': 2,\n         'd': 3,\n         'f': 4,\n         'g': 4,\n         'h': 2,\n         't': 2,\n         'e': 3,\n         'r': 3,\n         '4': 1,\n         'j': 1,\n         'm': 1,\n         'a': 1,\n         'z': 1,\n         'x': 1,\n         'v': 1})"
     },
     "metadata": {},
     "execution_count": 8
    }
   ],
   "source": [
    "collections.Counter(string1)"
   ]
  },
  {
   "cell_type": "code",
   "execution_count": 9,
   "metadata": {},
   "outputs": [],
   "source": [
    "x = collections.Counter()"
   ]
  },
  {
   "cell_type": "code",
   "execution_count": 10,
   "metadata": {},
   "outputs": [
    {
     "output_type": "execute_result",
     "data": {
      "text/plain": "Counter()"
     },
     "metadata": {},
     "execution_count": 10
    }
   ],
   "source": [
    "x"
   ]
  },
  {
   "cell_type": "code",
   "execution_count": 11,
   "metadata": {},
   "outputs": [],
   "source": [
    "x.update('12334533234')"
   ]
  },
  {
   "cell_type": "code",
   "execution_count": 12,
   "metadata": {},
   "outputs": [
    {
     "output_type": "execute_result",
     "data": {
      "text/plain": "Counter({'1': 1, '2': 2, '3': 5, '4': 2, '5': 1})"
     },
     "metadata": {},
     "execution_count": 12
    }
   ],
   "source": [
    "x"
   ]
  },
  {
   "cell_type": "code",
   "execution_count": 13,
   "metadata": {},
   "outputs": [],
   "source": [
    "x.update('1234')"
   ]
  },
  {
   "cell_type": "code",
   "execution_count": 14,
   "metadata": {},
   "outputs": [
    {
     "output_type": "execute_result",
     "data": {
      "text/plain": "Counter({'1': 2, '2': 3, '3': 6, '4': 3, '5': 1})"
     },
     "metadata": {},
     "execution_count": 14
    }
   ],
   "source": [
    "x"
   ]
  },
  {
   "cell_type": "code",
   "execution_count": 15,
   "metadata": {},
   "outputs": [],
   "source": [
    "# adding as numbers not strings\n",
    "x.update({1:2,2:3,3:1})"
   ]
  },
  {
   "cell_type": "code",
   "execution_count": 16,
   "metadata": {},
   "outputs": [
    {
     "output_type": "execute_result",
     "data": {
      "text/plain": "Counter({'1': 2, '2': 3, '3': 6, '4': 3, '5': 1, 1: 2, 2: 3, 3: 1})"
     },
     "metadata": {},
     "execution_count": 16
    }
   ],
   "source": [
    "x"
   ]
  },
  {
   "cell_type": "code",
   "execution_count": 17,
   "metadata": {},
   "outputs": [],
   "source": [
    "x.update({'1': 2, '2': 3, '3': 2})"
   ]
  },
  {
   "cell_type": "code",
   "execution_count": 18,
   "metadata": {},
   "outputs": [
    {
     "output_type": "execute_result",
     "data": {
      "text/plain": "Counter({'1': 4, '2': 6, '3': 8, '4': 3, '5': 1, 1: 2, 2: 3, 3: 1})"
     },
     "metadata": {},
     "execution_count": 18
    }
   ],
   "source": [
    "x"
   ]
  },
  {
   "cell_type": "code",
   "execution_count": 19,
   "metadata": {},
   "outputs": [],
   "source": [
    "x = collections.Counter('12345321')"
   ]
  },
  {
   "cell_type": "code",
   "execution_count": 20,
   "metadata": {},
   "outputs": [
    {
     "output_type": "execute_result",
     "data": {
      "text/plain": "Counter({'1': 2, '2': 2, '3': 2, '4': 1, '5': 1})"
     },
     "metadata": {},
     "execution_count": 20
    }
   ],
   "source": [
    "x"
   ]
  },
  {
   "cell_type": "code",
   "execution_count": 21,
   "metadata": {},
   "outputs": [
    {
     "output_type": "stream",
     "name": "stdout",
     "text": "1 appears 2 times\n2 appears 2 times\n3 appears 2 times\n4 appears 1 times\n5 appears 1 times\n"
    }
   ],
   "source": [
    "for numbers in x :\n",
    "    print(\"{} appears {} times\".format(numbers,x[numbers]))"
   ]
  },
  {
   "cell_type": "code",
   "execution_count": 22,
   "metadata": {},
   "outputs": [],
   "source": [
    "# Works in Python 2\n",
    "# for numbers in '12346':\n",
    "#     print(\" {} appears {} times \".format(numbers),x[numbers])"
   ]
  },
  {
   "cell_type": "code",
   "execution_count": 23,
   "metadata": {},
   "outputs": [
    {
     "output_type": "execute_result",
     "data": {
      "text/plain": "Counter({'1': 2, '2': 2, '3': 2, '4': 1, '5': 1})"
     },
     "metadata": {},
     "execution_count": 23
    }
   ],
   "source": [
    "x"
   ]
  },
  {
   "cell_type": "markdown",
   "metadata": {},
   "source": [
    "# elements()"
   ]
  },
  {
   "cell_type": "code",
   "execution_count": 24,
   "metadata": {},
   "outputs": [
    {
     "output_type": "execute_result",
     "data": {
      "text/plain": "<itertools.chain at 0x6191430>"
     },
     "metadata": {},
     "execution_count": 24
    }
   ],
   "source": [
    "x.elements()"
   ]
  },
  {
   "cell_type": "code",
   "execution_count": 25,
   "metadata": {},
   "outputs": [
    {
     "output_type": "execute_result",
     "data": {
      "text/plain": "['1', '1', '2', '2', '3', '3', '4', '5']"
     },
     "metadata": {},
     "execution_count": 25
    }
   ],
   "source": [
    "list(x.elements())"
   ]
  },
  {
   "cell_type": "markdown",
   "metadata": {},
   "source": [
    "# most_common()"
   ]
  },
  {
   "cell_type": "code",
   "execution_count": 26,
   "metadata": {},
   "outputs": [],
   "source": [
    "xyz = collections.Counter('xyzzsdfslkrv')"
   ]
  },
  {
   "cell_type": "code",
   "execution_count": 27,
   "metadata": {},
   "outputs": [
    {
     "output_type": "execute_result",
     "data": {
      "text/plain": "Counter({'x': 1,\n         'y': 1,\n         'z': 2,\n         's': 2,\n         'd': 1,\n         'f': 1,\n         'l': 1,\n         'k': 1,\n         'r': 1,\n         'v': 1})"
     },
     "metadata": {},
     "execution_count": 27
    }
   ],
   "source": [
    "xyz"
   ]
  },
  {
   "cell_type": "code",
   "execution_count": 28,
   "metadata": {},
   "outputs": [
    {
     "output_type": "stream",
     "name": "stdout",
     "text": "z appears 2 times\n s appears 2 times\n"
    }
   ],
   "source": [
    "for letters,num in xyz.most_common(2):\n",
    "    print(\" {} appears {} times\".format(letters,num))"
   ]
  },
  {
   "cell_type": "code",
   "execution_count": 29,
   "metadata": {},
   "outputs": [
    {
     "output_type": "stream",
     "name": "stdout",
     "text": "z appears 2 times\n s appears 2 times\n x appears 1 times\n y appears 1 times\n"
    }
   ],
   "source": [
    "for letters,num in xyz.most_common(4):\n",
    "    print(\" {} appears {} times\".format(letters,num))"
   ]
  },
  {
   "cell_type": "code",
   "execution_count": 30,
   "metadata": {},
   "outputs": [],
   "source": [
    "first = collections.Counter(['x','y','z','x','y','y','z'])\n",
    "second = collections.Counter('xyzabcr') # Don't pass this one as a list"
   ]
  },
  {
   "cell_type": "code",
   "execution_count": 31,
   "metadata": {},
   "outputs": [
    {
     "output_type": "stream",
     "name": "stdout",
     "text": "Counter({'y': 3, 'x': 2, 'z': 2})\nCounter({'x': 1, 'y': 1, 'z': 1, 'a': 1, 'b': 1, 'c': 1, 'r': 1})\n"
    }
   ],
   "source": [
    "print(first)\n",
    "print(second)"
   ]
  },
  {
   "cell_type": "code",
   "execution_count": 32,
   "metadata": {},
   "outputs": [
    {
     "output_type": "execute_result",
     "data": {
      "text/plain": "Counter({'x': 3, 'y': 4, 'z': 3, 'a': 1, 'b': 1, 'c': 1, 'r': 1})"
     },
     "metadata": {},
     "execution_count": 32
    }
   ],
   "source": [
    "first + second"
   ]
  },
  {
   "cell_type": "code",
   "execution_count": 33,
   "metadata": {},
   "outputs": [
    {
     "output_type": "execute_result",
     "data": {
      "text/plain": "Counter({'x': 1, 'y': 2, 'z': 1})"
     },
     "metadata": {},
     "execution_count": 33
    }
   ],
   "source": [
    "first - second"
   ]
  },
  {
   "cell_type": "code",
   "execution_count": 34,
   "metadata": {},
   "outputs": [
    {
     "output_type": "execute_result",
     "data": {
      "text/plain": "Counter({'x': 2, 'y': 3, 'z': 2, 'a': 1, 'b': 1, 'c': 1, 'r': 1})"
     },
     "metadata": {},
     "execution_count": 34
    }
   ],
   "source": [
    "first | second #Union"
   ]
  },
  {
   "cell_type": "code",
   "execution_count": 35,
   "metadata": {},
   "outputs": [
    {
     "output_type": "execute_result",
     "data": {
      "text/plain": "Counter({'x': 1, 'y': 1, 'z': 1})"
     },
     "metadata": {},
     "execution_count": 35
    }
   ],
   "source": [
    "first & second  #Intersection"
   ]
  },
  {
   "cell_type": "markdown",
   "metadata": {},
   "source": [
    "# Deque\n",
    "\n",
    "### double ended queue\n",
    "### we can add/remove elem on both ends"
   ]
  },
  {
   "cell_type": "code",
   "execution_count": 36,
   "metadata": {},
   "outputs": [],
   "source": [
    "import collections"
   ]
  },
  {
   "cell_type": "code",
   "execution_count": 37,
   "metadata": {},
   "outputs": [],
   "source": [
    "a = collections.deque('xyzrst')"
   ]
  },
  {
   "cell_type": "code",
   "execution_count": 38,
   "metadata": {},
   "outputs": [
    {
     "output_type": "execute_result",
     "data": {
      "text/plain": "deque(['x', 'y', 'z', 'r', 's', 't'])"
     },
     "metadata": {},
     "execution_count": 38
    }
   ],
   "source": [
    "a"
   ]
  },
  {
   "cell_type": "code",
   "execution_count": 39,
   "metadata": {},
   "outputs": [
    {
     "output_type": "execute_result",
     "data": {
      "text/plain": "collections.deque"
     },
     "metadata": {},
     "execution_count": 39
    }
   ],
   "source": [
    "type(a)"
   ]
  },
  {
   "cell_type": "code",
   "execution_count": 40,
   "metadata": {},
   "outputs": [
    {
     "output_type": "execute_result",
     "data": {
      "text/plain": "6"
     },
     "metadata": {},
     "execution_count": 40
    }
   ],
   "source": [
    "len(a)"
   ]
  },
  {
   "cell_type": "code",
   "execution_count": 41,
   "metadata": {},
   "outputs": [
    {
     "output_type": "execute_result",
     "data": {
      "text/plain": "'r'"
     },
     "metadata": {},
     "execution_count": 41
    }
   ],
   "source": [
    "a[3]"
   ]
  },
  {
   "cell_type": "code",
   "execution_count": 42,
   "metadata": {},
   "outputs": [
    {
     "output_type": "execute_result",
     "data": {
      "text/plain": "'y'"
     },
     "metadata": {},
     "execution_count": 42
    }
   ],
   "source": [
    "a[1]"
   ]
  },
  {
   "cell_type": "code",
   "execution_count": 43,
   "metadata": {},
   "outputs": [
    {
     "output_type": "execute_result",
     "data": {
      "text/plain": "'s'"
     },
     "metadata": {},
     "execution_count": 43
    }
   ],
   "source": [
    "a[-2]"
   ]
  },
  {
   "cell_type": "code",
   "execution_count": 44,
   "metadata": {},
   "outputs": [],
   "source": [
    "# a[2:4]"
   ]
  },
  {
   "cell_type": "code",
   "execution_count": 45,
   "metadata": {},
   "outputs": [],
   "source": [
    "a.remove('s')"
   ]
  },
  {
   "cell_type": "code",
   "execution_count": 46,
   "metadata": {},
   "outputs": [
    {
     "output_type": "execute_result",
     "data": {
      "text/plain": "deque(['x', 'y', 'z', 'r', 't'])"
     },
     "metadata": {},
     "execution_count": 46
    }
   ],
   "source": [
    "a"
   ]
  },
  {
   "cell_type": "code",
   "execution_count": 47,
   "metadata": {},
   "outputs": [],
   "source": [
    "# append and extend\n",
    "\n",
    "a = collections.deque()"
   ]
  },
  {
   "cell_type": "code",
   "execution_count": 48,
   "metadata": {},
   "outputs": [
    {
     "output_type": "execute_result",
     "data": {
      "text/plain": "deque([])"
     },
     "metadata": {},
     "execution_count": 48
    }
   ],
   "source": [
    "a"
   ]
  },
  {
   "cell_type": "code",
   "execution_count": 49,
   "metadata": {},
   "outputs": [],
   "source": [
    "a.extend('xyzrstv')"
   ]
  },
  {
   "cell_type": "code",
   "execution_count": 50,
   "metadata": {},
   "outputs": [
    {
     "output_type": "execute_result",
     "data": {
      "text/plain": "deque(['x', 'y', 'z', 'r', 's', 't', 'v'])"
     },
     "metadata": {},
     "execution_count": 50
    }
   ],
   "source": [
    "a"
   ]
  },
  {
   "cell_type": "code",
   "execution_count": 51,
   "metadata": {},
   "outputs": [],
   "source": [
    "a.extend('c')"
   ]
  },
  {
   "cell_type": "code",
   "execution_count": 52,
   "metadata": {},
   "outputs": [
    {
     "output_type": "execute_result",
     "data": {
      "text/plain": "deque(['x', 'y', 'z', 'r', 's', 't', 'v', 'c'])"
     },
     "metadata": {},
     "execution_count": 52
    }
   ],
   "source": [
    "a"
   ]
  },
  {
   "cell_type": "code",
   "execution_count": 53,
   "metadata": {},
   "outputs": [],
   "source": [
    "a.extend('de')"
   ]
  },
  {
   "cell_type": "code",
   "execution_count": 54,
   "metadata": {},
   "outputs": [
    {
     "output_type": "execute_result",
     "data": {
      "text/plain": "deque(['x', 'y', 'z', 'r', 's', 't', 'v', 'c', 'd', 'e'])"
     },
     "metadata": {},
     "execution_count": 54
    }
   ],
   "source": [
    "a"
   ]
  },
  {
   "cell_type": "code",
   "execution_count": 55,
   "metadata": {},
   "outputs": [],
   "source": [
    "a.extend(['fghi'])"
   ]
  },
  {
   "cell_type": "code",
   "execution_count": 56,
   "metadata": {},
   "outputs": [
    {
     "output_type": "execute_result",
     "data": {
      "text/plain": "deque(['x', 'y', 'z', 'r', 's', 't', 'v', 'c', 'd', 'e', 'fghi'])"
     },
     "metadata": {},
     "execution_count": 56
    }
   ],
   "source": [
    "a"
   ]
  },
  {
   "cell_type": "code",
   "execution_count": 57,
   "metadata": {},
   "outputs": [],
   "source": [
    "a.remove('fghi')"
   ]
  },
  {
   "cell_type": "code",
   "execution_count": 58,
   "metadata": {},
   "outputs": [
    {
     "output_type": "execute_result",
     "data": {
      "text/plain": "deque(['x', 'y', 'z', 'r', 's', 't', 'v', 'c', 'd', 'e'])"
     },
     "metadata": {},
     "execution_count": 58
    }
   ],
   "source": [
    "a"
   ]
  },
  {
   "cell_type": "code",
   "execution_count": 59,
   "metadata": {},
   "outputs": [],
   "source": [
    "a.append('j')"
   ]
  },
  {
   "cell_type": "code",
   "execution_count": 60,
   "metadata": {},
   "outputs": [
    {
     "output_type": "execute_result",
     "data": {
      "text/plain": "deque(['x', 'y', 'z', 'r', 's', 't', 'v', 'c', 'd', 'e', 'j'])"
     },
     "metadata": {},
     "execution_count": 60
    }
   ],
   "source": [
    "a"
   ]
  },
  {
   "cell_type": "code",
   "execution_count": 61,
   "metadata": {},
   "outputs": [],
   "source": [
    "a.append('kl') # added as one object"
   ]
  },
  {
   "cell_type": "code",
   "execution_count": 62,
   "metadata": {},
   "outputs": [
    {
     "output_type": "execute_result",
     "data": {
      "text/plain": "deque(['x', 'y', 'z', 'r', 's', 't', 'v', 'c', 'd', 'e', 'j', 'kl'])"
     },
     "metadata": {},
     "execution_count": 62
    }
   ],
   "source": [
    "a"
   ]
  },
  {
   "cell_type": "code",
   "execution_count": 63,
   "metadata": {},
   "outputs": [],
   "source": [
    "a.extend('kl') # added as separate objects"
   ]
  },
  {
   "cell_type": "code",
   "execution_count": 64,
   "metadata": {},
   "outputs": [
    {
     "output_type": "execute_result",
     "data": {
      "text/plain": "deque(['x', 'y', 'z', 'r', 's', 't', 'v', 'c', 'd', 'e', 'j', 'kl', 'k', 'l'])"
     },
     "metadata": {},
     "execution_count": 64
    }
   ],
   "source": [
    "a"
   ]
  },
  {
   "cell_type": "code",
   "execution_count": 65,
   "metadata": {},
   "outputs": [],
   "source": [
    "a.append('mno')"
   ]
  },
  {
   "cell_type": "code",
   "execution_count": 66,
   "metadata": {},
   "outputs": [
    {
     "output_type": "execute_result",
     "data": {
      "text/plain": "deque(['x',\n       'y',\n       'z',\n       'r',\n       's',\n       't',\n       'v',\n       'c',\n       'd',\n       'e',\n       'j',\n       'kl',\n       'k',\n       'l',\n       'mno'])"
     },
     "metadata": {},
     "execution_count": 66
    }
   ],
   "source": [
    "a"
   ]
  },
  {
   "cell_type": "code",
   "execution_count": 67,
   "metadata": {},
   "outputs": [],
   "source": [
    "# append left and extend left"
   ]
  },
  {
   "cell_type": "code",
   "execution_count": 68,
   "metadata": {},
   "outputs": [],
   "source": [
    "import collections"
   ]
  },
  {
   "cell_type": "code",
   "execution_count": 69,
   "metadata": {},
   "outputs": [],
   "source": [
    "x= collections.deque('hijklm')"
   ]
  },
  {
   "cell_type": "code",
   "execution_count": 70,
   "metadata": {},
   "outputs": [
    {
     "output_type": "execute_result",
     "data": {
      "text/plain": "deque(['h', 'i', 'j', 'k', 'l', 'm'])"
     },
     "metadata": {},
     "execution_count": 70
    }
   ],
   "source": [
    "x"
   ]
  },
  {
   "cell_type": "code",
   "execution_count": 71,
   "metadata": {},
   "outputs": [],
   "source": [
    "x.extendleft('g')"
   ]
  },
  {
   "cell_type": "code",
   "execution_count": 72,
   "metadata": {},
   "outputs": [
    {
     "output_type": "execute_result",
     "data": {
      "text/plain": "deque(['g', 'h', 'i', 'j', 'k', 'l', 'm'])"
     },
     "metadata": {},
     "execution_count": 72
    }
   ],
   "source": [
    "x"
   ]
  },
  {
   "cell_type": "code",
   "execution_count": 73,
   "metadata": {},
   "outputs": [],
   "source": [
    "x.extendleft('f')"
   ]
  },
  {
   "cell_type": "code",
   "execution_count": 74,
   "metadata": {},
   "outputs": [
    {
     "output_type": "execute_result",
     "data": {
      "text/plain": "deque(['f', 'g', 'h', 'i', 'j', 'k', 'l', 'm'])"
     },
     "metadata": {},
     "execution_count": 74
    }
   ],
   "source": [
    "x"
   ]
  },
  {
   "cell_type": "code",
   "execution_count": 75,
   "metadata": {},
   "outputs": [],
   "source": [
    "x.extendleft('cde') # Again adds one element at a time"
   ]
  },
  {
   "cell_type": "code",
   "execution_count": 76,
   "metadata": {},
   "outputs": [
    {
     "output_type": "execute_result",
     "data": {
      "text/plain": "deque(['e', 'd', 'c', 'f', 'g', 'h', 'i', 'j', 'k', 'l', 'm'])"
     },
     "metadata": {},
     "execution_count": 76
    }
   ],
   "source": [
    "x"
   ]
  },
  {
   "cell_type": "code",
   "execution_count": 77,
   "metadata": {},
   "outputs": [],
   "source": [
    "x.appendleft('b')"
   ]
  },
  {
   "cell_type": "code",
   "execution_count": 78,
   "metadata": {},
   "outputs": [
    {
     "output_type": "execute_result",
     "data": {
      "text/plain": "deque(['b', 'e', 'd', 'c', 'f', 'g', 'h', 'i', 'j', 'k', 'l', 'm'])"
     },
     "metadata": {},
     "execution_count": 78
    }
   ],
   "source": [
    "x"
   ]
  },
  {
   "cell_type": "code",
   "execution_count": 79,
   "metadata": {},
   "outputs": [],
   "source": [
    "x.appendleft('a')"
   ]
  },
  {
   "cell_type": "code",
   "execution_count": 80,
   "metadata": {},
   "outputs": [],
   "source": [
    "x.appendleft('rst') # Again added as one whole element"
   ]
  },
  {
   "cell_type": "code",
   "execution_count": 81,
   "metadata": {},
   "outputs": [
    {
     "output_type": "execute_result",
     "data": {
      "text/plain": "deque(['rst', 'a', 'b', 'e', 'd', 'c', 'f', 'g', 'h', 'i', 'j', 'k', 'l', 'm'])"
     },
     "metadata": {},
     "execution_count": 81
    }
   ],
   "source": [
    "x"
   ]
  },
  {
   "cell_type": "code",
   "execution_count": 82,
   "metadata": {},
   "outputs": [],
   "source": [
    "# pop() and popleft() "
   ]
  },
  {
   "cell_type": "code",
   "execution_count": 83,
   "metadata": {},
   "outputs": [
    {
     "output_type": "execute_result",
     "data": {
      "text/plain": "'m'"
     },
     "metadata": {},
     "execution_count": 83
    }
   ],
   "source": [
    "x.pop()"
   ]
  },
  {
   "cell_type": "code",
   "execution_count": 84,
   "metadata": {},
   "outputs": [
    {
     "output_type": "execute_result",
     "data": {
      "text/plain": "deque(['rst', 'a', 'b', 'e', 'd', 'c', 'f', 'g', 'h', 'i', 'j', 'k', 'l'])"
     },
     "metadata": {},
     "execution_count": 84
    }
   ],
   "source": [
    "x"
   ]
  },
  {
   "cell_type": "code",
   "execution_count": 85,
   "metadata": {},
   "outputs": [
    {
     "output_type": "execute_result",
     "data": {
      "text/plain": "'rst'"
     },
     "metadata": {},
     "execution_count": 85
    }
   ],
   "source": [
    "x.popleft()"
   ]
  },
  {
   "cell_type": "code",
   "execution_count": 86,
   "metadata": {},
   "outputs": [
    {
     "output_type": "execute_result",
     "data": {
      "text/plain": "deque(['a', 'b', 'e', 'd', 'c', 'f', 'g', 'h', 'i', 'j', 'k', 'l'])"
     },
     "metadata": {},
     "execution_count": 86
    }
   ],
   "source": [
    "x"
   ]
  },
  {
   "cell_type": "code",
   "execution_count": 87,
   "metadata": {},
   "outputs": [],
   "source": [
    "x = collections.deque('abcdefgh')"
   ]
  },
  {
   "cell_type": "code",
   "execution_count": 88,
   "metadata": {},
   "outputs": [
    {
     "output_type": "execute_result",
     "data": {
      "text/plain": "deque(['a', 'b', 'c', 'd', 'e', 'f', 'g', 'h'])"
     },
     "metadata": {},
     "execution_count": 88
    }
   ],
   "source": [
    "x"
   ]
  },
  {
   "cell_type": "code",
   "execution_count": 89,
   "metadata": {},
   "outputs": [],
   "source": [
    "# rotate( )"
   ]
  },
  {
   "cell_type": "code",
   "execution_count": 90,
   "metadata": {},
   "outputs": [],
   "source": [
    "x.rotate(3)"
   ]
  },
  {
   "cell_type": "code",
   "execution_count": 91,
   "metadata": {},
   "outputs": [
    {
     "output_type": "execute_result",
     "data": {
      "text/plain": "deque(['f', 'g', 'h', 'a', 'b', 'c', 'd', 'e'])"
     },
     "metadata": {},
     "execution_count": 91
    }
   ],
   "source": [
    "x"
   ]
  },
  {
   "cell_type": "code",
   "execution_count": 92,
   "metadata": {},
   "outputs": [],
   "source": [
    "x.rotate(-4)"
   ]
  },
  {
   "cell_type": "code",
   "execution_count": 93,
   "metadata": {},
   "outputs": [
    {
     "output_type": "execute_result",
     "data": {
      "text/plain": "deque(['b', 'c', 'd', 'e', 'f', 'g', 'h', 'a'])"
     },
     "metadata": {},
     "execution_count": 93
    }
   ],
   "source": [
    "x"
   ]
  },
  {
   "cell_type": "code",
   "execution_count": 94,
   "metadata": {},
   "outputs": [],
   "source": [
    "num = collections.deque(range(12))"
   ]
  },
  {
   "cell_type": "code",
   "execution_count": 95,
   "metadata": {},
   "outputs": [
    {
     "output_type": "execute_result",
     "data": {
      "text/plain": "deque([0, 1, 2, 3, 4, 5, 6, 7, 8, 9, 10, 11])"
     },
     "metadata": {},
     "execution_count": 95
    }
   ],
   "source": [
    "num"
   ]
  },
  {
   "cell_type": "code",
   "execution_count": 96,
   "metadata": {},
   "outputs": [],
   "source": [
    "num.rotate(4)"
   ]
  },
  {
   "cell_type": "code",
   "execution_count": 97,
   "metadata": {},
   "outputs": [
    {
     "output_type": "execute_result",
     "data": {
      "text/plain": "deque([8, 9, 10, 11, 0, 1, 2, 3, 4, 5, 6, 7])"
     },
     "metadata": {},
     "execution_count": 97
    }
   ],
   "source": [
    "num"
   ]
  },
  {
   "cell_type": "code",
   "execution_count": 98,
   "metadata": {},
   "outputs": [],
   "source": [
    "num.rotate(-6)"
   ]
  },
  {
   "cell_type": "code",
   "execution_count": 99,
   "metadata": {},
   "outputs": [
    {
     "output_type": "execute_result",
     "data": {
      "text/plain": "deque([2, 3, 4, 5, 6, 7, 8, 9, 10, 11, 0, 1])"
     },
     "metadata": {},
     "execution_count": 99
    }
   ],
   "source": [
    "num"
   ]
  },
  {
   "cell_type": "markdown",
   "metadata": {},
   "source": [
    "# Named Tuple"
   ]
  },
  {
   "cell_type": "code",
   "execution_count": 100,
   "metadata": {},
   "outputs": [],
   "source": [
    "import collections"
   ]
  },
  {
   "cell_type": "code",
   "execution_count": 101,
   "metadata": {},
   "outputs": [],
   "source": [
    "x = (\"James\",16,'Male')"
   ]
  },
  {
   "cell_type": "code",
   "execution_count": 102,
   "metadata": {},
   "outputs": [
    {
     "output_type": "execute_result",
     "data": {
      "text/plain": "('James', 16, 'Male')"
     },
     "metadata": {},
     "execution_count": 102
    }
   ],
   "source": [
    "x"
   ]
  },
  {
   "cell_type": "code",
   "execution_count": 103,
   "metadata": {},
   "outputs": [
    {
     "output_type": "execute_result",
     "data": {
      "text/plain": "16"
     },
     "metadata": {},
     "execution_count": 103
    }
   ],
   "source": [
    "x[1]"
   ]
  },
  {
   "cell_type": "code",
   "execution_count": 104,
   "metadata": {},
   "outputs": [
    {
     "output_type": "execute_result",
     "data": {
      "text/plain": "'Male'"
     },
     "metadata": {},
     "execution_count": 104
    }
   ],
   "source": [
    "x[2]"
   ]
  },
  {
   "cell_type": "code",
   "execution_count": 105,
   "metadata": {},
   "outputs": [],
   "source": [
    "y = ('Sara',18,12,\"Female\")"
   ]
  },
  {
   "cell_type": "code",
   "execution_count": 106,
   "metadata": {},
   "outputs": [
    {
     "output_type": "execute_result",
     "data": {
      "text/plain": "'Female'"
     },
     "metadata": {},
     "execution_count": 106
    }
   ],
   "source": [
    "y[-1]"
   ]
  },
  {
   "cell_type": "code",
   "execution_count": 107,
   "metadata": {},
   "outputs": [],
   "source": [
    "Student = collections.namedtuple(\"Student\",'name age grade')"
   ]
  },
  {
   "cell_type": "code",
   "execution_count": 108,
   "metadata": {},
   "outputs": [
    {
     "output_type": "execute_result",
     "data": {
      "text/plain": "type"
     },
     "metadata": {},
     "execution_count": 108
    }
   ],
   "source": [
    "type(Student)"
   ]
  },
  {
   "cell_type": "code",
   "execution_count": 109,
   "metadata": {},
   "outputs": [],
   "source": [
    "stud1 = Student(name='James',age=15,grade=10)"
   ]
  },
  {
   "cell_type": "code",
   "execution_count": 110,
   "metadata": {},
   "outputs": [
    {
     "output_type": "execute_result",
     "data": {
      "text/plain": "Student(name='James', age=15, grade=10)"
     },
     "metadata": {},
     "execution_count": 110
    }
   ],
   "source": [
    "stud1"
   ]
  },
  {
   "cell_type": "code",
   "execution_count": 111,
   "metadata": {},
   "outputs": [],
   "source": [
    "stud2 = Student(name = \"Sara\" , age = 18 , grade =12)"
   ]
  },
  {
   "cell_type": "code",
   "execution_count": 112,
   "metadata": {},
   "outputs": [
    {
     "output_type": "execute_result",
     "data": {
      "text/plain": "Student(name='Sara', age=18, grade=12)"
     },
     "metadata": {},
     "execution_count": 112
    }
   ],
   "source": [
    "stud2"
   ]
  },
  {
   "cell_type": "code",
   "execution_count": 113,
   "metadata": {},
   "outputs": [
    {
     "output_type": "execute_result",
     "data": {
      "text/plain": "'James'"
     },
     "metadata": {},
     "execution_count": 113
    }
   ],
   "source": [
    "stud1.name"
   ]
  },
  {
   "cell_type": "code",
   "execution_count": 114,
   "metadata": {},
   "outputs": [
    {
     "output_type": "execute_result",
     "data": {
      "text/plain": "10"
     },
     "metadata": {},
     "execution_count": 114
    }
   ],
   "source": [
    "stud1.grade"
   ]
  },
  {
   "cell_type": "code",
   "execution_count": 115,
   "metadata": {},
   "outputs": [
    {
     "output_type": "execute_result",
     "data": {
      "text/plain": "18"
     },
     "metadata": {},
     "execution_count": 115
    }
   ],
   "source": [
    "stud2.age"
   ]
  },
  {
   "cell_type": "code",
   "execution_count": 116,
   "metadata": {},
   "outputs": [
    {
     "output_type": "execute_result",
     "data": {
      "text/plain": "'Sara'"
     },
     "metadata": {},
     "execution_count": 116
    }
   ],
   "source": [
    "stud2.name"
   ]
  },
  {
   "cell_type": "code",
   "execution_count": 117,
   "metadata": {},
   "outputs": [],
   "source": [
    "Employee = collections.namedtuple('Employee','name age department')"
   ]
  },
  {
   "cell_type": "code",
   "execution_count": 118,
   "metadata": {},
   "outputs": [],
   "source": [
    "Smith = Employee(name= 'Smith' , age = 42 , department='Finance')\n",
    "Jane = Employee(name='Jane',age=37,department='IT')"
   ]
  },
  {
   "cell_type": "code",
   "execution_count": 119,
   "metadata": {},
   "outputs": [
    {
     "output_type": "execute_result",
     "data": {
      "text/plain": "37"
     },
     "metadata": {},
     "execution_count": 119
    }
   ],
   "source": [
    "Jane.age"
   ]
  },
  {
   "cell_type": "code",
   "execution_count": 120,
   "metadata": {},
   "outputs": [
    {
     "output_type": "execute_result",
     "data": {
      "text/plain": "'IT'"
     },
     "metadata": {},
     "execution_count": 120
    }
   ],
   "source": [
    "Jane.department"
   ]
  },
  {
   "cell_type": "code",
   "execution_count": 121,
   "metadata": {},
   "outputs": [
    {
     "output_type": "execute_result",
     "data": {
      "text/plain": "'Finance'"
     },
     "metadata": {},
     "execution_count": 121
    }
   ],
   "source": [
    "Smith.department"
   ]
  },
  {
   "cell_type": "code",
   "execution_count": 122,
   "metadata": {},
   "outputs": [],
   "source": [
    "# Can't use duplicate names or keywords in namedtuple fields\n",
    "# Employee = collections.namedtuple('Employee','name name age department')"
   ]
  },
  {
   "cell_type": "markdown",
   "metadata": {},
   "source": [
    "# Ordered Dictionary"
   ]
  },
  {
   "cell_type": "code",
   "execution_count": 123,
   "metadata": {},
   "outputs": [],
   "source": [
    "import collections"
   ]
  },
  {
   "cell_type": "code",
   "execution_count": 124,
   "metadata": {},
   "outputs": [],
   "source": [
    "a = {}"
   ]
  },
  {
   "cell_type": "code",
   "execution_count": 125,
   "metadata": {},
   "outputs": [],
   "source": [
    "a['x'] = 'X'"
   ]
  },
  {
   "cell_type": "code",
   "execution_count": 126,
   "metadata": {},
   "outputs": [
    {
     "output_type": "execute_result",
     "data": {
      "text/plain": "{'x': 'X'}"
     },
     "metadata": {},
     "execution_count": 126
    }
   ],
   "source": [
    "a"
   ]
  },
  {
   "cell_type": "code",
   "execution_count": 127,
   "metadata": {},
   "outputs": [],
   "source": [
    "a['y'] = 'Y'"
   ]
  },
  {
   "cell_type": "code",
   "execution_count": 128,
   "metadata": {},
   "outputs": [],
   "source": [
    "a['z'] = 'Z'"
   ]
  },
  {
   "cell_type": "code",
   "execution_count": 129,
   "metadata": {},
   "outputs": [
    {
     "output_type": "stream",
     "name": "stdout",
     "text": "x X\ny Y\nz Z\n"
    }
   ],
   "source": [
    "for keys,values in a.items():\n",
    "    print(keys,values)"
   ]
  },
  {
   "cell_type": "code",
   "execution_count": 130,
   "metadata": {},
   "outputs": [],
   "source": [
    "a = collections.OrderedDict()"
   ]
  },
  {
   "cell_type": "code",
   "execution_count": 131,
   "metadata": {},
   "outputs": [
    {
     "output_type": "execute_result",
     "data": {
      "text/plain": "OrderedDict()"
     },
     "metadata": {},
     "execution_count": 131
    }
   ],
   "source": [
    "a"
   ]
  },
  {
   "cell_type": "code",
   "execution_count": 132,
   "metadata": {},
   "outputs": [],
   "source": [
    "a['x'] = 'X'"
   ]
  },
  {
   "cell_type": "code",
   "execution_count": 133,
   "metadata": {},
   "outputs": [],
   "source": [
    "a['y'] = 'Y'"
   ]
  },
  {
   "cell_type": "code",
   "execution_count": 134,
   "metadata": {},
   "outputs": [],
   "source": [
    "a['z'] = 'Z'"
   ]
  },
  {
   "cell_type": "code",
   "execution_count": 135,
   "metadata": {},
   "outputs": [
    {
     "output_type": "execute_result",
     "data": {
      "text/plain": "OrderedDict([('x', 'X'), ('y', 'Y'), ('z', 'Z')])"
     },
     "metadata": {},
     "execution_count": 135
    }
   ],
   "source": [
    "a"
   ]
  },
  {
   "cell_type": "code",
   "execution_count": 136,
   "metadata": {},
   "outputs": [
    {
     "output_type": "stream",
     "name": "stdout",
     "text": "x X\ny Y\nz Z\n"
    }
   ],
   "source": [
    "for keys,values in a.items():\n",
    "    print(keys,values)"
   ]
  },
  {
   "cell_type": "code",
   "execution_count": 137,
   "metadata": {},
   "outputs": [],
   "source": [
    "dict1={}"
   ]
  },
  {
   "cell_type": "code",
   "execution_count": 138,
   "metadata": {},
   "outputs": [],
   "source": [
    "dict1['x'] = 'X'\n",
    "dict1['y'] = 'Y'\n",
    "dict1['z'] = 'Z'"
   ]
  },
  {
   "cell_type": "code",
   "execution_count": 139,
   "metadata": {},
   "outputs": [],
   "source": [
    "dict2 = {}"
   ]
  },
  {
   "cell_type": "code",
   "execution_count": 142,
   "metadata": {},
   "outputs": [],
   "source": [
    "dict2['y'] = 'Y'\n",
    "dict2['z'] = 'Z'\n",
    "dict2['x'] = 'X'"
   ]
  },
  {
   "cell_type": "code",
   "execution_count": 143,
   "metadata": {},
   "outputs": [
    {
     "output_type": "execute_result",
     "data": {
      "text/plain": "True"
     },
     "metadata": {},
     "execution_count": 143
    }
   ],
   "source": [
    "# True because they are regular unordered Dictionaries\n",
    "dict1 == dict2"
   ]
  },
  {
   "cell_type": "code",
   "execution_count": 144,
   "metadata": {},
   "outputs": [],
   "source": [
    "dict1 = collections.OrderedDict()"
   ]
  },
  {
   "cell_type": "code",
   "execution_count": 145,
   "metadata": {},
   "outputs": [],
   "source": [
    "dict1['x'] = 'X'\n",
    "dict1['y'] = 'Y'\n",
    "dict1['z'] = 'Z'"
   ]
  },
  {
   "cell_type": "code",
   "execution_count": 146,
   "metadata": {},
   "outputs": [],
   "source": [
    "dict2 = collections.OrderedDict()"
   ]
  },
  {
   "cell_type": "code",
   "execution_count": 147,
   "metadata": {},
   "outputs": [],
   "source": [
    "dict2['y'] = 'Y'\n",
    "dict2['z'] = 'Z'\n",
    "dict2['x'] = 'X'"
   ]
  },
  {
   "cell_type": "code",
   "execution_count": 148,
   "metadata": {},
   "outputs": [
    {
     "output_type": "execute_result",
     "data": {
      "text/plain": "False"
     },
     "metadata": {},
     "execution_count": 148
    }
   ],
   "source": [
    "# False because they are Collections Ordered Dictionaries\n",
    "dict1 == dict2"
   ]
  },
  {
   "cell_type": "code",
   "execution_count": null,
   "metadata": {},
   "outputs": [],
   "source": []
  }
 ],
 "metadata": {
  "language_info": {
   "codemirror_mode": {
    "name": "ipython",
    "version": 3
   },
   "file_extension": ".py",
   "mimetype": "text/x-python",
   "name": "python",
   "nbconvert_exporter": "python",
   "pygments_lexer": "ipython3",
   "version": "3.8.1-final"
  },
  "orig_nbformat": 2,
  "kernelspec": {
   "name": "python38132bit51bf2d4383df4065b0c992fe407a3440",
   "display_name": "Python 3.8.1 32-bit"
  }
 },
 "nbformat": 4,
 "nbformat_minor": 2
}