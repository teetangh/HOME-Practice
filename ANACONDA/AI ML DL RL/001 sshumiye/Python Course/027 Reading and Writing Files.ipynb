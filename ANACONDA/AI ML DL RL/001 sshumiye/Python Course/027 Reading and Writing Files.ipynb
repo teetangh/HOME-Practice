{
 "cells": [
  {
   "cell_type": "code",
   "execution_count": 1,
   "metadata": {},
   "outputs": [],
   "source": [
    "first_file = open('file1.txt')"
   ]
  },
  {
   "cell_type": "code",
   "execution_count": 2,
   "metadata": {},
   "outputs": [
    {
     "output_type": "execute_result",
     "data": {
      "text/plain": "'This is the first file.\\nThis is the seond file.\\nThis is the third file.\\nThis is the fourth file.'"
     },
     "metadata": {},
     "execution_count": 2
    }
   ],
   "source": [
    "first_file.read()"
   ]
  },
  {
   "cell_type": "code",
   "execution_count": 4,
   "metadata": {},
   "outputs": [
    {
     "output_type": "execute_result",
     "data": {
      "text/plain": "''"
     },
     "metadata": {},
     "execution_count": 4
    }
   ],
   "source": [
    "first_file.read() # Cursor is at EOF"
   ]
  },
  {
   "cell_type": "code",
   "execution_count": 5,
   "metadata": {},
   "outputs": [
    {
     "output_type": "execute_result",
     "data": {
      "text/plain": "0"
     },
     "metadata": {},
     "execution_count": 5
    }
   ],
   "source": [
    "first_file.seek(0)  # 0 start,1 current ,2 end"
   ]
  },
  {
   "cell_type": "code",
   "execution_count": 6,
   "metadata": {},
   "outputs": [
    {
     "output_type": "execute_result",
     "data": {
      "text/plain": "'This is the first file.\\nThis is the seond file.\\nThis is the third file.\\nThis is the fourth file.'"
     },
     "metadata": {},
     "execution_count": 6
    }
   ],
   "source": [
    "first_file.read()"
   ]
  },
  {
   "cell_type": "code",
   "execution_count": 8,
   "metadata": {},
   "outputs": [
    {
     "output_type": "execute_result",
     "data": {
      "text/plain": "'This is the first file.\\n'"
     },
     "metadata": {},
     "execution_count": 8
    }
   ],
   "source": [
    "first_file.seek(0)  # 0 start,1 current ,2 end\n",
    "first_file.readline()"
   ]
  },
  {
   "cell_type": "code",
   "execution_count": 9,
   "metadata": {},
   "outputs": [
    {
     "output_type": "execute_result",
     "data": {
      "text/plain": "'This is the third file.\\n'"
     },
     "metadata": {},
     "execution_count": 9
    }
   ],
   "source": [
    "first_file.readline()\n",
    "first_file.readline()"
   ]
  },
  {
   "cell_type": "code",
   "execution_count": 10,
   "metadata": {},
   "outputs": [
    {
     "output_type": "execute_result",
     "data": {
      "text/plain": "['This is the first file.\\n',\n 'This is the seond file.\\n',\n 'This is the third file.\\n',\n 'This is the fourth file.']"
     },
     "metadata": {},
     "execution_count": 10
    }
   ],
   "source": [
    "first_file.seek(0)  # 0 start,1 current ,2 end\n",
    "first_file.readlines() # Returns the entire file as a list"
   ]
  },
  {
   "cell_type": "code",
   "execution_count": 11,
   "metadata": {},
   "outputs": [
    {
     "output_type": "execute_result",
     "data": {
      "text/plain": "[]"
     },
     "metadata": {},
     "execution_count": 11
    }
   ],
   "source": [
    "first_file.readlines() # Cursor at EOF"
   ]
  },
  {
   "cell_type": "code",
   "execution_count": 12,
   "metadata": {},
   "outputs": [
    {
     "output_type": "execute_result",
     "data": {
      "text/plain": "0"
     },
     "metadata": {},
     "execution_count": 12
    }
   ],
   "source": [
    "first_file.seek(0)  # 0 start,1 current ,2 end"
   ]
  },
  {
   "cell_type": "code",
   "execution_count": 15,
   "metadata": {},
   "outputs": [
    {
     "output_type": "stream",
     "name": "stdout",
     "text": "This is the first file.\nThis is the seond file.\nThis is the third file.\nThis is the fourth file.\n"
    }
   ],
   "source": [
    "first_file = open('file1.txt')\n",
    "\n",
    "for each_line in first_file:\n",
    "    all_lines = each_line.strip()\n",
    "    print( all_lines)"
   ]
  },
  {
   "cell_type": "code",
   "execution_count": null,
   "metadata": {},
   "outputs": [],
   "source": [
    "first_file.seek(0) "
   ]
  }
 ],
 "metadata": {
  "language_info": {
   "codemirror_mode": {
    "name": "ipython",
    "version": 3
   },
   "file_extension": ".py",
   "mimetype": "text/x-python",
   "name": "python",
   "nbconvert_exporter": "python",
   "pygments_lexer": "ipython3",
   "version": "3.8.1-final"
  },
  "orig_nbformat": 2,
  "kernelspec": {
   "name": "python38132bit51bf2d4383df4065b0c992fe407a3440",
   "display_name": "Python 3.8.1 32-bit"
  }
 },
 "nbformat": 4,
 "nbformat_minor": 2
}