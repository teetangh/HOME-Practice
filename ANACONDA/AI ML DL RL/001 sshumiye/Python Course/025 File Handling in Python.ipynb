{
 "cells": [
  {
   "cell_type": "code",
   "execution_count": 1,
   "metadata": {},
   "outputs": [],
   "source": [
    "# In linux and max use 1 forward slash\n",
    "# In windows use 2 backward slashes or raw-strings"
   ]
  },
  {
   "cell_type": "code",
   "execution_count": 2,
   "metadata": {},
   "outputs": [
    {
     "output_type": "stream",
     "name": "stdout",
     "text": "C:\\Users\\Kaustav\\Desktop\\MY CODE\\HOME Practice\\ANACONDA\\AI ML DL RL\\001 sshumiye\\Python Course\\file_name\n"
    }
   ],
   "source": [
    "print(r\"C:\\Users\\Kaustav\\Desktop\\MY CODE\\HOME Practice\\ANACONDA\\AI ML DL RL\\001 sshumiye\\Python Course\\file_name\")"
   ]
  },
  {
   "cell_type": "code",
   "execution_count": 3,
   "metadata": {},
   "outputs": [
    {
     "output_type": "stream",
     "name": "stdout",
     "text": "C:\\Users\\Kaustav\\Desktop\\MY CODE\\HOME Practice\\ANACONDA\\AI ML DL RL\\001 sshumiye\\Python Course\n"
    }
   ],
   "source": [
    "print(\"C:\\\\Users\\\\Kaustav\\\\Desktop\\\\MY CODE\\\\HOME Practice\\\\ANACONDA\\\\AI ML DL RL\\\\001 sshumiye\\\\Python Course\")"
   ]
  },
  {
   "cell_type": "code",
   "execution_count": 4,
   "metadata": {},
   "outputs": [],
   "source": [
    "# \\\\.join(['folder1','folder2','folder3','file.png'])"
   ]
  },
  {
   "cell_type": "code",
   "execution_count": 5,
   "metadata": {},
   "outputs": [
    {
     "output_type": "execute_result",
     "data": {
      "text/plain": "'folder1\\\\folder2\\\\folder3\\\\file.png'"
     },
     "metadata": {},
     "execution_count": 5
    }
   ],
   "source": [
    "import os\n",
    "\n",
    "os.path.join('folder1','folder2','folder3','file.png')"
   ]
  },
  {
   "cell_type": "code",
   "execution_count": 6,
   "metadata": {},
   "outputs": [
    {
     "output_type": "execute_result",
     "data": {
      "text/plain": "'c:\\\\Users\\\\Kaustav\\\\Desktop\\\\MY CODE\\\\HOME Practice\\\\ANACONDA\\\\AI ML DL RL\\\\001 sshumiye\\\\Python Course'"
     },
     "metadata": {},
     "execution_count": 6
    }
   ],
   "source": [
    "# To get the current working directory\n",
    "os.getcwd()"
   ]
  },
  {
   "cell_type": "code",
   "execution_count": 7,
   "metadata": {},
   "outputs": [],
   "source": [
    "os.chdir(\"c:\\\\Users\\\\Kaustav\\\\Desktop\\\\\")"
   ]
  },
  {
   "cell_type": "code",
   "execution_count": 8,
   "metadata": {},
   "outputs": [
    {
     "output_type": "execute_result",
     "data": {
      "text/plain": "'c:\\\\Users\\\\Kaustav\\\\Desktop'"
     },
     "metadata": {},
     "execution_count": 8
    }
   ],
   "source": [
    "os.getcwd()"
   ]
  },
  {
   "cell_type": "code",
   "execution_count": 9,
   "metadata": {},
   "outputs": [],
   "source": [
    "os.chdir(\"c:\\\\Users\\\\Kaustav\\\\Desktop\\\\MY CODE\\\\HOME Practice\\\\ANACONDA\\\\AI ML DL RL\\\\001 sshumiye\")"
   ]
  },
  {
   "cell_type": "code",
   "execution_count": 10,
   "metadata": {},
   "outputs": [
    {
     "output_type": "execute_result",
     "data": {
      "text/plain": "'c:\\\\Users\\\\Kaustav\\\\Desktop\\\\MY CODE\\\\HOME Practice\\\\ANACONDA\\\\AI ML DL RL\\\\001 sshumiye'"
     },
     "metadata": {},
     "execution_count": 10
    }
   ],
   "source": [
    "os.getcwd()"
   ]
  },
  {
   "cell_type": "code",
   "execution_count": 11,
   "metadata": {},
   "outputs": [],
   "source": [
    "# Absolute and Relative File Paths\n",
    "\n",
    "# .folder ->refers to this folder\n",
    "# ..folder ->refers to parent folder"
   ]
  },
  {
   "cell_type": "code",
   "execution_count": 12,
   "metadata": {},
   "outputs": [
    {
     "output_type": "execute_result",
     "data": {
      "text/plain": "'c:\\\\Users\\\\Kaustav\\\\Desktop\\\\MY CODE\\\\HOME Practice\\\\ANACONDA\\\\AI ML DL RL\\\\001 sshumiye\\\\file_name'"
     },
     "metadata": {},
     "execution_count": 12
    }
   ],
   "source": [
    "os.path.abspath('file_name')"
   ]
  },
  {
   "cell_type": "code",
   "execution_count": 13,
   "metadata": {},
   "outputs": [],
   "source": [
    "os.chdir('c:\\\\Users\\\\Kaustav\\\\Desktop\\\\')"
   ]
  },
  {
   "cell_type": "code",
   "execution_count": 14,
   "metadata": {},
   "outputs": [
    {
     "output_type": "execute_result",
     "data": {
      "text/plain": "'c:\\\\Users\\\\Kaustav\\\\Desktop'"
     },
     "metadata": {},
     "execution_count": 14
    }
   ],
   "source": [
    "os.getcwd()"
   ]
  },
  {
   "cell_type": "code",
   "execution_count": 15,
   "metadata": {},
   "outputs": [
    {
     "output_type": "execute_result",
     "data": {
      "text/plain": "'c:\\\\Users\\\\Kaustav\\\\Desktop\\\\file_name'"
     },
     "metadata": {},
     "execution_count": 15
    }
   ],
   "source": [
    "os.path.abspath('file_name')"
   ]
  },
  {
   "cell_type": "code",
   "execution_count": 16,
   "metadata": {},
   "outputs": [
    {
     "output_type": "execute_result",
     "data": {
      "text/plain": "True"
     },
     "metadata": {},
     "execution_count": 16
    }
   ],
   "source": [
    "os.path.isabs('c:\\\\Users\\\\Kaustav\\\\Desktop\\\\file_name')"
   ]
  },
  {
   "cell_type": "code",
   "execution_count": 17,
   "metadata": {},
   "outputs": [
    {
     "output_type": "execute_result",
     "data": {
      "text/plain": "False"
     },
     "metadata": {},
     "execution_count": 17
    }
   ],
   "source": [
    "os.path.isabs('file_name')"
   ]
  },
  {
   "cell_type": "code",
   "execution_count": 18,
   "metadata": {},
   "outputs": [],
   "source": [
    "os.chdir('c:\\\\Users\\\\Kaustav\\\\Desktop\\\\')"
   ]
  },
  {
   "cell_type": "code",
   "execution_count": 19,
   "metadata": {},
   "outputs": [
    {
     "output_type": "execute_result",
     "data": {
      "text/plain": "'MY CODE\\\\HOME Practice\\\\ANACONDA\\\\AI ML DL RL\\\\001 sshumiye\\\\Python Course\\\\file_name'"
     },
     "metadata": {},
     "execution_count": 19
    }
   ],
   "source": [
    "os.path.relpath(r'C:\\Users\\Kaustav\\Desktop\\MY CODE\\HOME Practice\\ANACONDA\\AI ML DL RL\\001 sshumiye\\Python Course\\file_name',r'C:\\Users\\Kaustav\\Desktop')"
   ]
  },
  {
   "cell_type": "code",
   "execution_count": 20,
   "metadata": {},
   "outputs": [
    {
     "output_type": "execute_result",
     "data": {
      "text/plain": "'C:\\\\Users\\\\Kaustav\\\\Desktop\\\\MY CODE\\\\HOME Practice\\\\ANACONDA\\\\AI ML DL RL\\\\001 sshumiye\\\\Python Course'"
     },
     "metadata": {},
     "execution_count": 20
    }
   ],
   "source": [
    "os.path.dirname(r'C:\\Users\\Kaustav\\Desktop\\MY CODE\\HOME Practice\\ANACONDA\\AI ML DL RL\\001 sshumiye\\Python Course\\file_name')"
   ]
  },
  {
   "cell_type": "code",
   "execution_count": 21,
   "metadata": {},
   "outputs": [
    {
     "output_type": "execute_result",
     "data": {
      "text/plain": "'file_name'"
     },
     "metadata": {},
     "execution_count": 21
    }
   ],
   "source": [
    "os.path.basename(r'C:\\Users\\Kaustav\\Desktop\\MY CODE\\HOME Practice\\ANACONDA\\AI ML DL RL\\001 sshumiye\\Python Course\\file_name')"
   ]
  },
  {
   "cell_type": "code",
   "execution_count": 22,
   "metadata": {},
   "outputs": [
    {
     "output_type": "execute_result",
     "data": {
      "text/plain": "True"
     },
     "metadata": {},
     "execution_count": 22
    }
   ],
   "source": [
    "os.path.exists(r'C:\\Users\\Kaustav\\Desktop\\MY CODE\\HOME Practice\\ANACONDA\\AI ML DL RL\\001 sshumiye\\Python Course\\file_name')"
   ]
  },
  {
   "cell_type": "code",
   "execution_count": 23,
   "metadata": {},
   "outputs": [
    {
     "output_type": "execute_result",
     "data": {
      "text/plain": "False"
     },
     "metadata": {},
     "execution_count": 23
    }
   ],
   "source": [
    "os.path.exists(r'C:\\Users\\Kaustav\\Desktop\\MY CODE\\HOME Practice\\ANACONDA\\AI ML DL RL\\001 sshumiye\\Python Course\\fake_file_name')\n"
   ]
  },
  {
   "cell_type": "code",
   "execution_count": 24,
   "metadata": {},
   "outputs": [
    {
     "output_type": "execute_result",
     "data": {
      "text/plain": "True"
     },
     "metadata": {},
     "execution_count": 24
    }
   ],
   "source": [
    "os.path.isfile(r'C:\\Users\\Kaustav\\Desktop\\MY CODE\\HOME Practice\\ANACONDA\\AI ML DL RL\\001 sshumiye\\Python Course\\file_name')\n"
   ]
  },
  {
   "cell_type": "code",
   "execution_count": 25,
   "metadata": {},
   "outputs": [
    {
     "output_type": "execute_result",
     "data": {
      "text/plain": "False"
     },
     "metadata": {},
     "execution_count": 25
    }
   ],
   "source": [
    "os.path.isfile(r'C:\\Users\\Kaustav\\Desktop\\MY CODE\\HOME Practice\\ANACONDA\\AI ML DL RL\\001 sshumiye\\Python Course\\fake_file_name')"
   ]
  },
  {
   "cell_type": "code",
   "execution_count": 26,
   "metadata": {},
   "outputs": [
    {
     "output_type": "execute_result",
     "data": {
      "text/plain": "False"
     },
     "metadata": {},
     "execution_count": 26
    }
   ],
   "source": [
    "os.path.isdir(r'C:\\Users\\Kaustav\\Desktop\\MY CODE\\HOME Practice\\ANACONDA\\AI ML DL RL\\001 sshumiye\\Python Course\\file_name')"
   ]
  },
  {
   "cell_type": "code",
   "execution_count": 27,
   "metadata": {},
   "outputs": [
    {
     "output_type": "execute_result",
     "data": {
      "text/plain": "True"
     },
     "metadata": {},
     "execution_count": 27
    }
   ],
   "source": [
    "os.path.isdir(r'C:\\Users\\Kaustav\\Desktop')"
   ]
  },
  {
   "cell_type": "code",
   "execution_count": 28,
   "metadata": {},
   "outputs": [
    {
     "output_type": "stream",
     "name": "stdout",
     "text": "bytes\n"
    },
    {
     "output_type": "execute_result",
     "data": {
      "text/plain": "45"
     },
     "metadata": {},
     "execution_count": 28
    }
   ],
   "source": [
    "print('bytes')\n",
    "os.path.getsize(r'C:\\Users\\Kaustav\\Desktop\\MY CODE\\HOME Practice\\ANACONDA\\AI ML DL RL\\001 sshumiye\\Python Course\\file_name')"
   ]
  },
  {
   "cell_type": "code",
   "execution_count": 29,
   "metadata": {},
   "outputs": [
    {
     "output_type": "execute_result",
     "data": {
      "text/plain": "['001 Intro IDE Jupyter Nbk .ipynb',\n '002 Basic Intro.ipynb',\n '003 Strings in Python.ipynb',\n '004 Lists in Python.ipynb',\n '005 Tuples in Python.ipynb',\n '006 Dictionaries in Python.ipynb',\n '007 Sets in Python.ipynb',\n '008 Numbers in Python.ipynb',\n '009 Python Operators.ipynb',\n '010 Range Functions.ipynb',\n '011 Project 1 - Guess the Number.ipynb',\n '012 If,elif and else Statements in Python.ipynb',\n '013 For Loops in Python.ipynb',\n '014 While Loops in Python.ipynb',\n '015 Functions in Python.ipynb',\n '016 Lambda Functions.ipynb',\n '017 Functions - Exercise.ipynb',\n '018 Exercise on Strings and Lists.ipynb',\n '019 Classes in Python.ipynb',\n '020 Multiple Inheritance.ipynb',\n '021 OOP - Exercise.ipynb',\n '022 Errors and Exception Handling.ipynb',\n '023 Exercise - Errors and Exception Handling.ipynb',\n '024B Project 2.ipynb',\n '025 File Handling in Python.ipynb',\n 'Files',\n 'file_name']"
     },
     "metadata": {},
     "execution_count": 29
    }
   ],
   "source": [
    "os.listdir(r'C:\\Users\\Kaustav\\Desktop\\MY CODE\\HOME Practice\\ANACONDA\\AI ML DL RL\\001 sshumiye\\Python Course')"
   ]
  },
  {
   "cell_type": "code",
   "execution_count": 30,
   "metadata": {},
   "outputs": [
    {
     "output_type": "stream",
     "name": "stdout",
     "text": "c:\\Users\\Kaustav\\Desktop\nFalse\nTrue\n"
    }
   ],
   "source": [
    "os.chdir('c:\\\\Users\\\\Kaustav\\\\Desktop\\\\')\n",
    "print(os.getcwd())\n",
    "print(os.path.isfile('c:\\\\Users\\\\Kaustav\\\\Desktop\\\\file_name'))\n",
    "print(os.path.isfile(r'C:\\Users\\Kaustav\\Desktop\\MY CODE\\HOME Practice\\ANACONDA\\AI ML DL RL\\001 sshumiye\\Python Course\\file_name'))\n"
   ]
  },
  {
   "cell_type": "code",
   "execution_count": null,
   "metadata": {},
   "outputs": [],
   "source": []
  }
 ],
 "metadata": {
  "language_info": {
   "codemirror_mode": {
    "name": "ipython",
    "version": 3
   },
   "file_extension": ".py",
   "mimetype": "text/x-python",
   "name": "python",
   "nbconvert_exporter": "python",
   "pygments_lexer": "ipython3",
   "version": "3.8.1-final"
  },
  "orig_nbformat": 2,
  "kernelspec": {
   "name": "python38132bit51bf2d4383df4065b0c992fe407a3440",
   "display_name": "Python 3.8.1 32-bit"
  }
 },
 "nbformat": 4,
 "nbformat_minor": 2
}