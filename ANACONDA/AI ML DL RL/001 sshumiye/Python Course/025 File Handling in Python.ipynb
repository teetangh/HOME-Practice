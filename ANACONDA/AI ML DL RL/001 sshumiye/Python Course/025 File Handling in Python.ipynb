{
 "cells": [
  {
   "cell_type": "code",
   "execution_count": 1,
   "metadata": {},
   "outputs": [],
   "source": [
    "# In linux and max use 1 forward slash\n",
    "# In windows use 2 backward slashes or raw-strings"
   ]
  },
  {
   "cell_type": "code",
   "execution_count": 2,
   "metadata": {},
   "outputs": [
    {
     "output_type": "stream",
     "name": "stdout",
     "text": "C:\\Users\\Kaustav\\Desktop\\MY CODE\\HOME Practice\\ANACONDA\\AI ML DL RL\\001 sshumiye\\file_name\n"
    }
   ],
   "source": [
    "print(r\"C:\\Users\\Kaustav\\Desktop\\MY CODE\\HOME Practice\\ANACONDA\\AI ML DL RL\\001 sshumiye\\file_name\")"
   ]
  },
  {
   "cell_type": "code",
   "execution_count": 3,
   "metadata": {},
   "outputs": [
    {
     "output_type": "stream",
     "name": "stdout",
     "text": "C:\\Users\\Kaustav\\Desktop\\MY CODE\\HOME Practice\\ANACONDA\\AI ML DL RL\\001 sshumiye\\file_name\n"
    }
   ],
   "source": [
    "print(\"C:\\\\Users\\\\Kaustav\\\\Desktop\\\\MY CODE\\\\HOME Practice\\\\ANACONDA\\\\AI ML DL RL\\\\001 sshumiye\\\\file_name\")"
   ]
  },
  {
   "cell_type": "code",
   "execution_count": 4,
   "metadata": {},
   "outputs": [],
   "source": [
    "# \\\\.join(['folder1','folder2','folder3','file.png'])"
   ]
  },
  {
   "cell_type": "code",
   "execution_count": 5,
   "metadata": {},
   "outputs": [
    {
     "output_type": "execute_result",
     "data": {
      "text/plain": "'folder1\\\\folder2\\\\folder3\\\\file.png'"
     },
     "metadata": {},
     "execution_count": 5
    }
   ],
   "source": [
    "import os\n",
    "\n",
    "os.path.join('folder1','folder2','folder3','file.png')"
   ]
  },
  {
   "cell_type": "code",
   "execution_count": 6,
   "metadata": {},
   "outputs": [
    {
     "output_type": "execute_result",
     "data": {
      "text/plain": "'c:\\\\Users\\\\Kaustav\\\\Desktop\\\\MY CODE\\\\HOME Practice\\\\ANACONDA\\\\AI ML DL RL\\\\001 sshumiye'"
     },
     "metadata": {},
     "execution_count": 6
    }
   ],
   "source": [
    "# To get the current working directory\n",
    "os.getcwd()"
   ]
  },
  {
   "cell_type": "code",
   "execution_count": 7,
   "metadata": {},
   "outputs": [],
   "source": [
    "os.chdir(\"c:\\\\Users\\\\Kaustav\\\\Desktop\\\\\")"
   ]
  },
  {
   "cell_type": "code",
   "execution_count": 8,
   "metadata": {},
   "outputs": [
    {
     "output_type": "execute_result",
     "data": {
      "text/plain": "'c:\\\\Users\\\\Kaustav\\\\Desktop'"
     },
     "metadata": {},
     "execution_count": 8
    }
   ],
   "source": [
    "os.getcwd()"
   ]
  },
  {
   "cell_type": "code",
   "execution_count": 9,
   "metadata": {},
   "outputs": [],
   "source": [
    "os.chdir(\"c:\\\\Users\\\\Kaustav\\\\Desktop\\\\MY CODE\\\\HOME Practice\\\\ANACONDA\\\\AI ML DL RL\\\\001 sshumiye\")"
   ]
  },
  {
   "cell_type": "code",
   "execution_count": 10,
   "metadata": {},
   "outputs": [
    {
     "output_type": "execute_result",
     "data": {
      "text/plain": "'c:\\\\Users\\\\Kaustav\\\\Desktop\\\\MY CODE\\\\HOME Practice\\\\ANACONDA\\\\AI ML DL RL\\\\001 sshumiye'"
     },
     "metadata": {},
     "execution_count": 10
    }
   ],
   "source": [
    "os.getcwd()"
   ]
  },
  {
   "cell_type": "code",
   "execution_count": 11,
   "metadata": {},
   "outputs": [],
   "source": [
    "# Absolute and Relative File Paths\n",
    "\n",
    "# .folder ->refers to this folder\n",
    "# ..folder ->refers to parent folder"
   ]
  },
  {
   "cell_type": "code",
   "execution_count": 12,
   "metadata": {},
   "outputs": [
    {
     "output_type": "execute_result",
     "data": {
      "text/plain": "'c:\\\\Users\\\\Kaustav\\\\Desktop\\\\MY CODE\\\\HOME Practice\\\\ANACONDA\\\\AI ML DL RL\\\\001 sshumiye\\\\file_name'"
     },
     "metadata": {},
     "execution_count": 12
    }
   ],
   "source": [
    "os.path.abspath('file_name')"
   ]
  },
  {
   "cell_type": "code",
   "execution_count": 13,
   "metadata": {},
   "outputs": [],
   "source": [
    "os.chdir('c:\\\\Users\\\\Kaustav\\\\Desktop\\\\')"
   ]
  },
  {
   "cell_type": "code",
   "execution_count": 14,
   "metadata": {},
   "outputs": [
    {
     "output_type": "execute_result",
     "data": {
      "text/plain": "'c:\\\\Users\\\\Kaustav\\\\Desktop'"
     },
     "metadata": {},
     "execution_count": 14
    }
   ],
   "source": [
    "os.getcwd()"
   ]
  },
  {
   "cell_type": "code",
   "execution_count": 15,
   "metadata": {},
   "outputs": [
    {
     "output_type": "execute_result",
     "data": {
      "text/plain": "'c:\\\\Users\\\\Kaustav\\\\Desktop\\\\file_name'"
     },
     "metadata": {},
     "execution_count": 15
    }
   ],
   "source": [
    "os.path.abspath('file_name')"
   ]
  },
  {
   "cell_type": "code",
   "execution_count": 16,
   "metadata": {},
   "outputs": [
    {
     "output_type": "execute_result",
     "data": {
      "text/plain": "True"
     },
     "metadata": {},
     "execution_count": 16
    }
   ],
   "source": [
    "os.path.isabs('c:\\\\Users\\\\Kaustav\\\\Desktop\\\\file_name')"
   ]
  },
  {
   "cell_type": "code",
   "execution_count": 17,
   "metadata": {},
   "outputs": [
    {
     "output_type": "execute_result",
     "data": {
      "text/plain": "False"
     },
     "metadata": {},
     "execution_count": 17
    }
   ],
   "source": [
    "os.path.isabs('file_name')"
   ]
  },
  {
   "cell_type": "code",
   "execution_count": 18,
   "metadata": {},
   "outputs": [
    {
     "output_type": "error",
     "ename": "FileNotFoundError",
     "evalue": "[WinError 2] The system cannot find the file specified: '\\\\Users\\\\Kasutav'",
     "traceback": [
      "\u001b[1;31m---------------------------------------------------------------------------\u001b[0m",
      "\u001b[1;31mFileNotFoundError\u001b[0m                         Traceback (most recent call last)",
      "\u001b[1;32m<ipython-input-18-9c1f505381d7>\u001b[0m in \u001b[0;36m<module>\u001b[1;34m\u001b[0m\n\u001b[1;32m----> 1\u001b[1;33m \u001b[0mos\u001b[0m\u001b[1;33m.\u001b[0m\u001b[0mchdir\u001b[0m\u001b[1;33m(\u001b[0m\u001b[1;34m'\\\\Users\\\\Kasutav'\u001b[0m\u001b[1;33m)\u001b[0m\u001b[1;33m\u001b[0m\u001b[1;33m\u001b[0m\u001b[0m\n\u001b[0m",
      "\u001b[1;31mFileNotFoundError\u001b[0m: [WinError 2] The system cannot find the file specified: '\\\\Users\\\\Kasutav'"
     ]
    }
   ],
   "source": [
    "os.chdir('c:\\\\Users\\\\Kaustav\\\\Desktop\\\\)"
   ]
  },
  {
   "cell_type": "code",
   "execution_count": null,
   "metadata": {},
   "outputs": [],
   "source": []
  }
 ],
 "metadata": {
  "language_info": {
   "codemirror_mode": {
    "name": "ipython",
    "version": 3
   },
   "file_extension": ".py",
   "mimetype": "text/x-python",
   "name": "python",
   "nbconvert_exporter": "python",
   "pygments_lexer": "ipython3",
   "version": "3.8.1-final"
  },
  "orig_nbformat": 2,
  "kernelspec": {
   "name": "python38132bit51bf2d4383df4065b0c992fe407a3440",
   "display_name": "Python 3.8.1 32-bit"
  }
 },
 "nbformat": 4,
 "nbformat_minor": 2
}