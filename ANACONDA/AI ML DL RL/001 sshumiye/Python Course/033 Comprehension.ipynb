{
 "cells": [
  {
   "cell_type": "code",
   "execution_count": 1,
   "metadata": {},
   "outputs": [],
   "source": [
    "list1 = [1,2,3,4,5]\n",
    "cubes = []"
   ]
  },
  {
   "cell_type": "code",
   "execution_count": 2,
   "metadata": {},
   "outputs": [],
   "source": [
    "for numbers in list1:\n",
    "    cubes.append(numbers ** 3)"
   ]
  },
  {
   "cell_type": "code",
   "execution_count": 4,
   "metadata": {},
   "outputs": [
    {
     "output_type": "execute_result",
     "data": {
      "text/plain": "[1, 8, 27, 64, 125]"
     },
     "metadata": {},
     "execution_count": 4
    }
   ],
   "source": [
    "cubes"
   ]
  },
  {
   "cell_type": "code",
   "execution_count": 5,
   "metadata": {},
   "outputs": [
    {
     "output_type": "execute_result",
     "data": {
      "text/plain": "[1, 8, 27, 64, 125]"
     },
     "metadata": {},
     "execution_count": 5
    }
   ],
   "source": [
    "[numbers ** 3 for numbers in list1]"
   ]
  },
  {
   "cell_type": "code",
   "execution_count": 6,
   "metadata": {},
   "outputs": [],
   "source": [
    "sqrt = []\n",
    "\n",
    "for number in list1:\n",
    "    sqrt.append(number ** 0.5)"
   ]
  },
  {
   "cell_type": "code",
   "execution_count": 7,
   "metadata": {},
   "outputs": [
    {
     "output_type": "execute_result",
     "data": {
      "text/plain": "[1.0, 1.4142135623730951, 1.7320508075688772, 2.0, 2.23606797749979]"
     },
     "metadata": {},
     "execution_count": 7
    }
   ],
   "source": [
    "sqrt"
   ]
  },
  {
   "cell_type": "code",
   "execution_count": 8,
   "metadata": {},
   "outputs": [
    {
     "output_type": "execute_result",
     "data": {
      "text/plain": "[1.0, 1.4142135623730951, 1.7320508075688772, 2.0, 2.23606797749979]"
     },
     "metadata": {},
     "execution_count": 8
    }
   ],
   "source": [
    "[numbers ** 0.5 for numbers in list1]"
   ]
  },
  {
   "cell_type": "code",
   "execution_count": 9,
   "metadata": {},
   "outputs": [],
   "source": [
    "list2 = [-2,-4,-5,-8,3,5]\n",
    "absv = []\n",
    "\n",
    "for x in list2:\n",
    "    absv.append(abs(x))"
   ]
  },
  {
   "cell_type": "code",
   "execution_count": 10,
   "metadata": {},
   "outputs": [
    {
     "output_type": "execute_result",
     "data": {
      "text/plain": "[2, 4, 5, 8, 3, 5]"
     },
     "metadata": {},
     "execution_count": 10
    }
   ],
   "source": [
    "absv"
   ]
  },
  {
   "cell_type": "code",
   "execution_count": 11,
   "metadata": {},
   "outputs": [],
   "source": [
    "absv = [abs(x) for x in list2]"
   ]
  },
  {
   "cell_type": "code",
   "execution_count": 12,
   "metadata": {},
   "outputs": [
    {
     "output_type": "execute_result",
     "data": {
      "text/plain": "[2, 4, 5, 8, 3, 5]"
     },
     "metadata": {},
     "execution_count": 12
    }
   ],
   "source": [
    "absv"
   ]
  },
  {
   "cell_type": "code",
   "execution_count": 13,
   "metadata": {},
   "outputs": [
    {
     "output_type": "execute_result",
     "data": {
      "text/plain": "[-2, -4, -5, -8, 3, 5]"
     },
     "metadata": {},
     "execution_count": 13
    }
   ],
   "source": [
    "list2"
   ]
  },
  {
   "cell_type": "code",
   "execution_count": 14,
   "metadata": {},
   "outputs": [
    {
     "output_type": "execute_result",
     "data": {
      "text/plain": "[2, 4, 5, 8, 27, 125]"
     },
     "metadata": {},
     "execution_count": 14
    }
   ],
   "source": [
    "both = []\n",
    "\n",
    "for x in list2:\n",
    "    if x < 0:\n",
    "        both.append(abs(x))\n",
    "    else:\n",
    "        both.append(x ** 3)\n",
    "both"
   ]
  },
  {
   "cell_type": "code",
   "execution_count": 18,
   "metadata": {},
   "outputs": [
    {
     "output_type": "execute_result",
     "data": {
      "text/plain": "[2, 4, 5, 8, 27, 125]"
     },
     "metadata": {},
     "execution_count": 18
    }
   ],
   "source": [
    "[abs (x) if x < 0 else x ** 3 for x in list2 ]"
   ]
  },
  {
   "cell_type": "code",
   "execution_count": 19,
   "metadata": {},
   "outputs": [],
   "source": [
    "list3 = [-2,-3,-4,2,3,4,5,6]\n",
    "\n",
    "three_methods = []\n",
    "\n",
    "for number in list3:\n",
    "    if number < 0:\n",
    "        three_methods.append(abs(number))\n",
    "    elif number % 2 == 0:\n",
    "        three_methods.append(number ** 0.5)\n",
    "    else:\n",
    "        three_methods.append(number ** 3)"
   ]
  },
  {
   "cell_type": "code",
   "execution_count": 20,
   "metadata": {},
   "outputs": [
    {
     "output_type": "execute_result",
     "data": {
      "text/plain": "[2, 3, 4, 1.4142135623730951, 27, 2.0, 125, 2.449489742783178]"
     },
     "metadata": {},
     "execution_count": 20
    }
   ],
   "source": [
    "three_methods"
   ]
  },
  {
   "cell_type": "code",
   "execution_count": 21,
   "metadata": {},
   "outputs": [
    {
     "output_type": "error",
     "ename": "SyntaxError",
     "evalue": "invalid syntax (<ipython-input-21-2a5da5e6d08a>, line 1)",
     "traceback": [
      "\u001b[1;36m  File \u001b[1;32m\"<ipython-input-21-2a5da5e6d08a>\"\u001b[1;36m, line \u001b[1;32m1\u001b[0m\n\u001b[1;33m    [abs(number) if number < 0 elif number ** 0.5 if number % 2 == 0 else number ** 3 for number in list3]\u001b[0m\n\u001b[1;37m                               ^\u001b[0m\n\u001b[1;31mSyntaxError\u001b[0m\u001b[1;31m:\u001b[0m invalid syntax\n"
     ]
    }
   ],
   "source": [
    "# List Comprehension cannot take more than 2 conditions\n",
    "# [abs(number) if number < 0 elif number ** 0.5 if number % 2 == 0 else number ** 3 for number in list3] "
   ]
  },
  {
   "cell_type": "markdown",
   "metadata": {},
   "source": [
    "# Comprehension of Sets and Dictionaries"
   ]
  },
  {
   "cell_type": "code",
   "execution_count": 22,
   "metadata": {},
   "outputs": [],
   "source": [
    "movies = ['Departed','Titanic','Aviator','Avatar','2012']"
   ]
  },
  {
   "cell_type": "code",
   "execution_count": 23,
   "metadata": {},
   "outputs": [
    {
     "output_type": "execute_result",
     "data": {
      "text/plain": "{4, 6, 7, 8}"
     },
     "metadata": {},
     "execution_count": 23
    }
   ],
   "source": [
    "{len(movie) for movie in movies}"
   ]
  },
  {
   "cell_type": "code",
   "execution_count": 25,
   "metadata": {},
   "outputs": [],
   "source": [
    "movies = {'Departed' : 9 ,'Titanic' : 9.2 , 'Aviator' : 8.7 , 'Avatar' : 9.1 , '2012' : 8.6} "
   ]
  },
  {
   "cell_type": "code",
   "execution_count": 26,
   "metadata": {},
   "outputs": [
    {
     "output_type": "execute_result",
     "data": {
      "text/plain": "{'Departed': 9, 'Titanic': 9.2, 'Aviator': 8.7, 'Avatar': 9.1, '2012': 8.6}"
     },
     "metadata": {},
     "execution_count": 26
    }
   ],
   "source": [
    "movies"
   ]
  },
  {
   "cell_type": "code",
   "execution_count": 27,
   "metadata": {},
   "outputs": [
    {
     "output_type": "execute_result",
     "data": {
      "text/plain": "{'Departed': 0, 'Titanic': 1, 'Aviator': 2, 'Avatar': 3, '2012': 4}"
     },
     "metadata": {},
     "execution_count": 27
    }
   ],
   "source": [
    "{movie : rating for rating,movie in enumerate(movies)}"
   ]
  },
  {
   "cell_type": "code",
   "execution_count": 28,
   "metadata": {},
   "outputs": [
    {
     "output_type": "execute_result",
     "data": {
      "text/plain": "{0: 'Departed', 1: 'Titanic', 2: 'Aviator', 3: 'Avatar', 4: '2012'}"
     },
     "metadata": {},
     "execution_count": 28
    }
   ],
   "source": [
    "{movie : rating for movie,rating in enumerate(movies)}"
   ]
  },
  {
   "cell_type": "code",
   "execution_count": null,
   "metadata": {},
   "outputs": [],
   "source": []
  }
 ],
 "metadata": {
  "language_info": {
   "codemirror_mode": {
    "name": "ipython",
    "version": 3
   },
   "file_extension": ".py",
   "mimetype": "text/x-python",
   "name": "python",
   "nbconvert_exporter": "python",
   "pygments_lexer": "ipython3",
   "version": "3.8.1-final"
  },
  "orig_nbformat": 2,
  "kernelspec": {
   "name": "python38132bit51bf2d4383df4065b0c992fe407a3440",
   "display_name": "Python 3.8.1 32-bit"
  }
 },
 "nbformat": 4,
 "nbformat_minor": 2
}