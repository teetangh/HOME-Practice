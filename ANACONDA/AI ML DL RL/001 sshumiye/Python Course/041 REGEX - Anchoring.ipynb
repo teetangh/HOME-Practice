{
 "cells": [
  {
   "cell_type": "code",
   "execution_count": 1,
   "metadata": {},
   "outputs": [],
   "source": [
    "# # Anchoring  \n",
    "# ^ = start of a string \n",
    "# $ = end of a string\n",
    "# \\A = start string\n",
    "# \\Z = end string\n",
    "# \\b = empty string"
   ]
  },
  {
   "cell_type": "code",
   "execution_count": 2,
   "metadata": {},
   "outputs": [],
   "source": [
    "import re"
   ]
  },
  {
   "cell_type": "code",
   "execution_count": 3,
   "metadata": {},
   "outputs": [],
   "source": [
    "text = \"This is a very beautiful day.\""
   ]
  },
  {
   "cell_type": "code",
   "execution_count": 4,
   "metadata": {},
   "outputs": [
    {
     "output_type": "execute_result",
     "data": {
      "text/plain": "['is', 'is']"
     },
     "metadata": {},
     "execution_count": 4
    }
   ],
   "source": [
    "re.findall(r'is',text)"
   ]
  },
  {
   "cell_type": "code",
   "execution_count": 5,
   "metadata": {},
   "outputs": [
    {
     "output_type": "execute_result",
     "data": {
      "text/plain": "[]"
     },
     "metadata": {},
     "execution_count": 5
    }
   ],
   "source": [
    "# Check if is \"is\" at the beginning\n",
    "re.findall(r'^is',text)"
   ]
  },
  {
   "cell_type": "code",
   "execution_count": 6,
   "metadata": {},
   "outputs": [
    {
     "output_type": "execute_result",
     "data": {
      "text/plain": "['T']"
     },
     "metadata": {},
     "execution_count": 6
    }
   ],
   "source": [
    "# Check if is \"T\" at the beginning\n",
    "re.findall(r'^T',text)"
   ]
  },
  {
   "cell_type": "code",
   "execution_count": 7,
   "metadata": {},
   "outputs": [
    {
     "output_type": "execute_result",
     "data": {
      "text/plain": "['.']"
     },
     "metadata": {},
     "execution_count": 7
    }
   ],
   "source": [
    "# Check if \".\" is at the end of the string\n",
    "# Actually dot also has a meaning in regex so use escape code along with it\n",
    "re.findall(r'\\.$',text)"
   ]
  },
  {
   "cell_type": "code",
   "execution_count": 8,
   "metadata": {},
   "outputs": [
    {
     "output_type": "execute_result",
     "data": {
      "text/plain": "['is', 'is']"
     },
     "metadata": {},
     "execution_count": 8
    }
   ],
   "source": [
    "re.findall(r'is',text)"
   ]
  },
  {
   "cell_type": "code",
   "execution_count": 9,
   "metadata": {},
   "outputs": [
    {
     "output_type": "execute_result",
     "data": {
      "text/plain": "['is']"
     },
     "metadata": {},
     "execution_count": 9
    }
   ],
   "source": [
    "# Checking empty strings at the start and end of \"is\" in the text\n",
    "re.findall(r'\\bis\\b',text)"
   ]
  },
  {
   "cell_type": "code",
   "execution_count": 10,
   "metadata": {},
   "outputs": [
    {
     "output_type": "execute_result",
     "data": {
      "text/plain": "<re.Match object; span=(5, 7), match='is'>"
     },
     "metadata": {},
     "execution_count": 10
    }
   ],
   "source": [
    "# Confiriming the result is correct\n",
    "re.search(r'\\bis\\b',text)"
   ]
  },
  {
   "cell_type": "code",
   "execution_count": null,
   "metadata": {},
   "outputs": [],
   "source": []
  }
 ],
 "metadata": {
  "language_info": {
   "codemirror_mode": {
    "name": "ipython",
    "version": 3
   },
   "file_extension": ".py",
   "mimetype": "text/x-python",
   "name": "python",
   "nbconvert_exporter": "python",
   "pygments_lexer": "ipython3",
   "version": "3.8.1-final"
  },
  "orig_nbformat": 2,
  "kernelspec": {
   "name": "python38132bit51bf2d4383df4065b0c992fe407a3440",
   "display_name": "Python 3.8.1 32-bit"
  }
 },
 "nbformat": 4,
 "nbformat_minor": 2
}