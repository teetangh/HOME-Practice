{
 "cells": [
  {
   "cell_type": "code",
   "execution_count": 1,
   "metadata": {},
   "outputs": [],
   "source": [
    "# list1 = [23,44,56,32,57,89,76,99,222,123]\n",
    "# prompt a user to enter an index, and if the index is in the range(list1), display the number\n",
    "# in list1 at the specified index.\n",
    "# use a combination of while and if statements to make it challenging\n",
    "# in the prompt message, display the option to enter quit if they wanna quit and break out of \n",
    "# the while loop.\n",
    "# use try and except to handle errors like if the user enters an out of range index (IndexError)\n",
    "# or if they enter characters different from numbers..."
   ]
  },
  {
   "cell_type": "code",
   "execution_count": 6,
   "metadata": {},
   "outputs": [],
   "source": [
    "list1 = [23,44,56,32,57,89,76,99,222,123]\n",
    "\n",
    "def function1():\n",
    "    while True:\n",
    "        choice = (input(\"choose you index now : type quit to quit\"))\n",
    "        if choice == 'quit':\n",
    "            print(\"---\"*15)\n",
    "            break\n",
    "\n",
    "        try:\n",
    "            index  = int(choice)\n",
    "            print(\"---\"*15)\n",
    "            print(list1[index])\n",
    "\n",
    "        except IndexError:\n",
    "            print(\"---\"*15)\n",
    "            print(\"Wrong Index \",index)\n",
    "\n",
    "        except:\n",
    "            print(\"---\"*15)\n",
    "            print(\"Something else is wrong\",choice)\n"
   ]
  },
  {
   "cell_type": "code",
   "execution_count": 7,
   "metadata": {},
   "outputs": [
    {
     "output_type": "stream",
     "name": "stdout",
     "text": "---------------------------------------------\n89\n---------------------------------------------\n76\n---------------------------------------------\n57\n---------------------------------------------\n32\n---------------------------------------------\n---------------------------------------------\nWrong Index  22\n---------------------------------------------\nSomething else is wrong hello\n---------------------------------------------\n---------------------------------------------\nWrong Index  -11\n---------------------------------------------\n"
    }
   ],
   "source": [
    "function1()"
   ]
  },
  {
   "cell_type": "code",
   "execution_count": 8,
   "metadata": {},
   "outputs": [],
   "source": [
    "#1)\n",
    "# prompt a user to enter a number\n",
    "# prompt a user to enter a second number to divide the first number by\n",
    "# check to see if the first number divides by the second number evenly (i.e firstnum % sn == 0)\n",
    "# use try, except and finally to handle exceptions to handle ValueError and ZeroDivisionError"
   ]
  },
  {
   "cell_type": "code",
   "execution_count": 15,
   "metadata": {},
   "outputs": [],
   "source": [
    "def divisionFunction():\n",
    "    try:\n",
    "        first = int(input(\"Enter your first nunmber\"))\n",
    "        second = int(input(\"Enter your second nunmber\"))\n",
    "\n",
    "        if first % second == 0 :\n",
    "            print(\"Your first number is divisible by your second number\")\n",
    "        else:\n",
    "            print(\"Your first number is NOT divisible by your second number\")\n",
    "        \n",
    "    except ZeroDivisionError:\n",
    "        print(\"Your second number cannot be zero\")\n",
    "    except ValueError:\n",
    "        print(\"You can enter numbers only\")\n",
    "\n",
    "    finally:\n",
    "        print(\"All Done now\")"
   ]
  },
  {
   "cell_type": "code",
   "execution_count": 16,
   "metadata": {},
   "outputs": [
    {
     "output_type": "stream",
     "name": "stdout",
     "text": "Your first number is NOT divisible by your second number\nAll Done now\n"
    }
   ],
   "source": [
    "divisionFunction()"
   ]
  },
  {
   "cell_type": "code",
   "execution_count": 17,
   "metadata": {},
   "outputs": [
    {
     "output_type": "stream",
     "name": "stdout",
     "text": "You can enter numbers only\nAll Done now\n"
    }
   ],
   "source": [
    "divisionFunction()"
   ]
  },
  {
   "cell_type": "code",
   "execution_count": 18,
   "metadata": {},
   "outputs": [
    {
     "output_type": "stream",
     "name": "stdout",
     "text": "Your second number cannot be zero\nAll Done now\n"
    }
   ],
   "source": [
    "divisionFunction()"
   ]
  },
  {
   "cell_type": "code",
   "execution_count": 19,
   "metadata": {},
   "outputs": [
    {
     "output_type": "stream",
     "name": "stdout",
     "text": "Your first number is divisible by your second number\nAll Done now\n"
    }
   ],
   "source": [
    "divisionFunction()"
   ]
  },
  {
   "cell_type": "code",
   "execution_count": 20,
   "metadata": {},
   "outputs": [],
   "source": [
    "#2)\n",
    "# prompt a user to enter a number\n",
    "# check if the number is divisible by 5 and \n",
    "# use try, except and finally to handle exceptions"
   ]
  },
  {
   "cell_type": "code",
   "execution_count": 27,
   "metadata": {},
   "outputs": [],
   "source": [
    "def numberGame():\n",
    "    try:\n",
    "        choice = int(input(\"Enter your number\"))\n",
    "\n",
    "        if choice % 5 == 0:\n",
    "            print(\"The nunmber you chose \",choice,\"is divisible by 5\")\n",
    "\n",
    "        else:\n",
    "            print(\"Your number is not divisible by 5\")\n",
    "\n",
    "    except ValueError:\n",
    "        print(\"Please choose a number only\")\n",
    "\n",
    "    else:\n",
    "        print(\"Good Choice. No Exceptions Raised\")\n",
    "\n",
    "    finally:\n",
    "        print(\"All Done now\")\n"
   ]
  },
  {
   "cell_type": "code",
   "execution_count": 28,
   "metadata": {},
   "outputs": [
    {
     "output_type": "stream",
     "name": "stdout",
     "text": "The nunmber you chose  5 is divisible by 5\nGood Choice. No Exceptions Raised\nAll Done now\n"
    }
   ],
   "source": [
    "numberGame()"
   ]
  },
  {
   "cell_type": "code",
   "execution_count": 29,
   "metadata": {},
   "outputs": [
    {
     "output_type": "stream",
     "name": "stdout",
     "text": "Please choose a number only\nAll Done now\n"
    }
   ],
   "source": [
    "numberGame()"
   ]
  },
  {
   "cell_type": "code",
   "execution_count": 31,
   "metadata": {},
   "outputs": [
    {
     "output_type": "stream",
     "name": "stdout",
     "text": "Your number is not divisible by 5\nGood Choice. No Exceptions Raised\nAll Done now\n"
    }
   ],
   "source": [
    "numberGame()"
   ]
  },
  {
   "cell_type": "code",
   "execution_count": null,
   "metadata": {},
   "outputs": [],
   "source": []
  }
 ],
 "metadata": {
  "language_info": {
   "codemirror_mode": {
    "name": "ipython",
    "version": 3
   },
   "file_extension": ".py",
   "mimetype": "text/x-python",
   "name": "python",
   "nbconvert_exporter": "python",
   "pygments_lexer": "ipython3",
   "version": "3.8.1-final"
  },
  "orig_nbformat": 2,
  "kernelspec": {
   "name": "python38132bit51bf2d4383df4065b0c992fe407a3440",
   "display_name": "Python 3.8.1 32-bit"
  }
 },
 "nbformat": 4,
 "nbformat_minor": 2
}