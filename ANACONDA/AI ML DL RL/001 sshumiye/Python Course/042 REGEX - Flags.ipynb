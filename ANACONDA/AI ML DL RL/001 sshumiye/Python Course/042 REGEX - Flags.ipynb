{
 "cells": [
  {
   "cell_type": "code",
   "execution_count": 1,
   "metadata": {},
   "outputs": [],
   "source": [
    "import re"
   ]
  },
  {
   "cell_type": "code",
   "execution_count": 2,
   "metadata": {},
   "outputs": [],
   "source": [
    "text = \"Python python PYTHON\""
   ]
  },
  {
   "cell_type": "code",
   "execution_count": 3,
   "metadata": {},
   "outputs": [
    {
     "output_type": "execute_result",
     "data": {
      "text/plain": "['Python']"
     },
     "metadata": {},
     "execution_count": 3
    }
   ],
   "source": [
    "# Cases have been cosidered\n",
    "re.findall(r'Python',text)"
   ]
  },
  {
   "cell_type": "code",
   "execution_count": 4,
   "metadata": {},
   "outputs": [
    {
     "output_type": "execute_result",
     "data": {
      "text/plain": "['Python', 'python', 'PYTHON']"
     },
     "metadata": {},
     "execution_count": 4
    }
   ],
   "source": [
    "re.findall(r'Python',text,re.IGNORECASE)"
   ]
  },
  {
   "cell_type": "code",
   "execution_count": 5,
   "metadata": {},
   "outputs": [
    {
     "output_type": "execute_result",
     "data": {
      "text/plain": "['Python', 'python', 'PYTHON']"
     },
     "metadata": {},
     "execution_count": 5
    }
   ],
   "source": [
    "re.findall(r'Python',text,re.I)"
   ]
  },
  {
   "cell_type": "code",
   "execution_count": 7,
   "metadata": {},
   "outputs": [
    {
     "output_type": "execute_result",
     "data": {
      "text/plain": "['Python', 'python', 'PYTHON']"
     },
     "metadata": {},
     "execution_count": 7
    }
   ],
   "source": [
    "re.findall(r'Python',text,2)\n"
   ]
  },
  {
   "cell_type": "code",
   "execution_count": 8,
   "metadata": {},
   "outputs": [],
   "source": [
    "# All have the same meaning\n",
    "# re.findall(r'Python',text,re.IGNORECASE)\n",
    "# re.findall(r'Python',text,re.I)\n",
    "# re.findall(r'Python',text,2)"
   ]
  },
  {
   "cell_type": "code",
   "execution_count": 9,
   "metadata": {},
   "outputs": [
    {
     "output_type": "execute_result",
     "data": {
      "text/plain": "re.IGNORECASE"
     },
     "metadata": {},
     "execution_count": 9
    }
   ],
   "source": [
    "re.I"
   ]
  },
  {
   "cell_type": "code",
   "execution_count": 10,
   "metadata": {},
   "outputs": [
    {
     "output_type": "execute_result",
     "data": {
      "text/plain": "re.DOTALL"
     },
     "metadata": {},
     "execution_count": 10
    }
   ],
   "source": [
    "re.S"
   ]
  },
  {
   "cell_type": "code",
   "execution_count": 13,
   "metadata": {},
   "outputs": [
    {
     "output_type": "execute_result",
     "data": {
      "text/plain": "['Py', 'thon']"
     },
     "metadata": {},
     "execution_count": 13
    }
   ],
   "source": [
    "text = \"Py\\nthon\"\n",
    "\n",
    "re.findall(r'.+',text) "
   ]
  },
  {
   "cell_type": "code",
   "execution_count": 14,
   "metadata": {},
   "outputs": [
    {
     "output_type": "execute_result",
     "data": {
      "text/plain": "['Py\\nthon']"
     },
     "metadata": {},
     "execution_count": 14
    }
   ],
   "source": [
    "re.findall(r'.+',text,re.DOTALL) # Looks for any character except newline \\n re.DOTALL\n"
   ]
  },
  {
   "cell_type": "code",
   "execution_count": 15,
   "metadata": {},
   "outputs": [],
   "source": [
    "text = \"Python python PYTHON\""
   ]
  },
  {
   "cell_type": "code",
   "execution_count": 16,
   "metadata": {},
   "outputs": [
    {
     "output_type": "execute_result",
     "data": {
      "text/plain": "'Mython python PYTHON'"
     },
     "metadata": {},
     "execution_count": 16
    }
   ],
   "source": [
    "re.sub(r'Py','My',text)"
   ]
  },
  {
   "cell_type": "code",
   "execution_count": 17,
   "metadata": {},
   "outputs": [
    {
     "output_type": "execute_result",
     "data": {
      "text/plain": "'Mython Mython MyTHON'"
     },
     "metadata": {},
     "execution_count": 17
    }
   ],
   "source": [
    "re.sub(r'Py','My',text,flags=re.IGNORECASE)"
   ]
  },
  {
   "cell_type": "code",
   "execution_count": 18,
   "metadata": {},
   "outputs": [
    {
     "output_type": "execute_result",
     "data": {
      "text/plain": "'Mython Mython PYTHON'"
     },
     "metadata": {},
     "execution_count": 18
    }
   ],
   "source": [
    "re.sub(r'Py','My',text,count=2,flags=re.IGNORECASE)  "
   ]
  },
  {
   "cell_type": "code",
   "execution_count": null,
   "metadata": {},
   "outputs": [],
   "source": []
  }
 ],
 "metadata": {
  "language_info": {
   "codemirror_mode": {
    "name": "ipython",
    "version": 3
   },
   "file_extension": ".py",
   "mimetype": "text/x-python",
   "name": "python",
   "nbconvert_exporter": "python",
   "pygments_lexer": "ipython3",
   "version": "3.8.1-final"
  },
  "orig_nbformat": 2,
  "kernelspec": {
   "name": "python38132bit51bf2d4383df4065b0c992fe407a3440",
   "display_name": "Python 3.8.1 32-bit"
  }
 },
 "nbformat": 4,
 "nbformat_minor": 2
}