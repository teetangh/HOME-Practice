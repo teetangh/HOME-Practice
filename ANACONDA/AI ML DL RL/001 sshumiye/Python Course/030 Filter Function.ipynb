{
 "cells": [
  {
   "cell_type": "code",
   "execution_count": 1,
   "metadata": {},
   "outputs": [],
   "source": [
    "# list1 = [3,4,5,6,7,8] => >5 => [6,7,8] "
   ]
  },
  {
   "cell_type": "code",
   "execution_count": 2,
   "metadata": {},
   "outputs": [
    {
     "output_type": "stream",
     "name": "stdout",
     "text": "['2', '7']\n['a', 'b', 'c']\n"
    }
   ],
   "source": [
    "list2 = ['a','b','c','2','7']\n",
    "\n",
    "print(list(filter(str.isnumeric,list2)))\n",
    "print(list(filter(str.isalpha,list2)))"
   ]
  },
  {
   "cell_type": "code",
   "execution_count": 3,
   "metadata": {},
   "outputs": [
    {
     "output_type": "execute_result",
     "data": {
      "text/plain": "['2', '7']"
     },
     "metadata": {},
     "execution_count": 3
    }
   ],
   "source": [
    "list(filter(str.isnumeric,['a','b','c','2','7']))"
   ]
  },
  {
   "cell_type": "code",
   "execution_count": 4,
   "metadata": {},
   "outputs": [],
   "source": [
    "def odd(x):\n",
    "    return x % 2 == 1"
   ]
  },
  {
   "cell_type": "code",
   "execution_count": 5,
   "metadata": {},
   "outputs": [
    {
     "output_type": "execute_result",
     "data": {
      "text/plain": "True"
     },
     "metadata": {},
     "execution_count": 5
    }
   ],
   "source": [
    "odd(7)"
   ]
  },
  {
   "cell_type": "code",
   "execution_count": 6,
   "metadata": {},
   "outputs": [
    {
     "output_type": "execute_result",
     "data": {
      "text/plain": "False"
     },
     "metadata": {},
     "execution_count": 6
    }
   ],
   "source": [
    "odd(2)"
   ]
  },
  {
   "cell_type": "code",
   "execution_count": 7,
   "metadata": {},
   "outputs": [
    {
     "output_type": "execute_result",
     "data": {
      "text/plain": "[3, 5, 7, 9]"
     },
     "metadata": {},
     "execution_count": 7
    }
   ],
   "source": [
    "list(filter(odd,[2,3,4,5,6,7,8,9]))"
   ]
  },
  {
   "cell_type": "code",
   "execution_count": 8,
   "metadata": {},
   "outputs": [
    {
     "output_type": "execute_result",
     "data": {
      "text/plain": "[]"
     },
     "metadata": {},
     "execution_count": 8
    }
   ],
   "source": [
    "list(filter(odd,[2,4,6,8]))\n"
   ]
  },
  {
   "cell_type": "markdown",
   "metadata": {},
   "source": [
    "# Filter Function with Lamda Function"
   ]
  },
  {
   "cell_type": "code",
   "execution_count": 9,
   "metadata": {},
   "outputs": [
    {
     "output_type": "execute_result",
     "data": {
      "text/plain": "['abcd', 'abc', 'ab']"
     },
     "metadata": {},
     "execution_count": 9
    }
   ],
   "source": [
    "list(filter(lambda x : len(x) > 1 , ['abcd','abc','ab','a','b']))"
   ]
  },
  {
   "cell_type": "markdown",
   "metadata": {},
   "source": [
    "# Filter Function with Dictionaries"
   ]
  },
  {
   "cell_type": "code",
   "execution_count": 10,
   "metadata": {},
   "outputs": [],
   "source": [
    "dict1 = {'a' : 1}\n",
    "dict2 = {'b' : 7}\n",
    "dict3 = {'a' : 5 , 'b' : 3 } "
   ]
  },
  {
   "cell_type": "code",
   "execution_count": 11,
   "metadata": {},
   "outputs": [
    {
     "output_type": "execute_result",
     "data": {
      "text/plain": "[{'a': 1}, {'a': 5, 'b': 3}]"
     },
     "metadata": {},
     "execution_count": 11
    }
   ],
   "source": [
    "list(filter(lambda x : 'a' in x.keys() , [dict1,dict2,dict3]))"
   ]
  },
  {
   "cell_type": "code",
   "execution_count": 12,
   "metadata": {},
   "outputs": [
    {
     "output_type": "execute_result",
     "data": {
      "text/plain": "[{'b': 7}, {'a': 5, 'b': 3}]"
     },
     "metadata": {},
     "execution_count": 12
    }
   ],
   "source": [
    "list(filter(lambda x : 'b' in x.keys() , [dict1,dict2,dict3]))\n"
   ]
  },
  {
   "cell_type": "code",
   "execution_count": 15,
   "metadata": {},
   "outputs": [
    {
     "output_type": "execute_result",
     "data": {
      "text/plain": "[{'b': 7}]"
     },
     "metadata": {},
     "execution_count": 15
    }
   ],
   "source": [
    "list(filter(lambda x : 7 in x.values() , [dict1,dict2,dict3]))"
   ]
  },
  {
   "cell_type": "code",
   "execution_count": 16,
   "metadata": {},
   "outputs": [
    {
     "output_type": "execute_result",
     "data": {
      "text/plain": "[{'a': 1}]"
     },
     "metadata": {},
     "execution_count": 16
    }
   ],
   "source": [
    "list(filter(lambda x : 1 in x.values() , [dict1,dict2,dict3]))\n"
   ]
  },
  {
   "cell_type": "code",
   "execution_count": 17,
   "metadata": {},
   "outputs": [
    {
     "output_type": "execute_result",
     "data": {
      "text/plain": "[]"
     },
     "metadata": {},
     "execution_count": 17
    }
   ],
   "source": [
    "list(filter(lambda x : 11 in x.values() , [dict1,dict2,dict3]))\n"
   ]
  },
  {
   "cell_type": "code",
   "execution_count": null,
   "metadata": {},
   "outputs": [],
   "source": []
  }
 ],
 "metadata": {
  "language_info": {
   "codemirror_mode": {
    "name": "ipython",
    "version": 3
   },
   "file_extension": ".py",
   "mimetype": "text/x-python",
   "name": "python",
   "nbconvert_exporter": "python",
   "pygments_lexer": "ipython3",
   "version": "3.8.1-final"
  },
  "orig_nbformat": 2,
  "kernelspec": {
   "name": "python38132bit51bf2d4383df4065b0c992fe407a3440",
   "display_name": "Python 3.8.1 32-bit"
  }
 },
 "nbformat": 4,
 "nbformat_minor": 2
}