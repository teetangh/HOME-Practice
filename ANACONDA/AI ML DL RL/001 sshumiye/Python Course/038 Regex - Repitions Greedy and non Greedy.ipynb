{
 "cells": [
  {
   "cell_type": "code",
   "execution_count": 1,
   "metadata": {},
   "outputs": [],
   "source": [
    "# Repition Characters = {. * + ? {m} {m,n}}"
   ]
  },
  {
   "cell_type": "code",
   "execution_count": 2,
   "metadata": {},
   "outputs": [],
   "source": [
    "# ab* (a followed by 0 or more b's )\n",
    "# ab+ (a followed by 1 or more b's )\n",
    "# ab? (a followed by 0 or 1 b's )\n",
    "# ab{m} (a followed by m number of b's )\n",
    "# ab{m,n} (a followed by range(m,n) number of b's )"
   ]
  },
  {
   "cell_type": "code",
   "execution_count": 3,
   "metadata": {},
   "outputs": [],
   "source": [
    "text = \"ab abb a a a  x abbbb abbbbbbb\""
   ]
  },
  {
   "cell_type": "code",
   "execution_count": 4,
   "metadata": {},
   "outputs": [
    {
     "output_type": "execute_result",
     "data": {
      "text/plain": "['ab', 'ab', 'ab', 'ab']"
     },
     "metadata": {},
     "execution_count": 4
    }
   ],
   "source": [
    "import re\n",
    "re.findall(r'ab',text)"
   ]
  },
  {
   "cell_type": "code",
   "execution_count": 7,
   "metadata": {},
   "outputs": [
    {
     "output_type": "execute_result",
     "data": {
      "text/plain": "['ab', 'abb', 'a', 'a', 'a', 'abbbb', 'abbbbbbb']"
     },
     "metadata": {},
     "execution_count": 7
    }
   ],
   "source": [
    "re.findall(r'ab*',text)"
   ]
  },
  {
   "cell_type": "code",
   "execution_count": 5,
   "metadata": {},
   "outputs": [
    {
     "output_type": "execute_result",
     "data": {
      "text/plain": "['ab', 'abb', 'abbbb', 'abbbbbbb']"
     },
     "metadata": {},
     "execution_count": 5
    }
   ],
   "source": [
    "re.findall(r'ab+',text)"
   ]
  },
  {
   "cell_type": "code",
   "execution_count": 6,
   "metadata": {},
   "outputs": [
    {
     "output_type": "execute_result",
     "data": {
      "text/plain": "['ab', 'ab', 'a', 'a', 'a', 'ab', 'ab']"
     },
     "metadata": {},
     "execution_count": 6
    }
   ],
   "source": [
    "re.findall(r'ab?',text)"
   ]
  },
  {
   "cell_type": "code",
   "execution_count": 9,
   "metadata": {},
   "outputs": [
    {
     "output_type": "execute_result",
     "data": {
      "text/plain": "['abb', 'abb', 'abb']"
     },
     "metadata": {},
     "execution_count": 9
    }
   ],
   "source": [
    "re.findall(r'ab{2}',text)"
   ]
  },
  {
   "cell_type": "code",
   "execution_count": 10,
   "metadata": {},
   "outputs": [
    {
     "output_type": "execute_result",
     "data": {
      "text/plain": "['abbbb', 'abbbbb']"
     },
     "metadata": {},
     "execution_count": 10
    }
   ],
   "source": [
    "re.findall(r'ab{3,5}',text)"
   ]
  },
  {
   "cell_type": "code",
   "execution_count": 11,
   "metadata": {},
   "outputs": [
    {
     "output_type": "execute_result",
     "data": {
      "text/plain": "['abbbb', 'abbbbbbb']"
     },
     "metadata": {},
     "execution_count": 11
    }
   ],
   "source": [
    "re.findall(r'ab{3,7}',text)"
   ]
  },
  {
   "cell_type": "code",
   "execution_count": 12,
   "metadata": {},
   "outputs": [
    {
     "output_type": "execute_result",
     "data": {
      "text/plain": "['abbbbbbb']"
     },
     "metadata": {},
     "execution_count": 12
    }
   ],
   "source": [
    "re.findall(r'ab{5,7}',text)\n"
   ]
  },
  {
   "cell_type": "markdown",
   "metadata": {},
   "source": [
    "## The above are Greedy pattern matchers since they try to take as much pattern matches as possible\n",
    "## * + ? are greedy"
   ]
  },
  {
   "cell_type": "code",
   "execution_count": 14,
   "metadata": {},
   "outputs": [
    {
     "output_type": "execute_result",
     "data": {
      "text/plain": "['ab', 'abb', 'a', 'a', 'a', 'abbbb', 'abbbbbbb']"
     },
     "metadata": {},
     "execution_count": 14
    }
   ],
   "source": [
    "re.findall(r'ab*',text) # greedy character (takes maximum pattern match)"
   ]
  },
  {
   "cell_type": "code",
   "execution_count": 15,
   "metadata": {},
   "outputs": [
    {
     "output_type": "execute_result",
     "data": {
      "text/plain": "['a', 'a', 'a', 'a', 'a', 'a', 'a']"
     },
     "metadata": {},
     "execution_count": 15
    }
   ],
   "source": [
    "re.findall(r'ab*?',text) # non - greedy character (takes minimum pattern match)"
   ]
  },
  {
   "cell_type": "code",
   "execution_count": 16,
   "metadata": {},
   "outputs": [
    {
     "output_type": "execute_result",
     "data": {
      "text/plain": "'ab abb a a a  x abbbb abbbbbbb'"
     },
     "metadata": {},
     "execution_count": 16
    }
   ],
   "source": [
    "# One pattern match at a region can be reused for another patern match\n",
    "text"
   ]
  },
  {
   "cell_type": "code",
   "execution_count": 17,
   "metadata": {},
   "outputs": [
    {
     "output_type": "execute_result",
     "data": {
      "text/plain": "['ab', 'abb', 'abbbb', 'abbbbbbb']"
     },
     "metadata": {},
     "execution_count": 17
    }
   ],
   "source": [
    "re.findall(r'ab+',text)"
   ]
  },
  {
   "cell_type": "code",
   "execution_count": 18,
   "metadata": {},
   "outputs": [
    {
     "output_type": "execute_result",
     "data": {
      "text/plain": "['ab', 'ab', 'ab', 'ab']"
     },
     "metadata": {},
     "execution_count": 18
    }
   ],
   "source": [
    "re.findall(r'ab+?',text)\n"
   ]
  },
  {
   "cell_type": "code",
   "execution_count": 19,
   "metadata": {},
   "outputs": [
    {
     "output_type": "execute_result",
     "data": {
      "text/plain": "['ab', 'ab', 'a', 'a', 'a', 'ab', 'ab']"
     },
     "metadata": {},
     "execution_count": 19
    }
   ],
   "source": [
    "re.findall(r'ab?',text)"
   ]
  },
  {
   "cell_type": "code",
   "execution_count": 20,
   "metadata": {},
   "outputs": [
    {
     "output_type": "execute_result",
     "data": {
      "text/plain": "['a', 'a', 'a', 'a', 'a', 'a', 'a']"
     },
     "metadata": {},
     "execution_count": 20
    }
   ],
   "source": [
    "re.findall(r'ab??',text)"
   ]
  },
  {
   "cell_type": "code",
   "execution_count": 21,
   "metadata": {},
   "outputs": [
    {
     "output_type": "execute_result",
     "data": {
      "text/plain": "['ab ', 'abb', 'abb', 'abb']"
     },
     "metadata": {},
     "execution_count": 21
    }
   ],
   "source": [
    "re.findall(r'ab.',text)\n"
   ]
  },
  {
   "cell_type": "code",
   "execution_count": 24,
   "metadata": {},
   "outputs": [
    {
     "output_type": "stream",
     "name": "stdout",
     "text": "Help on function findall in module re:\n\nfindall(pattern, string, flags=0)\n    Return a list of all non-overlapping matches in the string.\n    \n    If one or more capturing groups are present in the pattern, return\n    a list of groups; this will be a list of tuples if the pattern\n    has more than one group.\n    \n    Empty matches are included in the result.\n\n"
    }
   ],
   "source": [
    "help(re.findall)"
   ]
  },
  {
   "cell_type": "code",
   "execution_count": null,
   "metadata": {},
   "outputs": [],
   "source": []
  }
 ],
 "metadata": {
  "language_info": {
   "codemirror_mode": {
    "name": "ipython",
    "version": 3
   },
   "file_extension": ".py",
   "mimetype": "text/x-python",
   "name": "python",
   "nbconvert_exporter": "python",
   "pygments_lexer": "ipython3",
   "version": "3.8.1-final"
  },
  "orig_nbformat": 2,
  "kernelspec": {
   "name": "python38132bit51bf2d4383df4065b0c992fe407a3440",
   "display_name": "Python 3.8.1 32-bit"
  }
 },
 "nbformat": 4,
 "nbformat_minor": 2
}