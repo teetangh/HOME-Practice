{
 "cells": [
  {
   "cell_type": "markdown",
   "metadata": {},
   "source": [
    "### define a function that accepts two parameters lower and upper\n",
    "### the parameters lower and upper are int and must be lower first then upper\n",
    "### prompt the user to enter integers between the parameters lower and upper\n",
    "### if user doesn't enter int between the lower and upper params, prompt to enter int again\n",
    "### finally return the appropriate int entered"
   ]
  },
  {
   "cell_type": "code",
   "execution_count": 3,
   "metadata": {},
   "outputs": [],
   "source": [
    "# def name(lower,upper)\n",
    "\n",
    "def display_integer(lower,upper):\n",
    "    if  lower > upper :\n",
    "        lower,upper = upper,lower\n",
    "\n",
    "    # int_input = int(input(\"Enter an integer within the range\",str(lower),\" and \",str(upper)))\n",
    "    int_input = int(input(\"Enter an integer within the range {} and {}\".format(lower,upper)))\n",
    "\n",
    "    while int_input < lower or int_input > upper:\n",
    "        print(int_input,\"isn't between\",lower,\" and \",upper)\n",
    "        int_input = int(input(\"enter an appropiate int: \"))\n",
    "    \n",
    "    return int_input"
   ]
  },
  {
   "cell_type": "code",
   "execution_count": 8,
   "metadata": {},
   "outputs": [
    {
     "output_type": "execute_result",
     "data": {
      "text/plain": "7"
     },
     "metadata": {},
     "execution_count": 8
    }
   ],
   "source": [
    "display_integer(5,16)"
   ]
  },
  {
   "cell_type": "code",
   "execution_count": 10,
   "metadata": {},
   "outputs": [
    {
     "output_type": "stream",
     "name": "stdout",
     "text": "1 isn't between 6  and  20\n2 isn't between 6  and  20\n3 isn't between 6  and  20\n4 isn't between 6  and  20\n5 isn't between 6  and  20\n"
    },
    {
     "output_type": "execute_result",
     "data": {
      "text/plain": "6"
     },
     "metadata": {},
     "execution_count": 10
    }
   ],
   "source": [
    "display_integer(6,20)\n"
   ]
  },
  {
   "cell_type": "code",
   "execution_count": 13,
   "metadata": {},
   "outputs": [
    {
     "output_type": "stream",
     "name": "stdout",
     "text": "Before the execution of the display integer function between 5 and 16\nAfter the execution of the display integer function between 5 and 16\n-----------\nBefore the execution of the display integer function between 7 and 30 \nAfter the execution of the display integer function between 7 and 30\n-----------\n"
    }
   ],
   "source": [
    "def display_integer(lower,upper):\n",
    "    if  lower > upper :\n",
    "        lower,upper = upper,lower\n",
    "\n",
    "    # int_input = int(input(\"Enter an integer within the range\",str(lower),\" and \",str(upper)))\n",
    "    int_input = int(input(\"Enter an integer within the range {} and {}\".format(lower,upper)))\n",
    "\n",
    "    while int_input < lower or int_input > upper:\n",
    "        print(int_input,\"isn't between\",lower,\" and \",upper)\n",
    "        int_input = int(input(\"enter an appropiate int: \"))\n",
    "    \n",
    "    return int_input\n",
    "\n",
    "def main():\n",
    "    print(\"Before the execution of the display integer function between 5 and 16\")\n",
    "    display_integer(5,16)\n",
    "    print(\"After the execution of the display integer function between 5 and 16\")\n",
    "    print('-----------')\n",
    "\n",
    "    print(\"Before the execution of the display integer function between 7 and 30 \")\n",
    "    display_integer(30,7)\n",
    "    print(\"After the execution of the display integer function between 7 and 30\")\n",
    "    print('-----------')\n",
    "\n",
    "main()"
   ]
  },
  {
   "cell_type": "code",
   "execution_count": null,
   "metadata": {},
   "outputs": [],
   "source": []
  }
 ],
 "metadata": {
  "language_info": {
   "codemirror_mode": {
    "name": "ipython",
    "version": 3
   },
   "file_extension": ".py",
   "mimetype": "text/x-python",
   "name": "python",
   "nbconvert_exporter": "python",
   "pygments_lexer": "ipython3",
   "version": "3.8.1-final"
  },
  "orig_nbformat": 2,
  "kernelspec": {
   "name": "python38132bit51bf2d4383df4065b0c992fe407a3440",
   "display_name": "Python 3.8.1 32-bit"
  }
 },
 "nbformat": 4,
 "nbformat_minor": 2
}