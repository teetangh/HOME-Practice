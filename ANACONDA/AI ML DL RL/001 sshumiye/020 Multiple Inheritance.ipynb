{
 "cells": [
  {
   "cell_type": "code",
   "execution_count": 4,
   "metadata": {},
   "outputs": [],
   "source": [
    "class Person:\n",
    "\n",
    "    def __init__(self,name,age):\n",
    "\n",
    "        self.name = name\n",
    "        self.age = age\n",
    "    \n",
    "    def changeAge(self,age):\n",
    "        self.age = age\n",
    "\n",
    "    def __str__(self):\n",
    "        return self.name + '-----' + str (self.age)\n",
    "\n",
    "#---------------------------\n",
    "\n",
    "class Addr:\n",
    "\n",
    "    def __init__(self,city,state):\n",
    "\n",
    "        self.city = city\n",
    "        self.state = state\n",
    "\n",
    "    def chaneCity(self,city):\n",
    "\n",
    "        self.city = city\n",
    "\n",
    "    def __str__(self):\n",
    "        return self.city + '-----' + (self.state)\n",
    "#---------------------------\n",
    "\n",
    "class Student (Person,Addr):\n",
    "\n",
    "    def __init__(self,name,age,city,state,grade,gpa):\n",
    "        Person.__init__(self,name,age)\n",
    "        Addr.__init__(self,city,state)\n",
    "        self.grade = grade\n",
    "        self.gpa = gpa\n",
    "\n",
    "    def changeGpa(self,gpa):\n",
    "        self.gpa = gpa\n",
    "\n",
    "    def changeAge(self,age):\n",
    "        self.age = age + 10\n",
    "\n",
    "    def __str__(self):\n",
    "        return Person.__str__(self) + '----' + Addr.__str__(self) + '-------' + str(self.grade) + '-------' + str(self.gpa)\n",
    "#---------------------------"
   ]
  },
  {
   "cell_type": "code",
   "execution_count": 5,
   "metadata": {},
   "outputs": [],
   "source": [
    "s1 = Student(\"Johnny\",20,\"Washington DC\",\"DC\",12,3.6)"
   ]
  },
  {
   "cell_type": "code",
   "execution_count": 6,
   "metadata": {},
   "outputs": [
    {
     "output_type": "stream",
     "name": "stdout",
     "text": "Johnny-----20----Washington DC-----DC-------12-------3.6\n"
    }
   ],
   "source": [
    "print(s1)"
   ]
  },
  {
   "cell_type": "code",
   "execution_count": 7,
   "metadata": {},
   "outputs": [],
   "source": [
    "s2 = Student(\"Tom\",21,\"New Jersey\",\"NJ\",12,3.8)"
   ]
  },
  {
   "cell_type": "code",
   "execution_count": 8,
   "metadata": {},
   "outputs": [
    {
     "output_type": "stream",
     "name": "stdout",
     "text": "Tom-----21----New Jersey-----NJ-------12-------3.8\n"
    }
   ],
   "source": [
    "print(s2)"
   ]
  },
  {
   "cell_type": "code",
   "execution_count": 9,
   "metadata": {},
   "outputs": [
    {
     "output_type": "stream",
     "name": "stdout",
     "text": "Johnny-----47----Washington DC-----DC-------12-------3.6\n"
    }
   ],
   "source": [
    "s1.changeAge(37) # Method Over\n",
    "print(s1)"
   ]
  },
  {
   "cell_type": "code",
   "execution_count": 10,
   "metadata": {},
   "outputs": [
    {
     "output_type": "stream",
     "name": "stdout",
     "text": "Johnny-----47----New York-----DC-------12-------3.6\n"
    }
   ],
   "source": [
    "s1.chaneCity('New York')\n",
    "print(s1)"
   ]
  },
  {
   "cell_type": "code",
   "execution_count": 11,
   "metadata": {},
   "outputs": [
    {
     "output_type": "execute_result",
     "data": {
      "text/plain": "<__main__.Student at 0x66d0310>"
     },
     "metadata": {},
     "execution_count": 11
    }
   ],
   "source": [
    "s1"
   ]
  },
  {
   "cell_type": "code",
   "execution_count": null,
   "metadata": {},
   "outputs": [],
   "source": []
  }
 ],
 "metadata": {
  "language_info": {
   "codemirror_mode": {
    "name": "ipython",
    "version": 3
   },
   "file_extension": ".py",
   "mimetype": "text/x-python",
   "name": "python",
   "nbconvert_exporter": "python",
   "pygments_lexer": "ipython3",
   "version": "3.8.1-final"
  },
  "orig_nbformat": 2,
  "kernelspec": {
   "name": "python38132bit51bf2d4383df4065b0c992fe407a3440",
   "display_name": "Python 3.8.1 32-bit"
  }
 },
 "nbformat": 4,
 "nbformat_minor": 2
}