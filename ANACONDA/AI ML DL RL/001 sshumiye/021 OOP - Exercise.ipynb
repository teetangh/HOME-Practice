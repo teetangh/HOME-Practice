{
 "cells": [
  {
   "cell_type": "code",
   "execution_count": 1,
   "metadata": {},
   "outputs": [],
   "source": [
    "# write a program called a fraction that accepts attributes numerator and denominator\n",
    "# and returns a string representation of a fraction\n",
    "# you will need two methods that will get the numerator and denominator\n",
    "# you will also need two methods that will set the numerator and denominator\n",
    "# don't forget to check that denominator != 0\n",
    "# try to include a nice and short (one line) doc string for your class and all the methods"
   ]
  },
  {
   "cell_type": "code",
   "execution_count": 2,
   "metadata": {},
   "outputs": [],
   "source": [
    "class Fraction:\n",
    "\n",
    "    \"\"\"Our Class represents a fraction\"\"\"\n",
    "\n",
    "    def __init__(self,num,den):\n",
    "        \"\"\"This will initialise attr num and den\"\"\"\n",
    "        self.numerator = num\n",
    "        if den != 0:\n",
    "            self.denominator = den\n",
    "        else:\n",
    "            print(\"There was an error with your calculation\")\n",
    "            from sys import exit\n",
    "            exit()\n",
    "\n",
    "    def get_numerator(self):\n",
    "        \"\"\"This will return the numerator\"\"\"\n",
    "        return self.numerator\n",
    "\n",
    "    def get_denominator(self):\n",
    "        \"\"\"This will return the denominator\"\"\"\n",
    "        return self.denominator\n",
    "\n",
    "    def set_numerator(self,nu):\n",
    "        \"\"\"This will set the numerator\"\"\"\n",
    "        self.numerator = nu\n",
    "\n",
    "    def set_denominator(self,de):\n",
    "        \"\"\"This will set the denominator\"\"\"\n",
    "        if de != 0:\n",
    "            self.denominator = de\n",
    "        else:\n",
    "            print(\"There was an error with your calculation\")\n",
    "            from sys import exit\n",
    "            exit()\n",
    "\n",
    "    def __str__(self):\n",
    "        \"\"\"This will return a str representation of our fraction\"\"\"\n",
    "        return str(self.get_numerator()) + \"/\" + str(self.get_denominator())\n",
    "\n",
    "# Saves us from executing the code again and again\n",
    "def main():\n",
    "    fraction1 = Fraction(2,7)\n",
    "    print(fraction1)\n",
    "    print(\"The Numerator of our Fraction objectis \", fraction1.get_numerator())\n",
    "    print(\"The Denominator of our Fraction objectis \", fraction1.get_denominator())\n",
    "    print(\"Now we will change the numerator and the denominator to d/t numbers\")\n",
    "    fraction1.set_numerator(9)\n",
    "    fraction1.set_denominator(19)\n",
    "    print(\"The Numerator of our Fraction objectis \", fraction1.get_numerator())\n",
    "    print(\"The Denominator of our Fraction objectis \", fraction1.get_denominator())\n",
    "    print(fraction1)\n",
    "\n",
    "    print(\"------\"*15)\n",
    "    \n",
    "    fraction2 = Fraction(3,8)\n",
    "    print(fraction2)\n",
    "    print(\"The Numerator of our Fraction objectis \", fraction2.get_numerator())\n",
    "    print(\"The Denominator of our Fraction objectis \", fraction2.get_denominator())\n",
    "    print(\"Now we will change the numerator and the denominator to d/t numbers\")\n",
    "    fraction2.set_numerator(24)\n",
    "    fraction2.set_denominator(55)\n",
    "    print(\"The Numerator of our Fraction objectis \", fraction2.get_numerator())\n",
    "    print(\"The Denominator of our Fraction objectis \", fraction2.get_denominator())\n",
    "    print(fraction2)\n",
    "    "
   ]
  },
  {
   "cell_type": "code",
   "execution_count": 3,
   "metadata": {},
   "outputs": [
    {
     "output_type": "stream",
     "name": "stdout",
     "text": "2/7\nThe Numerator of our Fraction objectis  2\nThe Denominator of our Fraction objectis  7\nNow we will change the numerator and the denominator to d/t numbers\nThe Numerator of our Fraction objectis  9\nThe Denominator of our Fraction objectis  19\n9/19\n------------------------------------------------------------------------------------------\n3/8\nThe Numerator of our Fraction objectis  3\nThe Denominator of our Fraction objectis  8\nNow we will change the numerator and the denominator to d/t numbers\nThe Numerator of our Fraction objectis  24\nThe Denominator of our Fraction objectis  55\n24/55\n"
    }
   ],
   "source": [
    "main()"
   ]
  },
  {
   "cell_type": "code",
   "execution_count": 4,
   "metadata": {},
   "outputs": [
    {
     "output_type": "stream",
     "name": "stdout",
     "text": "Help on class Fraction in module __main__:\n\nclass Fraction(builtins.object)\n |  Fraction(num, den)\n |  \n |  Our Class represents a fraction\n |  \n |  Methods defined here:\n |  \n |  __init__(self, num, den)\n |      This will initialise attr num and den\n |  \n |  __str__(self)\n |      This will return a str representation of our fraction\n |  \n |  get_denominator(self)\n |      This will return the denominator\n |  \n |  get_numerator(self)\n |      This will return the numerator\n |  \n |  set_denominator(self, de)\n |      This will set the denominator\n |  \n |  set_numerator(self, nu)\n |      This will set the numerator\n |  \n |  ----------------------------------------------------------------------\n |  Data descriptors defined here:\n |  \n |  __dict__\n |      dictionary for instance variables (if defined)\n |  \n |  __weakref__\n |      list of weak references to the object (if defined)\n\n"
    }
   ],
   "source": [
    "help(Fraction)"
   ]
  },
  {
   "cell_type": "code",
   "execution_count": 5,
   "metadata": {},
   "outputs": [
    {
     "output_type": "stream",
     "name": "stdout",
     "text": "There was an error with your calculation\n"
    },
    {
     "output_type": "error",
     "ename": "SystemExit",
     "evalue": "",
     "traceback": [
      "An exception has occurred, use %tb to see the full traceback.\n",
      "\u001b[1;31mSystemExit\u001b[0m\n"
     ]
    }
   ],
   "source": [
    "fraction3 = Fraction(4,0)\n",
    "print(fraction3)"
   ]
  },
  {
   "cell_type": "code",
   "execution_count": 6,
   "metadata": {},
   "outputs": [],
   "source": [
    "# A program class name is myaccount and takes 3 attrs: number, name and balance. Initialize them \n",
    "# and also initialize a min balance attr and set it = 500. Also set the acct to active ..\n",
    "# you will need two methods: deposit and withdraw\n",
    "# the deposit method will add (deposit) amt to your account if balance > 0\n",
    "# the withdraw method will take amt out of your acct and will require a mininum amt of 500 to be \n",
    "# present in your acct.\n",
    "# you'll also need a set_active method that will activate or not your acct and also is_active \n",
    "# method that will return true if balance is > 0"
   ]
  },
  {
   "cell_type": "code",
   "execution_count": 7,
   "metadata": {},
   "outputs": [],
   "source": [
    "class myaccount:\n",
    "\n",
    "    def __init__(self,number,name,balance):\n",
    "        \"\"\"This will initialise our account\"\"\"\n",
    "        self.account_number = number\n",
    "        self.name = name\n",
    "        self.balance = balance\n",
    "        self.min_balance = 500\n",
    "        self.active = True\n",
    "\n",
    "    def deposit(self,amount):\n",
    "        \"\"\" This will deposit the amount if the balance > 0 \"\"\"\n",
    "        if self.is_active():\n",
    "            self.balance += amount\n",
    "            return True\n",
    "        else:\n",
    "            print(\"You will need to go to the nearest branch\")\n",
    "            return False\n",
    "            \n",
    "    def withdraw(self,amount):\n",
    "        \"\"\"This will withdraw amt if balance > 500\"\"\"\n",
    "        result = False\n",
    "\n",
    "        if self.is_active() and self.balance - amount > self.min_balance:\n",
    "            self.balance -= amount\n",
    "            result = True\n",
    "        else:\n",
    "            print(\"You will need a min balance of > 500\")\n",
    "\n",
    "        return result\n",
    "\n",
    "    def set_active(self,actt):\n",
    "        \"\"\"This method will activate or deactivate or deactivate our acct\"\"\"\n",
    "        self.active = actt\n",
    "\n",
    "    def is_active(self):\n",
    "        if self.balance > 0:\n",
    "            return self.active\n",
    "        else:\n",
    "            return False\n",
    "        \n"
   ]
  },
  {
   "cell_type": "code",
   "execution_count": 8,
   "metadata": {},
   "outputs": [],
   "source": [
    "acct = myaccount(54545,\"Jane\",1000)"
   ]
  },
  {
   "cell_type": "code",
   "execution_count": 9,
   "metadata": {},
   "outputs": [
    {
     "output_type": "execute_result",
     "data": {
      "text/plain": "True"
     },
     "metadata": {},
     "execution_count": 9
    }
   ],
   "source": [
    "acct.deposit(300)"
   ]
  },
  {
   "cell_type": "code",
   "execution_count": 10,
   "metadata": {},
   "outputs": [
    {
     "output_type": "execute_result",
     "data": {
      "text/plain": "1300"
     },
     "metadata": {},
     "execution_count": 10
    }
   ],
   "source": [
    "acct.balance"
   ]
  },
  {
   "cell_type": "code",
   "execution_count": 11,
   "metadata": {},
   "outputs": [
    {
     "output_type": "execute_result",
     "data": {
      "text/plain": "True"
     },
     "metadata": {},
     "execution_count": 11
    }
   ],
   "source": [
    "acct.is_active()"
   ]
  },
  {
   "cell_type": "code",
   "execution_count": 12,
   "metadata": {},
   "outputs": [
    {
     "output_type": "stream",
     "name": "stdout",
     "text": "You will need a min balance of > 500\n"
    },
    {
     "output_type": "execute_result",
     "data": {
      "text/plain": "False"
     },
     "metadata": {},
     "execution_count": 12
    }
   ],
   "source": [
    "acct.withdraw(800)"
   ]
  },
  {
   "cell_type": "code",
   "execution_count": 13,
   "metadata": {},
   "outputs": [
    {
     "output_type": "execute_result",
     "data": {
      "text/plain": "True"
     },
     "metadata": {},
     "execution_count": 13
    }
   ],
   "source": [
    "acct.withdraw(799)\n"
   ]
  },
  {
   "cell_type": "code",
   "execution_count": 14,
   "metadata": {},
   "outputs": [
    {
     "output_type": "execute_result",
     "data": {
      "text/plain": "501"
     },
     "metadata": {},
     "execution_count": 14
    }
   ],
   "source": [
    "acct.balance"
   ]
  },
  {
   "cell_type": "code",
   "execution_count": 15,
   "metadata": {},
   "outputs": [
    {
     "output_type": "execute_result",
     "data": {
      "text/plain": "True"
     },
     "metadata": {},
     "execution_count": 15
    }
   ],
   "source": [
    "acct.deposit(100)"
   ]
  },
  {
   "cell_type": "code",
   "execution_count": 16,
   "metadata": {},
   "outputs": [
    {
     "output_type": "execute_result",
     "data": {
      "text/plain": "601"
     },
     "metadata": {},
     "execution_count": 16
    }
   ],
   "source": [
    "acct.balance"
   ]
  },
  {
   "cell_type": "code",
   "execution_count": 17,
   "metadata": {},
   "outputs": [
    {
     "output_type": "execute_result",
     "data": {
      "text/plain": "True"
     },
     "metadata": {},
     "execution_count": 17
    }
   ],
   "source": [
    "acct.withdraw(41)"
   ]
  },
  {
   "cell_type": "code",
   "execution_count": 18,
   "metadata": {},
   "outputs": [
    {
     "output_type": "execute_result",
     "data": {
      "text/plain": "True"
     },
     "metadata": {},
     "execution_count": 18
    }
   ],
   "source": [
    "acct.is_active()"
   ]
  },
  {
   "cell_type": "code",
   "execution_count": 19,
   "metadata": {},
   "outputs": [
    {
     "output_type": "execute_result",
     "data": {
      "text/plain": "500"
     },
     "metadata": {},
     "execution_count": 19
    }
   ],
   "source": [
    "acct.min_balance"
   ]
  },
  {
   "cell_type": "code",
   "execution_count": 20,
   "metadata": {},
   "outputs": [
    {
     "output_type": "stream",
     "name": "stdout",
     "text": "54545\nJane\n560\n500\nTrue\n"
    }
   ],
   "source": [
    "print(acct.account_number )\n",
    "print(acct.name )\n",
    "print(acct.balance )\n",
    "print(acct.min_balance )\n",
    "print(acct.active )"
   ]
  },
  {
   "cell_type": "code",
   "execution_count": 21,
   "metadata": {},
   "outputs": [],
   "source": [
    "acct2 = myaccount(33333,\"Smith\",-100)"
   ]
  },
  {
   "cell_type": "code",
   "execution_count": 22,
   "metadata": {},
   "outputs": [
    {
     "output_type": "execute_result",
     "data": {
      "text/plain": "False"
     },
     "metadata": {},
     "execution_count": 22
    }
   ],
   "source": [
    "acct2.is_active()"
   ]
  },
  {
   "cell_type": "code",
   "execution_count": 23,
   "metadata": {},
   "outputs": [
    {
     "output_type": "stream",
     "name": "stdout",
     "text": "You will need to go to the nearest branch\n"
    },
    {
     "output_type": "execute_result",
     "data": {
      "text/plain": "False"
     },
     "metadata": {},
     "execution_count": 23
    }
   ],
   "source": [
    "acct2.deposit(2000)"
   ]
  },
  {
   "cell_type": "code",
   "execution_count": 24,
   "metadata": {},
   "outputs": [],
   "source": [
    "acct3 = myaccount(65465,\"Joe\",3000)"
   ]
  },
  {
   "cell_type": "code",
   "execution_count": 25,
   "metadata": {},
   "outputs": [
    {
     "output_type": "execute_result",
     "data": {
      "text/plain": "True"
     },
     "metadata": {},
     "execution_count": 25
    }
   ],
   "source": [
    "acct3.is_active()"
   ]
  },
  {
   "cell_type": "code",
   "execution_count": 26,
   "metadata": {},
   "outputs": [
    {
     "output_type": "execute_result",
     "data": {
      "text/plain": "True"
     },
     "metadata": {},
     "execution_count": 26
    }
   ],
   "source": [
    "acct3.deposit(200)"
   ]
  },
  {
   "cell_type": "code",
   "execution_count": 27,
   "metadata": {},
   "outputs": [
    {
     "output_type": "execute_result",
     "data": {
      "text/plain": "True"
     },
     "metadata": {},
     "execution_count": 27
    }
   ],
   "source": [
    "acct3.withdraw(750)"
   ]
  },
  {
   "cell_type": "code",
   "execution_count": 28,
   "metadata": {},
   "outputs": [],
   "source": [
    "acct3.set_active('False')"
   ]
  },
  {
   "cell_type": "code",
   "execution_count": 29,
   "metadata": {},
   "outputs": [
    {
     "output_type": "execute_result",
     "data": {
      "text/plain": "'False'"
     },
     "metadata": {},
     "execution_count": 29
    }
   ],
   "source": [
    "acct3.is_active()"
   ]
  },
  {
   "cell_type": "code",
   "execution_count": null,
   "metadata": {},
   "outputs": [],
   "source": []
  }
 ],
 "metadata": {
  "language_info": {
   "codemirror_mode": {
    "name": "ipython",
    "version": 3
   },
   "file_extension": ".py",
   "mimetype": "text/x-python",
   "name": "python",
   "nbconvert_exporter": "python",
   "pygments_lexer": "ipython3",
   "version": "3.8.1-final"
  },
  "orig_nbformat": 2,
  "kernelspec": {
   "name": "python38132bit51bf2d4383df4065b0c992fe407a3440",
   "display_name": "Python 3.8.1 32-bit"
  }
 },
 "nbformat": 4,
 "nbformat_minor": 2
}