{
 "cells": [
  {
   "cell_type": "code",
   "execution_count": 1,
   "metadata": {},
   "outputs": [],
   "source": [
    "# write a program called a fraction that accepts attributes numerator and denominator\n",
    "# and returns a string representation of a fraction\n",
    "# you will need two methods that will get the numerator and denominator\n",
    "# you will also need two methods that will set the numerator and denominator\n",
    "# don't forget to check that denominator != 0\n",
    "# try to include a nice and short (one line) doc string for your class and all the methods"
   ]
  },
  {
   "cell_type": "code",
   "execution_count": 2,
   "metadata": {},
   "outputs": [],
   "source": [
    "class Fraction:\n",
    "\n",
    "    \"\"\"Our Class represents a fraction\"\"\"\n",
    "\n",
    "    def __init__(self,num,den):\n",
    "        self.numerator = num\n",
    "        if den != 0:\n",
    "            self.denominator = den\n",
    "        else:\n",
    "            print(\"There was an error with your calculation\")\n",
    "            from sys import exit\n",
    "            exit()\n",
    "\n",
    "    def get_numerator(self):\n",
    "        \"\"\"This will return the numerator\"\"\"\n",
    "        return self.numerator\n",
    "\n",
    "    def get_denominator(self):\n",
    "        \"\"\"This will return the denominator\"\"\"\n",
    "        return self.denominator\n",
    "\n",
    "    def set_numerator(self,nu):\n",
    "        \"\"\"This will set the numerator\"\"\"\n",
    "        self.numerator = nu\n",
    "\n",
    "    def set_denominator(self,de):\n",
    "        \"\"\"This will set the denominator\"\"\"\n",
    "        if de != 0:\n",
    "            self.denominator = de\n",
    "        else:\n",
    "            print(\"There was an error with your calculation\")\n",
    "            from sys import exit\n",
    "            exit()\n",
    "\n",
    "    def __str__(self):\n",
    "        \"\"\"This will return a str representation of our fraction\"\"\"\n",
    "        return str(self.get_numerator()) + \"/\" + str(self.get_denominator())\n",
    "\n",
    "\n",
    "def main():\n",
    "    fraction1 = Fraction(2,7)\n",
    "    print(fraction1)\n",
    "    print(\"The Numerator of our Fraction objectis \", fraction1.get_numerator())\n",
    "    print(\"The Denominator of our Fraction objectis \", fraction1.get_denominator())\n",
    "    print(\"Now we will change the numerator and the denominator to d/t numbers\")\n",
    "    fraction1.set_numerator(9)\n",
    "    fraction1.set_denominator(19)\n",
    "    print(\"The Numerator of our Fraction objectis \", fraction1.get_numerator())\n",
    "    print(\"The Denominator of our Fraction objectis \", fraction1.get_denominator())\n",
    "    print(fraction1)\n",
    "\n",
    "    print(\"------\"*15)\n",
    "    \n",
    "    fraction2 = Fraction(3,8)\n",
    "    print(fraction2)\n",
    "    print(\"The Numerator of our Fraction objectis \", fraction2.get_numerator())\n",
    "    print(\"The Denominator of our Fraction objectis \", fraction2.get_denominator())\n",
    "    print(\"Now we will change the numerator and the denominator to d/t numbers\")\n",
    "    fraction2.set_numerator(24)\n",
    "    fraction2.set_denominator(55)\n",
    "    print(\"The Numerator of our Fraction objectis \", fraction2.get_numerator())\n",
    "    print(\"The Denominator of our Fraction objectis \", fraction2.get_denominator())\n",
    "    print(fraction2)\n",
    "    "
   ]
  },
  {
   "cell_type": "code",
   "execution_count": 3,
   "metadata": {},
   "outputs": [
    {
     "output_type": "stream",
     "name": "stdout",
     "text": "2/7\nThe Numerator of our Fraction objectis  2\nThe Denominator of our Fraction objectis  7\nNow we will change the numerator and the denominator to d/t numbers\nThe Numerator of our Fraction objectis  9\nThe Denominator of our Fraction objectis  19\n9/19\n------------------------------------------------------------------------------------------\n3/8\nThe Numerator of our Fraction objectis  3\nThe Denominator of our Fraction objectis  8\nNow we will change the numerator and the denominator to d/t numbers\nThe Numerator of our Fraction objectis  24\nThe Denominator of our Fraction objectis  55\n24/55\n"
    }
   ],
   "source": [
    "main()"
   ]
  },
  {
   "cell_type": "code",
   "execution_count": 4,
   "metadata": {},
   "outputs": [
    {
     "output_type": "stream",
     "name": "stdout",
     "text": "Help on class Fraction in module __main__:\n\nclass Fraction(builtins.object)\n |  Fraction(num, den)\n |  \n |  Our Class represents a fraction\n |  \n |  Methods defined here:\n |  \n |  __init__(self, num, den)\n |      Initialize self.  See help(type(self)) for accurate signature.\n |  \n |  __str__(self)\n |      This will return a str representation of our fraction\n |  \n |  get_denominator(self)\n |      This will return the denominator\n |  \n |  get_numerator(self)\n |      This will return the numerator\n |  \n |  set_denominator(self, de)\n |      This will set the denominator\n |  \n |  set_numerator(self, nu)\n |      This will set the numerator\n |  \n |  ----------------------------------------------------------------------\n |  Data descriptors defined here:\n |  \n |  __dict__\n |      dictionary for instance variables (if defined)\n |  \n |  __weakref__\n |      list of weak references to the object (if defined)\n\n"
    }
   ],
   "source": [
    "help(Fraction)"
   ]
  },
  {
   "cell_type": "code",
   "execution_count": null,
   "metadata": {},
   "outputs": [],
   "source": []
  }
 ],
 "metadata": {
  "language_info": {
   "codemirror_mode": {
    "name": "ipython",
    "version": 3
   },
   "file_extension": ".py",
   "mimetype": "text/x-python",
   "name": "python",
   "nbconvert_exporter": "python",
   "pygments_lexer": "ipython3",
   "version": "3.8.1-final"
  },
  "orig_nbformat": 2,
  "kernelspec": {
   "name": "python38132bit51bf2d4383df4065b0c992fe407a3440",
   "display_name": "Python 3.8.1 32-bit"
  }
 },
 "nbformat": 4,
 "nbformat_minor": 2
}