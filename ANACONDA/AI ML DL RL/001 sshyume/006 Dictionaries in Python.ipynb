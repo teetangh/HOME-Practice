{
 "cells": [
  {
   "cell_type": "markdown",
   "metadata": {},
   "source": [
    "# Dictionaries"
   ]
  },
  {
   "cell_type": "code",
   "execution_count": 1,
   "metadata": {},
   "outputs": [
    {
     "output_type": "stream",
     "name": "stdout",
     "text": "{'key1': 'value1', 'key2': 'value2', 'key3': 'value3'}\n"
    }
   ],
   "source": [
    "# Unordered set of key and value pairs\n",
    "dict_new ={'key1':'value1','key2':'value2','key3':'value3'}\n",
    "print(dict_new)"
   ]
  },
  {
   "cell_type": "code",
   "execution_count": 2,
   "metadata": {},
   "outputs": [
    {
     "output_type": "execute_result",
     "data": {
      "text/plain": "'value1'"
     },
     "metadata": {},
     "execution_count": 2
    }
   ],
   "source": [
    "dict_new['key1']"
   ]
  },
  {
   "cell_type": "code",
   "execution_count": 3,
   "metadata": {},
   "outputs": [
    {
     "output_type": "execute_result",
     "data": {
      "text/plain": "'value3'"
     },
     "metadata": {},
     "execution_count": 3
    }
   ],
   "source": [
    "dict_new['key3']"
   ]
  },
  {
   "cell_type": "code",
   "execution_count": 4,
   "metadata": {},
   "outputs": [
    {
     "output_type": "stream",
     "name": "stdout",
     "text": "4\n{1: 23, 2: 'stringvalue', 'name': ['Joe', 'Jane', 'Smith'], 'key4': ['Person', 5, 8, 13]}\n"
    }
   ],
   "source": [
    "mix_dict = {1:23,2:'stringvalue','name':['Joe','Jane','Smith'],'key4':['Person',5,8,13]}\n",
    "print(len(mix_dict))\n",
    "print(mix_dict)"
   ]
  },
  {
   "cell_type": "code",
   "execution_count": 5,
   "metadata": {},
   "outputs": [
    {
     "output_type": "execute_result",
     "data": {
      "text/plain": "['Joe', 'Jane', 'Smith']"
     },
     "metadata": {},
     "execution_count": 5
    }
   ],
   "source": [
    "mix_dict['name']"
   ]
  },
  {
   "cell_type": "code",
   "execution_count": 6,
   "metadata": {},
   "outputs": [
    {
     "output_type": "execute_result",
     "data": {
      "text/plain": "'Smith'"
     },
     "metadata": {},
     "execution_count": 6
    }
   ],
   "source": [
    "mix_dict['name'][2]"
   ]
  },
  {
   "cell_type": "code",
   "execution_count": 7,
   "metadata": {},
   "outputs": [
    {
     "output_type": "execute_result",
     "data": {
      "text/plain": "str"
     },
     "metadata": {},
     "execution_count": 7
    }
   ],
   "source": [
    "type(mix_dict['name'][2])"
   ]
  },
  {
   "cell_type": "code",
   "execution_count": 8,
   "metadata": {},
   "outputs": [
    {
     "output_type": "stream",
     "name": "stdout",
     "text": "['Person', 5, 8, 13]\n8\n"
    }
   ],
   "source": [
    "print(mix_dict['key4'])\n",
    "print(mix_dict['key4'][2])"
   ]
  },
  {
   "cell_type": "code",
   "execution_count": 9,
   "metadata": {},
   "outputs": [
    {
     "output_type": "execute_result",
     "data": {
      "text/plain": "20"
     },
     "metadata": {},
     "execution_count": 9
    }
   ],
   "source": [
    "mix_dict['key4'][2] + 12"
   ]
  },
  {
   "cell_type": "code",
   "execution_count": 10,
   "metadata": {},
   "outputs": [
    {
     "output_type": "stream",
     "name": "stdout",
     "text": "{'key1': 'value4', 'key2': 'value2', 'key3': 'value3'}\n"
    }
   ],
   "source": [
    "dict_new ={'key1':'value1','key2':'value2','key3':'value3','key1':'value4'}\n",
    "print(dict_new)"
   ]
  },
  {
   "cell_type": "code",
   "execution_count": 11,
   "metadata": {},
   "outputs": [
    {
     "output_type": "stream",
     "name": "stdout",
     "text": "{'name': 'Jane', 'age': 43, 'state': 'NY'}\n"
    }
   ],
   "source": [
    "person = {'name' : 'Jane' , 'age' : 43 , 'state' : 'NY'}\n",
    "print(person)"
   ]
  },
  {
   "cell_type": "code",
   "execution_count": 12,
   "metadata": {},
   "outputs": [
    {
     "output_type": "execute_result",
     "data": {
      "text/plain": "3"
     },
     "metadata": {},
     "execution_count": 12
    }
   ],
   "source": [
    "len(person)"
   ]
  },
  {
   "cell_type": "code",
   "execution_count": 13,
   "metadata": {},
   "outputs": [],
   "source": [
    "person.update({'department' : 'IT'})"
   ]
  },
  {
   "cell_type": "code",
   "execution_count": 14,
   "metadata": {},
   "outputs": [
    {
     "output_type": "execute_result",
     "data": {
      "text/plain": "{'name': 'Jane', 'age': 43, 'state': 'NY', 'department': 'IT'}"
     },
     "metadata": {},
     "execution_count": 14
    }
   ],
   "source": [
    "person"
   ]
  },
  {
   "cell_type": "code",
   "execution_count": 15,
   "metadata": {},
   "outputs": [
    {
     "output_type": "stream",
     "name": "stdout",
     "text": "{'name': 'Jane', 'age': 43, 'state': 'NY', 'department': 'IT', 6: [3, 4, 5]}\n"
    }
   ],
   "source": [
    "person.update({6:[3,4,5]})\n",
    "print(person)"
   ]
  },
  {
   "cell_type": "code",
   "execution_count": 16,
   "metadata": {},
   "outputs": [
    {
     "output_type": "execute_result",
     "data": {
      "text/plain": "{'name': 'Jane',\n 'age': 43,\n 'state': 'NY',\n 'department': 'IT',\n 6: [3, 4, 5],\n 'key6': 'value6'}"
     },
     "metadata": {},
     "execution_count": 16
    }
   ],
   "source": [
    "person['key6'] = 'value6'\n",
    "person"
   ]
  },
  {
   "cell_type": "code",
   "execution_count": 17,
   "metadata": {},
   "outputs": [
    {
     "output_type": "execute_result",
     "data": {
      "text/plain": "{'name': 'Jane',\n 'age': 43,\n 'state': 'NY',\n 'department': 'IT',\n 6: [3, 4, 5],\n 'key6': 'value6',\n 7: 7}"
     },
     "metadata": {},
     "execution_count": 17
    }
   ],
   "source": [
    "person[7] = 7\n",
    "person"
   ]
  },
  {
   "cell_type": "code",
   "execution_count": 18,
   "metadata": {},
   "outputs": [
    {
     "output_type": "execute_result",
     "data": {
      "text/plain": "{'name': 'Jane',\n 'age': 44,\n 'state': 'NY',\n 'department': 'IT',\n 6: [3, 4, 5],\n 'key6': 'value6',\n 7: 7}"
     },
     "metadata": {},
     "execution_count": 18
    }
   ],
   "source": [
    "person['age'] = 44\n",
    "person"
   ]
  },
  {
   "cell_type": "code",
   "execution_count": 19,
   "metadata": {},
   "outputs": [
    {
     "output_type": "execute_result",
     "data": {
      "text/plain": "{'name': 'Jane',\n 'age': 44,\n 'state': 'New Jersey',\n 'department': 'IT',\n 6: [3, 4, 5],\n 'key6': 'value6',\n 7: 7}"
     },
     "metadata": {},
     "execution_count": 19
    }
   ],
   "source": [
    "person['state'] = 'New Jersey'\n",
    "person"
   ]
  },
  {
   "cell_type": "code",
   "execution_count": 20,
   "metadata": {},
   "outputs": [
    {
     "output_type": "stream",
     "name": "stdout",
     "text": "dict_keys(['name', 'age', 'state', 'department', 6, 'key6', 7])\ndict_values(['Jane', 44, 'New Jersey', 'IT', [3, 4, 5], 'value6', 7])\n"
    }
   ],
   "source": [
    "print(person.keys())\n",
    "print(person.values())"
   ]
  },
  {
   "cell_type": "code",
   "execution_count": 21,
   "metadata": {},
   "outputs": [
    {
     "output_type": "execute_result",
     "data": {
      "text/plain": "dict_items([('name', 'Jane'), ('age', 44), ('state', 'New Jersey'), ('department', 'IT'), (6, [3, 4, 5]), ('key6', 'value6'), (7, 7)])"
     },
     "metadata": {},
     "execution_count": 21
    }
   ],
   "source": [
    "person.items()"
   ]
  },
  {
   "cell_type": "code",
   "execution_count": 22,
   "metadata": {},
   "outputs": [
    {
     "output_type": "execute_result",
     "data": {
      "text/plain": "dict"
     },
     "metadata": {},
     "execution_count": 22
    }
   ],
   "source": [
    "dict1 = {} # empty dictionary\n",
    "type(dict1) "
   ]
  },
  {
   "cell_type": "code",
   "execution_count": 23,
   "metadata": {},
   "outputs": [
    {
     "output_type": "stream",
     "name": "stdout",
     "text": "{'key1': 'value1', 'key2': 'value2', 'key3': 'value3', 'key4': 'value4'}\n"
    }
   ],
   "source": [
    "dict1['key1'] = 'value1'\n",
    "dict1['key2'] = 'value2'\n",
    "dict1['key3'] = 'value3'\n",
    "dict1['key4'] = 'value4'\n",
    "print(dict1)"
   ]
  },
  {
   "cell_type": "code",
   "execution_count": 24,
   "metadata": {},
   "outputs": [
    {
     "output_type": "execute_result",
     "data": {
      "text/plain": "'value2'"
     },
     "metadata": {},
     "execution_count": 24
    }
   ],
   "source": [
    "dict1.pop('key2')"
   ]
  },
  {
   "cell_type": "code",
   "execution_count": 25,
   "metadata": {},
   "outputs": [
    {
     "output_type": "stream",
     "name": "stdout",
     "text": "{'key1': 'value1', 'key3': 'value3', 'key4': 'value4'}\n"
    }
   ],
   "source": [
    "print(dict1)"
   ]
  },
  {
   "cell_type": "code",
   "execution_count": 26,
   "metadata": {},
   "outputs": [],
   "source": [
    "del dict1['key4']"
   ]
  },
  {
   "cell_type": "code",
   "execution_count": 27,
   "metadata": {},
   "outputs": [
    {
     "output_type": "execute_result",
     "data": {
      "text/plain": "{'key1': 'value1', 'key3': 'value3'}"
     },
     "metadata": {},
     "execution_count": 27
    }
   ],
   "source": [
    "dict1"
   ]
  },
  {
   "cell_type": "markdown",
   "metadata": {},
   "source": [
    "# Dictionaries Built-in Operations"
   ]
  },
  {
   "cell_type": "code",
   "execution_count": 28,
   "metadata": {},
   "outputs": [
    {
     "output_type": "stream",
     "name": "stdout",
     "text": "{'key1': 456, 'key2': [3, 9, 15], 'key3': (94, 8, 23), 'key4': ['item1', 'item2', 'item3']}\n"
    }
   ],
   "source": [
    "dict1 = {'key1' : 456 , 'key2' : [3,9,15] , 'key3': (94,8,23) , 'key4' : ['item1','item2','item3']}\n",
    "print(dict1)"
   ]
  },
  {
   "cell_type": "code",
   "execution_count": 29,
   "metadata": {},
   "outputs": [
    {
     "output_type": "execute_result",
     "data": {
      "text/plain": "[3, 9, 15]"
     },
     "metadata": {},
     "execution_count": 29
    }
   ],
   "source": [
    "dict1['key2']"
   ]
  },
  {
   "cell_type": "code",
   "execution_count": 30,
   "metadata": {},
   "outputs": [],
   "source": [
    "x = dict1['key2']"
   ]
  },
  {
   "cell_type": "code",
   "execution_count": 31,
   "metadata": {},
   "outputs": [
    {
     "output_type": "execute_result",
     "data": {
      "text/plain": "int"
     },
     "metadata": {},
     "execution_count": 31
    }
   ],
   "source": [
    "type(x[2])"
   ]
  },
  {
   "cell_type": "code",
   "execution_count": 32,
   "metadata": {},
   "outputs": [
    {
     "output_type": "execute_result",
     "data": {
      "text/plain": "50"
     },
     "metadata": {},
     "execution_count": 32
    }
   ],
   "source": [
    "(x[2]) + 35 "
   ]
  },
  {
   "cell_type": "code",
   "execution_count": 33,
   "metadata": {},
   "outputs": [
    {
     "output_type": "execute_result",
     "data": {
      "text/plain": "'item2'"
     },
     "metadata": {},
     "execution_count": 33
    }
   ],
   "source": [
    "x = dict1['key4']\n",
    "x[1]"
   ]
  },
  {
   "cell_type": "code",
   "execution_count": 34,
   "metadata": {},
   "outputs": [
    {
     "output_type": "execute_result",
     "data": {
      "text/plain": "str"
     },
     "metadata": {},
     "execution_count": 34
    }
   ],
   "source": [
    "type(x[1])"
   ]
  },
  {
   "cell_type": "code",
   "execution_count": 35,
   "metadata": {},
   "outputs": [
    {
     "output_type": "execute_result",
     "data": {
      "text/plain": "False"
     },
     "metadata": {},
     "execution_count": 35
    }
   ],
   "source": [
    "x[1].isupper()"
   ]
  },
  {
   "cell_type": "code",
   "execution_count": 36,
   "metadata": {},
   "outputs": [
    {
     "output_type": "execute_result",
     "data": {
      "text/plain": "dict_keys(['key1', 'key2', 'key3', 'key4'])"
     },
     "metadata": {},
     "execution_count": 36
    }
   ],
   "source": [
    "dict1.keys()"
   ]
  },
  {
   "cell_type": "code",
   "execution_count": 37,
   "metadata": {},
   "outputs": [],
   "source": [
    "# dict1.viewkeys()\n",
    "# You can use viewkeys(), viewitems() and viewvalues() in py2x. only"
   ]
  },
  {
   "cell_type": "code",
   "execution_count": 38,
   "metadata": {},
   "outputs": [
    {
     "output_type": "stream",
     "name": "stdout",
     "text": "<class 'dict_keys'>\ndict_keys(['key1', 'key2', 'key3', 'key4'])\n"
    }
   ],
   "source": [
    "x = dict1.keys()\n",
    "print(type(x))\n",
    "print(x)"
   ]
  },
  {
   "cell_type": "code",
   "execution_count": 39,
   "metadata": {},
   "outputs": [
    {
     "output_type": "execute_result",
     "data": {
      "text/plain": "dict_values([456, [3, 9, 15], (94, 8, 23), ['item1', 'item2', 'item3']])"
     },
     "metadata": {},
     "execution_count": 39
    }
   ],
   "source": [
    "dict1.values()"
   ]
  },
  {
   "cell_type": "code",
   "execution_count": 40,
   "metadata": {},
   "outputs": [
    {
     "output_type": "execute_result",
     "data": {
      "text/plain": "dict_items([('key1', 456), ('key2', [3, 9, 15]), ('key3', (94, 8, 23)), ('key4', ['item1', 'item2', 'item3'])])"
     },
     "metadata": {},
     "execution_count": 40
    }
   ],
   "source": [
    "dict1.items()"
   ]
  },
  {
   "cell_type": "code",
   "execution_count": 43,
   "metadata": {},
   "outputs": [
    {
     "output_type": "stream",
     "name": "stdout",
     "text": "key1\nkey2\nkey3\nkey4\n"
    }
   ],
   "source": [
    "# Removed dict.iteritems(), dict.iterkeys(), and dict.itervalues().\n",
    "# Instead: use dict.items(), dict.keys(), and dict.values() respectively.\n",
    "for key in dict1.keys():\n",
    "    print(key)"
   ]
  },
  {
   "cell_type": "code",
   "execution_count": 44,
   "metadata": {},
   "outputs": [
    {
     "output_type": "stream",
     "name": "stdout",
     "text": "456\n[3, 9, 15]\n(94, 8, 23)\n['item1', 'item2', 'item3']\n"
    }
   ],
   "source": [
    "for value in dict1.values():\n",
    "    print(value)"
   ]
  },
  {
   "cell_type": "code",
   "execution_count": 45,
   "metadata": {},
   "outputs": [
    {
     "output_type": "stream",
     "name": "stdout",
     "text": "456\n[3, 9, 15]\n(94, 8, 23)\n['item1', 'item2', 'item3']\n"
    }
   ],
   "source": [
    "for abcde in dict1.values():\n",
    "    print(abcde)"
   ]
  },
  {
   "cell_type": "code",
   "execution_count": 46,
   "metadata": {},
   "outputs": [
    {
     "output_type": "stream",
     "name": "stdout",
     "text": "('key1', 456)\n('key2', [3, 9, 15])\n('key3', (94, 8, 23))\n('key4', ['item1', 'item2', 'item3'])\n"
    }
   ],
   "source": [
    "for items in dict1.items():\n",
    "    print(items)"
   ]
  },
  {
   "cell_type": "code",
   "execution_count": 47,
   "metadata": {},
   "outputs": [
    {
     "output_type": "stream",
     "name": "stdout",
     "text": "key1 456\nkey2 [3, 9, 15]\nkey3 (94, 8, 23)\nkey4 ['item1', 'item2', 'item3']\n"
    }
   ],
   "source": [
    "for key,value in dict1.items():\n",
    "    print(key,value)"
   ]
  },
  {
   "cell_type": "code",
   "execution_count": null,
   "metadata": {},
   "outputs": [],
   "source": []
  }
 ],
 "metadata": {
  "language_info": {
   "codemirror_mode": {
    "name": "ipython",
    "version": 3
   },
   "file_extension": ".py",
   "mimetype": "text/x-python",
   "name": "python",
   "nbconvert_exporter": "python",
   "pygments_lexer": "ipython3",
   "version": "3.8.1-final"
  },
  "orig_nbformat": 2,
  "kernelspec": {
   "name": "python38132bit51bf2d4383df4065b0c992fe407a3440",
   "display_name": "Python 3.8.1 32-bit"
  }
 },
 "nbformat": 4,
 "nbformat_minor": 2
}