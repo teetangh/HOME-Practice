{
 "cells": [
  {
   "cell_type": "code",
   "execution_count": 1,
   "metadata": {},
   "outputs": [
    {
     "output_type": "stream",
     "name": "stdout",
     "text": "(1, 2, 3, 4, 5)\n"
    }
   ],
   "source": [
    "listss = [1,2,3]\n",
    "tuple_xx  = (1,2,3,4,5)\n",
    "print(tuple_xx)"
   ]
  },
  {
   "cell_type": "code",
   "execution_count": 2,
   "metadata": {},
   "outputs": [
    {
     "output_type": "stream",
     "name": "stdout",
     "text": "('a', 'b', 'c')\n(1, 2, 3, 'a', 'b', 'c')\n(1.2, 3.4, 5.08, 'time', 'item', [2, 3, 4], (1, 2, 3), 'a', 'b')\n"
    }
   ],
   "source": [
    "xx = ('a','b','c')\n",
    "yy = (1,2,3,'a','b','c')\n",
    "zz = (1.2,3.4,5.08,'time','item',[2,3,4],(1,2,3),'a','b')\n",
    "print(xx)\n",
    "print(yy)\n",
    "print(zz)"
   ]
  },
  {
   "cell_type": "code",
   "execution_count": 3,
   "metadata": {},
   "outputs": [
    {
     "output_type": "stream",
     "name": "stdout",
     "text": "3\n6\n9\n"
    }
   ],
   "source": [
    "print(len(xx))\n",
    "print(len(yy))\n",
    "print(len(zz))"
   ]
  },
  {
   "cell_type": "code",
   "execution_count": 4,
   "metadata": {},
   "outputs": [
    {
     "output_type": "stream",
     "name": "stdout",
     "text": "c\nc\n"
    }
   ],
   "source": [
    "print(yy[5])\n",
    "print(yy[-1])\n",
    "# print(yy[9]) # ERROR - Tuple index out of Bounds"
   ]
  },
  {
   "cell_type": "code",
   "execution_count": 5,
   "metadata": {},
   "outputs": [
    {
     "output_type": "execute_result",
     "data": {
      "text/plain": "[2, 3, 4, 'some other ele']"
     },
     "metadata": {},
     "execution_count": 5
    }
   ],
   "source": [
    "# Immutability of tupels\n",
    "list2 = [2,3,4,5]\n",
    "list2[3] = 'some other ele'\n",
    "list2"
   ]
  },
  {
   "cell_type": "code",
   "execution_count": 6,
   "metadata": {},
   "outputs": [],
   "source": [
    "tupl = (2,3,4,5)\n",
    "# tupl[2] = 22  # ERROR - Tuples are immutable"
   ]
  },
  {
   "cell_type": "markdown",
   "metadata": {},
   "source": [
    "# Tuple Operations"
   ]
  },
  {
   "cell_type": "code",
   "execution_count": 8,
   "metadata": {},
   "outputs": [
    {
     "output_type": "execute_result",
     "data": {
      "text/plain": "(1, 4, 7, 4, 9, 8)"
     },
     "metadata": {},
     "execution_count": 8
    }
   ],
   "source": [
    "# Tuple Concatenation\n",
    "(1,4,7) + (4,9,8)"
   ]
  },
  {
   "cell_type": "code",
   "execution_count": 10,
   "metadata": {},
   "outputs": [],
   "source": [
    "x = (3,4,5 , 'test','item') "
   ]
  },
  {
   "cell_type": "code",
   "execution_count": 11,
   "metadata": {},
   "outputs": [
    {
     "output_type": "execute_result",
     "data": {
      "text/plain": "(3, 4, 5, 'test', 'item', 4, 'item4', [3, 4, 5])"
     },
     "metadata": {},
     "execution_count": 11
    }
   ],
   "source": [
    "x + (4,'item4',[3,4,5])"
   ]
  },
  {
   "cell_type": "code",
   "execution_count": 12,
   "metadata": {},
   "outputs": [
    {
     "output_type": "execute_result",
     "data": {
      "text/plain": "(3, 4, 5, 'test', 'item', 3, 4, 5, 'test', 'item')"
     },
     "metadata": {},
     "execution_count": 12
    }
   ],
   "source": [
    "x + x"
   ]
  },
  {
   "cell_type": "code",
   "execution_count": 13,
   "metadata": {},
   "outputs": [
    {
     "output_type": "execute_result",
     "data": {
      "text/plain": "(1, 2, 3, 1, 2, 3)"
     },
     "metadata": {},
     "execution_count": 13
    }
   ],
   "source": [
    "(1,2,3) * 2 "
   ]
  },
  {
   "cell_type": "code",
   "execution_count": 14,
   "metadata": {},
   "outputs": [
    {
     "output_type": "execute_result",
     "data": {
      "text/plain": "(1, 2, 3, 4, 1, 2, 3, 4, 1, 2, 3, 4, 1, 2, 3, 4)"
     },
     "metadata": {},
     "execution_count": 14
    }
   ],
   "source": [
    "(1,2,3,4) * 4"
   ]
  },
  {
   "cell_type": "code",
   "execution_count": 15,
   "metadata": {},
   "outputs": [
    {
     "output_type": "execute_result",
     "data": {
      "text/plain": "(3,\n 4,\n 5,\n 'test',\n 'item',\n 3,\n 4,\n 5,\n 'test',\n 'item',\n 3,\n 4,\n 5,\n 'test',\n 'item',\n 3,\n 4,\n 5,\n 'test',\n 'item',\n 3,\n 4,\n 5,\n 'test',\n 'item')"
     },
     "metadata": {},
     "execution_count": 15
    }
   ],
   "source": [
    "x * 5"
   ]
  },
  {
   "cell_type": "code",
   "execution_count": 16,
   "metadata": {},
   "outputs": [
    {
     "output_type": "execute_result",
     "data": {
      "text/plain": "True"
     },
     "metadata": {},
     "execution_count": 16
    }
   ],
   "source": [
    "2 in (2,3,4,5)"
   ]
  },
  {
   "cell_type": "code",
   "execution_count": 17,
   "metadata": {},
   "outputs": [
    {
     "output_type": "execute_result",
     "data": {
      "text/plain": "False"
     },
     "metadata": {},
     "execution_count": 17
    }
   ],
   "source": [
    "9 in (5,6,7)"
   ]
  },
  {
   "cell_type": "code",
   "execution_count": 19,
   "metadata": {},
   "outputs": [
    {
     "output_type": "stream",
     "name": "stdout",
     "text": "(3, 4, 5, 'test', 'item')\n"
    },
    {
     "output_type": "execute_result",
     "data": {
      "text/plain": "False"
     },
     "metadata": {},
     "execution_count": 19
    }
   ],
   "source": [
    "print(x)\n",
    "2 in x "
   ]
  },
  {
   "cell_type": "code",
   "execution_count": 20,
   "metadata": {},
   "outputs": [
    {
     "output_type": "execute_result",
     "data": {
      "text/plain": "'test'"
     },
     "metadata": {},
     "execution_count": 20
    }
   ],
   "source": [
    "x[-2]"
   ]
  },
  {
   "cell_type": "code",
   "execution_count": 21,
   "metadata": {},
   "outputs": [
    {
     "output_type": "execute_result",
     "data": {
      "text/plain": "(3, 4, 5, 'test', 'item')"
     },
     "metadata": {},
     "execution_count": 21
    }
   ],
   "source": [
    "x[::]"
   ]
  },
  {
   "cell_type": "code",
   "execution_count": 22,
   "metadata": {},
   "outputs": [
    {
     "output_type": "execute_result",
     "data": {
      "text/plain": "(3, 5, 'item')"
     },
     "metadata": {},
     "execution_count": 22
    }
   ],
   "source": [
    "x[::2]"
   ]
  },
  {
   "cell_type": "code",
   "execution_count": 23,
   "metadata": {},
   "outputs": [
    {
     "output_type": "execute_result",
     "data": {
      "text/plain": "(3, 4, 5)"
     },
     "metadata": {},
     "execution_count": 23
    }
   ],
   "source": [
    "x[:3]"
   ]
  },
  {
   "cell_type": "code",
   "execution_count": 24,
   "metadata": {},
   "outputs": [
    {
     "output_type": "execute_result",
     "data": {
      "text/plain": "(4, 5, 'test')"
     },
     "metadata": {},
     "execution_count": 24
    }
   ],
   "source": [
    "x[1:4] # 1,2,3"
   ]
  },
  {
   "cell_type": "code",
   "execution_count": 25,
   "metadata": {},
   "outputs": [],
   "source": [
    "# Deleting in Tuples\n",
    "x = (3,4,5,6)\n",
    "# del x[1] # item deletion in tuple is NOT ALLOWED\n",
    "del x "
   ]
  },
  {
   "cell_type": "markdown",
   "metadata": {},
   "source": [
    "# Built-in Tuple Methods"
   ]
  },
  {
   "cell_type": "code",
   "execution_count": 26,
   "metadata": {},
   "outputs": [],
   "source": [
    "x = (1,2,3,4)"
   ]
  },
  {
   "cell_type": "code",
   "execution_count": 27,
   "metadata": {},
   "outputs": [],
   "source": [
    "# count,index,len,min,max,cmp"
   ]
  },
  {
   "cell_type": "code",
   "execution_count": 28,
   "metadata": {},
   "outputs": [
    {
     "output_type": "execute_result",
     "data": {
      "text/plain": "4"
     },
     "metadata": {},
     "execution_count": 28
    }
   ],
   "source": [
    "len(x)"
   ]
  },
  {
   "cell_type": "code",
   "execution_count": 30,
   "metadata": {},
   "outputs": [
    {
     "output_type": "stream",
     "name": "stdout",
     "text": "(1, 2, 3, 'item', 'item1', [2, 3, 4], (2, 5, 6))\n"
    },
    {
     "output_type": "execute_result",
     "data": {
      "text/plain": "7"
     },
     "metadata": {},
     "execution_count": 30
    }
   ],
   "source": [
    "x = (1,2,3,'item','item1',[2,3,4],(2,5,6))\n",
    "print(x)\n",
    "len(x)"
   ]
  },
  {
   "cell_type": "code",
   "execution_count": 32,
   "metadata": {},
   "outputs": [],
   "source": [
    "t = ('a','c','v',9)\n",
    "# PYTHON 3 Errors\n",
    "# print(min(t))  #ERROR '<' not supported between instances of 'int' and 'str'\n",
    "# print(max(t))  #ERROR '>' not supported between instances of 'int' and 'str'"
   ]
  },
  {
   "cell_type": "code",
   "execution_count": 35,
   "metadata": {},
   "outputs": [],
   "source": [
    "# cmp(tuple1,tuple2)\n",
    "x = (3,4,5)\n",
    "xx = (4,5,6)\n",
    "# Python 3 not supported\n",
    "# import operator  \n",
    "# cmp(x,xx)"
   ]
  },
  {
   "cell_type": "code",
   "execution_count": 36,
   "metadata": {},
   "outputs": [
    {
     "output_type": "stream",
     "name": "stdout",
     "text": "(2, 3, 4, 5, 6, 0, 4, 4, 5, 3, 'a', 'c', 'item', 1)\n"
    }
   ],
   "source": [
    "# count\n",
    "t1 = (2,3,4,5,6,0,4,4,5,3,'a','c','item',1)\n",
    "print(t1)"
   ]
  },
  {
   "cell_type": "code",
   "execution_count": 37,
   "metadata": {},
   "outputs": [
    {
     "output_type": "stream",
     "name": "stdout",
     "text": "3\n2\n1\n1\n0\n"
    }
   ],
   "source": [
    "print(t1.count(4))\n",
    "print(t1.count(5))\n",
    "print(t1.count(6))\n",
    "print(t1.count('a'))\n",
    "print(t1.count('b'))"
   ]
  },
  {
   "cell_type": "code",
   "execution_count": 38,
   "metadata": {},
   "outputs": [
    {
     "output_type": "execute_result",
     "data": {
      "text/plain": "False"
     },
     "metadata": {},
     "execution_count": 38
    }
   ],
   "source": [
    "'b' in t1"
   ]
  },
  {
   "cell_type": "code",
   "execution_count": 40,
   "metadata": {},
   "outputs": [
    {
     "output_type": "execute_result",
     "data": {
      "text/plain": "12"
     },
     "metadata": {},
     "execution_count": 40
    }
   ],
   "source": [
    "# index\n",
    "t1.index('item')"
   ]
  },
  {
   "cell_type": "code",
   "execution_count": 41,
   "metadata": {},
   "outputs": [
    {
     "output_type": "execute_result",
     "data": {
      "text/plain": "11"
     },
     "metadata": {},
     "execution_count": 41
    }
   ],
   "source": [
    "t1.index('c')"
   ]
  },
  {
   "cell_type": "code",
   "execution_count": null,
   "metadata": {},
   "outputs": [],
   "source": []
  }
 ],
 "metadata": {
  "language_info": {
   "codemirror_mode": {
    "name": "ipython",
    "version": 3
   },
   "file_extension": ".py",
   "mimetype": "text/x-python",
   "name": "python",
   "nbconvert_exporter": "python",
   "pygments_lexer": "ipython3",
   "version": "3.8.1-final"
  },
  "orig_nbformat": 2,
  "kernelspec": {
   "name": "python38132bit51bf2d4383df4065b0c992fe407a3440",
   "display_name": "Python 3.8.1 32-bit"
  }
 },
 "nbformat": 4,
 "nbformat_minor": 2
}