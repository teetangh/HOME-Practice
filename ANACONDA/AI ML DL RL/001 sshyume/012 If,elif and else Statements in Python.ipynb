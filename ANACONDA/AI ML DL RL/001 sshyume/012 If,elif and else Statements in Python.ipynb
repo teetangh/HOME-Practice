{
 "cells": [
  {
   "cell_type": "code",
   "execution_count": 1,
   "metadata": {},
   "outputs": [],
   "source": [
    "# Based on statements - outcome = true or False is not zero or null \n",
    "# condition == if True \"execute this code\" if not \"execute another code\""
   ]
  },
  {
   "cell_type": "markdown",
   "metadata": {},
   "source": [
    "# if condition:\n",
    "##     \"this code gets executed\"\n",
    "# else:\n",
    "##     \"some other gets executed\""
   ]
  },
  {
   "cell_type": "code",
   "execution_count": 2,
   "metadata": {},
   "outputs": [
    {
     "output_type": "stream",
     "name": "stdout",
     "text": "The number is what's expected\nPrint this code regardless\n"
    }
   ],
   "source": [
    "num = 22\n",
    "# The Number is not zero or null\n",
    "if num:\n",
    "    print(\"The number is what's expected\")\n",
    "print(\"Print this code regardless\")    "
   ]
  },
  {
   "cell_type": "code",
   "execution_count": 3,
   "metadata": {},
   "outputs": [
    {
     "output_type": "stream",
     "name": "stdout",
     "text": "Print this code regardless\n"
    }
   ],
   "source": [
    "num2 = 0\n",
    "\n",
    "if num2:\n",
    "    print(\"The number is not expected\")\n",
    "print(\"Print this code regardless\")"
   ]
  },
  {
   "cell_type": "code",
   "execution_count": 6,
   "metadata": {},
   "outputs": [
    {
     "output_type": "stream",
     "name": "stdout",
     "text": "The number is 48\nThis will be printed regardless\n"
    }
   ],
   "source": [
    "# If and else statements\n",
    "num = 48\n",
    "\n",
    "if num == 48:\n",
    "    print(\"The number is 48\")\n",
    "else:\n",
    "    print(\"The number is not 48\")\n",
    "    \n",
    "print(\"This will be printed regardless\")"
   ]
  },
  {
   "cell_type": "code",
   "execution_count": 10,
   "metadata": {},
   "outputs": [
    {
     "output_type": "stream",
     "name": "stdout",
     "text": "the input number is less than 20\nThis will be executed no matter what the outcome is\n"
    }
   ],
   "source": [
    "# Cast is necessary even in python3\n",
    "num = int(input(\"Please enter your number\"))\n",
    "\n",
    "if num < 20:\n",
    "    print(\"the input number is less than 20\")\n",
    "else:\n",
    "    print(\"number is not less than 20\")\n",
    "\n",
    "print(\"This will be executed no matter what the outcome is\")"
   ]
  },
  {
   "cell_type": "markdown",
   "metadata": {},
   "source": [
    "# If,elif,Else Statements"
   ]
  },
  {
   "cell_type": "code",
   "execution_count": 11,
   "metadata": {},
   "outputs": [],
   "source": [
    "# if condn:\n",
    "#     execute this\n",
    "# elif condn2:\n",
    "#     execute this\n",
    "# elif condn3:\n",
    "#     execute this\n",
    "# else:\n",
    "#     execute this"
   ]
  },
  {
   "cell_type": "code",
   "execution_count": 14,
   "metadata": {},
   "outputs": [
    {
     "output_type": "stream",
     "name": "stdout",
     "text": "the number is greater than 20\nThis will be executed no matter what the outcome is\n"
    }
   ],
   "source": [
    "# Cast is necessary even in python3\n",
    "num = int(input(\"Please enter your number\"))\n",
    "\n",
    "if num < 20:\n",
    "    print(\"the input number is less than 20\")\n",
    "elif num > 20:\n",
    "    print(\"the number is greater than 20\")\n",
    "else:\n",
    "    print(\"number is equal to 20\")\n",
    "\n",
    "print(\"This will be executed no matter what the outcome is\")"
   ]
  },
  {
   "cell_type": "code",
   "execution_count": 15,
   "metadata": {},
   "outputs": [
    {
     "output_type": "stream",
     "name": "stdout",
     "text": "This was a great movie\n"
    }
   ],
   "source": [
    "movie = \"Departed\"\n",
    "\n",
    "if movie == \"Departed\":\n",
    "    print(\"This was a great movie\")\n",
    "elif movie == \"Toy Story\":\n",
    "    print(\"movie was Toy story\")\n",
    "elif movie == \"minions\":\n",
    "    print(\"that movie was funny\")\n",
    "else:\n",
    "    print(\"What was the movie\")"
   ]
  },
  {
   "cell_type": "code",
   "execution_count": 17,
   "metadata": {},
   "outputs": [
    {
     "output_type": "stream",
     "name": "stdout",
     "text": "The num is between 0 and 21\n"
    }
   ],
   "source": [
    "num = int(input(\"Enter a nuimber please:\"))\n",
    "\n",
    "if num == 0:\n",
    "    print(\"the num is zero\")\n",
    "\n",
    "elif num > 0 and num <= 20:\n",
    "    print(\"The num is between 0 and 21\")\n",
    "elif num > 20 and num <= 45:\n",
    "    print(\"The num is between 20 and 46\")\n",
    "else:\n",
    "    print(\"I don't know the number\")"
   ]
  },
  {
   "cell_type": "markdown",
   "metadata": {},
   "source": [
    "# Nested If statements"
   ]
  },
  {
   "cell_type": "code",
   "execution_count": 18,
   "metadata": {},
   "outputs": [],
   "source": [
    "# if condition:\n",
    "#     if condition:\n",
    "#         if cond_a:\n",
    "#             execute cond_1a\n",
    "#         elif cond_1b:\n",
    "#             execute cond_1b\n",
    "#         else:\n",
    "#             execute cond_1c"
   ]
  },
  {
   "cell_type": "code",
   "execution_count": 26,
   "metadata": {},
   "outputs": [
    {
     "output_type": "stream",
     "name": "stdout",
     "text": "The student score a passing grade\nPassed with B\npassed with B+\n"
    }
   ],
   "source": [
    "grade = int(input(\"Please enter a grade between 0 and 100\"))\n",
    "\n",
    "if grade > 60:\n",
    "    print(\"The student score a passing grade\")\n",
    "\n",
    "    if grade >= 90:\n",
    "        print(\"Passed with A\")\n",
    "\n",
    "        if grade >= 96:\n",
    "            print(\"Passed with A+ distinction\")\n",
    "        elif grade >= 93:\n",
    "            print(\"Passed with high A-\")\n",
    "        else:\n",
    "            print(\"Passed with low A-\")\n",
    "\n",
    "    elif grade >= 80:\n",
    "        print(\"Passed with B\")\n",
    "\n",
    "        if grade >= 87:\n",
    "            print(\"passed with B+\")\n",
    "        elif grade >= 84:\n",
    "            print(\"passed with higher B-\")\n",
    "        else:\n",
    "            print(\"Passed with a lower B-\")\n",
    "\n",
    "    elif grade >= 70:\n",
    "        print(\"Passed with C\")\n",
    "    else:\n",
    "        print(\"Grade was a D\")\n",
    "\n",
    "elif grade == 60:\n",
    "    print(\"Student will have to retake the exam\")\n",
    "else:\n",
    "    print(\"Student Failed\")"
   ]
  },
  {
   "cell_type": "code",
   "execution_count": 27,
   "metadata": {},
   "outputs": [],
   "source": [
    "# Exercise - If Statements"
   ]
  },
  {
   "cell_type": "code",
   "execution_count": 28,
   "metadata": {},
   "outputs": [],
   "source": [
    "# Exercise: Ask a user to input a number and check if the number etheuser enters is +ve,0 or -ve"
   ]
  },
  {
   "cell_type": "code",
   "execution_count": 31,
   "metadata": {},
   "outputs": [
    {
     "output_type": "stream",
     "name": "stdout",
     "text": "-ve\n"
    }
   ],
   "source": [
    "number = int(input(\"please enter a number\"))\n",
    "\n",
    "if number > 0:\n",
    "    print(\"+ve\")\n",
    "elif number < 0:\n",
    "    print(\"-ve\")\n",
    "else:\n",
    "    print(\"0\")"
   ]
  },
  {
   "cell_type": "code",
   "execution_count": 32,
   "metadata": {},
   "outputs": [
    {
     "output_type": "stream",
     "name": "stdout",
     "text": "The number is 0\n"
    }
   ],
   "source": [
    "number = int(input(\"please enter a number\"))\n",
    "\n",
    "if number >= 0:\n",
    "    if number == 0:\n",
    "        print(\"The number is zero\")\n",
    "    else:\n",
    "        print(\"The number is positive\")\n",
    "else:\n",
    "    print(\"the number is negative\")"
   ]
  },
  {
   "cell_type": "code",
   "execution_count": 33,
   "metadata": {},
   "outputs": [],
   "source": [
    "# Exercise: Use a for loop together with if statements to check the grade of students and what they scored \n",
    "\n",
    "    # Student scores = 98,92,85,74,61,55,81"
   ]
  },
  {
   "cell_type": "code",
   "execution_count": 40,
   "metadata": {},
   "outputs": [
    {
     "output_type": "stream",
     "name": "stdout",
     "text": "-----------------------------------------\nThe grade of the student is 98\n passed with a passing grade\n Passed with A\nThe grade is A+\n-----------------------------------------\nThe grade of the student is 92\n passed with a passing grade\n Passed with A\nThe grade is lower A-\n-----------------------------------------\nThe grade of the student is 85\n passed with a passing grade\n Passed with B\nThe grade is higher B-\n-----------------------------------------\nThe grade of the student is 74\n passed with a passing grade\n Passed with C\n-----------------------------------------\nThe grade of the student is 61\n passed with a passing grade\n Passed with D\n-----------------------------------------\nThe grade of the student is 55\n the student has failed!\n-----------------------------------------\nThe grade of the student is 81\n passed with a passing grade\n Passed with B\nThe grade is lower B-\n"
    }
   ],
   "source": [
    "student_scores = [98,92,85,74,61,55,81]\n",
    "\n",
    "for grade in student_scores:\n",
    "    print(\"-----------------------------------------\")\n",
    "    print(\"The grade of the student is \" + str(grade))\n",
    "    if grade >= 60:\n",
    "        print(\" passed with a passing grade\")\n",
    "        if grade >= 90:\n",
    "            print(\" Passed with A\")\n",
    "\n",
    "            if grade >=97:\n",
    "                print(\"The grade is A+\")\n",
    "            elif grade >=93:\n",
    "                print(\"The grade is higher A-\")\n",
    "            else:\n",
    "                print(\"The grade is lower A-\")\n",
    "\n",
    "        elif grade >= 80:\n",
    "            print(\" Passed with B\")\n",
    "            if grade >=87:\n",
    "                print(\"The grade is B+\")\n",
    "            elif grade >=83:\n",
    "                print(\"The grade is higher B-\")\n",
    "            else:\n",
    "                print(\"The grade is lower B-\")\n",
    "\n",
    "        elif grade >= 70:\n",
    "            print(\" Passed with C\")\n",
    "        else:\n",
    "            print(\" Passed with D\")\n",
    "    else:\n",
    "        print(\" the student has failed!\")\n"
   ]
  },
  {
   "cell_type": "code",
   "execution_count": null,
   "metadata": {},
   "outputs": [],
   "source": []
  }
 ],
 "metadata": {
  "language_info": {
   "codemirror_mode": {
    "name": "ipython",
    "version": 3
   },
   "file_extension": ".py",
   "mimetype": "text/x-python",
   "name": "python",
   "nbconvert_exporter": "python",
   "pygments_lexer": "ipython3",
   "version": "3.8.1-final"
  },
  "orig_nbformat": 2,
  "kernelspec": {
   "name": "python38132bit51bf2d4383df4065b0c992fe407a3440",
   "display_name": "Python 3.8.1 32-bit"
  }
 },
 "nbformat": 4,
 "nbformat_minor": 2
}