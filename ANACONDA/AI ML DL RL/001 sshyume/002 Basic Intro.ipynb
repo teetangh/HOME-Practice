{
 "cells": [
  {
   "cell_type": "markdown",
   "metadata": {},
   "source": [
    "# Data types in Python = strings, lists, dictionaries, tuples, sets,..."
   ]
  },
  {
   "cell_type": "markdown",
   "metadata": {},
   "source": [
    "## letters = upper or lower or _underscore"
   ]
  },
  {
   "cell_type": "code",
   "execution_count": 4,
   "metadata": {},
   "outputs": [],
   "source": [
    "x = 5\n",
    "x = 7\n",
    "_x = 8"
   ]
  },
  {
   "cell_type": "code",
   "execution_count": 5,
   "metadata": {},
   "outputs": [
    {
     "output_type": "stream",
     "name": "stdout",
     "text": "7\n8\n"
    }
   ],
   "source": [
    "print(x)\n",
    "print(_x)"
   ]
  },
  {
   "cell_type": "code",
   "execution_count": 6,
   "metadata": {},
   "outputs": [],
   "source": [
    "My_number= 45"
   ]
  },
  {
   "cell_type": "code",
   "execution_count": 7,
   "metadata": {},
   "outputs": [
    {
     "output_type": "execute_result",
     "data": {
      "text/plain": "45"
     },
     "metadata": {},
     "execution_count": 7
    }
   ],
   "source": [
    "My_number"
   ]
  },
  {
   "cell_type": "code",
   "execution_count": 8,
   "metadata": {},
   "outputs": [],
   "source": [
    "#  !@#$%^&*() cannot be used in variable naming"
   ]
  },
  {
   "cell_type": "code",
   "execution_count": 9,
   "metadata": {},
   "outputs": [
    {
     "output_type": "stream",
     "name": "stdout",
     "text": "7\n8\n9\n"
    }
   ],
   "source": [
    "# Python is case sensitive\n",
    "my_num = 7\n",
    "MY_NUM = 8\n",
    "My_num = 9\n",
    "print(my_num)\n",
    "print(MY_NUM)\n",
    "print(My_num)"
   ]
  },
  {
   "cell_type": "markdown",
   "metadata": {},
   "source": [
    "### Keywords cannot be used in variable naming"
   ]
  },
  {
   "cell_type": "code",
   "execution_count": 10,
   "metadata": {},
   "outputs": [],
   "source": [
    "# if = 5 \n",
    "# else = 5 \n",
    "# except = 5 "
   ]
  },
  {
   "cell_type": "markdown",
   "metadata": {},
   "source": [
    "## Lines and indentation"
   ]
  },
  {
   "cell_type": "code",
   "execution_count": 11,
   "metadata": {},
   "outputs": [
    {
     "output_type": "stream",
     "name": "stdout",
     "text": "x is 5\n"
    }
   ],
   "source": [
    "print(\"x is 5\")"
   ]
  },
  {
   "cell_type": "code",
   "execution_count": 12,
   "metadata": {},
   "outputs": [
    {
     "output_type": "stream",
     "name": "stdout",
     "text": "The value of i is not 9\n"
    }
   ],
   "source": [
    "i = 8\n",
    "if i == 9:\n",
    "    print(\"The value of i is 9\")\n",
    "else:\n",
    "    print(\"The value of i is not 9\")"
   ]
  },
  {
   "cell_type": "code",
   "execution_count": 13,
   "metadata": {},
   "outputs": [
    {
     "output_type": "stream",
     "name": "stdout",
     "text": "This statement will be printed\nThis statement will also be printed\nUsing multiple types of quotes ' if the other quote type is present\n"
    }
   ],
   "source": [
    "print(\"This statement will be printed\")\n",
    "print('This statement will also be printed')\n",
    "print(\"Using multiple types of quotes ' if the other quote type is present\")"
   ]
  },
  {
   "cell_type": "code",
   "execution_count": 14,
   "metadata": {},
   "outputs": [
    {
     "output_type": "stream",
     "name": "stdout",
     "text": "He said,\"He would be there\" \n"
    }
   ],
   "source": [
    "print('He said,\"He would be there\" ')"
   ]
  },
  {
   "cell_type": "code",
   "execution_count": 15,
   "metadata": {},
   "outputs": [],
   "source": [
    "# This is a comment"
   ]
  },
  {
   "cell_type": "code",
   "execution_count": 16,
   "metadata": {},
   "outputs": [
    {
     "output_type": "execute_result",
     "data": {
      "text/plain": "7"
     },
     "metadata": {},
     "execution_count": 16
    }
   ],
   "source": [
    "# a function to add two numbers\n",
    "def add_num(x,y):\n",
    "    return x + y\n",
    "add_num(3,4)"
   ]
  },
  {
   "cell_type": "code",
   "execution_count": 17,
   "metadata": {},
   "outputs": [
    {
     "output_type": "stream",
     "name": "stdout",
     "text": "The value of x and y is :\n"
    }
   ],
   "source": [
    "# a comment goes here\n",
    "print(\"The value of x and y is :\")  # comment can go here"
   ]
  },
  {
   "cell_type": "code",
   "execution_count": 18,
   "metadata": {},
   "outputs": [
    {
     "output_type": "execute_result",
     "data": {
      "text/plain": "8"
     },
     "metadata": {},
     "execution_count": 18
    }
   ],
   "source": [
    "input(\"please choose a number\") # this will prompt a user to enter a number"
   ]
  },
  {
   "cell_type": "code",
   "execution_count": 20,
   "metadata": {},
   "outputs": [
    {
     "output_type": "stream",
     "name": "stdout",
     "text": "This is going to be a long comment and it needs to continue on a new line, \n don't you agree ? You see how long the the statement is\n"
    }
   ],
   "source": [
    "print(\"This is going to be a long comment and it needs to continue on a new line, \\n don't you agree ? You see how long the the statement is\")"
   ]
  },
  {
   "cell_type": "markdown",
   "metadata": {},
   "source": [
    "### Doc-Strings"
   ]
  },
  {
   "cell_type": "code",
   "execution_count": 22,
   "metadata": {},
   "outputs": [
    {
     "output_type": "stream",
     "name": "stdout",
     "text": "('the value of 3 + 6 is', 9)\n"
    }
   ],
   "source": [
    "'''\n",
    "triple single quotes comment\n",
    "'''\n",
    "\n",
    "\"\"\"\n",
    "triple double quotes comment\n",
    "\"\"\"\n",
    "\n",
    "print(\"the value of 3 + 6 is\",3+6)"
   ]
  },
  {
   "cell_type": "code",
   "execution_count": 23,
   "metadata": {},
   "outputs": [
    {
     "output_type": "stream",
     "name": "stdout",
     "text": "Hi there \n how are you? \t I'am good \n"
    }
   ],
   "source": [
    "print(\"Hi there \\n how are you? \\t I'am good \")"
   ]
  },
  {
   "cell_type": "code",
   "execution_count": null,
   "metadata": {},
   "outputs": [],
   "source": []
  }
 ],
 "metadata": {
  "language_info": {
   "codemirror_mode": {
    "name": "ipython",
    "version": 3
   },
   "file_extension": ".py",
   "mimetype": "text/x-python",
   "name": "python",
   "nbconvert_exporter": "python",
   "pygments_lexer": "ipython3",
   "version": "2.7.17-final"
  },
  "orig_nbformat": 2,
  "kernelspec": {
   "name": "python271764bitconda1a9dfe6d9a9045ff99f7ae044e389d8c",
   "display_name": "Python 2.7.17 64-bit (conda)"
  }
 },
 "nbformat": 4,
 "nbformat_minor": 2
}