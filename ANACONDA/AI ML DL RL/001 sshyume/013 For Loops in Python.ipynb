{
 "cells": [
  {
   "cell_type": "code",
   "execution_count": 2,
   "metadata": {},
   "outputs": [],
   "source": [
    "# We use For Loops to iterate over or elements in a given seq like list,str,dict or tuple"
   ]
  },
  {
   "cell_type": "code",
   "execution_count": 4,
   "metadata": {},
   "outputs": [
    {
     "output_type": "stream",
     "name": "stdout",
     "text": "2\n4\n6\n8\n20\n"
    }
   ],
   "source": [
    "list_num = [2,4,6,8,20]\n",
    "\n",
    "for elem in list_num:\n",
    "    print(elem)"
   ]
  },
  {
   "cell_type": "code",
   "execution_count": 6,
   "metadata": {},
   "outputs": [
    {
     "output_type": "stream",
     "name": "stdout",
     "text": "2\n4\n6\n8\n20\n"
    }
   ],
   "source": [
    "for numbers in list_num:\n",
    "    print(numbers)"
   ]
  },
  {
   "cell_type": "code",
   "execution_count": 8,
   "metadata": {},
   "outputs": [
    {
     "output_type": "execute_result",
     "data": {
      "text/plain": "[0, 1, 2, 3, 4, 5, 6, 7, 8, 9, 10, 11, 12, 13, 14, 15, 16, 17, 18, 19, 20, 21]"
     },
     "metadata": {},
     "execution_count": 8
    }
   ],
   "source": [
    "list(range(0,22))"
   ]
  },
  {
   "cell_type": "code",
   "execution_count": 10,
   "metadata": {},
   "outputs": [
    {
     "output_type": "stream",
     "name": "stdout",
     "text": "0\n1\n2\n3\n4\n5\n6\n"
    }
   ],
   "source": [
    "for numbers in range(0,7):\n",
    "    print(numbers)"
   ]
  },
  {
   "cell_type": "code",
   "execution_count": 12,
   "metadata": {},
   "outputs": [
    {
     "output_type": "stream",
     "name": "stdout",
     "text": "0\n1\n2\n3\n4\n5\n6\n7\n8\n9\n10\n11\n12\n13\n14\n"
    }
   ],
   "source": [
    "numbers_list = range(0,15)\n",
    "for items in numbers_list:\n",
    "    print(items)"
   ]
  },
  {
   "cell_type": "code",
   "execution_count": 14,
   "metadata": {},
   "outputs": [],
   "source": [
    "items = ['item1','item2','item3','item4','item5','item6']"
   ]
  },
  {
   "cell_type": "code",
   "execution_count": 16,
   "metadata": {},
   "outputs": [
    {
     "output_type": "execute_result",
     "data": {
      "text/plain": "range(0, 6)"
     },
     "metadata": {},
     "execution_count": 16
    }
   ],
   "source": [
    "range(len(items))"
   ]
  },
  {
   "cell_type": "code",
   "execution_count": 18,
   "metadata": {},
   "outputs": [
    {
     "output_type": "stream",
     "name": "stdout",
     "text": "item1\nitem2\nitem3\nitem4\nitem5\nitem6\n"
    }
   ],
   "source": [
    "for i in range(len(items)):\n",
    "    print(items[i])"
   ]
  },
  {
   "cell_type": "code",
   "execution_count": 20,
   "metadata": {},
   "outputs": [
    {
     "output_type": "stream",
     "name": "stdout",
     "text": "item in index 0  is :  item1\nitem in index 1  is :  item2\nitem in index 2  is :  item3\nitem in index 3  is :  item4\nitem in index 4  is :  item5\nitem in index 5  is :  item6\n"
    }
   ],
   "source": [
    "for i in range(len(items)):\n",
    "    print(\"item in index\" , str(i) , \" is : \" , items[i])"
   ]
  },
  {
   "cell_type": "code",
   "execution_count": 22,
   "metadata": {},
   "outputs": [
    {
     "output_type": "stream",
     "name": "stdout",
     "text": "0 item1\n1 item2\n2 item3\n3 item4\n4 item5\n5 item6\n"
    }
   ],
   "source": [
    "number = 0 \n",
    "for item in items:\n",
    "    print(number,item)\n",
    "    number = number + 1"
   ]
  },
  {
   "cell_type": "code",
   "execution_count": 24,
   "metadata": {},
   "outputs": [
    {
     "output_type": "stream",
     "name": "stdout",
     "text": "M\ni\nc\nh\na\ne\nl\n"
    }
   ],
   "source": [
    "name = 'Michael'\n",
    "for characters in name:\n",
    "    print(characters)"
   ]
  },
  {
   "cell_type": "code",
   "execution_count": 26,
   "metadata": {},
   "outputs": [
    {
     "output_type": "stream",
     "name": "stdout",
     "text": "T\no\nd\na\ny\n \ni\ns\n \na\n \ng\nr\ne\na\nt\n \nd\na\ny\n \nt\no\n \nj\no\ng\n"
    }
   ],
   "source": [
    "string_name = \"Today is a great day to jog\"\n",
    "for charx in string_name:\n",
    "    print(charx)"
   ]
  },
  {
   "cell_type": "code",
   "execution_count": 28,
   "metadata": {},
   "outputs": [
    {
     "output_type": "stream",
     "name": "stdout",
     "text": "t\no\nd\na\ny\n \ni\ns\n \nc\no\nl\nd\n"
    }
   ],
   "source": [
    "for elem in \"today is cold\":\n",
    "    print(elem)"
   ]
  },
  {
   "cell_type": "code",
   "execution_count": 30,
   "metadata": {},
   "outputs": [
    {
     "output_type": "stream",
     "name": "stdout",
     "text": "6  is divisible by 6\n12  is divisible by 6\n18  is divisible by 6\n"
    }
   ],
   "source": [
    "numbers = [2,3,6,8,12,15,18,22,26,11,37,29]\n",
    "\n",
    "for num in numbers:\n",
    "    if num % 3 == 0 and num % 2 ==0:\n",
    "        print (num,\" is divisible by 6\") "
   ]
  },
  {
   "cell_type": "code",
   "execution_count": 32,
   "metadata": {},
   "outputs": [
    {
     "output_type": "stream",
     "name": "stdout",
     "text": "2 is divisible by 2 only\n3 is divisible by 3 only\n6 is divisible by 6\n8 is divisible by 2 only\n12 is divisible by 6\n15 is divisible by 3 only\n18 is divisible by 6\n22 is divisible by 2 only\n26 is divisible by 2 only\n11 is NOT divisible by both 2 and 3\n37 is NOT divisible by both 2 and 3\n29 is NOT divisible by both 2 and 3\n"
    }
   ],
   "source": [
    "for num in numbers:\n",
    "    if num % 2 == 0:\n",
    "        if num % 3 == 0:\n",
    "            print(num,\"is divisible by 6\")\n",
    "        else:\n",
    "            print(num,\"is divisible by 2 only\")\n",
    "    else:\n",
    "        if num % 3 == 0:\n",
    "            print(num,\"is divisible by 3 only\")\n",
    "        else:\n",
    "            print(num,\"is NOT divisible by both 2 and 3\")"
   ]
  },
  {
   "cell_type": "markdown",
   "metadata": {},
   "source": [
    "# For Loops in Dictionaries"
   ]
  },
  {
   "cell_type": "code",
   "execution_count": 34,
   "metadata": {},
   "outputs": [
    {
     "output_type": "execute_result",
     "data": {
      "text/plain": "dict_keys(['first_name', 'last_name', 'State', 'age'])"
     },
     "metadata": {},
     "execution_count": 34
    }
   ],
   "source": [
    "my_dict = {\"first_name\" : \"Joe\" , \"last_name\" : \"Smith\" , \"State\" : \"LA\" , \"age\" : 55}\n",
    "my_dict.keys()"
   ]
  },
  {
   "cell_type": "code",
   "execution_count": 36,
   "metadata": {},
   "outputs": [
    {
     "output_type": "execute_result",
     "data": {
      "text/plain": "dict_values(['Joe', 'Smith', 'LA', 55])"
     },
     "metadata": {},
     "execution_count": 36
    }
   ],
   "source": [
    "my_dict.values()"
   ]
  },
  {
   "cell_type": "code",
   "execution_count": 38,
   "metadata": {},
   "outputs": [
    {
     "output_type": "stream",
     "name": "stdout",
     "text": "first_name = Joe\nlast_name = Smith\nState = LA\nage = 55\n"
    }
   ],
   "source": [
    "# Iteritems deprecated in Python 3 \n",
    "for key,value in my_dict.items():\n",
    "    print(\"{} = {}\".format(key,value))"
   ]
  },
  {
   "cell_type": "code",
   "execution_count": 40,
   "metadata": {},
   "outputs": [
    {
     "output_type": "stream",
     "name": "stdout",
     "text": "first_name\nlast_name\nState\nage\n"
    }
   ],
   "source": [
    "for key in my_dict.keys():\n",
    "    print(key)"
   ]
  },
  {
   "cell_type": "code",
   "execution_count": 42,
   "metadata": {},
   "outputs": [
    {
     "output_type": "stream",
     "name": "stdout",
     "text": "Joe\nSmith\nLA\n55\n"
    }
   ],
   "source": [
    "for value in my_dict.values():\n",
    "    print(value)"
   ]
  },
  {
   "cell_type": "code",
   "execution_count": 44,
   "metadata": {},
   "outputs": [
    {
     "output_type": "stream",
     "name": "stdout",
     "text": "[1, 2, 3, 4, 5, 6, 8, 9, 10, 12, 15, 16, 18, 20, 24, 27, 30, 36, 40, 45, 48, 54, 60, 72, 80, 90, 108, 120, 135, 144, 180, 216, 240, 270, 360, 432, 540, 720, 1080, 2160]\n"
    }
   ],
   "source": [
    "# 1)\n",
    "# prompt a user to enter an integer n\n",
    "# find out all the divisors of n by checking the modulous of all the numbers between 1 and n =0\n",
    "# finally print out a list of all the divisors!\n",
    "# example, if n=6, check 6%5, 6%4, 6%3,2,1 so 6 is divisible by [1,2,3 and 6].\n",
    "\n",
    "num = int(input(\"Please enter your integer\"))\n",
    "num_range = list(range(1,num + 1))\n",
    "\n",
    "divisor_num = []\n",
    "for number in num_range:\n",
    "    if num % number == 0:\n",
    "        divisor_num.append(number)\n",
    "\n",
    "print(divisor_num)"
   ]
  },
  {
   "cell_type": "code",
   "execution_count": 46,
   "metadata": {},
   "outputs": [],
   "source": [
    "#2)\n",
    "# x = [-3,-5,-11,0,2,4,6, 12.6, -0.024, 0.34]\n",
    "# use a for loop and if statement to find out if the numbers in the list, x are positive,\n",
    "# negative or zero.\n",
    "# if the number is negative, find out the abs of the number."
   ]
  },
  {
   "cell_type": "code",
   "execution_count": 48,
   "metadata": {},
   "outputs": [
    {
     "output_type": "stream",
     "name": "stdout",
     "text": "-3 is a negative Number\nIt's absolute value is: 3\n-5 is a negative Number\nIt's absolute value is: 5\n-11 is a negative Number\nIt's absolute value is: 11\n0 is neither positive nor negative Number\n2 is a positive Number\n4 is a positive Number\n6 is a positive Number\n12.6 is a positive Number\n-0.024 is a negative Number\nIt's absolute value is: 0.024\n0.34 is a positive Number\n"
    }
   ],
   "source": [
    "x = [-3,-5,-11,0,2,4,6, 12.6, -0.024, 0.34]\n",
    "\n",
    "for num in x:\n",
    "    if num > 0:\n",
    "        print(num,\"is a positive Number\")\n",
    "    elif num == 0:\n",
    "        print(num,\"is neither positive nor negative Number\")\n",
    "    else:\n",
    "        print(num,\"is a negative Number\")\n",
    "        print(\"It's absolute value is:\",abs(num))\n"
   ]
  },
  {
   "cell_type": "code",
   "execution_count": 50,
   "metadata": {},
   "outputs": [],
   "source": [
    "#3)\n",
    "# list1= [1,'a',2,'b','c','d',3,4,5,6,8]\n",
    "# use a for loop to print out all the adjacent elements in the list above\n",
    "#(1,'a'), ('a',2)"
   ]
  },
  {
   "cell_type": "code",
   "execution_count": 52,
   "metadata": {},
   "outputs": [
    {
     "output_type": "stream",
     "name": "stdout",
     "text": "1 a\na 2\n2 b\nb c\nc d\nd 3\n3 4\n4 5\n5 6\n6 8\n"
    }
   ],
   "source": [
    "list1= [1,'a',2,'b','c','d',3,4,5,6,8]\n",
    "\n",
    "for x in range(1,len(list1)):  #1,11 -> [1,2,3,...,10] \n",
    "    first = list1[x-1] #1\n",
    "    second = list1[x] #a\n",
    "\n",
    "    print(first,second)"
   ]
  },
  {
   "cell_type": "code",
   "execution_count": 54,
   "metadata": {},
   "outputs": [
    {
     "output_type": "execute_result",
     "data": {
      "text/plain": "'\\nst = \"write a program that will count the length of each word in a given string and place      each word in a separate list Start out with an empty list and append to each list      by using for loops and if statements good luck\"\\n\\n'"
     },
     "metadata": {},
     "execution_count": 54
    }
   ],
   "source": [
    "#4)\n",
    "# write a program that will count the length of each word in a given string and place each\\\n",
    "# word in a separate list Start out with an empty list and append to each list by using for\\\n",
    "# loops and if statements good luck\n",
    "\n",
    "\"\"\"\n",
    "st = \"write a program that will count the length of each word in a given string and place\\\n",
    "      each word in a separate list Start out with an empty list and append to each list\\\n",
    "      by using for loops and if statements good luck\"\n",
    "\n",
    "\"\"\""
   ]
  },
  {
   "cell_type": "code",
   "execution_count": 62,
   "metadata": {},
   "outputs": [
    {
     "output_type": "stream",
     "name": "stdout",
     "text": "Words with length = 3 ['the', 'and', 'out', 'and', 'for', 'and']\n********************************************************************************\nWords with length = 4 ['that', 'will', 'each', 'word', 'each', 'word', 'list', 'with', 'list', 'each', 'list', 'good', 'luck']\n********************************************************************************\nWords with length = 5 ['write', 'count', 'given', 'place', 'Start', 'empty', 'using', 'loops']\n********************************************************************************\nWords with length = 6 ['length', 'string', 'append']\n********************************************************************************\nWords with length = 7 []\n********************************************************************************\nWords with length < 3 ['a', 'of', 'in', 'a', 'in', 'a', 'an', 'to', 'by', 'if']\n********************************************************************************\nWords with length > 7 ['program', 'separate', 'statements']\n********************************************************************************\n"
    }
   ],
   "source": [
    "st = \"write a program that will count the length of each word in a given string and place\\\n",
    "      each word in a separate list Start out with an empty list and append to each list\\\n",
    "      by using for loops and if statements good luck\"\n",
    "\n",
    "three = []\n",
    "four = []\n",
    "five = []\n",
    "six = []\n",
    "seven = []\n",
    "article = [] # if length < 3\n",
    "rest = [] # if length > 7\n",
    "\n",
    "for word in st.split():\n",
    "    if len(word) == 3:\n",
    "        three.append(word)\n",
    "    elif len(word) == 4:\n",
    "        four.append(word)\n",
    "    elif len(word) == 5:\n",
    "        five.append(word)\n",
    "    elif len(word) == 6:\n",
    "        six.append(word)\n",
    "    elif len(word) < 3 :\n",
    "        article.append(word)\n",
    "    else:\n",
    "        rest.append(word)\n",
    "\n",
    "print(\"Words with length = 3\" , three)\n",
    "print(\"********\"*10)\n",
    "print(\"Words with length = 4\" , four)\n",
    "print(\"********\"*10)\n",
    "print(\"Words with length = 5\" , five)\n",
    "print(\"********\"*10)\n",
    "print(\"Words with length = 6\" , six)\n",
    "print(\"********\"*10)\n",
    "print(\"Words with length = 7\" , seven)\n",
    "print(\"********\"*10)\n",
    "print(\"Words with length < 3\" , article)\n",
    "print(\"********\"*10)\n",
    "print(\"Words with length > 7\" , rest)\n",
    "print(\"********\"*10)\n"
   ]
  },
  {
   "cell_type": "code",
   "execution_count": 63,
   "metadata": {},
   "outputs": [
    {
     "output_type": "stream",
     "name": "stdout",
     "text": "this program will count the length of each word and place it in the appropiate list and this should be nice\nWords with length = 3 ['the', 'and', 'the', 'and']\n********************************************************************************\nWords with length = 4 ['this', 'will', 'each', 'word', 'list', 'this', 'nice']\n********************************************************************************\nWords with length = 5 ['count', 'place']\n********************************************************************************\nWords with length = 6 ['length', 'should']\n********************************************************************************\nWords with length = 7 []\n********************************************************************************\nWords with length < 3 ['of', 'it', 'in', 'be']\n********************************************************************************\nWords with length > 7 ['program', 'appropiate']\n********************************************************************************\n"
    }
   ],
   "source": [
    "st = str(input(\"Please enter your string\"))\n",
    "print(st)\n",
    "\n",
    "three = []\n",
    "four = []\n",
    "five = []\n",
    "six = []\n",
    "seven = []\n",
    "article = [] # if length < 3\n",
    "rest = [] # if length > 7\n",
    "\n",
    "for word in st.split():\n",
    "    if len(word) == 3:\n",
    "        three.append(word)\n",
    "    elif len(word) == 4:\n",
    "        four.append(word)\n",
    "    elif len(word) == 5:\n",
    "        five.append(word)\n",
    "    elif len(word) == 6:\n",
    "        six.append(word)\n",
    "    elif len(word) < 3 :\n",
    "        article.append(word)\n",
    "    else:\n",
    "        rest.append(word)\n",
    "\n",
    "print(\"Words with length = 3\" , three)\n",
    "print(\"********\"*10)\n",
    "print(\"Words with length = 4\" , four)\n",
    "print(\"********\"*10)\n",
    "print(\"Words with length = 5\" , five)\n",
    "print(\"********\"*10)\n",
    "print(\"Words with length = 6\" , six)\n",
    "print(\"********\"*10)\n",
    "print(\"Words with length = 7\" , seven)\n",
    "print(\"********\"*10)\n",
    "print(\"Words with length < 3\" , article)\n",
    "print(\"********\"*10)\n",
    "print(\"Words with length > 7\" , rest)\n",
    "print(\"********\"*10)\n"
   ]
  },
  {
   "cell_type": "code",
   "execution_count": 58,
   "metadata": {},
   "outputs": [
    {
     "output_type": "execute_result",
     "data": {
      "text/plain": "'\\npunctuations = \\'\\'\\'!()-[]{};:\\'\"\\\\,<>./?@#$%^&*_~+\\'\\'\\'\\nnumbers = \\'\\'\\'1234567890\\'\\'\\'\\n#my_string = \"It\\'s the last week of November 2016, and it\\'s cold!!432?@# so cold +>??\"\\n\\n'"
     },
     "metadata": {},
     "execution_count": 58
    }
   ],
   "source": [
    "#5)  \n",
    "# define punctuation and numbers as shown below. Prompt a user to enter a string with a\\\n",
    "# combination of numbers, punct and characters. Use a for loop and if statements to find\\\n",
    "# out if the char is a num, alpha or punct. and print out a string of all the numbers, \\\n",
    "# puctuations and alphabets...\n",
    "\n",
    "\"\"\"\n",
    "punctuations = '''!()-[]{};:'\"\\,<>./?@#$%^&*_~+'''\n",
    "numbers = '''1234567890'''\n",
    "#my_string = \"It's the last week  of November 2016, and it's cold!!432?@# so cold +>??\"\n",
    "\n",
    "\"\"\""
   ]
  },
  {
   "cell_type": "code",
   "execution_count": 65,
   "metadata": {},
   "outputs": [
    {
     "output_type": "stream",
     "name": "stdout",
     "text": "alphabets Its the last week  of November  and its cold so cold \nNumbers 2016432\npunctuations ','!!?@#+>??\n"
    }
   ],
   "source": [
    "#my_string = \"It's the last week  of November 2016, and it's cold!!432?@# so cold +>??\"\n",
    "my_string = input(\"Please enter your string \")\n",
    "\n",
    "punctuations = '''!()-[]{};:'\"\\,<>./?@#$%^&*_~+'''\n",
    "numbers = '''1234567890'''\n",
    "\n",
    "alpha_only = \"\"\n",
    "num_only = \"\"\n",
    "punc_only = \"\"\n",
    "\n",
    "for char in my_string:\n",
    "    if (char not in punctuations and char not in numbers):\n",
    "        alpha_only = alpha_only + char\n",
    "    elif char in numbers:\n",
    "        num_only = num_only + char\n",
    "    elif char in punctuations:\n",
    "        punc_only = punc_only + char\n",
    "    else:\n",
    "        print(\"I don't know what the character is!\")\n",
    "\n",
    "print(\"alphabets\",alpha_only)\n",
    "print(\"Numbers\",num_only)\n",
    "print(\"punctuations\",punc_only)\n",
    "\n"
   ]
  },
  {
   "cell_type": "code",
   "execution_count": null,
   "metadata": {},
   "outputs": [],
   "source": []
  }
 ],
 "metadata": {
  "language_info": {
   "codemirror_mode": {
    "name": "ipython",
    "version": 3
   },
   "file_extension": ".py",
   "mimetype": "text/x-python",
   "name": "python",
   "nbconvert_exporter": "python",
   "pygments_lexer": "ipython3",
   "version": "3.8.1-final"
  },
  "orig_nbformat": 2,
  "kernelspec": {
   "name": "python38132bit51bf2d4383df4065b0c992fe407a3440",
   "display_name": "Python 3.8.1 32-bit"
  }
 },
 "nbformat": 4,
 "nbformat_minor": 2
}