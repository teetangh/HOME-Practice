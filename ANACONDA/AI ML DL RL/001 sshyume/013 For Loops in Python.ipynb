{
 "cells": [
  {
   "cell_type": "code",
   "execution_count": 1,
   "metadata": {},
   "outputs": [],
   "source": [
    "# We use For Loops to iterate over or elements in a given seq like list,str,dict or tuple"
   ]
  },
  {
   "cell_type": "code",
   "execution_count": 2,
   "metadata": {},
   "outputs": [
    {
     "output_type": "stream",
     "name": "stdout",
     "text": "2\n4\n6\n8\n20\n"
    }
   ],
   "source": [
    "list_num = [2,4,6,8,20]\n",
    "\n",
    "for elem in list_num:\n",
    "    print(elem)"
   ]
  },
  {
   "cell_type": "code",
   "execution_count": 3,
   "metadata": {},
   "outputs": [
    {
     "output_type": "stream",
     "name": "stdout",
     "text": "2\n4\n6\n8\n20\n"
    }
   ],
   "source": [
    "for numbers in list_num:\n",
    "    print(numbers)"
   ]
  },
  {
   "cell_type": "code",
   "execution_count": 4,
   "metadata": {},
   "outputs": [
    {
     "output_type": "execute_result",
     "data": {
      "text/plain": "[0, 1, 2, 3, 4, 5, 6, 7, 8, 9, 10, 11, 12, 13, 14, 15, 16, 17, 18, 19, 20, 21]"
     },
     "metadata": {},
     "execution_count": 4
    }
   ],
   "source": [
    "list(range(0,22))"
   ]
  },
  {
   "cell_type": "code",
   "execution_count": 5,
   "metadata": {},
   "outputs": [
    {
     "output_type": "stream",
     "name": "stdout",
     "text": "0\n1\n2\n3\n4\n5\n6\n"
    }
   ],
   "source": [
    "for numbers in range(0,7):\n",
    "    print(numbers)"
   ]
  },
  {
   "cell_type": "code",
   "execution_count": 6,
   "metadata": {},
   "outputs": [
    {
     "output_type": "stream",
     "name": "stdout",
     "text": "0\n1\n2\n3\n4\n5\n6\n7\n8\n9\n10\n11\n12\n13\n14\n"
    }
   ],
   "source": [
    "numbers_list = range(0,15)\n",
    "for items in numbers_list:\n",
    "    print(items)"
   ]
  },
  {
   "cell_type": "code",
   "execution_count": 7,
   "metadata": {},
   "outputs": [],
   "source": [
    "items = ['item1','item2','item3','item4','item5','item6']"
   ]
  },
  {
   "cell_type": "code",
   "execution_count": 8,
   "metadata": {},
   "outputs": [
    {
     "output_type": "execute_result",
     "data": {
      "text/plain": "range(0, 6)"
     },
     "metadata": {},
     "execution_count": 8
    }
   ],
   "source": [
    "range(len(items))"
   ]
  },
  {
   "cell_type": "code",
   "execution_count": 10,
   "metadata": {},
   "outputs": [
    {
     "output_type": "stream",
     "name": "stdout",
     "text": "item1\nitem2\nitem3\nitem4\nitem5\nitem6\n"
    }
   ],
   "source": [
    "for i in range(len(items)):\n",
    "    print(items[i])"
   ]
  },
  {
   "cell_type": "code",
   "execution_count": 12,
   "metadata": {},
   "outputs": [
    {
     "output_type": "stream",
     "name": "stdout",
     "text": "item in index 0  is :  item1\nitem in index 1  is :  item2\nitem in index 2  is :  item3\nitem in index 3  is :  item4\nitem in index 4  is :  item5\nitem in index 5  is :  item6\n"
    }
   ],
   "source": [
    "for i in range(len(items)):\n",
    "    print(\"item in index\" , str(i) , \" is : \" , items[i])"
   ]
  },
  {
   "cell_type": "code",
   "execution_count": 14,
   "metadata": {},
   "outputs": [
    {
     "output_type": "stream",
     "name": "stdout",
     "text": "0 item1\n1 item2\n2 item3\n3 item4\n4 item5\n5 item6\n"
    }
   ],
   "source": [
    "number = 0 \n",
    "for item in items:\n",
    "    print(number,item)\n",
    "    number = number + 1"
   ]
  },
  {
   "cell_type": "code",
   "execution_count": 15,
   "metadata": {},
   "outputs": [
    {
     "output_type": "stream",
     "name": "stdout",
     "text": "M\ni\nc\nh\na\ne\nl\n"
    }
   ],
   "source": [
    "name = 'Michael'\n",
    "for characters in name:\n",
    "    print(characters)"
   ]
  },
  {
   "cell_type": "code",
   "execution_count": 16,
   "metadata": {},
   "outputs": [
    {
     "output_type": "stream",
     "name": "stdout",
     "text": "T\no\nd\na\ny\n \ni\ns\n \na\n \ng\nr\ne\na\nt\n \nd\na\ny\n \nt\no\n \nj\no\ng\n"
    }
   ],
   "source": [
    "string_name = \"Today is a great day to jog\"\n",
    "for charx in string_name:\n",
    "    print(charx)"
   ]
  },
  {
   "cell_type": "code",
   "execution_count": 17,
   "metadata": {},
   "outputs": [
    {
     "output_type": "stream",
     "name": "stdout",
     "text": "t\no\nd\na\ny\n \ni\ns\n \nc\no\nl\nd\n"
    }
   ],
   "source": [
    "for elem in \"today is cold\":\n",
    "    print(elem)"
   ]
  },
  {
   "cell_type": "code",
   "execution_count": 20,
   "metadata": {},
   "outputs": [
    {
     "output_type": "stream",
     "name": "stdout",
     "text": "6  is divisible by 6\n12  is divisible by 6\n18  is divisible by 6\n"
    }
   ],
   "source": [
    "numbers = [2,3,6,8,12,15,18,22,26]\n",
    "\n",
    "for num in numbers:\n",
    "    if num % 3 == 0 and num % 2 ==0:\n",
    "        print (num,\" is divisible by 6\") "
   ]
  },
  {
   "cell_type": "code",
   "execution_count": 22,
   "metadata": {},
   "outputs": [
    {
     "output_type": "stream",
     "name": "stdout",
     "text": "2 is divisible by 2 only\n3 is divisible by 3 only\n6 is divisible by 6\n8 is divisible by 2 only\n12 is divisible by 6\n15 is divisible by 3 only\n18 is divisible by 6\n22 is divisible by 2 only\n26 is divisible by 2 only\n"
    }
   ],
   "source": [
    "for num in numbers:\n",
    "    if num % 2 == 0:\n",
    "        if num % 3 == 0:\n",
    "            print(num,\"is divisible by 6\")\n",
    "        else:\n",
    "            print(num,\"is divisible by 2 only\")\n",
    "    else:\n",
    "        if num % 3 == 0:\n",
    "            print(num,\"is divisible by 3 only\")\n",
    "        else:\n",
    "            print(num,\"is NOT divisible by both 2 and 3\")"
   ]
  },
  {
   "cell_type": "code",
   "execution_count": null,
   "metadata": {},
   "outputs": [],
   "source": []
  }
 ],
 "metadata": {
  "language_info": {
   "codemirror_mode": {
    "name": "ipython",
    "version": 3
   },
   "file_extension": ".py",
   "mimetype": "text/x-python",
   "name": "python",
   "nbconvert_exporter": "python",
   "pygments_lexer": "ipython3",
   "version": "3.8.1-final"
  },
  "orig_nbformat": 2,
  "kernelspec": {
   "name": "python38132bit51bf2d4383df4065b0c992fe407a3440",
   "display_name": "Python 3.8.1 32-bit"
  }
 },
 "nbformat": 4,
 "nbformat_minor": 2
}