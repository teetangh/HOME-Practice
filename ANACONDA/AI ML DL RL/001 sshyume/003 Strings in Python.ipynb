{
 "cells": [
  {
   "cell_type": "markdown",
   "metadata": {},
   "source": [
    "# Strings in Python"
   ]
  },
  {
   "cell_type": "code",
   "execution_count": 1,
   "metadata": {},
   "outputs": [],
   "source": [
    "# Created using sinle or double quotes"
   ]
  },
  {
   "cell_type": "code",
   "execution_count": 2,
   "metadata": {},
   "outputs": [
    {
     "output_type": "execute_result",
     "data": {
      "text/plain": "'This is an example of a string'"
     },
     "metadata": {},
     "execution_count": 2
    }
   ],
   "source": [
    "\"This is an example of a string\""
   ]
  },
  {
   "cell_type": "code",
   "execution_count": 3,
   "metadata": {},
   "outputs": [
    {
     "output_type": "execute_result",
     "data": {
      "text/plain": "'This is also an example of a string'"
     },
     "metadata": {},
     "execution_count": 3
    }
   ],
   "source": [
    "\"This is also an example of a string\""
   ]
  },
  {
   "cell_type": "code",
   "execution_count": 4,
   "metadata": {},
   "outputs": [
    {
     "output_type": "execute_result",
     "data": {
      "text/plain": "\"I'm in double quotes\""
     },
     "metadata": {},
     "execution_count": 4
    }
   ],
   "source": [
    "# 'I'll give error'\n",
    "\"I'm in double quotes\""
   ]
  },
  {
   "cell_type": "code",
   "execution_count": 5,
   "metadata": {},
   "outputs": [
    {
     "output_type": "execute_result",
     "data": {
      "text/plain": "'He said,\"where is he?\"'"
     },
     "metadata": {},
     "execution_count": 5
    }
   ],
   "source": [
    "'He said,\"where is he?\"'"
   ]
  },
  {
   "cell_type": "code",
   "execution_count": 6,
   "metadata": {},
   "outputs": [
    {
     "output_type": "execute_result",
     "data": {
      "text/plain": "\"I'm okay with the escape character\""
     },
     "metadata": {},
     "execution_count": 6
    }
   ],
   "source": [
    "'I\\'m okay with the escape character'"
   ]
  },
  {
   "cell_type": "code",
   "execution_count": 7,
   "metadata": {},
   "outputs": [
    {
     "output_type": "execute_result",
     "data": {
      "text/plain": "'He said,\"where is he?\"'"
     },
     "metadata": {},
     "execution_count": 7
    }
   ],
   "source": [
    "\"He said,\\\"where is he?\\\"\""
   ]
  },
  {
   "cell_type": "code",
   "execution_count": 8,
   "metadata": {},
   "outputs": [
    {
     "output_type": "execute_result",
     "data": {
      "text/plain": "' This is an example of a string\\nwhich is written on multiple lines \\nand so on '"
     },
     "metadata": {},
     "execution_count": 8
    }
   ],
   "source": [
    "\"\"\" This is an example of a string\n",
    "which is written on multiple lines \n",
    "and so on \"\"\""
   ]
  },
  {
   "cell_type": "code",
   "execution_count": 9,
   "metadata": {},
   "outputs": [],
   "source": [
    "# \\n for new line \\t for tab"
   ]
  },
  {
   "cell_type": "code",
   "execution_count": 10,
   "metadata": {},
   "outputs": [
    {
     "output_type": "execute_result",
     "data": {
      "text/plain": "'This is an example of a string\\nwhich is written on multiple lines \\nand is also fine'"
     },
     "metadata": {},
     "execution_count": 10
    }
   ],
   "source": [
    "'''This is an example of a string\n",
    "which is written on multiple lines \n",
    "and is also fine'''"
   ]
  },
  {
   "cell_type": "code",
   "execution_count": 11,
   "metadata": {},
   "outputs": [
    {
     "output_type": "execute_result",
     "data": {
      "text/plain": "'thisisanadjacent string'"
     },
     "metadata": {},
     "execution_count": 11
    }
   ],
   "source": [
    "\"this\"\"is\"\"an\"\"adjacent string\""
   ]
  },
  {
   "cell_type": "code",
   "execution_count": 12,
   "metadata": {},
   "outputs": [
    {
     "output_type": "execute_result",
     "data": {
      "text/plain": "'this is a stringand it is a very long stringand continues on a new lines'"
     },
     "metadata": {},
     "execution_count": 12
    }
   ],
   "source": [
    "# Use \\ for continuation or else only last statement will be printed\n",
    "\"this is a string\"\\\n",
    "\"and it is a very long string\"\\\n",
    "\"and continues on a new lines\""
   ]
  },
  {
   "cell_type": "code",
   "execution_count": 13,
   "metadata": {},
   "outputs": [
    {
     "output_type": "stream",
     "name": "stdout",
     "text": "this is a string\nthis is another string on a new line\n"
    }
   ],
   "source": [
    "print('this is a string')\n",
    "print('this is another string on a new line')"
   ]
  },
  {
   "cell_type": "code",
   "execution_count": 14,
   "metadata": {},
   "outputs": [
    {
     "output_type": "stream",
     "name": "stdout",
     "text": "This is a statement \t and this is another statement\n"
    }
   ],
   "source": [
    "print('This is a statement \\t and this is another statement')"
   ]
  },
  {
   "cell_type": "code",
   "execution_count": 15,
   "metadata": {},
   "outputs": [
    {
     "output_type": "stream",
     "name": "stdout",
     "text": "Let's use a tab \t and a new line \n and anything after will \n be on a new line\n"
    }
   ],
   "source": [
    "print(\"Let's use a tab \\t and a new line \\n and anything after will \\n be on a new line\")"
   ]
  },
  {
   "cell_type": "markdown",
   "metadata": {},
   "source": [
    "# Print in python 2 is keyword and print in python 3 is a function"
   ]
  },
  {
   "cell_type": "code",
   "execution_count": 16,
   "metadata": {},
   "outputs": [],
   "source": [
    "string_name = \"I am here\""
   ]
  },
  {
   "cell_type": "code",
   "execution_count": 17,
   "metadata": {},
   "outputs": [],
   "source": [
    "ss = \"string variable\""
   ]
  },
  {
   "cell_type": "code",
   "execution_count": 18,
   "metadata": {},
   "outputs": [
    {
     "output_type": "execute_result",
     "data": {
      "text/plain": "'I am here'"
     },
     "metadata": {},
     "execution_count": 18
    }
   ],
   "source": [
    "string_name"
   ]
  },
  {
   "cell_type": "code",
   "execution_count": 19,
   "metadata": {},
   "outputs": [
    {
     "output_type": "execute_result",
     "data": {
      "text/plain": "'string variable'"
     },
     "metadata": {},
     "execution_count": 19
    }
   ],
   "source": [
    "ss"
   ]
  },
  {
   "cell_type": "code",
   "execution_count": 20,
   "metadata": {},
   "outputs": [
    {
     "output_type": "execute_result",
     "data": {
      "text/plain": "'r'"
     },
     "metadata": {},
     "execution_count": 20
    }
   ],
   "source": [
    "ss[2]"
   ]
  },
  {
   "cell_type": "code",
   "execution_count": 21,
   "metadata": {},
   "outputs": [
    {
     "output_type": "execute_result",
     "data": {
      "text/plain": "' '"
     },
     "metadata": {},
     "execution_count": 21
    }
   ],
   "source": [
    "ss[6]"
   ]
  },
  {
   "cell_type": "code",
   "execution_count": 22,
   "metadata": {},
   "outputs": [
    {
     "output_type": "execute_result",
     "data": {
      "text/plain": "'var'"
     },
     "metadata": {},
     "execution_count": 22
    }
   ],
   "source": [
    "ss[7:10] # elements [a:b] includes a and excludes b"
   ]
  },
  {
   "cell_type": "markdown",
   "metadata": {},
   "source": [
    "# Strings Operations"
   ]
  },
  {
   "cell_type": "code",
   "execution_count": 23,
   "metadata": {},
   "outputs": [],
   "source": [
    "# + *"
   ]
  },
  {
   "cell_type": "code",
   "execution_count": 24,
   "metadata": {},
   "outputs": [
    {
     "output_type": "execute_result",
     "data": {
      "text/plain": "'hellothere'"
     },
     "metadata": {},
     "execution_count": 24
    }
   ],
   "source": [
    "'hello' + 'there' "
   ]
  },
  {
   "cell_type": "code",
   "execution_count": 25,
   "metadata": {},
   "outputs": [
    {
     "output_type": "execute_result",
     "data": {
      "text/plain": "\"We're learning string variable\""
     },
     "metadata": {},
     "execution_count": 25
    }
   ],
   "source": [
    "\"We're learning \" + ss"
   ]
  },
  {
   "cell_type": "code",
   "execution_count": 26,
   "metadata": {},
   "outputs": [
    {
     "output_type": "execute_result",
     "data": {
      "text/plain": "'string variablestring variable'"
     },
     "metadata": {},
     "execution_count": 26
    }
   ],
   "source": [
    "ss + ss"
   ]
  },
  {
   "cell_type": "code",
   "execution_count": 27,
   "metadata": {},
   "outputs": [],
   "source": [
    "xx = 'python'"
   ]
  },
  {
   "cell_type": "code",
   "execution_count": 28,
   "metadata": {},
   "outputs": [
    {
     "output_type": "execute_result",
     "data": {
      "text/plain": "'pythonstring variable'"
     },
     "metadata": {},
     "execution_count": 28
    }
   ],
   "source": [
    "xx + ss"
   ]
  },
  {
   "cell_type": "code",
   "execution_count": 29,
   "metadata": {},
   "outputs": [
    {
     "output_type": "execute_result",
     "data": {
      "text/plain": "'String String String String String '"
     },
     "metadata": {},
     "execution_count": 29
    }
   ],
   "source": [
    "'String ' * 5"
   ]
  },
  {
   "cell_type": "code",
   "execution_count": 30,
   "metadata": {},
   "outputs": [
    {
     "output_type": "execute_result",
     "data": {
      "text/plain": "'hi there \\n hi there \\n hi there \\n hi there \\n hi there \\n '"
     },
     "metadata": {},
     "execution_count": 30
    }
   ],
   "source": [
    "\"hi there \\n \" * 5"
   ]
  },
  {
   "cell_type": "code",
   "execution_count": 31,
   "metadata": {},
   "outputs": [],
   "source": [
    "ss = \"we're here and it is overwritten\" "
   ]
  },
  {
   "cell_type": "code",
   "execution_count": 32,
   "metadata": {},
   "outputs": [
    {
     "output_type": "execute_result",
     "data": {
      "text/plain": "\"we're here and it is overwritten\""
     },
     "metadata": {},
     "execution_count": 32
    }
   ],
   "source": [
    "ss"
   ]
  },
  {
   "cell_type": "code",
   "execution_count": 33,
   "metadata": {},
   "outputs": [
    {
     "output_type": "execute_result",
     "data": {
      "text/plain": "'r'"
     },
     "metadata": {},
     "execution_count": 33
    }
   ],
   "source": [
    "ss[8]"
   ]
  },
  {
   "cell_type": "code",
   "execution_count": 34,
   "metadata": {},
   "outputs": [],
   "source": [
    "# ss[34]  # out of range error"
   ]
  },
  {
   "cell_type": "code",
   "execution_count": 35,
   "metadata": {},
   "outputs": [
    {
     "output_type": "execute_result",
     "data": {
      "text/plain": "'n'"
     },
     "metadata": {},
     "execution_count": 35
    }
   ],
   "source": [
    "ss[-1] # negative indexing starts backwards from -1"
   ]
  },
  {
   "cell_type": "code",
   "execution_count": 36,
   "metadata": {},
   "outputs": [
    {
     "output_type": "execute_result",
     "data": {
      "text/plain": "'re he'"
     },
     "metadata": {},
     "execution_count": 36
    }
   ],
   "source": [
    "ss[3:8]"
   ]
  },
  {
   "cell_type": "code",
   "execution_count": 37,
   "metadata": {},
   "outputs": [
    {
     "output_type": "execute_result",
     "data": {
      "text/plain": "True"
     },
     "metadata": {},
     "execution_count": 37
    }
   ],
   "source": [
    "'o' in ss"
   ]
  },
  {
   "cell_type": "code",
   "execution_count": 38,
   "metadata": {},
   "outputs": [
    {
     "output_type": "execute_result",
     "data": {
      "text/plain": "False"
     },
     "metadata": {},
     "execution_count": 38
    }
   ],
   "source": [
    "'x' in ss"
   ]
  },
  {
   "cell_type": "markdown",
   "metadata": {},
   "source": [
    "# Strings Proprty - immutability"
   ]
  },
  {
   "cell_type": "code",
   "execution_count": 39,
   "metadata": {},
   "outputs": [],
   "source": [
    "ss = 'python'"
   ]
  },
  {
   "cell_type": "code",
   "execution_count": 40,
   "metadata": {},
   "outputs": [
    {
     "output_type": "execute_result",
     "data": {
      "text/plain": "'python'"
     },
     "metadata": {},
     "execution_count": 40
    }
   ],
   "source": [
    "ss"
   ]
  },
  {
   "cell_type": "code",
   "execution_count": 41,
   "metadata": {},
   "outputs": [
    {
     "output_type": "execute_result",
     "data": {
      "text/plain": "'o'"
     },
     "metadata": {},
     "execution_count": 41
    }
   ],
   "source": [
    "ss[-2]"
   ]
  },
  {
   "cell_type": "code",
   "execution_count": 42,
   "metadata": {},
   "outputs": [
    {
     "output_type": "execute_result",
     "data": {
      "text/plain": "'n'"
     },
     "metadata": {},
     "execution_count": 42
    }
   ],
   "source": [
    "ss[-1]"
   ]
  },
  {
   "cell_type": "code",
   "execution_count": 43,
   "metadata": {},
   "outputs": [
    {
     "output_type": "execute_result",
     "data": {
      "text/plain": "'n'"
     },
     "metadata": {},
     "execution_count": 43
    }
   ],
   "source": [
    "ss[5]"
   ]
  },
  {
   "cell_type": "code",
   "execution_count": 44,
   "metadata": {},
   "outputs": [],
   "source": [
    "# ss[7] will give error"
   ]
  },
  {
   "cell_type": "code",
   "execution_count": 45,
   "metadata": {},
   "outputs": [
    {
     "output_type": "execute_result",
     "data": {
      "text/plain": "'pyth'"
     },
     "metadata": {},
     "execution_count": 45
    }
   ],
   "source": [
    "ss[:4] #0,1,2,3"
   ]
  },
  {
   "cell_type": "code",
   "execution_count": 46,
   "metadata": {},
   "outputs": [
    {
     "output_type": "execute_result",
     "data": {
      "text/plain": "'thon'"
     },
     "metadata": {},
     "execution_count": 46
    }
   ],
   "source": [
    "ss[2:]"
   ]
  },
  {
   "cell_type": "code",
   "execution_count": 47,
   "metadata": {},
   "outputs": [],
   "source": [
    "# ss[2] = 'r'  ERROR - STRINGS ARE IMMUTABLE"
   ]
  },
  {
   "cell_type": "code",
   "execution_count": 48,
   "metadata": {},
   "outputs": [
    {
     "output_type": "execute_result",
     "data": {
      "text/plain": "'python'"
     },
     "metadata": {},
     "execution_count": 48
    }
   ],
   "source": [
    "ss"
   ]
  },
  {
   "cell_type": "code",
   "execution_count": 49,
   "metadata": {},
   "outputs": [],
   "source": [
    "string2 = 'Hello!!'"
   ]
  },
  {
   "cell_type": "code",
   "execution_count": 50,
   "metadata": {},
   "outputs": [
    {
     "output_type": "execute_result",
     "data": {
      "text/plain": "'Hello!!'"
     },
     "metadata": {},
     "execution_count": 50
    }
   ],
   "source": [
    "string2"
   ]
  },
  {
   "cell_type": "code",
   "execution_count": 51,
   "metadata": {},
   "outputs": [],
   "source": [
    "# string2[3] = 'i' # ERROR - can't replace"
   ]
  },
  {
   "cell_type": "markdown",
   "metadata": {},
   "source": [
    "# Built-in string Methods"
   ]
  },
  {
   "cell_type": "code",
   "execution_count": 52,
   "metadata": {},
   "outputs": [],
   "source": [
    "ss = 'Python'"
   ]
  },
  {
   "cell_type": "code",
   "execution_count": 53,
   "metadata": {},
   "outputs": [
    {
     "output_type": "execute_result",
     "data": {
      "text/plain": "'Hi there'"
     },
     "metadata": {},
     "execution_count": 53
    }
   ],
   "source": [
    "# Capitalize\n",
    "ss = 'hi there'\n",
    "ss.capitalize()"
   ]
  },
  {
   "cell_type": "code",
   "execution_count": 54,
   "metadata": {},
   "outputs": [
    {
     "output_type": "stream",
     "name": "stdout",
     "text": "hi there\nHI THERE\n"
    }
   ],
   "source": [
    "# lower and upper\n",
    "print(ss.lower())\n",
    "print(ss.upper())"
   ]
  },
  {
   "cell_type": "code",
   "execution_count": 55,
   "metadata": {},
   "outputs": [
    {
     "output_type": "execute_result",
     "data": {
      "text/plain": "\"HI THERE WHAT'S UP\""
     },
     "metadata": {},
     "execution_count": 55
    }
   ],
   "source": [
    "ss = \"hi there what's up\"\n",
    "ss.upper()"
   ]
  },
  {
   "cell_type": "code",
   "execution_count": 56,
   "metadata": {},
   "outputs": [
    {
     "output_type": "stream",
     "name": "stdout",
     "text": "False\nTrue\n"
    }
   ],
   "source": [
    "# isupper and islower\n",
    "print(ss.isupper())\n",
    "print(ss.islower())"
   ]
  },
  {
   "cell_type": "code",
   "execution_count": 57,
   "metadata": {},
   "outputs": [
    {
     "output_type": "execute_result",
     "data": {
      "text/plain": "True"
     },
     "metadata": {},
     "execution_count": 57
    }
   ],
   "source": [
    "upper = 'ALL UPPPER CASE'\n",
    "upper.isupper()"
   ]
  },
  {
   "cell_type": "code",
   "execution_count": 58,
   "metadata": {},
   "outputs": [
    {
     "output_type": "execute_result",
     "data": {
      "text/plain": "False"
     },
     "metadata": {},
     "execution_count": 58
    }
   ],
   "source": [
    "# isalmnum\n",
    "upper.isalnum() # false bcoz of space"
   ]
  },
  {
   "cell_type": "code",
   "execution_count": 59,
   "metadata": {},
   "outputs": [
    {
     "output_type": "execute_result",
     "data": {
      "text/plain": "True"
     },
     "metadata": {},
     "execution_count": 59
    }
   ],
   "source": [
    "string1 = 'uppercase'\n",
    "string1.isalnum()"
   ]
  },
  {
   "cell_type": "code",
   "execution_count": 60,
   "metadata": {},
   "outputs": [
    {
     "output_type": "execute_result",
     "data": {
      "text/plain": "True"
     },
     "metadata": {},
     "execution_count": 60
    }
   ],
   "source": [
    "# isalpha\n",
    "string1.isalpha()"
   ]
  },
  {
   "cell_type": "code",
   "execution_count": 61,
   "metadata": {},
   "outputs": [
    {
     "output_type": "execute_result",
     "data": {
      "text/plain": "False"
     },
     "metadata": {},
     "execution_count": 61
    }
   ],
   "source": [
    "empty = ''\n",
    "empty.isalpha()"
   ]
  },
  {
   "cell_type": "code",
   "execution_count": 62,
   "metadata": {},
   "outputs": [
    {
     "output_type": "execute_result",
     "data": {
      "text/plain": "False"
     },
     "metadata": {},
     "execution_count": 62
    }
   ],
   "source": [
    "# startswith,endswith,find,index,isspace,istitle\n",
    "ss = \"This is Title cased\"\n",
    "ss.istitle()"
   ]
  },
  {
   "cell_type": "code",
   "execution_count": 63,
   "metadata": {},
   "outputs": [
    {
     "output_type": "execute_result",
     "data": {
      "text/plain": "True"
     },
     "metadata": {},
     "execution_count": 63
    }
   ],
   "source": [
    "ss = \"This Is Title Cased\"\n",
    "ss.istitle()"
   ]
  },
  {
   "cell_type": "code",
   "execution_count": 64,
   "metadata": {},
   "outputs": [
    {
     "output_type": "execute_result",
     "data": {
      "text/plain": "False"
     },
     "metadata": {},
     "execution_count": 64
    }
   ],
   "source": [
    "# isspaced\n",
    "ss.isspace()"
   ]
  },
  {
   "cell_type": "code",
   "execution_count": 65,
   "metadata": {},
   "outputs": [
    {
     "output_type": "execute_result",
     "data": {
      "text/plain": "True"
     },
     "metadata": {},
     "execution_count": 65
    }
   ],
   "source": [
    "ss = \"      \"\n",
    "ss.isspace()"
   ]
  },
  {
   "cell_type": "code",
   "execution_count": 66,
   "metadata": {},
   "outputs": [
    {
     "output_type": "execute_result",
     "data": {
      "text/plain": "False"
     },
     "metadata": {},
     "execution_count": 66
    }
   ],
   "source": [
    "ss = 'this string starts with t'\n",
    "ss.startswith('h') "
   ]
  },
  {
   "cell_type": "code",
   "execution_count": 67,
   "metadata": {},
   "outputs": [
    {
     "output_type": "execute_result",
     "data": {
      "text/plain": "True"
     },
     "metadata": {},
     "execution_count": 67
    }
   ],
   "source": [
    "ss.startswith('s',5)"
   ]
  },
  {
   "cell_type": "code",
   "execution_count": 68,
   "metadata": {},
   "outputs": [
    {
     "output_type": "execute_result",
     "data": {
      "text/plain": "True"
     },
     "metadata": {},
     "execution_count": 68
    }
   ],
   "source": [
    "# ends with\n",
    "ss.endswith('t')"
   ]
  },
  {
   "cell_type": "code",
   "execution_count": 69,
   "metadata": {},
   "outputs": [
    {
     "output_type": "execute_result",
     "data": {
      "text/plain": "'this string starts with t'"
     },
     "metadata": {},
     "execution_count": 69
    }
   ],
   "source": [
    "ss"
   ]
  },
  {
   "cell_type": "code",
   "execution_count": 70,
   "metadata": {},
   "outputs": [
    {
     "output_type": "execute_result",
     "data": {
      "text/plain": "False"
     },
     "metadata": {},
     "execution_count": 70
    }
   ],
   "source": [
    "ss.endswith('str')"
   ]
  },
  {
   "cell_type": "code",
   "execution_count": 71,
   "metadata": {},
   "outputs": [
    {
     "output_type": "execute_result",
     "data": {
      "text/plain": "True"
     },
     "metadata": {},
     "execution_count": 71
    }
   ],
   "source": [
    "ss.endswith('str',5,8)"
   ]
  },
  {
   "cell_type": "code",
   "execution_count": 72,
   "metadata": {},
   "outputs": [
    {
     "output_type": "execute_result",
     "data": {
      "text/plain": "7"
     },
     "metadata": {},
     "execution_count": 72
    }
   ],
   "source": [
    "# find method\n",
    "ss.find('r')"
   ]
  },
  {
   "cell_type": "code",
   "execution_count": 73,
   "metadata": {},
   "outputs": [
    {
     "output_type": "execute_result",
     "data": {
      "text/plain": "-1"
     },
     "metadata": {},
     "execution_count": 73
    }
   ],
   "source": [
    "ss.find('x') #doesn't exist"
   ]
  },
  {
   "cell_type": "code",
   "execution_count": 74,
   "metadata": {},
   "outputs": [
    {
     "output_type": "execute_result",
     "data": {
      "text/plain": "15"
     },
     "metadata": {},
     "execution_count": 74
    }
   ],
   "source": [
    "ss.find('r',10) # starts findind from the argument 10"
   ]
  },
  {
   "cell_type": "code",
   "execution_count": 75,
   "metadata": {},
   "outputs": [
    {
     "output_type": "execute_result",
     "data": {
      "text/plain": "0"
     },
     "metadata": {},
     "execution_count": 75
    }
   ],
   "source": [
    "ss.index('t')"
   ]
  },
  {
   "cell_type": "code",
   "execution_count": 76,
   "metadata": {},
   "outputs": [
    {
     "output_type": "execute_result",
     "data": {
      "text/plain": "7"
     },
     "metadata": {},
     "execution_count": 76
    }
   ],
   "source": [
    "ss.index('ring')"
   ]
  },
  {
   "cell_type": "code",
   "execution_count": 77,
   "metadata": {},
   "outputs": [],
   "source": [
    "# ss.index('x') # ERROR - absent"
   ]
  },
  {
   "cell_type": "code",
   "execution_count": 78,
   "metadata": {},
   "outputs": [
    {
     "output_type": "execute_result",
     "data": {
      "text/plain": "16"
     },
     "metadata": {},
     "execution_count": 78
    }
   ],
   "source": [
    "ss.index('t',14)"
   ]
  },
  {
   "cell_type": "code",
   "execution_count": 79,
   "metadata": {},
   "outputs": [],
   "source": [
    "# ljust,rjust,lstrip,rstrip,len"
   ]
  },
  {
   "cell_type": "code",
   "execution_count": 80,
   "metadata": {},
   "outputs": [],
   "source": [
    "ss = \"Today is a great day!\""
   ]
  },
  {
   "cell_type": "code",
   "execution_count": 81,
   "metadata": {},
   "outputs": [
    {
     "output_type": "execute_result",
     "data": {
      "text/plain": "'Today is a great day!                   '"
     },
     "metadata": {},
     "execution_count": 81
    }
   ],
   "source": [
    "#ljust\n",
    "ss.ljust(40)"
   ]
  },
  {
   "cell_type": "code",
   "execution_count": 82,
   "metadata": {},
   "outputs": [
    {
     "output_type": "execute_result",
     "data": {
      "text/plain": "'Today is a great day!uuuuuuuuuuuuuuuuuuu'"
     },
     "metadata": {},
     "execution_count": 82
    }
   ],
   "source": [
    "ss.ljust(40,'u')"
   ]
  },
  {
   "cell_type": "code",
   "execution_count": 83,
   "metadata": {},
   "outputs": [
    {
     "output_type": "execute_result",
     "data": {
      "text/plain": "'Today is a great day!!!!!!!!!!!!!!!!!!!!'"
     },
     "metadata": {},
     "execution_count": 83
    }
   ],
   "source": [
    "ss.ljust(40,'!')"
   ]
  },
  {
   "cell_type": "code",
   "execution_count": 84,
   "metadata": {},
   "outputs": [],
   "source": [
    "# ss.ljust(40,'u!') # ERROR"
   ]
  },
  {
   "cell_type": "code",
   "execution_count": 85,
   "metadata": {},
   "outputs": [
    {
     "output_type": "execute_result",
     "data": {
      "text/plain": "'Today is a great day!'"
     },
     "metadata": {},
     "execution_count": 85
    }
   ],
   "source": [
    "ss.ljust(7,'!')  # no probs"
   ]
  },
  {
   "cell_type": "code",
   "execution_count": 86,
   "metadata": {},
   "outputs": [
    {
     "output_type": "execute_result",
     "data": {
      "text/plain": "'Today is a great day!'"
     },
     "metadata": {},
     "execution_count": 86
    }
   ],
   "source": [
    "ss.ljust(8)"
   ]
  },
  {
   "cell_type": "code",
   "execution_count": 87,
   "metadata": {},
   "outputs": [
    {
     "output_type": "execute_result",
     "data": {
      "text/plain": "'                             Today is a great day!'"
     },
     "metadata": {},
     "execution_count": 87
    }
   ],
   "source": [
    "#rjust\n",
    "ss.rjust(50)"
   ]
  },
  {
   "cell_type": "code",
   "execution_count": 88,
   "metadata": {},
   "outputs": [
    {
     "output_type": "execute_result",
     "data": {
      "text/plain": "'vvvvvvvvvvvvvvvvvvvvvvvvvvvvvToday is a great day!'"
     },
     "metadata": {},
     "execution_count": 88
    }
   ],
   "source": [
    "ss.rjust(50,'v')"
   ]
  },
  {
   "cell_type": "code",
   "execution_count": 89,
   "metadata": {},
   "outputs": [
    {
     "output_type": "execute_result",
     "data": {
      "text/plain": "21"
     },
     "metadata": {},
     "execution_count": 89
    }
   ],
   "source": [
    "len(ss)"
   ]
  },
  {
   "cell_type": "code",
   "execution_count": 90,
   "metadata": {},
   "outputs": [
    {
     "output_type": "execute_result",
     "data": {
      "text/plain": "23"
     },
     "metadata": {},
     "execution_count": 90
    }
   ],
   "source": [
    "len('how long is this string')"
   ]
  },
  {
   "cell_type": "code",
   "execution_count": 91,
   "metadata": {},
   "outputs": [
    {
     "output_type": "execute_result",
     "data": {
      "text/plain": "0"
     },
     "metadata": {},
     "execution_count": 91
    }
   ],
   "source": [
    "len('')"
   ]
  },
  {
   "cell_type": "code",
   "execution_count": 92,
   "metadata": {},
   "outputs": [
    {
     "output_type": "execute_result",
     "data": {
      "text/plain": "'   This is a string'"
     },
     "metadata": {},
     "execution_count": 92
    }
   ],
   "source": [
    "# lstrip\n",
    "ss = '   This is a string'\n",
    "ss"
   ]
  },
  {
   "cell_type": "code",
   "execution_count": 93,
   "metadata": {},
   "outputs": [
    {
     "output_type": "execute_result",
     "data": {
      "text/plain": "'This is a string'"
     },
     "metadata": {},
     "execution_count": 93
    }
   ],
   "source": [
    "ss.lstrip()"
   ]
  },
  {
   "cell_type": "code",
   "execution_count": 94,
   "metadata": {},
   "outputs": [
    {
     "output_type": "execute_result",
     "data": {
      "text/plain": "'VVVVVVVVVVVVVVVVVVVVVVThis is a nice day'"
     },
     "metadata": {},
     "execution_count": 94
    }
   ],
   "source": [
    "ss = \"This is a nice day\"\n",
    "left = ss.rjust(40,'V')\n",
    "left"
   ]
  },
  {
   "cell_type": "code",
   "execution_count": 95,
   "metadata": {},
   "outputs": [
    {
     "output_type": "execute_result",
     "data": {
      "text/plain": "'This is a nice day'"
     },
     "metadata": {},
     "execution_count": 95
    }
   ],
   "source": [
    "left.lstrip('V')"
   ]
  },
  {
   "cell_type": "code",
   "execution_count": 96,
   "metadata": {},
   "outputs": [],
   "source": [
    "# rstrip\n",
    "ss = \"This is another string            \""
   ]
  },
  {
   "cell_type": "code",
   "execution_count": 97,
   "metadata": {},
   "outputs": [
    {
     "output_type": "execute_result",
     "data": {
      "text/plain": "'This is another string            '"
     },
     "metadata": {},
     "execution_count": 97
    }
   ],
   "source": [
    "ss"
   ]
  },
  {
   "cell_type": "code",
   "execution_count": 98,
   "metadata": {},
   "outputs": [
    {
     "output_type": "execute_result",
     "data": {
      "text/plain": "'This is another string'"
     },
     "metadata": {},
     "execution_count": 98
    }
   ],
   "source": [
    "ss.rstrip()"
   ]
  },
  {
   "cell_type": "code",
   "execution_count": 99,
   "metadata": {},
   "outputs": [],
   "source": [
    "right = ss.ljust(39,'5')"
   ]
  },
  {
   "cell_type": "code",
   "execution_count": 100,
   "metadata": {},
   "outputs": [
    {
     "output_type": "execute_result",
     "data": {
      "text/plain": "'This is another string            55555'"
     },
     "metadata": {},
     "execution_count": 100
    }
   ],
   "source": [
    "right"
   ]
  },
  {
   "cell_type": "code",
   "execution_count": 101,
   "metadata": {},
   "outputs": [
    {
     "output_type": "execute_result",
     "data": {
      "text/plain": "'This is another string            '"
     },
     "metadata": {},
     "execution_count": 101
    }
   ],
   "source": [
    "right2 = right.rstrip('5')\n",
    "right2"
   ]
  },
  {
   "cell_type": "code",
   "execution_count": 102,
   "metadata": {},
   "outputs": [
    {
     "output_type": "execute_result",
     "data": {
      "text/plain": "'This is another string'"
     },
     "metadata": {},
     "execution_count": 102
    }
   ],
   "source": [
    "right2.rstrip()"
   ]
  },
  {
   "cell_type": "code",
   "execution_count": 103,
   "metadata": {},
   "outputs": [
    {
     "output_type": "execute_result",
     "data": {
      "text/plain": "'This is another string            '"
     },
     "metadata": {},
     "execution_count": 103
    }
   ],
   "source": [
    "right2"
   ]
  },
  {
   "cell_type": "code",
   "execution_count": 104,
   "metadata": {},
   "outputs": [],
   "source": [
    "ss = \"this is a string\""
   ]
  },
  {
   "cell_type": "code",
   "execution_count": 105,
   "metadata": {},
   "outputs": [
    {
     "output_type": "execute_result",
     "data": {
      "text/plain": "'this is a string'"
     },
     "metadata": {},
     "execution_count": 105
    }
   ],
   "source": [
    "ss"
   ]
  },
  {
   "cell_type": "code",
   "execution_count": 106,
   "metadata": {},
   "outputs": [
    {
     "output_type": "execute_result",
     "data": {
      "text/plain": "3"
     },
     "metadata": {},
     "execution_count": 106
    }
   ],
   "source": [
    "ss.count('s')"
   ]
  },
  {
   "cell_type": "code",
   "execution_count": 107,
   "metadata": {},
   "outputs": [
    {
     "output_type": "execute_result",
     "data": {
      "text/plain": "3"
     },
     "metadata": {},
     "execution_count": 107
    }
   ],
   "source": [
    "ss.count(' ')"
   ]
  },
  {
   "cell_type": "code",
   "execution_count": 108,
   "metadata": {},
   "outputs": [
    {
     "output_type": "execute_result",
     "data": {
      "text/plain": "0"
     },
     "metadata": {},
     "execution_count": 108
    }
   ],
   "source": [
    "ss.count('w')"
   ]
  },
  {
   "cell_type": "code",
   "execution_count": 109,
   "metadata": {},
   "outputs": [],
   "source": [
    "# strip, center, split, join, swapcase, .format"
   ]
  },
  {
   "cell_type": "code",
   "execution_count": 110,
   "metadata": {},
   "outputs": [
    {
     "output_type": "execute_result",
     "data": {
      "text/plain": "'            This is a string            '"
     },
     "metadata": {},
     "execution_count": 110
    }
   ],
   "source": [
    "ss = \"This is a string\"\n",
    "ss.center(40)"
   ]
  },
  {
   "cell_type": "code",
   "execution_count": 111,
   "metadata": {},
   "outputs": [],
   "source": [
    "center = ss.center(40,\"*\")"
   ]
  },
  {
   "cell_type": "code",
   "execution_count": 112,
   "metadata": {},
   "outputs": [
    {
     "output_type": "execute_result",
     "data": {
      "text/plain": "'************This is a string************'"
     },
     "metadata": {},
     "execution_count": 112
    }
   ],
   "source": [
    "center"
   ]
  },
  {
   "cell_type": "code",
   "execution_count": 113,
   "metadata": {},
   "outputs": [],
   "source": [
    "# strip"
   ]
  },
  {
   "cell_type": "code",
   "execution_count": 114,
   "metadata": {},
   "outputs": [
    {
     "output_type": "execute_result",
     "data": {
      "text/plain": "'This is a string'"
     },
     "metadata": {},
     "execution_count": 114
    }
   ],
   "source": [
    "center.strip(\"*\")"
   ]
  },
  {
   "cell_type": "code",
   "execution_count": 115,
   "metadata": {},
   "outputs": [],
   "source": [
    "ss = \"  This is another st  \""
   ]
  },
  {
   "cell_type": "code",
   "execution_count": 116,
   "metadata": {},
   "outputs": [
    {
     "output_type": "execute_result",
     "data": {
      "text/plain": "'This is another st'"
     },
     "metadata": {},
     "execution_count": 116
    }
   ],
   "source": [
    "ss.strip()"
   ]
  },
  {
   "cell_type": "code",
   "execution_count": 117,
   "metadata": {},
   "outputs": [
    {
     "output_type": "execute_result",
     "data": {
      "text/plain": "'  This is another st  '"
     },
     "metadata": {},
     "execution_count": 117
    }
   ],
   "source": [
    "# swapcase()\n",
    "ss"
   ]
  },
  {
   "cell_type": "code",
   "execution_count": 118,
   "metadata": {},
   "outputs": [
    {
     "output_type": "execute_result",
     "data": {
      "text/plain": "'  tHIS IS ANOTHER ST  '"
     },
     "metadata": {},
     "execution_count": 118
    }
   ],
   "source": [
    "ss.swapcase()"
   ]
  },
  {
   "cell_type": "code",
   "execution_count": 119,
   "metadata": {},
   "outputs": [
    {
     "output_type": "execute_result",
     "data": {
      "text/plain": "'all upper case cxs included!'"
     },
     "metadata": {},
     "execution_count": 119
    }
   ],
   "source": [
    "upper = 'ALL UPPER CASE CXS INCLUDED!'\n",
    "upper.swapcase()"
   ]
  },
  {
   "cell_type": "code",
   "execution_count": 120,
   "metadata": {},
   "outputs": [
    {
     "output_type": "stream",
     "name": "stdout",
     "text": "ALL UPPER CASE CXS INCLUDED!\n"
    },
    {
     "output_type": "execute_result",
     "data": {
      "text/plain": "['ALL', 'UPPER', 'CASE', 'CXS', 'INCLUDED!']"
     },
     "metadata": {},
     "execution_count": 120
    }
   ],
   "source": [
    "# split\n",
    "print(upper)\n",
    "upper.split()"
   ]
  },
  {
   "cell_type": "code",
   "execution_count": 121,
   "metadata": {},
   "outputs": [
    {
     "output_type": "execute_result",
     "data": {
      "text/plain": "['thisisastringwithoutanyspace']"
     },
     "metadata": {},
     "execution_count": 121
    }
   ],
   "source": [
    "ss = 'thisisastringwithoutanyspace'\n",
    "ss.split()"
   ]
  },
  {
   "cell_type": "code",
   "execution_count": 122,
   "metadata": {},
   "outputs": [
    {
     "output_type": "execute_result",
     "data": {
      "text/plain": "['Th', 's ', 's a str', 'ng w', 'th a bunch of spaces']"
     },
     "metadata": {},
     "execution_count": 122
    }
   ],
   "source": [
    "ss = \"This is a string with a bunch of spaces\"\n",
    "ss.split('i')"
   ]
  },
  {
   "cell_type": "code",
   "execution_count": 123,
   "metadata": {},
   "outputs": [
    {
     "output_type": "execute_result",
     "data": {
      "text/plain": "['Th', ' ', ' a string with a bunch of spaces']"
     },
     "metadata": {},
     "execution_count": 123
    }
   ],
   "source": [
    "ss.split('is')"
   ]
  },
  {
   "cell_type": "code",
   "execution_count": 124,
   "metadata": {},
   "outputs": [
    {
     "output_type": "stream",
     "name": "stdout",
     "text": "*\n"
    }
   ],
   "source": [
    "# join\n",
    "x = '*'\n",
    "print(x)"
   ]
  },
  {
   "cell_type": "code",
   "execution_count": 125,
   "metadata": {},
   "outputs": [],
   "source": [
    "ss=('one','two','three')"
   ]
  },
  {
   "cell_type": "code",
   "execution_count": 126,
   "metadata": {},
   "outputs": [
    {
     "output_type": "execute_result",
     "data": {
      "text/plain": "'one*two*three'"
     },
     "metadata": {},
     "execution_count": 126
    }
   ],
   "source": [
    "x.join(ss)"
   ]
  },
  {
   "cell_type": "code",
   "execution_count": 127,
   "metadata": {},
   "outputs": [
    {
     "output_type": "execute_result",
     "data": {
      "text/plain": "'one+two+three'"
     },
     "metadata": {},
     "execution_count": 127
    }
   ],
   "source": [
    "'+'.join(ss)"
   ]
  },
  {
   "cell_type": "code",
   "execution_count": 128,
   "metadata": {},
   "outputs": [],
   "source": [
    "# ss.join('+') # doesn't work"
   ]
  },
  {
   "cell_type": "code",
   "execution_count": 129,
   "metadata": {},
   "outputs": [
    {
     "output_type": "execute_result",
     "data": {
      "text/plain": "'one-two-three'"
     },
     "metadata": {},
     "execution_count": 129
    }
   ],
   "source": [
    "'-'.join(ss)"
   ]
  },
  {
   "cell_type": "code",
   "execution_count": 130,
   "metadata": {},
   "outputs": [
    {
     "output_type": "execute_result",
     "data": {
      "text/plain": "'This is Python and it is a great language'"
     },
     "metadata": {},
     "execution_count": 130
    }
   ],
   "source": [
    "# .format\n",
    "\"This is Python and {}\".format('it is a great language')"
   ]
  },
  {
   "cell_type": "code",
   "execution_count": 131,
   "metadata": {},
   "outputs": [
    {
     "output_type": "execute_result",
     "data": {
      "text/plain": "\"Today is a great day John,don't you think so JOHN?\""
     },
     "metadata": {},
     "execution_count": 131
    }
   ],
   "source": [
    "\"Today is a great day {},don't you think so {}?\".format('John','JOHN')"
   ]
  },
  {
   "cell_type": "code",
   "execution_count": 132,
   "metadata": {},
   "outputs": [
    {
     "output_type": "execute_result",
     "data": {
      "text/plain": "'Hi there John, how is you day going?Tim I am doing well thanksJohn and Tim'"
     },
     "metadata": {},
     "execution_count": 132
    }
   ],
   "source": [
    "\"Hi there {}, how is you day going?{} I am doing well thanks{}\".format('John','Tim','John and Tim')"
   ]
  },
  {
   "cell_type": "code",
   "execution_count": null,
   "metadata": {},
   "outputs": [],
   "source": []
  }
 ],
 "metadata": {
  "language_info": {
   "codemirror_mode": {
    "name": "ipython",
    "version": 3
   },
   "file_extension": ".py",
   "mimetype": "text/x-python",
   "name": "python",
   "nbconvert_exporter": "python",
   "pygments_lexer": "ipython3",
   "version": "3.8.1-final"
  },
  "orig_nbformat": 2,
  "kernelspec": {
   "name": "python38132bit51bf2d4383df4065b0c992fe407a3440",
   "display_name": "Python 3.8.1 32-bit"
  }
 },
 "nbformat": 4,
 "nbformat_minor": 2
}