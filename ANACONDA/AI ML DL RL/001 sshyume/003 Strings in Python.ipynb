{
 "cells": [
  {
   "cell_type": "markdown",
   "metadata": {},
   "source": [
    "# Strings in Python"
   ]
  },
  {
   "cell_type": "code",
   "execution_count": 1,
   "metadata": {},
   "outputs": [],
   "source": [
    "# Created using sinle or double quotes"
   ]
  },
  {
   "cell_type": "code",
   "execution_count": 2,
   "metadata": {},
   "outputs": [
    {
     "output_type": "execute_result",
     "data": {
      "text/plain": "'This is an example of a string'"
     },
     "metadata": {},
     "execution_count": 2
    }
   ],
   "source": [
    "\"This is an example of a string\""
   ]
  },
  {
   "cell_type": "code",
   "execution_count": 3,
   "metadata": {},
   "outputs": [
    {
     "output_type": "execute_result",
     "data": {
      "text/plain": "'This is also an example of a string'"
     },
     "metadata": {},
     "execution_count": 3
    }
   ],
   "source": [
    "\"This is also an example of a string\""
   ]
  },
  {
   "cell_type": "code",
   "execution_count": 4,
   "metadata": {},
   "outputs": [
    {
     "output_type": "execute_result",
     "data": {
      "text/plain": "\"I'm in double quotes\""
     },
     "metadata": {},
     "execution_count": 4
    }
   ],
   "source": [
    "# 'I'll give error'\n",
    "\"I'm in double quotes\""
   ]
  },
  {
   "cell_type": "code",
   "execution_count": 5,
   "metadata": {},
   "outputs": [
    {
     "output_type": "execute_result",
     "data": {
      "text/plain": "'He said,\"where is he?\"'"
     },
     "metadata": {},
     "execution_count": 5
    }
   ],
   "source": [
    "'He said,\"where is he?\"'"
   ]
  },
  {
   "cell_type": "code",
   "execution_count": null,
   "metadata": {},
   "outputs": [],
   "source": []
  }
 ],
 "metadata": {
  "language_info": {
   "codemirror_mode": {
    "name": "ipython",
    "version": 3
   },
   "file_extension": ".py",
   "mimetype": "text/x-python",
   "name": "python",
   "nbconvert_exporter": "python",
   "pygments_lexer": "ipython3",
   "version": "2.7.17-final"
  },
  "orig_nbformat": 2,
  "kernelspec": {
   "name": "python271764bitconda1a9dfe6d9a9045ff99f7ae044e389d8c",
   "display_name": "Python 2.7.17 64-bit (conda)"
  }
 },
 "nbformat": 4,
 "nbformat_minor": 2
}