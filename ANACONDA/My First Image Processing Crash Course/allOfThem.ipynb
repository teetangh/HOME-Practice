{
 "cells": [
  {
   "cell_type": "code",
   "execution_count": 1,
   "metadata": {},
   "outputs": [],
   "source": [
    "import cv2"
   ]
  },
  {
   "cell_type": "code",
   "execution_count": 2,
   "metadata": {},
   "outputs": [
    {
     "data": {
      "text/plain": "['C:\\\\Users\\\\Kaustav\\\\AppData\\\\Local\\\\Temp\\\\e70f7dcf-b8c8-4abc-af72-15766abc0058',\n 'c:\\\\Users\\\\Kaustav\\\\.vscode\\\\extensions\\\\ms-python.python-2020.2.63072\\\\pythonFiles',\n 'c:\\\\Users\\\\Kaustav\\\\.vscode\\\\extensions\\\\ms-python.python-2020.2.63072\\\\pythonFiles\\\\lib\\\\python',\n 'C:\\\\PYTHON\\\\python38.zip',\n 'C:\\\\PYTHON\\\\DLLs',\n 'C:\\\\PYTHON\\\\lib',\n 'C:\\\\PYTHON',\n '',\n 'C:\\\\Users\\\\Kaustav\\\\AppData\\\\Roaming\\\\Python\\\\Python38\\\\site-packages',\n 'C:\\\\Users\\\\Kaustav\\\\AppData\\\\Roaming\\\\Python\\\\Python38\\\\site-packages\\\\win32',\n 'C:\\\\Users\\\\Kaustav\\\\AppData\\\\Roaming\\\\Python\\\\Python38\\\\site-packages\\\\win32\\\\lib',\n 'C:\\\\Users\\\\Kaustav\\\\AppData\\\\Roaming\\\\Python\\\\Python38\\\\site-packages\\\\Pythonwin',\n 'C:\\\\PYTHON\\\\lib\\\\site-packages',\n 'C:\\\\Users\\\\Kaustav\\\\AppData\\\\Roaming\\\\Python\\\\Python38\\\\site-packages\\\\IPython\\\\extensions',\n 'C:\\\\Users\\\\Kaustav\\\\.ipython']"
     },
     "execution_count": 2,
     "metadata": {},
     "output_type": "execute_result"
    }
   ],
   "source": [
    "import os\n",
    "os.sys.path"
   ]
  },
  {
   "cell_type": "code",
   "execution_count": 10,
   "metadata": {},
   "outputs": [],
   "source": [
    "def main():\n",
    "    imgpath=\"C:\\\\Users\\\\Kaustav\\\\Desktop\\\\MY CODE\\\\HOME Practice\\\\ANACONDA\\\\My First Image Processing Crash Course\\\\standard_test_images\\\\standard_test_images\\\\lena_color_256.tif\"\n",
    "    img = cv2.imread(imgpath)\n",
    "\n",
    "    cv2.namedWindow('Lena', cv2.WINDOW_AUTOSIZE)\n",
    "    cv2.imshow('Lena',img)\n",
    "    cv2.waitKey(0)\n",
    "    cv2.destroyWindow('Lena')\n",
    "\n",
    "if __name__ == \"__main__\":\n",
    "    main()"
   ]
  },
  {
   "cell_type": "code",
   "execution_count": null,
   "metadata": {},
   "outputs": [],
   "source": []
  }
 ],
 "metadata": {
  "kernelspec": {
   "display_name": "Python 3",
   "language": "python",
   "name": "python3"
  },
  "language_info": {
   "codemirror_mode": {
    "name": "ipython",
    "version": 3
   },
   "file_extension": ".py",
   "mimetype": "text/x-python",
   "name": "python",
   "nbconvert_exporter": "python",
   "pygments_lexer": "ipython3",
   "version": "3.8.1-final"
  }
 },
 "nbformat": 4,
 "nbformat_minor": 4
}