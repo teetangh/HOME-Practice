{
 "cells": [
  {
   "cell_type": "code",
   "execution_count": null,
   "metadata": {},
   "outputs": [],
   "source": [
    "import cv2"
   ]
  },
  {
   "cell_type": "code",
   "execution_count": null,
   "metadata": {},
   "outputs": [],
   "source": [
    "import os\n",
    "os.sys.path"
   ]
  },
  {
   "cell_type": "code",
   "execution_count": null,
   "metadata": {},
   "outputs": [],
   "source": [
    "def main():\n",
    "    imgpath=\"C:\\\\Users\\\\Kaustav\\\\Desktop\\\\MY CODE\\\\HOME Practice\\\\ANACONDA\\\\My First Image Processing Crash Course\\\\standard_test_images\\\\standard_test_images\\\\lena_color_256.tif\"\n",
    "    img = cv2.imread(imgpath)\n",
    "\n",
    "    cv2.namedWindow('Lena', cv2.WINDOW_AUTOSIZE)\n",
    "    cv2.imshow('Lena',img)\n",
    "    cv2.waitKey(0)\n",
    "    cv2.destroyWindow('Lena')\n",
    "\n",
    "if __name__ == \"__main__\":\n",
    "    main()"
   ]
  },
  {
   "cell_type": "code",
   "execution_count": null,
   "metadata": {},
   "outputs": [],
   "source": []
  }
 ],
 "metadata": {
  "kernelspec": {
   "display_name": "Python 3.8.1 32-bit",
   "language": "python",
   "name": "python38132bit51bf2d4383df4065b0c992fe407a3440"
  },
  "language_info": {
   "codemirror_mode": {
    "name": "ipython",
    "version": 3
   },
   "file_extension": ".py",
   "mimetype": "text/x-python",
   "name": "python",
   "nbconvert_exporter": "python",
   "pygments_lexer": "ipython3",
   "version": "3.8.1-final"
  }
 },
 "nbformat": 4,
 "nbformat_minor": 4
}