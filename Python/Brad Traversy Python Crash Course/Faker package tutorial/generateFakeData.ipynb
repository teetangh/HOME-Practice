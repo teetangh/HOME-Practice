{
 "nbformat": 4,
 "nbformat_minor": 2,
 "metadata": {
  "language_info": {
   "name": "python",
   "codemirror_mode": {
    "name": "ipython",
    "version": 3
   },
   "version": "3.8.1-final"
  },
  "orig_nbformat": 2,
  "file_extension": ".py",
  "mimetype": "text/x-python",
  "name": "python",
  "npconvert_exporter": "python",
  "pygments_lexer": "ipython3",
  "version": 3,
  "kernelspec": {
   "name": "python38132bit51bf2d4383df4065b0c992fe407a3440",
   "display_name": "Python 3.8.1 32-bit"
  }
 },
 "cells": [
  {
   "cell_type": "code",
   "execution_count": 1,
   "metadata": {},
   "outputs": [],
   "source": [
    "# Python GENERATE FAKE DATA\n",
    "\n",
    "# from faker import Factory\n",
    "# fake_data = Faker()\n",
    "\n",
    "# OR"
   ]
  },
  {
   "cell_type": "code",
   "execution_count": 2,
   "metadata": {},
   "outputs": [],
   "source": [
    "from faker import Faker\n",
    "fake_data = Faker()"
   ]
  },
  {
   "cell_type": "code",
   "execution_count": 3,
   "metadata": {},
   "outputs": [
    {
     "name": "stdout",
     "output_type": "stream",
     "text": "Curtis Summers\n\n"
    }
   ],
   "source": [
    "# create fake name\n",
    "name = fake_data.name()\n",
    "print(name + '\\n')"
   ]
  },
  {
   "cell_type": "code",
   "execution_count": 4,
   "metadata": {},
   "outputs": [
    {
     "name": "stdout",
     "output_type": "stream",
     "text": "926 Cruz Ports Suite 808\nEast Megan, NC 25517\n\n"
    }
   ],
   "source": [
    "# create fake address\n",
    "address = fake_data.address()\n",
    "print(address + '\\n')"
   ]
  },
  {
   "cell_type": "code",
   "execution_count": 5,
   "metadata": {},
   "outputs": [
    {
     "name": "stdout",
     "output_type": "stream",
     "text": "davisnicholas@mcdaniel.com\n"
    }
   ],
   "source": [
    "# create fake email\n",
    "email = fake_data.email()\n",
    "print(email)"
   ]
  },
  {
   "cell_type": "code",
   "execution_count": 6,
   "metadata": {},
   "outputs": [
    {
     "name": "stdout",
     "output_type": "stream",
     "text": "username: zgonzales\nname: Michael Butler\nsex: M\naddress: 4059 Shawn Rapid\nMillstown, MT 14145\nmail: yfisher@hotmail.com\nbirthdate: 1936-06-20\n\n"
    }
   ],
   "source": [
    "# create fake profile\n",
    "profile = fake_data.simple_profile()\n",
    "for k, v in profile.items():\n",
    "    print('{}: {}'.format(k, v))\n",
    "print()\n"
   ]
  },
  {
   "cell_type": "code",
   "execution_count": 7,
   "metadata": {},
   "outputs": [
    {
     "name": "stdout",
     "output_type": "stream",
     "text": "Name: Curtis Summers,Address: 926 Cruz Ports Suite 808\nEast Megan, NC 25517,Email: davisnicholas@mcdaniel.com\n\n"
    }
   ],
   "source": [
    "# display name,address,email\n",
    "print('Name: {},Address: {},Email: {}'.format(name, address, email))\n",
    "print()\n"
   ]
  },
  {
   "cell_type": "code",
   "execution_count": 8,
   "metadata": {},
   "outputs": [
    {
     "name": "stdout",
     "output_type": "stream",
     "text": "NAME= Michael Mcgrath EMAIL= smithrachel@yahoo.com ADDRESS= 05052 David Ford\nElizabethstad, ND 66570 \n \n NAME= Emily Herrera EMAIL= stacy74@hobbs-hernandez.com ADDRESS= 505 Cox Avenue\nEast Williamburgh, TN 65776 \n \n"
    }
   ],
   "source": [
    "# generate a large set of fake data\n",
    "for _ in range(0, 2):\n",
    "    print(' NAME= ' + fake_data.name() + ' EMAIL= ' +\n",
    "          fake_data.email() + ' ADDRESS= ' + fake_data.address()+' \\n ')"
   ]
  },
  {
   "cell_type": "code",
   "execution_count": 9,
   "metadata": {},
   "outputs": [],
   "source": [
    "\n",
    "# Function to fill a list with data\n",
    "# change .name() to another data type for other data options\n",
    "def create_names_list(how_many):\n",
    "    names = []\n",
    "    for _ in range(0, how_many):\n",
    "        names.append(fake_data.name())\n",
    "    return names"
   ]
  },
  {
   "cell_type": "code",
   "execution_count": 10,
   "metadata": {},
   "outputs": [
    {
     "name": "stdout",
     "output_type": "stream",
     "text": "['Rachel James', 'Donna Torres', 'Rhonda Howard', 'James Dorsey', 'James Guerrero', 'Rodney Morgan', 'Angela Acosta', 'Melissa Wright', 'Barbara Kemp', 'Sandra Stewart', 'Katherine Pierce', 'Emily Andrews', 'Bobby Hart', 'Mariah Frey', 'Erin Willis', 'Robert Hill', 'Stephanie Joseph', 'Nathan Ayala', 'John Dudley', 'Audrey Sweeney']\n"
    }
   ],
   "source": [
    "print(create_names_list(20))"
   ]
  },
  {
   "cell_type": "code",
   "execution_count": 11,
   "metadata": {},
   "outputs": [
    {
     "name": "stdout",
     "output_type": "stream",
     "text": "NAME: Taylor Beltran,ADDRESS: 5547 Eric Expressway\nBrianport, AL 58110,EMAIL: rking@rogers-white.com\n"
    }
   ],
   "source": [
    "# create person objects with name,address,etc.\n",
    "class Customers:\n",
    "    def __init__(self,name,address,email):\n",
    "        self.name=name\n",
    "        self.address=address\n",
    "        self.email=email\n",
    "    # special method __repr() to display data associated with the object\n",
    "    def __str__(self):\n",
    "    # def __repr__(self):\n",
    "        return 'NAME: {},ADDRESS: {},EMAIL: {}'.format(self.name,self.address,self.email)\n",
    "\n",
    "# Instance of customers class using fake data\n",
    "customer1 = Customers(fake_data.name(),fake_data.address(),fake_data.email())\n",
    "print(customer1)"
   ]
  },
  {
   "cell_type": "code",
   "execution_count": 15,
   "metadata": {},
   "outputs": [],
   "source": [
    "#generate list of customers class objects with fake data\n",
    "customer_list = []\n",
    "for i in range (20):\n",
    "    customer_list.append(Customers(fake_data.name(),fake_data.address(),fake_data.email()))"
   ]
  },
  {
   "cell_type": "code",
   "execution_count": 16,
   "metadata": {},
   "outputs": [
    {
     "name": "stdout",
     "output_type": "stream",
     "text": "NAME: Rebecca Logan,ADDRESS: 650 Rogers Pines Suite 856\nSmithmouth, CA 50237,EMAIL: natalie28@yahoo.com \n\nNAME: Jane Williams,ADDRESS: 55958 Parker Groves\nNew Kenneth, OK 58704,EMAIL: amy21@hotmail.com \n\nNAME: Hunter Woodward,ADDRESS: 70150 Kyle Vista\nJohnberg, GA 31729,EMAIL: lorihines@yahoo.com \n\nNAME: Kevin Luna,ADDRESS: 9368 Evans Rapid Apt. 462\nNew Georgeville, NC 88827,EMAIL: gateswilliam@hotmail.com \n\nNAME: Jose Cooper,ADDRESS: 682 Fernando Junctions Suite 250\nHoville, OK 92619,EMAIL: kayla14@evans-parker.com \n\nNAME: Ariel Morales,ADDRESS: 18985 Chung Ferry\nHarrisside, IL 13471,EMAIL: hkrueger@gmail.com \n\nNAME: Kristin Barrett,ADDRESS: 37245 Joseph Divide\nBrittanyside, CA 28503,EMAIL: jameswilliams@nguyen.com \n\nNAME: Joshua Griffin,ADDRESS: 199 Ryan Wall\nPort Emilyport, OR 27120,EMAIL: steeledominique@hotmail.com \n\nNAME: Susan Cameron,ADDRESS: 150 Joel Square Apt. 539\nWest Justin, AL 41240,EMAIL: alicia16@yahoo.com \n\nNAME: Paul Morgan,ADDRESS: 2817 Thornton Unions\nPort Cindystad, NJ 54022,EMAIL: fcastillo@mathis.com \n\nNAME: Amber Smith,ADDRESS: 359 Melissa Camp\nNew Tonychester, IN 63636,EMAIL: vanessa90@hotmail.com \n\nNAME: Natasha Hernandez,ADDRESS: 918 Arnold Inlet Apt. 988\nPort Amandashire, AL 01593,EMAIL: williecarney@ortega.net \n\nNAME: Lindsay Nelson,ADDRESS: 0468 Chavez Neck\nRayshire, OH 72818,EMAIL: kyleyoung@garrett.com \n\nNAME: Jim Walter,ADDRESS: 754 Branch Shoal Apt. 861\nSchultzmouth, OR 32546,EMAIL: ambergibbs@boyle-cox.com \n\nNAME: Dr. Justin Stevens,ADDRESS: 48493 Murphy Land\nPattersonburgh, UT 37563,EMAIL: jacob17@gmail.com \n\nNAME: Cole Leon,ADDRESS: 5858 Barnett Centers Apt. 238\nNorth Arthur, SD 75528,EMAIL: ehunt@ingram-blake.com \n\nNAME: Adam Graham,ADDRESS: PSC 9847, Box 0352\nAPO AE 17946,EMAIL: mark70@yahoo.com \n\nNAME: Carol Owens,ADDRESS: 5076 Isaiah Dam\nNicoleport, MN 61466,EMAIL: jerrybutler@bird.com \n\nNAME: Nicholas Green,ADDRESS: 9037 Megan Fields Suite 689\nEast Kelly, LA 11420,EMAIL: kathryn88@gmail.com \n\nNAME: Jamie Davis,ADDRESS: 908 Zachary Corners\nPerryview, MD 45451,EMAIL: john62@brooks.net \n\n"
    }
   ],
   "source": [
    "for i in customer_list:\n",
    "    print(i,'\\n')"
   ]
  },
  {
   "cell_type": "code",
   "execution_count": null,
   "metadata": {},
   "outputs": [],
   "source": []
  }
 ]
}