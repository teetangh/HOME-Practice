{
 "nbformat": 4,
 "nbformat_minor": 2,
 "metadata": {
  "language_info": {
   "name": "python",
   "codemirror_mode": {
    "name": "ipython",
    "version": 3
   },
   "version": "3.8.1-final"
  },
  "orig_nbformat": 2,
  "file_extension": ".py",
  "mimetype": "text/x-python",
  "name": "python",
  "npconvert_exporter": "python",
  "pygments_lexer": "ipython3",
  "version": 3,
  "kernelspec": {
   "name": "python38132bit51bf2d4383df4065b0c992fe407a3440",
   "display_name": "Python 3.8.1 32-bit"
  }
 },
 "cells": [
  {
   "cell_type": "code",
   "execution_count": 1,
   "metadata": {},
   "outputs": [],
   "source": [
    "# Python GENERATE FAKE DATA\n",
    "\n",
    "# from faker import Factory\n",
    "# fake_data = Faker()\n",
    "\n",
    "# OR"
   ]
  },
  {
   "cell_type": "code",
   "execution_count": 2,
   "metadata": {},
   "outputs": [],
   "source": [
    "from faker import Faker\n",
    "fake_data = Faker()"
   ]
  },
  {
   "cell_type": "code",
   "execution_count": 3,
   "metadata": {},
   "outputs": [
    {
     "output_type": "stream",
     "name": "stdout",
     "text": "Sarah Woods\n\n"
    }
   ],
   "source": [
    "# create fake name\n",
    "name = fake_data.name()\n",
    "print(name + '\\n')"
   ]
  },
  {
   "cell_type": "code",
   "execution_count": 4,
   "metadata": {},
   "outputs": [
    {
     "output_type": "stream",
     "name": "stdout",
     "text": "41337 Roy Lake\nNew Saraside, CT 72554\n\n"
    }
   ],
   "source": [
    "# create fake address\n",
    "address = fake_data.address()\n",
    "print(address + '\\n')"
   ]
  },
  {
   "cell_type": "code",
   "execution_count": 5,
   "metadata": {},
   "outputs": [
    {
     "output_type": "stream",
     "name": "stdout",
     "text": "ttaylor@gmail.com\n"
    }
   ],
   "source": [
    "# create fake email\n",
    "email = fake_data.email()\n",
    "print(email)"
   ]
  },
  {
   "cell_type": "code",
   "execution_count": 6,
   "metadata": {},
   "outputs": [
    {
     "output_type": "stream",
     "name": "stdout",
     "text": "username: erica89\nname: Thomas Sawyer\nsex: M\naddress: USNS Cross\nFPO AA 51347\nmail: morenochristopher@hotmail.com\nbirthdate: 1979-12-05\n\n"
    }
   ],
   "source": [
    "# create fake profile\n",
    "profile = fake_data.simple_profile()\n",
    "for k, v in profile.items():\n",
    "    print('{}: {}'.format(k, v))\n",
    "print()\n",
    ""
   ]
  },
  {
   "cell_type": "code",
   "execution_count": 7,
   "metadata": {},
   "outputs": [
    {
     "output_type": "stream",
     "name": "stdout",
     "text": "Name: Sarah Woods,Address: 41337 Roy Lake\nNew Saraside, CT 72554,Email: ttaylor@gmail.com\n\n"
    }
   ],
   "source": [
    "# display name,address,email\n",
    "print('Name: {},Address: {},Email: {}'.format(name, address, email))\n",
    "print()\n",
    ""
   ]
  },
  {
   "cell_type": "code",
   "execution_count": 8,
   "metadata": {},
   "outputs": [
    {
     "output_type": "stream",
     "name": "stdout",
     "text": "NAME= Nathan Johnson EMAIL= christopher86@hotmail.com ADDRESS= Unit 9604 Box 6697\nDPO AA 80601 \n \n NAME= Marc Valdez Jr. EMAIL= perry64@lowery-cross.net ADDRESS= 9836 Estrada Parkways\nNormanview, OR 29685 \n \n"
    }
   ],
   "source": [
    "# generate a large set of fake data\n",
    "for _ in range(0, 2):\n",
    "    print(' NAME= ' + fake_data.name() + ' EMAIL= ' +\n",
    "          fake_data.email() + ' ADDRESS= ' + fake_data.address()+' \\n ')"
   ]
  },
  {
   "cell_type": "code",
   "execution_count": 9,
   "metadata": {},
   "outputs": [],
   "source": [
    "\n",
    "# Function to fill a list with data\n",
    "# change .name() to another data type for other data options\n",
    "def create_names_list(how_many):\n",
    "    names = []\n",
    "    for _ in range(0, how_many):\n",
    "        names.append(fake_data.name())\n",
    "    return names"
   ]
  },
  {
   "cell_type": "code",
   "execution_count": 10,
   "metadata": {},
   "outputs": [
    {
     "output_type": "stream",
     "name": "stdout",
     "text": "['Christie Davis', 'Cristian Jones', 'Don Carter', 'Tracey Joyce', 'Michelle Pace', 'Jay Young', 'Patricia Ramos', 'Michael West', 'David Clark', 'Lauren Richardson', 'Keith Fisher', 'Sherry Gomez', 'Cynthia Patterson', 'Alexandra Campbell', 'Sarah Harvey', 'Kimberly Thomas', 'Samantha Garza', 'Donald Rogers', 'Alexis Sullivan', 'Caitlin Gonzalez']\n"
    }
   ],
   "source": [
    "print(create_names_list(20))"
   ]
  },
  {
   "cell_type": "code",
   "execution_count": 11,
   "metadata": {},
   "outputs": [
    {
     "output_type": "stream",
     "name": "stdout",
     "text": "NAME: Anthony Moyer,ADDRESS: 95401 John Mills\nNorth Thomas, NJ 58572,EMAIL: valeriestanley@hill.com\n"
    }
   ],
   "source": [
    "# create person objects with name,address,etc.\n",
    "class Customers:\n",
    "    def __init__(self,name,address,email):\n",
    "        self.name=name\n",
    "        self.address=address\n",
    "        self.email=email\n",
    "    # special method __repr() to display data associated with the object\n",
    "    def __repr__(self):\n",
    "        return 'NAME: {},ADDRESS: {},EMAIL: {}'.format(self.name,self.address,self.email)\n",
    "\n",
    "# Instance of customers class using fake data\n",
    "customer1 = Customers(fake_data.name(),fake_data.address(),fake_data.email())\n",
    "print(customer1)"
   ]
  }
 ]
}