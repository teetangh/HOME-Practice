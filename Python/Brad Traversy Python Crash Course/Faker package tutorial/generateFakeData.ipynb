{
 "nbformat": 4,
 "nbformat_minor": 2,
 "metadata": {
  "language_info": {
   "name": "python",
   "codemirror_mode": {
    "name": "ipython",
    "version": 3
   },
   "version": "3.8.1-final"
  },
  "orig_nbformat": 2,
  "file_extension": ".py",
  "mimetype": "text/x-python",
  "name": "python",
  "npconvert_exporter": "python",
  "pygments_lexer": "ipython3",
  "version": 3,
  "kernelspec": {
   "name": "python38132bit51bf2d4383df4065b0c992fe407a3440",
   "display_name": "Python 3.8.1 32-bit"
  }
 },
 "cells": [
  {
   "cell_type": "code",
   "execution_count": 1,
   "metadata": {},
   "outputs": [],
   "source": [
    "# Python GENERATE FAKE DATA\n",
    "\n",
    "# from faker import Factory\n",
    "# fake_data = Faker()\n",
    "\n",
    "# OR"
   ]
  },
  {
   "cell_type": "code",
   "execution_count": 2,
   "metadata": {},
   "outputs": [],
   "source": [
    "from faker import Faker\n",
    "fake_data = Faker()"
   ]
  },
  {
   "cell_type": "code",
   "execution_count": 3,
   "metadata": {},
   "outputs": [
    {
     "name": "stdout",
     "output_type": "stream",
     "text": "Brianna Smith\n\n"
    }
   ],
   "source": [
    "# create fake name\n",
    "name = fake_data.name()\n",
    "print(name + '\\n')"
   ]
  },
  {
   "cell_type": "code",
   "execution_count": 4,
   "metadata": {},
   "outputs": [
    {
     "name": "stdout",
     "output_type": "stream",
     "text": "431 Christopher Harbor Suite 994\nPort Aaron, WV 15019\n\n"
    }
   ],
   "source": [
    "# create fake address\n",
    "address = fake_data.address()\n",
    "print(address + '\\n')"
   ]
  },
  {
   "cell_type": "code",
   "execution_count": 5,
   "metadata": {},
   "outputs": [
    {
     "name": "stdout",
     "output_type": "stream",
     "text": "moralesashley@yahoo.com\n"
    }
   ],
   "source": [
    "# create fake email\n",
    "email = fake_data.email()\n",
    "print(email)"
   ]
  },
  {
   "cell_type": "code",
   "execution_count": 6,
   "metadata": {},
   "outputs": [
    {
     "name": "stdout",
     "output_type": "stream",
     "text": "username: lutzrobert\nname: Rodney Mason\nsex: M\naddress: 59003 Garcia Haven Apt. 670\nChristopherchester, RI 25807\nmail: brogers@gmail.com\nbirthdate: 1951-12-27\n\n"
    }
   ],
   "source": [
    "# create fake profile\n",
    "profile = fake_data.simple_profile()\n",
    "for k, v in profile.items():\n",
    "    print('{}: {}'.format(k, v))\n",
    "print()\n"
   ]
  },
  {
   "cell_type": "code",
   "execution_count": 7,
   "metadata": {},
   "outputs": [
    {
     "name": "stdout",
     "output_type": "stream",
     "text": "Name: Brianna Smith,Address: 431 Christopher Harbor Suite 994\nPort Aaron, WV 15019,Email: moralesashley@yahoo.com\n\n"
    }
   ],
   "source": [
    "# display name,address,email\n",
    "print('Name: {},Address: {},Email: {}'.format(name, address, email))\n",
    "print()\n"
   ]
  },
  {
   "cell_type": "code",
   "execution_count": 8,
   "metadata": {},
   "outputs": [
    {
     "name": "stdout",
     "output_type": "stream",
     "text": "NAME= Daniel Mcdaniel EMAIL= lauriereynolds@palmer-stephens.info ADDRESS= 38539 Mora Creek Apt. 369\nSanchezborough, NV 46161 \n \n NAME= Jessica Carr EMAIL= robertfox@rivera.com ADDRESS= 756 Gonzalez Manor\nLake Craig, NH 74965 \n \n"
    }
   ],
   "source": [
    "# generate a large set of fake data\n",
    "for _ in range(0, 2):\n",
    "    print(' NAME= ' + fake_data.name() + ' EMAIL= ' +\n",
    "          fake_data.email() + ' ADDRESS= ' + fake_data.address()+' \\n ')"
   ]
  },
  {
   "cell_type": "code",
   "execution_count": 9,
   "metadata": {},
   "outputs": [],
   "source": [
    "\n",
    "# Function to fill a list with data\n",
    "# change .name() to another data type for other data options\n",
    "def create_names_list(how_many):\n",
    "    names = []\n",
    "    for _ in range(0, how_many):\n",
    "        names.append(fake_data.name())\n",
    "    return names"
   ]
  },
  {
   "cell_type": "code",
   "execution_count": 12,
   "metadata": {},
   "outputs": [
    {
     "name": "stdout",
     "output_type": "stream",
     "text": "['Larry Baker', 'Jennifer Walker', 'Destiny Cox', 'Robert Roman', 'Joseph Blackwell', 'Mark Johnson', 'Kenneth Rodriguez', 'Jeff Erickson', 'Nicholas Calhoun', 'Patrick Bass', 'Jason Garcia', 'Shannon Walsh', 'Michael Scott', 'Melissa Baker', 'Daniel Petty', 'Henry Murray', 'Lisa Campbell', 'Christopher Sherman', 'Julie Brown', 'Emily Wood']\n"
    }
   ],
   "source": [
    "print(create_names_list(20))"
   ]
  },
  {
   "cell_type": "code",
   "execution_count": null,
   "metadata": {},
   "outputs": [],
   "source": []
  }
 ]
}