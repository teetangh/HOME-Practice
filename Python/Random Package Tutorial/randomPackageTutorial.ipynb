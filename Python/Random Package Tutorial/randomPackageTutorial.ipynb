{
 "nbformat": 4,
 "nbformat_minor": 2,
 "metadata": {
  "language_info": {
   "name": "python",
   "codemirror_mode": {
    "name": "ipython",
    "version": 3
   },
   "version": "3.8.1-final"
  },
  "orig_nbformat": 2,
  "file_extension": ".py",
  "mimetype": "text/x-python",
  "name": "python",
  "npconvert_exporter": "python",
  "pygments_lexer": "ipython3",
  "version": 3,
  "kernelspec": {
   "name": "python38132bit51bf2d4383df4065b0c992fe407a3440",
   "display_name": "Python 3.8.1 32-bit"
  }
 },
 "cells": [
  {
   "cell_type": "code",
   "execution_count": 1,
   "metadata": {},
   "outputs": [],
   "source": [
    "import random\n",
    "# import secrets"
   ]
  },
  {
   "cell_type": "code",
   "execution_count": 2,
   "metadata": {},
   "outputs": [
    {
     "name": "stdout",
     "output_type": "stream",
     "text": "0.0014432462749193187\n"
    }
   ],
   "source": [
    "value = random.random()\n",
    "print(value)"
   ]
  },
  {
   "cell_type": "code",
   "execution_count": 3,
   "metadata": {},
   "outputs": [
    {
     "name": "stdout",
     "output_type": "stream",
     "text": "5.223100519698751\n"
    }
   ],
   "source": [
    "value = random.uniform(3,7)\n",
    "print(value)"
   ]
  },
  {
   "cell_type": "code",
   "execution_count": 4,
   "metadata": {},
   "outputs": [
    {
     "name": "stdout",
     "output_type": "stream",
     "text": "3\n"
    }
   ],
   "source": [
    "value = random.randint(1,6)\n",
    "print(value)"
   ]
  },
  {
   "cell_type": "code",
   "execution_count": 5,
   "metadata": {},
   "outputs": [
    {
     "name": "stdout",
     "output_type": "stream",
     "text": "1\n"
    }
   ],
   "source": [
    "value = random.randint(0,1)\n",
    "print(value)"
   ]
  },
  {
   "cell_type": "code",
   "execution_count": 6,
   "metadata": {},
   "outputs": [
    {
     "name": "stdout",
     "output_type": "stream",
     "text": "Hello,Kaustav Ghosh !\n"
    }
   ],
   "source": [
    "greetings = ['Hello' , 'Hi','Howdy','Hola']\n",
    "value = random.choice(greetings)\n",
    "print(value + ',Kaustav Ghosh !')"
   ]
  },
  {
   "cell_type": "code",
   "execution_count": 7,
   "metadata": {},
   "outputs": [
    {
     "name": "stdout",
     "output_type": "stream",
     "text": "['Green', 'Green', 'Green', 'Red', 'Red', 'Black', 'Black', 'Green', 'Red', 'Green']\n"
    }
   ],
   "source": [
    "colors = ['Red','Black','Green']\n",
    "results = random.choices(colors,k=10)\n",
    "print(results)"
   ]
  },
  {
   "cell_type": "code",
   "execution_count": 8,
   "metadata": {},
   "outputs": [
    {
     "name": "stdout",
     "output_type": "stream",
     "text": "['Red', 'Black', 'Red', 'Black', 'Black', 'Red', 'Black', 'Black', 'Black', 'Black']\n"
    }
   ],
   "source": [
    "colors = ['Red','Black','Green']\n",
    "results = random.choices(colors,weights=[18,18,2],k=10)\n",
    "print(results)"
   ]
  },
  {
   "cell_type": "code",
   "execution_count": 9,
   "metadata": {},
   "outputs": [
    {
     "name": "stdout",
     "output_type": "stream",
     "text": "[1, 2, 3, 4, 5, 6, 7, 8, 9, 10, 11, 12, 13, 14, 15, 16, 17, 18, 19, 20, 21, 22, 23, 24, 25, 26, 27, 28, 29, 30, 31, 32, 33, 34, 35, 36, 37, 38, 39, 40, 41, 42, 43, 44, 45, 46, 47, 48, 49, 50, 51, 52]\n"
    }
   ],
   "source": [
    "deck = list(range(1,53))\n",
    "print(deck)"
   ]
  },
  {
   "cell_type": "code",
   "execution_count": 10,
   "metadata": {},
   "outputs": [
    {
     "name": "stdout",
     "output_type": "stream",
     "text": "[22, 19, 1, 46, 30, 34, 37, 17, 50, 6, 31, 8, 45, 27, 32, 25, 28, 3, 42, 10, 24, 18, 43, 44, 35, 48, 29, 41, 13, 5, 12, 11, 16, 20, 26, 2, 33, 36, 4, 51, 49, 15, 47, 38, 14, 21, 23, 7, 52, 9, 40, 39]\n"
    }
   ],
   "source": [
    "random.shuffle(deck)\n",
    "print(deck)"
   ]
  },
  {
   "cell_type": "code",
   "execution_count": 11,
   "metadata": {},
   "outputs": [
    {
     "name": "stdout",
     "output_type": "stream",
     "text": "[21, 28, 22, 26, 52]\n"
    }
   ],
   "source": [
    "#choice could select the same card again and again\n",
    "#Rather use sample method\n",
    "hand = random.sample(deck,k=5)\n",
    "print(hand)"
   ]
  },
  {
   "cell_type": "code",
   "execution_count": null,
   "metadata": {},
   "outputs": [],
   "source": []
  }
 ]
}