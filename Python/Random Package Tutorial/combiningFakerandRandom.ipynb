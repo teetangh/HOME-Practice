{
 "nbformat": 4,
 "nbformat_minor": 2,
 "metadata": {
  "language_info": {
   "name": "python",
   "codemirror_mode": {
    "name": "ipython",
    "version": 3
   },
   "version": "3.8.1-final"
  },
  "orig_nbformat": 2,
  "file_extension": ".py",
  "mimetype": "text/x-python",
  "name": "python",
  "npconvert_exporter": "python",
  "pygments_lexer": "ipython3",
  "version": 3,
  "kernelspec": {
   "name": "python38132bit51bf2d4383df4065b0c992fe407a3440",
   "display_name": "Python 3.8.1 32-bit"
  }
 },
 "cells": [
  {
   "cell_type": "code",
   "execution_count": 1,
   "metadata": {},
   "outputs": [],
   "source": [
    "import random\n",
    "from faker import Faker\n",
    "fake_data = Faker()"
   ]
  },
  {
   "cell_type": "code",
   "execution_count": 2,
   "metadata": {},
   "outputs": [],
   "source": [
    "first_names = []\n",
    "last_names = []\n",
    "street_names = []\n",
    "fake_cities = []\n",
    "states = []"
   ]
  },
  {
   "cell_type": "code",
   "execution_count": 3,
   "metadata": {},
   "outputs": [],
   "source": [
    "for _ in range (100):\n",
    "    first_names.append(fake_data.first_name())\n",
    "    last_names.append(fake_data.last_name())\n",
    "    street_names.append(fake_data.street_address())\n",
    "    fake_cities.append(fake_data.city())\n",
    "    states.append(fake_data.state())"
   ]
  },
  {
   "cell_type": "code",
   "execution_count": 4,
   "metadata": {},
   "outputs": [
    {
     "name": "stdout",
     "output_type": "stream",
     "text": "Joy   Beasley   700 Wood Street Apt. 484   Lopezland   New York \n \nKaren   Clements   067 Stone Point   East Jacobmouth   Mississippi \n \nJessica   Johnson   91262 Sydney Summit   Williamsborough   Texas \n \nTimothy   Fields   1920 Rojas Expressway   Hughesborough   Hawaii \n \nRobert   Williams   929 Kent Landing Apt. 977   Barronbury   Nebraska \n \nVictor   Garcia   776 Jeffrey Corners Apt. 118   Smithview   Wyoming \n \nSarah   Blair   54561 Rebecca Hollow Apt. 008   South Jasonfort   Pennsylvania \n \nTracy   Torres   6342 Michael Plaza   Port Davidview   South Carolina \n \nDawn   Watson   306 Karen Course Suite 079   East Aaron   Hawaii \n \nJesse   Kent   17007 Albert Creek Apt. 537   Edwinport   Louisiana \n \nErik   White   12994 Gray Meadow Suite 364   Kimberlytown   Rhode Island \n \nRobert   Jones   5442 Watson Orchard   South Nicolebury   South Dakota \n \nPatrick   Hodges   30905 Lindsay Station Apt. 596   Mitchellside   Idaho \n \nGary   Bass   3057 Amy Ford Suite 385   Williamsstad   Georgia \n \nCorey   Dickson   388 Patton Island   Moorefurt   New York \n \nCarol   Hall   20760 Johnson Heights   Barreraberg   Alaska \n \nMelissa   Silva   4469 Carter Garden Suite 829   Port Paul   New Hampshire \n \nEmily   Rice   5396 Ortega Ridges Apt. 158   North Tina   California \n \nRachel   Morgan   82856 Chapman Islands Suite 796   Thomastown   Delaware \n \nMichael   Melton   2562 Warren Cliffs Apt. 895   East Denisehaven   Ohio \n \nJeffrey   Simmons   578 Gallagher Harbor Suite 412   New Travis   West Virginia \n \nMichelle   Hughes   139 Reynolds Throughway   South Laurenview   Utah \n \nBrenda   Perez   425 Lisa Inlet   Port Tracyberg   Ohio \n \nCourtney   Brown   7476 Julie Club   Victoriaview   Arizona \n \nAnthony   Cook   44568 Lewis Inlet   Karenberg   Maryland \n \nMelinda   Shea   270 Anthony Cape Apt. 547   West Sara   Iowa \n \nBryan   Luna   6634 Daniel Keys   Figueroaport   Maine \n \nBobby   Russell   24297 Richardson Knoll   South Amanda   Oregon \n \nJamie   Newton   06748 Michael Valley Suite 845   North Sarah   Wyoming \n \nJonathan   Moss   9729 Chelsea Circle Apt. 018   Ortizfurt   Michigan \n \nShannon   Diaz   60421 Christopher Greens Suite 095   North Edwardton   Iowa \n \nIsaac   Valdez   373 Farley Hollow Apt. 348   Smithland   New Mexico \n \nMisty   Griffin   905 Thompson Rapid   Lake Latoyaport   Alabama \n \nNicholas   Lee   604 Nancy Station Suite 868   Obrienberg   Utah \n \nAlexis   Roy   1465 Timothy Villages   Port Janetchester   Missouri \n \nJacob   Aguilar   8278 Bauer Via   New Jasminechester   Mississippi \n \nJennifer   Horn   72139 Johnson Mountains   New Rileyfort   Florida \n \nTravis   Edwards   10448 Randall Mount Suite 593   Tinachester   Missouri \n \nRebecca   Ruiz   57700 Edwards Estate Apt. 999   Port Bradley   Rhode Island \n \nSydney   Walker   3281 Smith Ranch Apt. 367   Maryville   Hawaii \n \nDebra   Jones   59393 Christine Camp Apt. 393   Victoriamouth   Hawaii \n \nAndrea   Lee   99804 Alvarez Place   North Karlaberg   West Virginia \n \nTodd   Ortiz   4856 Ryan Ways   North Jessica   California \n \nBridget   Smith   8688 Desiree Key Suite 011   Parkermouth   Vermont \n \nPhillip   Davis   547 Sims Causeway   East Jacqueline   Rhode Island \n \nRenee   White   32551 Robert Islands Apt. 143   Dukeville   Illinois \n \nGina   Mcdonald   470 Morris Prairie   Lake Sarah   Georgia \n \nMicheal   Kelly   119 Zimmerman Crescent Apt. 064   Rachaelport   New York \n \nJenna   Wood   603 Rodriguez Rapids Suite 321   Zacharyshire   North Dakota \n \nMegan   Huffman   064 Erickson Ridges   Mariaview   New Mexico \n \nMark   Gonzalez   375 Taylor Inlet Suite 875   New Christian   Hawaii \n \nJanet   Mitchell   28365 Katherine Plaza   East Reginald   Wisconsin \n \nTimothy   Cooper   4562 Kristen Corners Suite 075   Smithborough   Alaska \n \nJennifer   Carey   179 Leslie Pines Suite 682   Melaniefurt   Florida \n \nAntonio   Wilson   94631 Jamie Cliffs Suite 494   Martinmouth   Utah \n \nWalter   Carter   4627 Lee Stream Apt. 289   New Matthewchester   Nevada \n \nChristopher   Rhodes   2353 Crosby Walks Apt. 175   Nancystad   Louisiana \n \nTracy   Wagner   259 Anne Ramp   Jameshaven   Missouri \n \nChristina   Curtis   3596 Barrett Underpass Suite 564   West Jennifer   Indiana \n \nChristopher   Black   96617 Tommy Rapid   Knoxville   Illinois \n \nAshley   Ingram   239 Woodward Drive Apt. 067   Lake Julia   Arkansas \n \nKatie   Bishop   72433 Mary Bypass Apt. 854   North Kevinville   Montana \n \nCatherine   Dixon   66387 Zimmerman Gateway   Nelsonbury   Oregon \n \nBrandon   Roy   8133 Hall Ranch Apt. 263   Port Jeanview   Delaware \n \nChristopher   Weaver   94118 Kenneth Crescent Apt. 719   Port Davidstad   Tennessee \n \nWilliam   Moore   27898 Mckenzie Grove Apt. 596   New Nathan   Tennessee \n \nMicheal   Hughes   595 Alexander Lake   Shanefurt   Alabama \n \nRichard   Burke   5207 Cynthia Walks   Fisherview   Oklahoma \n \nSean   Hammond   75548 Amber Tunnel   Russellborough   Hawaii \n \nStephen   Smith   5079 Peters Lakes Apt. 900   South Sylviaside   Texas \n \nKyle   Ryan   859 Catherine Mountain Apt. 316   Maxwellmouth   Maryland \n \nFrancis   Floyd   624 Carla Spurs Apt. 745   Lauratown   Minnesota \n \nJohn   Martin   00333 Nichols Estate   Tylerberg   Arizona \n \nEmma   Pham   0666 Robert Circle   Thomasburgh   Washington \n \nAnthony   Cruz   1392 Khan Fall   Bonnieside   Delaware \n \nLisa   Williams   18538 Pierce Locks Apt. 982   North Jennifer   Washington \n \nKaren   Bennett   8037 Stout Mount   Davidberg   North Dakota \n \nBrandon   Rivers   7550 Smith Station Apt. 860   Justinberg   Massachusetts \n \nDustin   Mills   730 Kennedy Burgs   South Danielle   Iowa \n \nTimothy   Williams   5801 Maxwell Hills   Martinezton   Rhode Island \n \nJill   Young   0563 Jason Landing   Barajasfort   Minnesota \n \nBrandon   Williamson   7342 Hunter Islands   Lowechester   Connecticut \n \nMelissa   Byrd   586 Daniel Rest   Lake Monica   Hawaii \n \nDonna   Price   656 Sara Terrace Suite 975   Michaelchester   Alabama \n \nAmanda   Logan   0501 Zachary Field   Elizabethport   North Carolina \n \nAshley   Mason   930 Ryan Junctions Suite 107   Mendozafurt   Colorado \n \nMatthew   Roberts   25738 Moses Glens   Adrianbury   Oregon \n \nGail   Atkinson   156 James Mews   Port Patrick   Texas \n \nRickey   Lawrence   78344 Espinoza Plaza   Port Christophershire   Indiana \n \nJulie   Trujillo   91745 Austin Skyway Suite 691   North Jeffery   Michigan \n \nJohn   Hess   9667 Davis Plaza   Port Andrewton   Ohio \n \nSandra   Tucker   1826 Ryan Roads   Elizabethberg   Wyoming \n \nJoseph   Hernandez   75513 Kevin Track Suite 466   New Ellenhaven   Oklahoma \n \nJeremy   Jones   8312 Cheryl Fork Suite 089   Lake Ryan   Georgia \n \nNicole   Shelton   8769 Bryan Greens Suite 095   North David   West Virginia \n \nJeffrey   Wright   51140 Nicole Expressway Apt. 901   Roachside   Wyoming \n \nMargaret   Cook   718 Stanley Locks Apt. 448   East Jennifer   Arizona \n \nJulie   Rodriguez   7248 Travis Courts   North Luisport   Wisconsin \n \nGrant   Bishop   841 Marissa Forest   Waltonborough   Maine \n \nTaylor   Hawkins   5286 Michael Parkway Suite 475   Sarahtown   West Virginia \n \n"
    }
   ],
   "source": [
    "for i in range (100):\n",
    "    print(first_names[i],\" \",last_names[i],\" \",street_names[i],\" \",fake_cities[i],\" \",states[i],\"\\n \")"
   ]
  },
  {
   "cell_type": "code",
   "execution_count": 5,
   "metadata": {},
   "outputs": [
    {
     "name": "stdout",
     "output_type": "stream",
     "text": "Timothy Mcdonald\n121-555-2129\n846 730 Kennedy Burgs St., Maryville Delaware 82115\ntimothymcdonald@bogusemail.com\n\nWalter Griffin\n811-555-8903\n867 730 Kennedy Burgs St., New Nathan Tennessee 34088\nwaltergriffin@bogusemail.com\n\nMichelle Williams\n855-555-6044\n795 28365 Katherine Plaza St., Elizabethberg Wisconsin 35104\nmichellewilliams@bogusemail.com\n\nKaren Bennett\n581-555-5097\n534 20760 Johnson Heights St., Lowechester Wyoming 92077\nkarenbennett@bogusemail.com\n\nRobert Garcia\n766-555-7770\n196 06748 Michael Valley Suite 845 St., South Sylviaside Maryland 20760\nrobertgarcia@bogusemail.com\n\nCorey Cooper\n335-555-6520\n480 82856 Chapman Islands Suite 796 St., Zacharyshire Pennsylvania 33074\ncoreycooper@bogusemail.com\n\nMark Wilson\n926-555-2828\n499 6634 Daniel Keys St., South Laurenview Oklahoma 56876\nmarkwilson@bogusemail.com\n\nPhillip Horn\n195-555-6436\n721 578 Gallagher Harbor Suite 412 St., Barronbury Hawaii 28766\nphilliphorn@bogusemail.com\n\nDebra Rice\n199-555-3169\n378 4856 Ryan Ways St., East Denisehaven Minnesota 40887\ndebrarice@bogusemail.com\n\nDebra Atkinson\n846-555-9647\n710 8769 Bryan Greens Suite 095 St., North Kevinville Illinois 48411\ndebraatkinson@bogusemail.com\n\nJoy Roy\n146-555-7280\n195 730 Kennedy Burgs St., Barronbury Iowa 72385\njoyroy@bogusemail.com\n\nTravis Moore\n116-555-7401\n621 547 Sims Causeway St., Tinachester Hawaii 68243\ntravismoore@bogusemail.com\n\nGrant Weaver\n542-555-7426\n197 388 Patton Island St., Port Bradley Oklahoma 21441\ngrantweaver@bogusemail.com\n\nAntonio Young\n979-555-9628\n123 6342 Michael Plaza St., Martinmouth California 19519\nantonioyoung@bogusemail.com\n\nAshley Ruiz\n647-555-8961\n452 179 Leslie Pines Suite 682 St., South Laurenview Hawaii 41089\nashleyruiz@bogusemail.com\n\nIsaac Trujillo\n531-555-6394\n182 4469 Carter Garden Suite 829 St., Justinberg West Virginia 66300\nisaactrujillo@bogusemail.com\n\nRichard Newton\n910-555-9373\n105 929 Kent Landing Apt. 977 St., Shanefurt Alabama 26654\nrichardnewton@bogusemail.com\n\nFrancis Mcdonald\n519-555-7385\n861 929 Kent Landing Apt. 977 St., Barreraberg Wisconsin 69068\nfrancismcdonald@bogusemail.com\n\nJoseph Williams\n204-555-5843\n291 700 Wood Street Apt. 484 St., Mariaview Delaware 83226\njosephwilliams@bogusemail.com\n\nTodd Bishop\n113-555-9620\n248 905 Thompson Rapid St., Lowechester New York 40778\ntoddbishop@bogusemail.com\n\nAlexis Williamson\n865-555-6430\n892 547 Sims Causeway St., Williamsstad Washington 92693\nalexiswilliamson@bogusemail.com\n\nPatrick Lee\n272-555-3171\n584 72433 Mary Bypass Apt. 854 St., North David Texas 36038\npatricklee@bogusemail.com\n\nErik Roberts\n644-555-1139\n390 00333 Nichols Estate St., Lake Ryan South Carolina 25263\nerikroberts@bogusemail.com\n\nJeffrey Ingram\n730-555-6440\n411 4856 Ryan Ways St., Tylerberg West Virginia 86176\njeffreyingram@bogusemail.com\n\nAnthony Carter\n582-555-2150\n105 60421 Christopher Greens Suite 095 St., Mendozafurt Oregon 57261\nanthonycarter@bogusemail.com\n\nGrant Ryan\n969-555-3429\n367 6342 Michael Plaza St., Smithborough Arizona 66645\ngrantryan@bogusemail.com\n\nTaylor Jones\n105-555-8714\n985 375 Taylor Inlet Suite 875 St., Mendozafurt Wisconsin 84738\ntaylorjones@bogusemail.com\n\nKyle Garcia\n490-555-5937\n987 8133 Hall Ranch Apt. 263 St., Knoxville New Mexico 99050\nkylegarcia@bogusemail.com\n\nAnthony Watson\n423-555-1742\n765 929 Kent Landing Apt. 977 St., Port Patrick Hawaii 17999\nanthonywatson@bogusemail.com\n\nCourtney Martin\n661-555-8821\n202 06748 Michael Valley Suite 845 St., Lopezland Pennsylvania 60990\ncourtneymartin@bogusemail.com\n\nGina Kelly\n515-555-1767\n662 425 Lisa Inlet St., New Nathan Hawaii 61310\nginakelly@bogusemail.com\n\nMicheal Mcdonald\n978-555-2664\n419 306 Karen Course Suite 079 St., Port Jeanview Oklahoma 58459\nmichealmcdonald@bogusemail.com\n\nLisa Luna\n508-555-1323\n850 656 Sara Terrace Suite 975 St., West Sara Hawaii 69901\nlisaluna@bogusemail.com\n\nDonna Jones\n256-555-8891\n546 72139 Johnson Mountains St., Tylerberg Mississippi 15898\ndonnajones@bogusemail.com\n\nJessica Cook\n178-555-3714\n906 0563 Jason Landing St., Victoriamouth Michigan 34633\njessicacook@bogusemail.com\n\nSandra Ingram\n852-555-2108\n336 064 Erickson Ridges St., Lake Latoyaport Wyoming 99344\nsandraingram@bogusemail.com\n\nCarol Roy\n762-555-7790\n304 656 Sara Terrace Suite 975 St., Elizabethberg Wyoming 21289\ncarolroy@bogusemail.com\n\nPhillip Horn\n239-555-5304\n691 373 Farley Hollow Apt. 348 St., South Nicolebury Alabama 24865\nphilliphorn@bogusemail.com\n\nBobby Newton\n324-555-2272\n852 54561 Rebecca Hollow Apt. 008 St., Roachside Texas 94160\nbobbynewton@bogusemail.com\n\nRobert Ingram\n113-555-8576\n979 119 Zimmerman Crescent Apt. 064 St., Lake Latoyaport Missouri 68988\nrobertingram@bogusemail.com\n\nJoseph Smith\n645-555-3305\n107 7248 Travis Courts St., Port Davidstad Rhode Island 88118\njosephsmith@bogusemail.com\n\nJennifer Beasley\n614-555-9670\n894 929 Kent Landing Apt. 977 St., Edwinport Wisconsin 90451\njenniferbeasley@bogusemail.com\n\nRobert Logan\n467-555-9371\n614 700 Wood Street Apt. 484 St., Port Tracyberg Wyoming 98429\nrobertlogan@bogusemail.com\n\nAnthony Huffman\n720-555-3173\n156 57700 Edwards Estate Apt. 999 St., New Nathan Hawaii 10886\nanthonyhuffman@bogusemail.com\n\nTimothy Ortiz\n646-555-8409\n505 8312 Cheryl Fork Suite 089 St., Port Davidview Nevada 31269\ntimothyortiz@bogusemail.com\n\nKatie Melton\n724-555-5207\n326 905 Thompson Rapid St., North Karlaberg Wisconsin 21567\nkatiemelton@bogusemail.com\n\nJoseph Jones\n142-555-5248\n581 4627 Lee Stream Apt. 289 St., New Nathan South Carolina 29021\njosephjones@bogusemail.com\n\nMargaret Melton\n642-555-3023\n191 57700 Edwards Estate Apt. 999 St., North Edwardton Indiana 21121\nmargaretmelton@bogusemail.com\n\nAnthony Carter\n951-555-8029\n675 24297 Richardson Knoll St., North David Wisconsin 60068\nanthonycarter@bogusemail.com\n\nMelissa Jones\n417-555-8043\n893 60421 Christopher Greens Suite 095 St., Russellborough North Dakota 80849\nmelissajones@bogusemail.com\n\nDebra Shelton\n288-555-8974\n281 7550 Smith Station Apt. 860 St., Maxwellmouth New Hampshire 60218\ndebrashelton@bogusemail.com\n\nJohn Trujillo\n680-555-1744\n391 5396 Ortega Ridges Apt. 158 St., South Jasonfort Georgia 24864\njohntrujillo@bogusemail.com\n\nNicholas Tucker\n546-555-1945\n309 91745 Austin Skyway Suite 691 St., Port Davidstad Ohio 14935\nnicholastucker@bogusemail.com\n\nBrandon Williams\n108-555-7158\n250 78344 Espinoza Plaza St., Port Paul Missouri 55396\nbrandonwilliams@bogusemail.com\n\nChristopher Gonzalez\n462-555-1386\n625 5079 Peters Lakes Apt. 900 St., Lauratown Hawaii 27651\nchristophergonzalez@bogusemail.com\n\nMargaret Gonzalez\n187-555-1875\n607 9667 Davis Plaza St., North Tina Michigan 70967\nmargaretgonzalez@bogusemail.com\n\nRenee Atkinson\n541-555-9272\n439 8769 Bryan Greens Suite 095 St., Martinmouth Wyoming 32573\nreneeatkinson@bogusemail.com\n\nJulie Garcia\n311-555-5422\n782 929 Kent Landing Apt. 977 St., Nelsonbury North Dakota 42016\njuliegarcia@bogusemail.com\n\nBrenda Ortiz\n349-555-2493\n593 99804 Alvarez Place St., Tylerberg Ohio 49744\nbrendaortiz@bogusemail.com\n\nMatthew Price\n392-555-1723\n319 59393 Christine Camp Apt. 393 St., Martinezton Hawaii 94903\nmatthewprice@bogusemail.com\n\nJulie Wilson\n721-555-5779\n533 54561 Rebecca Hollow Apt. 008 St., Bonnieside Montana 10066\njuliewilson@bogusemail.com\n\nMark Horn\n761-555-2411\n235 259 Anne Ramp St., South Laurenview New Mexico 71182\nmarkhorn@bogusemail.com\n\nCatherine Shelton\n595-555-8763\n151 1920 Rojas Expressway St., Port Andrewton Missouri 57393\ncatherineshelton@bogusemail.com\n\nAshley Burke\n927-555-7734\n152 5286 Michael Parkway Suite 475 St., Karenberg Hawaii 17150\nashleyburke@bogusemail.com\n\nMicheal Hernandez\n482-555-1313\n915 28365 Katherine Plaza St., Fisherview North Carolina 61275\nmichealhernandez@bogusemail.com\n\nTimothy Fields\n519-555-2950\n303 603 Rodriguez Rapids Suite 321 St., Elizabethport Michigan 54337\ntimothyfields@bogusemail.com\n\nJonathan Aguilar\n702-555-9571\n618 5396 Ortega Ridges Apt. 158 St., New Travis Mississippi 12011\njonathanaguilar@bogusemail.com\n\nRichard Morgan\n367-555-5848\n279 388 Patton Island St., Russellborough Washington 12325\nrichardmorgan@bogusemail.com\n\nCarol Mitchell\n102-555-9739\n213 8688 Desiree Key Suite 011 St., East Jacobmouth Maine 55685\ncarolmitchell@bogusemail.com\n\nAmanda Lawrence\n274-555-2706\n920 656 Sara Terrace Suite 975 St., Lake Sarah Hawaii 79023\namandalawrence@bogusemail.com\n\nWilliam Mills\n163-555-2767\n647 859 Catherine Mountain Apt. 316 St., Smithborough Oregon 33576\nwilliammills@bogusemail.com\n\nSandra Shelton\n418-555-3736\n362 841 Marissa Forest St., South Nicolebury Louisiana 61443\nsandrashelton@bogusemail.com\n\nGail Williamson\n238-555-2010\n573 700 Wood Street Apt. 484 St., New Matthewchester Oregon 54285\ngailwilliamson@bogusemail.com\n\nGina Blair\n758-555-8037\n764 7342 Hunter Islands St., West Sara Georgia 24518\nginablair@bogusemail.com\n\nJeremy Davis\n639-555-2599\n521 30905 Lindsay Station Apt. 596 St., Jameshaven Louisiana 47358\njeremydavis@bogusemail.com\n\nJohn Perez\n722-555-3763\n954 578 Gallagher Harbor Suite 412 St., Nancystad New York 68243\njohnperez@bogusemail.com\n\nChristopher Hawkins\n517-555-9054\n997 119 Zimmerman Crescent Apt. 064 St., Thomasburgh Ohio 80928\nchristopherhawkins@bogusemail.com\n\nMisty Hodges\n660-555-1431\n231 5079 Peters Lakes Apt. 900 St., East Aaron Texas 75177\nmistyhodges@bogusemail.com\n\nWilliam Perez\n412-555-5857\n769 388 Patton Island St., Edwinport Alabama 14889\nwilliamperez@bogusemail.com\n\nAnthony Pham\n909-555-5084\n670 9667 Davis Plaza St., New Jasminechester South Dakota 33445\nanthonypham@bogusemail.com\n\nSydney Watson\n272-555-7812\n366 27898 Mckenzie Grove Apt. 596 St., Port Jeanview Maryland 61200\nsydneywatson@bogusemail.com\n\nMicheal Mason\n339-555-5802\n263 930 Ryan Junctions Suite 107 St., East Jacobmouth Alabama 99474\nmichealmason@bogusemail.com\n\nDustin Jones\n135-555-1002\n803 239 Woodward Drive Apt. 067 St., Port Janetchester Hawaii 47443\ndustinjones@bogusemail.com\n\nKaren Russell\n827-555-3053\n293 4627 Lee Stream Apt. 289 St., Barajasfort Michigan 68748\nkarenrussell@bogusemail.com\n\nKyle Watson\n118-555-8410\n417 624 Carla Spurs Apt. 745 St., Port Jeanview Hawaii 44520\nkylewatson@bogusemail.com\n\nRobert Smith\n335-555-8965\n471 7342 Hunter Islands St., Davidberg Nebraska 66920\nrobertsmith@bogusemail.com\n\nFrancis Diaz\n269-555-6477\n369 4562 Kristen Corners Suite 075 St., Williamsborough Connecticut 67110\nfrancisdiaz@bogusemail.com\n\nGina Beasley\n950-555-9777\n733 78344 Espinoza Plaza St., Victoriamouth Iowa 58416\nginabeasley@bogusemail.com\n\nBrandon Wilson\n236-555-3708\n320 306 Karen Course Suite 079 St., Justinberg Hawaii 39064\nbrandonwilson@bogusemail.com\n\nJonathan Young\n441-555-4960\n309 5396 Ortega Ridges Apt. 158 St., Port Bradley New York 59320\njonathanyoung@bogusemail.com\n\nPatrick Cook\n129-555-7071\n858 75513 Kevin Track Suite 466 St., Karenberg Hawaii 62729\npatrickcook@bogusemail.com\n\nChristopher Bishop\n385-555-1348\n344 373 Farley Hollow Apt. 348 St., Figueroaport Alabama 38962\nchristopherbishop@bogusemail.com\n\nJennifer Jones\n259-555-6252\n513 25738 Moses Glens St., Port Janetchester Idaho 99380\njenniferjones@bogusemail.com\n\nMatthew Torres\n458-555-7322\n170 859 Catherine Mountain Apt. 316 St., Nancystad Missouri 80709\nmatthewtorres@bogusemail.com\n\nErik Kent\n841-555-8950\n280 51140 Nicole Expressway Apt. 901 St., Barajasfort Minnesota 79067\nerikkent@bogusemail.com\n\nRobert Black\n417-555-5331\n854 91745 Austin Skyway Suite 691 St., Victoriaview Georgia 84464\nrobertblack@bogusemail.com\n\nTodd Hammond\n465-555-1647\n890 905 Thompson Rapid St., Elizabethport Texas 70854\ntoddhammond@bogusemail.com\n\nFrancis Black\n834-555-5338\n115 624 Carla Spurs Apt. 745 St., Lowechester Alabama 25111\nfrancisblack@bogusemail.com\n\nJacob Kelly\n211-555-2220\n276 5396 Ortega Ridges Apt. 158 St., New Christian Wisconsin 64263\njacobkelly@bogusemail.com\n\nRachel Bishop\n634-555-9173\n631 306 Karen Course Suite 079 St., Lake Ryan Nevada 36095\nrachelbishop@bogusemail.com\n\n"
    }
   ],
   "source": [
    "for num in range(100):\n",
    "    first = random.choice(first_names)\n",
    "    last = random.choice(last_names)\n",
    "\n",
    "    phone = f'{random.randint(100,999)}-555-{random.randint(1000,9999)}'\n",
    "\n",
    "    street_num = random.randint(100,999)\n",
    "    street = random.choice(street_names) \n",
    "    city = random.choice(fake_cities)\n",
    "    state = random.choice(states)\n",
    "    zip_code = random.randint(10000,99999)\n",
    "    address=f'{street_num} {street} St., {city} {state} {zip_code}'\n",
    "\n",
    "    email = first.lower() + last.lower() + '@bogusemail.com'\n",
    "\n",
    "    print(f'{first} {last}\\n{phone}\\n{address}\\n{email}\\n') \n",
    "    "
   ]
  },
  {
   "cell_type": "code",
   "execution_count": null,
   "metadata": {},
   "outputs": [],
   "source": []
  }
 ]
}