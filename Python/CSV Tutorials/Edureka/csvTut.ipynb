{
 "nbformat": 4,
 "nbformat_minor": 2,
 "metadata": {
  "language_info": {
   "name": "python",
   "codemirror_mode": {
    "name": "ipython",
    "version": 3
   },
   "version": "3.8.1-final"
  },
  "orig_nbformat": 2,
  "file_extension": ".py",
  "mimetype": "text/x-python",
  "name": "python",
  "npconvert_exporter": "python",
  "pygments_lexer": "ipython3",
  "version": 3,
  "kernelspec": {
   "name": "python38132bit51bf2d4383df4065b0c992fe407a3440",
   "display_name": "Python 3.8.1 32-bit"
  }
 },
 "cells": [
  {
   "cell_type": "code",
   "execution_count": null,
   "metadata": {},
   "outputs": [],
   "source": [
    "import csv"
   ]
  },
  {
   "cell_type": "code",
   "execution_count": null,
   "metadata": {},
   "outputs": [],
   "source": [
    "with open('trainTitanicKaggle.csv','r') as csv_file:\n",
    "    csv_reader = csv.reader(csv_file)\n",
    "    with open('new_Titanic.csv','w') as new_csv_file:\n",
    "        csv_writer = csv.writer(new_csv_file,delimiter = \",\")\n",
    "        # delimiter = \";\" has issues with vs code extension\n",
    "        for line in csv_reader:\n",
    "            csv_writer.writerow(line)"
   ]
  },
  {
   "cell_type": "code",
   "execution_count": null,
   "metadata": {},
   "outputs": [],
   "source": [
    "with open('trainTitanicKaggle.csv','r') as csv_file:\n",
    "    csv_reader = csv.DictReader(csv_file)\n",
    "\n",
    "    # Small mistake here.Rectified in the next Cell(or next for loop)\n",
    "    for line in csv_file:\n",
    "        print(line,'\\n')\n"
   ]
  },
  {
   "cell_type": "code",
   "execution_count": null,
   "metadata": {},
   "outputs": [],
   "source": [
    "with open('trainTitanicKaggle.csv','r') as csv_file:\n",
    "    csv_reader = csv.DictReader(csv_file)\n",
    "\n",
    "    for line in csv_reader:\n",
    "        print(line,'\\n')"
   ]
  },
  {
   "cell_type": "code",
   "execution_count": 11,
   "metadata": {},
   "outputs": [],
   "source": [
    "mydict = [{'Passenger':'1','Id':'0','Survived':'1'},{'Passenger':'2','Id':'2','Survived':'1'},{'Passenger':'3','Id':'1','Survived':'0'}]\n",
    "\n",
    "fields = ['Passenger','Id','Survived']\n",
    "filename = 'myTitanicNew.csv'\n",
    "\n",
    "with open('myTitanicNew.csv','w') as new_csv_file:\n",
    "    writer = csv.DictWriter(new_csv_file,fieldnames=fields,delimiter=',')\n",
    "    # writer = csv.DictWriter(new_csv_file,fieldnames=fields,delimiter='\\t')\n",
    "\n",
    "    writer.writeheader()\n",
    "    writer.writerows(mydict)\n"
   ]
  },
  {
   "cell_type": "code",
   "execution_count": null,
   "metadata": {},
   "outputs": [],
   "source": [
    "import pandas as pd"
   ]
  }
 ]
}