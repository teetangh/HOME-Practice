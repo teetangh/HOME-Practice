{
 "nbformat": 4,
 "nbformat_minor": 2,
 "metadata": {
  "language_info": {
   "name": "python",
   "codemirror_mode": {
    "name": "ipython",
    "version": 3
   },
   "version": "3.8.1-final"
  },
  "orig_nbformat": 2,
  "file_extension": ".py",
  "mimetype": "text/x-python",
  "name": "python",
  "npconvert_exporter": "python",
  "pygments_lexer": "ipython3",
  "version": 3,
  "kernelspec": {
   "name": "python38132bit51bf2d4383df4065b0c992fe407a3440",
   "display_name": "Python 3.8.1 32-bit"
  }
 },
 "cells": [
  {
   "cell_type": "code",
   "execution_count": null,
   "metadata": {},
   "outputs": [],
   "source": [
    "import csv\n",
    "from time import time\n",
    "import random\n",
    "from faker import Faker"
   ]
  },
  {
   "cell_type": "code",
   "execution_count": null,
   "metadata": {},
   "outputs": [],
   "source": [
    "RECORD_COUNT = 10000\n",
    "fake = Faker()"
   ]
  },
  {
   "cell_type": "code",
   "execution_count": null,
   "metadata": {},
   "outputs": [],
   "source": [
    "def create_csv_file():\n",
    "    with open('./files/invoices.csv', 'w', newline='') as csvfile:\n",
    "        fieldnames = ['first_name', 'last_name', 'email', 'product_id', 'qty',\n",
    "                      'amount', 'description', 'address', 'city', 'state', 'country']\n",
    "\n",
    "        writer = csv.DictWriter(csvfile, fieldnames=fieldnames)\n",
    "        writer.writeheader()\n",
    "\n",
    "        for i in range(RECORD_COUNT):\n",
    "            writer.writerow(\n",
    "                {\n",
    "                    'first_name':  \"'\" + fake.name() + \"'\" ,\n",
    "                    'last_name': \"'\" + fake.name()+ \"'\",\n",
    "                    'email': \"'\" + fake.email()+ \"'\",\n",
    "                    'product_id': fake.random_int(min=100, max=1999),\n",
    "                    'amount': fake.random_int(500, 10000)/100,\n",
    "                    'description': \"'\" + fake.sentence()+ \"'\",\n",
    "                    'address': \"'\" + fake.street_address()+ \"'\",\n",
    "                    'city': \"'\" + fake.city()+ \"'\",\n",
    "                    'state': \"'\" + fake.state()+ \"'\",\n",
    "                    'country': \"'\" + fake.country()+ \"'\"\n",
    "                }\n",
    "            )\n"
   ]
  },
  {
   "cell_type": "code",
   "execution_count": null,
   "metadata": {},
   "outputs": [],
   "source": [
    "def get_totals():\n",
    "    qty_total = 0\n",
    "    amount_total = 0\n",
    "    with open('./files/invoices.csv', 'r', newline='') as csvfile:\n",
    "        reader = csv.reader(csvfile, delimiter=',')\n",
    "        for row in reader:\n",
    "            if row[4] != 'qty':\n",
    "                qty = row[4]\n",
    "                qty_total += qty\n",
    "\n",
    "                amount = row[5]\n",
    "                amount_total += amount\n",
    "    return qty_total, amount_total"
   ]
  },
  {
   "cell_type": "code",
   "execution_count": null,
   "metadata": {},
   "outputs": [],
   "source": [
    "if __name__ == '__main__':\n",
    "    start = time()\n",
    "    create_csv_file()\n",
    "    elapsed = time() - start\n",
    "    print('created csv file time: {}'.format(elapsed))\n",
    "\n",
    "    start = time()\n",
    "    qty_total, amount_total = get_totals()\n",
    "    elapsed = time() - start\n",
    "    print('got totals time: {}'.format(elapsed))\n",
    "\n",
    "    print('qty: {}'.format(qty_total))\n",
    "    print('amount: {}'.format(amount_total))\n"
   ]
  },
  {
   "cell_type": "code",
   "execution_count": null,
   "metadata": {},
   "outputs": [],
   "source": []
  }
 ]
}