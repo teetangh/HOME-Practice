{
 "nbformat": 4,
 "nbformat_minor": 2,
 "metadata": {
  "language_info": {
   "name": "python",
   "codemirror_mode": {
    "name": "ipython",
    "version": 3
   },
   "version": "3.8.1-final"
  },
  "orig_nbformat": 2,
  "file_extension": ".py",
  "mimetype": "text/x-python",
  "name": "python",
  "npconvert_exporter": "python",
  "pygments_lexer": "ipython3",
  "version": 3,
  "kernelspec": {
   "name": "python38132bit51bf2d4383df4065b0c992fe407a3440",
   "display_name": "Python 3.8.1 32-bit"
  }
 },
 "cells": [
  {
   "cell_type": "code",
   "execution_count": 1,
   "metadata": {},
   "outputs": [],
   "source": [
    "# Python GENERATE FAKE DATA\n",
    "\n",
    "# from faker import Factory\n",
    "# fake_data = Faker()\n",
    "\n",
    "# OR"
   ]
  },
  {
   "cell_type": "code",
   "execution_count": 2,
   "metadata": {},
   "outputs": [],
   "source": [
    "from faker import Faker\n",
    "fake_data = Faker()"
   ]
  },
  {
   "cell_type": "code",
   "execution_count": 3,
   "metadata": {},
   "outputs": [
    {
     "name": "stdout",
     "output_type": "stream",
     "text": "Anthony Hicks\n\n"
    }
   ],
   "source": [
    "# create fake name\n",
    "name = fake_data.name()\n",
    "print(name + '\\n')"
   ]
  },
  {
   "cell_type": "code",
   "execution_count": 5,
   "metadata": {},
   "outputs": [
    {
     "name": "stdout",
     "output_type": "stream",
     "text": "43460 Branch Grove\nNorth Eric, ND 29877\n\n"
    }
   ],
   "source": [
    "# create fake address\n",
    "address = fake_data.address()\n",
    "print(address + '\\n')"
   ]
  },
  {
   "cell_type": "code",
   "execution_count": 4,
   "metadata": {},
   "outputs": [
    {
     "name": "stdout",
     "output_type": "stream",
     "text": "hollowayangela@fisher-davis.org\n"
    }
   ],
   "source": [
    "# create fake email\n",
    "email = fake_data.email()\n",
    "print(email)"
   ]
  },
  {
   "cell_type": "code",
   "execution_count": 6,
   "metadata": {},
   "outputs": [
    {
     "name": "stdout",
     "output_type": "stream",
     "text": "username: ashleybaker\nname: Megan Powell\nsex: F\naddress: USCGC Williams\nFPO AA 95448\nmail: olsonmichelle@yahoo.com\nbirthdate: 1936-07-22\n\n"
    }
   ],
   "source": [
    "# create fake profile\n",
    "profile = fake_data.simple_profile()\n",
    "for k, v in profile.items():\n",
    "    print('{}: {}'.format(k, v))\n",
    "print()\n"
   ]
  },
  {
   "cell_type": "code",
   "execution_count": 7,
   "metadata": {},
   "outputs": [
    {
     "name": "stdout",
     "output_type": "stream",
     "text": "Name: Anthony Hicks,Address: 43460 Branch Grove\nNorth Eric, ND 29877,Email: hollowayangela@fisher-davis.org\n\n"
    }
   ],
   "source": [
    "# display name,address,email\n",
    "print('Name: {},Address: {},Email: {}'.format(name, address, email))\n",
    "print()\n"
   ]
  },
  {
   "cell_type": "code",
   "execution_count": 8,
   "metadata": {},
   "outputs": [
    {
     "name": "stdout",
     "output_type": "stream",
     "text": "NAME= Jesse Moore EMAIL= eric91@fowler.com ADDRESS= 0155 Hall Burg Apt. 126\nDanielside, AK 75119 \n \n NAME= Steven Sexton EMAIL= thompsonsusan@yahoo.com ADDRESS= 2959 Christine Mission Apt. 978\nEast Benjamin, AK 30032 \n \n"
    }
   ],
   "source": [
    "# generate a large set of fake data\n",
    "for _ in range(0, 2):\n",
    "    print(' NAME= ' + fake_data.name() + ' EMAIL= ' +\n",
    "          fake_data.email() + ' ADDRESS= ' + fake_data.address()+' \\n ')"
   ]
  },
  {
   "cell_type": "code",
   "execution_count": 9,
   "metadata": {},
   "outputs": [],
   "source": [
    "\n",
    "# Function to fill a list with data\n",
    "# change .name() to another data type for other data options\n",
    "def create_names_list(how_many):\n",
    "    names = []\n",
    "    for _ in range(0, how_many):\n",
    "        names.append(fake_data.name())\n",
    "    return names"
   ]
  },
  {
   "cell_type": "code",
   "execution_count": 10,
   "metadata": {},
   "outputs": [
    {
     "name": "stdout",
     "output_type": "stream",
     "text": "['Michelle Walton', 'Kara Mitchell', 'Louis Reyes', 'Wendy Lawson', 'Cameron Hanson', 'Shannon Hamilton', 'Anthony Knapp', 'Dana Johnson', 'Cody Conway', 'Hannah Salas', 'Barbara Gould', 'Danielle Doyle', 'Gary Estrada', 'Joy Cox', 'Mr. Adam Parker DVM', 'Hannah Gardner', 'Kendra Cook', 'Cory Powell', 'William Oneal', 'Linda Smith']\n"
    }
   ],
   "source": [
    "print(create_names_list(20))"
   ]
  },
  {
   "cell_type": "code",
   "execution_count": 11,
   "metadata": {},
   "outputs": [
    {
     "name": "stdout",
     "output_type": "stream",
     "text": "NAME: Ronald Bowen,ADDRESS: 856 Chad Mall\nScottfurt, VT 59084,EMAIL: alexander11@patel.biz\n"
    }
   ],
   "source": [
    "# create person objects with name,address,etc.\n",
    "class Customers:\n",
    "    def __init__(self,name,address,email):\n",
    "        self.name=name\n",
    "        self.address=address\n",
    "        self.email=email\n",
    "    # special method __repr() to display data associated with the object\n",
    "    def __str__(self):\n",
    "    # def __repr__(self):\n",
    "        return 'NAME: {},ADDRESS: {},EMAIL: {}'.format(self.name,self.address,self.email)\n",
    "\n",
    "# Instance of customers class using fake data\n",
    "customer1 = Customers(fake_data.name(),fake_data.address(),fake_data.email())\n",
    "print(customer1)"
   ]
  },
  {
   "cell_type": "code",
   "execution_count": 12,
   "metadata": {},
   "outputs": [],
   "source": [
    "#generate list of customers class objects with fake data\n",
    "customer_list = []\n",
    "for i in range (20):\n",
    "    customer_list.append(Customers(fake_data.name(),fake_data.address(),fake_data.email()))"
   ]
  },
  {
   "cell_type": "code",
   "execution_count": 13,
   "metadata": {},
   "outputs": [
    {
     "name": "stdout",
     "output_type": "stream",
     "text": "NAME: Cory Turner,ADDRESS: 45582 Johnson Port Suite 429\nNorth Walterhaven, MN 20266,EMAIL: tristan51@hotmail.com \n\nNAME: Lauren Cruz,ADDRESS: 4135 Stephen Square Apt. 617\nBennettmouth, NC 78733,EMAIL: banksjessica@gmail.com \n\nNAME: Amanda King,ADDRESS: 11998 Martin Trace\nDianemouth, AL 48445,EMAIL: kathysantos@gmail.com \n\nNAME: Jacqueline Moore,ADDRESS: USNS Lindsey\nFPO AP 41864,EMAIL: kennethhawkins@mcdonald-barnes.com \n\nNAME: Christopher Vazquez,ADDRESS: 4758 Jackson Junctions\nEast Brian, CA 73540,EMAIL: pittmanjeffery@hotmail.com \n\nNAME: Zachary Kennedy,ADDRESS: 79330 Wood Viaduct Suite 625\nEast Aprilshire, WA 87810,EMAIL: phillipharris@hotmail.com \n\nNAME: Richard Leon,ADDRESS: 97712 Cox Inlet Apt. 141\nDestinyville, WV 81862,EMAIL: youngwilliam@yahoo.com \n\nNAME: Jennifer Ortiz,ADDRESS: 345 Sara Shoals Apt. 398\nSouth Mary, CA 96938,EMAIL: montesmolly@guzman-alexander.com \n\nNAME: Michelle Coleman,ADDRESS: 78645 Phillip Harbors\nNew Christinachester, ND 89209,EMAIL: randallreed@gmail.com \n\nNAME: Julie Sharp,ADDRESS: 7124 Matthew Corner Apt. 585\nLewisland, ND 75304,EMAIL: tashley@hotmail.com \n\nNAME: Jodi Castro,ADDRESS: 6482 Debbie Springs Suite 514\nJennifermouth, TN 25635,EMAIL: onealbreanna@yahoo.com \n\nNAME: Mason Garcia,ADDRESS: 7778 Johnson Corner\nTimothytown, NH 40664,EMAIL: kennethhill@cameron.com \n\nNAME: Kristen Mendoza,ADDRESS: 5803 Sexton Freeway\nPort Debra, IN 15988,EMAIL: lisa43@gmail.com \n\nNAME: Gary Hanna,ADDRESS: Unit 4729 Box 5832\nDPO AE 28796,EMAIL: dthomas@hotmail.com \n\nNAME: Mark Salazar,ADDRESS: 7764 Flores Green Suite 983\nPort Jessica, NC 54925,EMAIL: lopezdavid@garrett.com \n\nNAME: Kyle Bennett,ADDRESS: PSC 4726, Box 3185\nAPO AE 07819,EMAIL: roweedwin@yahoo.com \n\nNAME: Connie Tyler,ADDRESS: 9116 Michael Bridge Apt. 955\nAdamsport, NY 44577,EMAIL: aaronschaefer@hotmail.com \n\nNAME: Karen Clarke,ADDRESS: 836 Lisa Parkway\nSouth Sandramouth, GA 49839,EMAIL: gonzalezdenise@gmail.com \n\nNAME: Amy Owens,ADDRESS: 3279 Jasmine Rapid Suite 862\nRodriguezland, TX 66639,EMAIL: martineric@gmail.com \n\nNAME: Katrina Smith,ADDRESS: 85906 Matthew Light\nLake Brucemouth, AL 15839,EMAIL: jonathan91@taylor.com \n\n"
    }
   ],
   "source": [
    "for i in customer_list:\n",
    "    print(i,'\\n')"
   ]
  },
  {
   "cell_type": "code",
   "execution_count": null,
   "metadata": {},
   "outputs": [],
   "source": []
  }
 ]
}